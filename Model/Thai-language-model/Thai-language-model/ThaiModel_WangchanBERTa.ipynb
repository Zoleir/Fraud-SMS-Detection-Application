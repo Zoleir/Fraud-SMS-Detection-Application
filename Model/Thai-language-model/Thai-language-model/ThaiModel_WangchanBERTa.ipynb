{
  "cells": [
    {
      "cell_type": "markdown",
      "metadata": {
        "id": "bgzq_RpehMMQ"
      },
      "source": [
        "# installation"
      ]
    },
    {
      "cell_type": "code",
      "execution_count": null,
      "metadata": {
        "colab": {
          "base_uri": "https://localhost:8080/"
        },
        "id": "JYLZJUsBMthX",
        "outputId": "5b5757c9-94c9-400f-c13d-51ae99c0e758"
      },
      "outputs": [
        {
          "name": "stdout",
          "output_type": "stream",
          "text": [
            "Requirement already satisfied: pythainlp in /usr/local/lib/python3.10/dist-packages (5.0.2)\n",
            "Requirement already satisfied: requests>=2.22.0 in /usr/local/lib/python3.10/dist-packages (from pythainlp) (2.31.0)\n",
            "Requirement already satisfied: charset-normalizer<4,>=2 in /usr/local/lib/python3.10/dist-packages (from requests>=2.22.0->pythainlp) (3.3.2)\n",
            "Requirement already satisfied: idna<4,>=2.5 in /usr/local/lib/python3.10/dist-packages (from requests>=2.22.0->pythainlp) (3.7)\n",
            "Requirement already satisfied: urllib3<3,>=1.21.1 in /usr/local/lib/python3.10/dist-packages (from requests>=2.22.0->pythainlp) (2.0.7)\n",
            "Requirement already satisfied: certifi>=2017.4.17 in /usr/local/lib/python3.10/dist-packages (from requests>=2.22.0->pythainlp) (2024.2.2)\n"
          ]
        }
      ],
      "source": [
        "!pip install pythainlp"
      ]
    },
    {
      "cell_type": "code",
      "execution_count": null,
      "metadata": {
        "colab": {
          "base_uri": "https://localhost:8080/"
        },
        "id": "Wx-BL-SLi_0w",
        "outputId": "5468c3ae-74c7-454e-87e4-e2d872a81726"
      },
      "outputs": [
        {
          "name": "stdout",
          "output_type": "stream",
          "text": [
            "Requirement already satisfied: thaitextaug in /usr/local/lib/python3.10/dist-packages (0.0.4)\n",
            "Requirement already satisfied: pythainlp>=2.0 in /usr/local/lib/python3.10/dist-packages (from thaitextaug) (5.0.2)\n",
            "Requirement already satisfied: bpemb in /usr/local/lib/python3.10/dist-packages (from thaitextaug) (0.3.5)\n",
            "Requirement already satisfied: gensim>=4.0.0 in /usr/local/lib/python3.10/dist-packages (from thaitextaug) (4.3.2)\n",
            "Requirement already satisfied: nltk in /usr/local/lib/python3.10/dist-packages (from thaitextaug) (3.8.1)\n",
            "Requirement already satisfied: numpy>=1.18.5 in /usr/local/lib/python3.10/dist-packages (from gensim>=4.0.0->thaitextaug) (1.25.2)\n",
            "Requirement already satisfied: scipy>=1.7.0 in /usr/local/lib/python3.10/dist-packages (from gensim>=4.0.0->thaitextaug) (1.11.4)\n",
            "Requirement already satisfied: smart-open>=1.8.1 in /usr/local/lib/python3.10/dist-packages (from gensim>=4.0.0->thaitextaug) (6.4.0)\n",
            "Requirement already satisfied: requests>=2.22.0 in /usr/local/lib/python3.10/dist-packages (from pythainlp>=2.0->thaitextaug) (2.31.0)\n",
            "Requirement already satisfied: sentencepiece in /usr/local/lib/python3.10/dist-packages (from bpemb->thaitextaug) (0.1.99)\n",
            "Requirement already satisfied: tqdm in /usr/local/lib/python3.10/dist-packages (from bpemb->thaitextaug) (4.66.2)\n",
            "Requirement already satisfied: click in /usr/local/lib/python3.10/dist-packages (from nltk->thaitextaug) (8.1.7)\n",
            "Requirement already satisfied: joblib in /usr/local/lib/python3.10/dist-packages (from nltk->thaitextaug) (1.4.0)\n",
            "Requirement already satisfied: regex>=2021.8.3 in /usr/local/lib/python3.10/dist-packages (from nltk->thaitextaug) (2023.12.25)\n",
            "Requirement already satisfied: charset-normalizer<4,>=2 in /usr/local/lib/python3.10/dist-packages (from requests>=2.22.0->pythainlp>=2.0->thaitextaug) (3.3.2)\n",
            "Requirement already satisfied: idna<4,>=2.5 in /usr/local/lib/python3.10/dist-packages (from requests>=2.22.0->pythainlp>=2.0->thaitextaug) (3.7)\n",
            "Requirement already satisfied: urllib3<3,>=1.21.1 in /usr/local/lib/python3.10/dist-packages (from requests>=2.22.0->pythainlp>=2.0->thaitextaug) (2.0.7)\n",
            "Requirement already satisfied: certifi>=2017.4.17 in /usr/local/lib/python3.10/dist-packages (from requests>=2.22.0->pythainlp>=2.0->thaitextaug) (2024.2.2)\n"
          ]
        }
      ],
      "source": [
        "!pip install thaitextaug"
      ]
    },
    {
      "cell_type": "code",
      "execution_count": null,
      "metadata": {
        "colab": {
          "base_uri": "https://localhost:8080/"
        },
        "id": "eGSCIQZKHR-f",
        "outputId": "d9a42d1a-b658-4f69-a6d7-0d1ff027cebe"
      },
      "outputs": [
        {
          "name": "stdout",
          "output_type": "stream",
          "text": [
            "Requirement already satisfied: keras in /usr/local/lib/python3.10/dist-packages (3.2.1)\n",
            "Requirement already satisfied: absl-py in /usr/local/lib/python3.10/dist-packages (from keras) (1.4.0)\n",
            "Requirement already satisfied: numpy in /usr/local/lib/python3.10/dist-packages (from keras) (1.25.2)\n",
            "Requirement already satisfied: rich in /usr/local/lib/python3.10/dist-packages (from keras) (13.7.1)\n",
            "Requirement already satisfied: namex in /usr/local/lib/python3.10/dist-packages (from keras) (0.0.8)\n",
            "Requirement already satisfied: h5py in /usr/local/lib/python3.10/dist-packages (from keras) (3.9.0)\n",
            "Requirement already satisfied: optree in /usr/local/lib/python3.10/dist-packages (from keras) (0.11.0)\n",
            "Requirement already satisfied: ml-dtypes in /usr/local/lib/python3.10/dist-packages (from keras) (0.2.0)\n",
            "Requirement already satisfied: typing-extensions>=4.0.0 in /usr/local/lib/python3.10/dist-packages (from optree->keras) (4.11.0)\n",
            "Requirement already satisfied: markdown-it-py>=2.2.0 in /usr/local/lib/python3.10/dist-packages (from rich->keras) (3.0.0)\n",
            "Requirement already satisfied: pygments<3.0.0,>=2.13.0 in /usr/local/lib/python3.10/dist-packages (from rich->keras) (2.16.1)\n",
            "Requirement already satisfied: mdurl~=0.1 in /usr/local/lib/python3.10/dist-packages (from markdown-it-py>=2.2.0->rich->keras) (0.1.2)\n"
          ]
        }
      ],
      "source": [
        "pip install keras"
      ]
    },
    {
      "cell_type": "code",
      "execution_count": null,
      "metadata": {
        "colab": {
          "base_uri": "https://localhost:8080/"
        },
        "id": "LcIwzsi0HXZ8",
        "outputId": "9607999e-1741-4171-ade2-c1493477aee0"
      },
      "outputs": [
        {
          "name": "stdout",
          "output_type": "stream",
          "text": [
            "Requirement already satisfied: tensorflow in /usr/local/lib/python3.10/dist-packages (2.15.0)\n",
            "Requirement already satisfied: absl-py>=1.0.0 in /usr/local/lib/python3.10/dist-packages (from tensorflow) (1.4.0)\n",
            "Requirement already satisfied: astunparse>=1.6.0 in /usr/local/lib/python3.10/dist-packages (from tensorflow) (1.6.3)\n",
            "Requirement already satisfied: flatbuffers>=23.5.26 in /usr/local/lib/python3.10/dist-packages (from tensorflow) (24.3.25)\n",
            "Requirement already satisfied: gast!=0.5.0,!=0.5.1,!=0.5.2,>=0.2.1 in /usr/local/lib/python3.10/dist-packages (from tensorflow) (0.5.4)\n",
            "Requirement already satisfied: google-pasta>=0.1.1 in /usr/local/lib/python3.10/dist-packages (from tensorflow) (0.2.0)\n",
            "Requirement already satisfied: h5py>=2.9.0 in /usr/local/lib/python3.10/dist-packages (from tensorflow) (3.9.0)\n",
            "Requirement already satisfied: libclang>=13.0.0 in /usr/local/lib/python3.10/dist-packages (from tensorflow) (18.1.1)\n",
            "Requirement already satisfied: ml-dtypes~=0.2.0 in /usr/local/lib/python3.10/dist-packages (from tensorflow) (0.2.0)\n",
            "Requirement already satisfied: numpy<2.0.0,>=1.23.5 in /usr/local/lib/python3.10/dist-packages (from tensorflow) (1.25.2)\n",
            "Requirement already satisfied: opt-einsum>=2.3.2 in /usr/local/lib/python3.10/dist-packages (from tensorflow) (3.3.0)\n",
            "Requirement already satisfied: packaging in /usr/local/lib/python3.10/dist-packages (from tensorflow) (24.0)\n",
            "Requirement already satisfied: protobuf!=4.21.0,!=4.21.1,!=4.21.2,!=4.21.3,!=4.21.4,!=4.21.5,<5.0.0dev,>=3.20.3 in /usr/local/lib/python3.10/dist-packages (from tensorflow) (3.20.3)\n",
            "Requirement already satisfied: setuptools in /usr/local/lib/python3.10/dist-packages (from tensorflow) (67.7.2)\n",
            "Requirement already satisfied: six>=1.12.0 in /usr/local/lib/python3.10/dist-packages (from tensorflow) (1.16.0)\n",
            "Requirement already satisfied: termcolor>=1.1.0 in /usr/local/lib/python3.10/dist-packages (from tensorflow) (2.4.0)\n",
            "Requirement already satisfied: typing-extensions>=3.6.6 in /usr/local/lib/python3.10/dist-packages (from tensorflow) (4.11.0)\n",
            "Requirement already satisfied: wrapt<1.15,>=1.11.0 in /usr/local/lib/python3.10/dist-packages (from tensorflow) (1.14.1)\n",
            "Requirement already satisfied: tensorflow-io-gcs-filesystem>=0.23.1 in /usr/local/lib/python3.10/dist-packages (from tensorflow) (0.36.0)\n",
            "Requirement already satisfied: grpcio<2.0,>=1.24.3 in /usr/local/lib/python3.10/dist-packages (from tensorflow) (1.62.1)\n",
            "Requirement already satisfied: tensorboard<2.16,>=2.15 in /usr/local/lib/python3.10/dist-packages (from tensorflow) (2.15.2)\n",
            "Requirement already satisfied: tensorflow-estimator<2.16,>=2.15.0 in /usr/local/lib/python3.10/dist-packages (from tensorflow) (2.15.0)\n",
            "Collecting keras<2.16,>=2.15.0 (from tensorflow)\n",
            "  Downloading keras-2.15.0-py3-none-any.whl (1.7 MB)\n",
            "\u001b[2K     \u001b[90m━━━━━━━━━━━━━━━━━━━━━━━━━━━━━━━━━━━━━━━━\u001b[0m \u001b[32m1.7/1.7 MB\u001b[0m \u001b[31m11.2 MB/s\u001b[0m eta \u001b[36m0:00:00\u001b[0m\n",
            "\u001b[?25hRequirement already satisfied: wheel<1.0,>=0.23.0 in /usr/local/lib/python3.10/dist-packages (from astunparse>=1.6.0->tensorflow) (0.43.0)\n",
            "Requirement already satisfied: google-auth<3,>=1.6.3 in /usr/local/lib/python3.10/dist-packages (from tensorboard<2.16,>=2.15->tensorflow) (2.27.0)\n",
            "Requirement already satisfied: google-auth-oauthlib<2,>=0.5 in /usr/local/lib/python3.10/dist-packages (from tensorboard<2.16,>=2.15->tensorflow) (1.2.0)\n",
            "Requirement already satisfied: markdown>=2.6.8 in /usr/local/lib/python3.10/dist-packages (from tensorboard<2.16,>=2.15->tensorflow) (3.6)\n",
            "Requirement already satisfied: requests<3,>=2.21.0 in /usr/local/lib/python3.10/dist-packages (from tensorboard<2.16,>=2.15->tensorflow) (2.31.0)\n",
            "Requirement already satisfied: tensorboard-data-server<0.8.0,>=0.7.0 in /usr/local/lib/python3.10/dist-packages (from tensorboard<2.16,>=2.15->tensorflow) (0.7.2)\n",
            "Requirement already satisfied: werkzeug>=1.0.1 in /usr/local/lib/python3.10/dist-packages (from tensorboard<2.16,>=2.15->tensorflow) (3.0.2)\n",
            "Requirement already satisfied: cachetools<6.0,>=2.0.0 in /usr/local/lib/python3.10/dist-packages (from google-auth<3,>=1.6.3->tensorboard<2.16,>=2.15->tensorflow) (5.3.3)\n",
            "Requirement already satisfied: pyasn1-modules>=0.2.1 in /usr/local/lib/python3.10/dist-packages (from google-auth<3,>=1.6.3->tensorboard<2.16,>=2.15->tensorflow) (0.4.0)\n",
            "Requirement already satisfied: rsa<5,>=3.1.4 in /usr/local/lib/python3.10/dist-packages (from google-auth<3,>=1.6.3->tensorboard<2.16,>=2.15->tensorflow) (4.9)\n",
            "Requirement already satisfied: requests-oauthlib>=0.7.0 in /usr/local/lib/python3.10/dist-packages (from google-auth-oauthlib<2,>=0.5->tensorboard<2.16,>=2.15->tensorflow) (1.3.1)\n",
            "Requirement already satisfied: charset-normalizer<4,>=2 in /usr/local/lib/python3.10/dist-packages (from requests<3,>=2.21.0->tensorboard<2.16,>=2.15->tensorflow) (3.3.2)\n",
            "Requirement already satisfied: idna<4,>=2.5 in /usr/local/lib/python3.10/dist-packages (from requests<3,>=2.21.0->tensorboard<2.16,>=2.15->tensorflow) (3.7)\n",
            "Requirement already satisfied: urllib3<3,>=1.21.1 in /usr/local/lib/python3.10/dist-packages (from requests<3,>=2.21.0->tensorboard<2.16,>=2.15->tensorflow) (2.0.7)\n",
            "Requirement already satisfied: certifi>=2017.4.17 in /usr/local/lib/python3.10/dist-packages (from requests<3,>=2.21.0->tensorboard<2.16,>=2.15->tensorflow) (2024.2.2)\n",
            "Requirement already satisfied: MarkupSafe>=2.1.1 in /usr/local/lib/python3.10/dist-packages (from werkzeug>=1.0.1->tensorboard<2.16,>=2.15->tensorflow) (2.1.5)\n",
            "Requirement already satisfied: pyasn1<0.7.0,>=0.4.6 in /usr/local/lib/python3.10/dist-packages (from pyasn1-modules>=0.2.1->google-auth<3,>=1.6.3->tensorboard<2.16,>=2.15->tensorflow) (0.6.0)\n",
            "Requirement already satisfied: oauthlib>=3.0.0 in /usr/local/lib/python3.10/dist-packages (from requests-oauthlib>=0.7.0->google-auth-oauthlib<2,>=0.5->tensorboard<2.16,>=2.15->tensorflow) (3.2.2)\n",
            "Installing collected packages: keras\n",
            "  Attempting uninstall: keras\n",
            "    Found existing installation: keras 3.2.1\n",
            "    Uninstalling keras-3.2.1:\n",
            "      Successfully uninstalled keras-3.2.1\n",
            "\u001b[31mERROR: pip's dependency resolver does not currently take into account all the packages that are installed. This behaviour is the source of the following dependency conflicts.\n",
            "scikeras 0.13.0 requires keras>=3.2.0, but you have keras 2.15.0 which is incompatible.\u001b[0m\u001b[31m\n",
            "\u001b[0mSuccessfully installed keras-2.15.0\n"
          ]
        }
      ],
      "source": [
        "pip install tensorflow"
      ]
    },
    {
      "cell_type": "code",
      "execution_count": null,
      "metadata": {
        "colab": {
          "base_uri": "https://localhost:8080/"
        },
        "id": "RyHvTEEajD9d",
        "outputId": "e9a2ed9e-6db0-4610-bfae-6e11741ad17f"
      },
      "outputs": [
        {
          "name": "stderr",
          "output_type": "stream",
          "text": [
            "[nltk_data] Downloading package omw to /root/nltk_data...\n",
            "[nltk_data]   Package omw is already up-to-date!\n",
            "[nltk_data] Downloading package wordnet to /root/nltk_data...\n",
            "[nltk_data]   Package wordnet is already up-to-date!\n"
          ]
        }
      ],
      "source": [
        "from pythainlp import word_tokenize\n",
        "from pythainlp.corpus import thai_stopwords\n",
        "from pythainlp.corpus import wordnet"
      ]
    },
    {
      "cell_type": "code",
      "execution_count": null,
      "metadata": {
        "colab": {
          "base_uri": "https://localhost:8080/"
        },
        "id": "4X6sRR4rjCB1",
        "outputId": "7e6a5e71-e9a8-46c7-c8b2-45335e238cdc"
      },
      "outputs": [
        {
          "name": "stderr",
          "output_type": "stream",
          "text": [
            "[nltk_data] Downloading package omw-1.4 to /root/nltk_data...\n",
            "[nltk_data]   Package omw-1.4 is already up-to-date!\n"
          ]
        },
        {
          "data": {
            "text/plain": [
              "True"
            ]
          },
          "execution_count": 6,
          "metadata": {},
          "output_type": "execute_result"
        }
      ],
      "source": [
        "import nltk\n",
        "\n",
        "# Download Thai WordNet\n",
        "nltk.download('omw-1.4')"
      ]
    },
    {
      "cell_type": "code",
      "execution_count": null,
      "metadata": {
        "id": "LEo3PsIMjL9S"
      },
      "outputs": [],
      "source": [
        "import csv\n",
        "import pandas as pd"
      ]
    },
    {
      "cell_type": "code",
      "execution_count": null,
      "metadata": {
        "id": "M2AhhSSKjs5q"
      },
      "outputs": [],
      "source": [
        "from sklearn.model_selection import train_test_split\n",
        "from sklearn.feature_extraction.text import TfidfVectorizer\n",
        "from sklearn.preprocessing import LabelEncoder\n",
        "\n",
        "from keras.layers import SimpleRNN, Embedding, Dense, LSTM, MaxPooling1D, Dropout, GlobalMaxPooling1D, Conv1D, Bidirectional\n",
        "from keras.models import Sequential\n",
        "\n",
        "\n",
        "from keras.preprocessing.text import Tokenizer\n",
        "from keras.preprocessing.sequence import pad_sequences\n",
        "\n",
        "from keras.callbacks import EarlyStopping, ReduceLROnPlateau"
      ]
    },
    {
      "cell_type": "code",
      "execution_count": null,
      "metadata": {
        "id": "-xii6JO1j0Md"
      },
      "outputs": [],
      "source": [
        "import _utils as fn"
      ]
    },
    {
      "cell_type": "code",
      "execution_count": null,
      "metadata": {
        "id": "iYu7dMcqkCXZ"
      },
      "outputs": [],
      "source": [
        "from tensorflow.keras.preprocessing.sequence import pad_sequences\n",
        "from sklearn.model_selection import train_test_split"
      ]
    },
    {
      "cell_type": "code",
      "execution_count": null,
      "metadata": {
        "id": "1nEIm5IipKAn"
      },
      "outputs": [],
      "source": [
        "from sklearn.metrics import confusion_matrix, classification_report"
      ]
    },
    {
      "cell_type": "code",
      "execution_count": null,
      "metadata": {
        "colab": {
          "base_uri": "https://localhost:8080/",
          "height": 566
        },
        "id": "4hBdeiZBpUUZ",
        "outputId": "e2de647f-b2f8-4cd5-fb5f-f43b5992faa9"
      },
      "outputs": [
        {
          "name": "stdout",
          "output_type": "stream",
          "text": [
            "Requirement already satisfied: scikeras in /usr/local/lib/python3.10/dist-packages (0.13.0)\n",
            "Collecting keras>=3.2.0 (from scikeras)\n",
            "  Using cached keras-3.2.1-py3-none-any.whl (1.1 MB)\n",
            "Requirement already satisfied: scikit-learn>=1.4.2 in /usr/local/lib/python3.10/dist-packages (from scikeras) (1.4.2)\n",
            "Requirement already satisfied: absl-py in /usr/local/lib/python3.10/dist-packages (from keras>=3.2.0->scikeras) (1.4.0)\n",
            "Requirement already satisfied: numpy in /usr/local/lib/python3.10/dist-packages (from keras>=3.2.0->scikeras) (1.25.2)\n",
            "Requirement already satisfied: rich in /usr/local/lib/python3.10/dist-packages (from keras>=3.2.0->scikeras) (13.7.1)\n",
            "Requirement already satisfied: namex in /usr/local/lib/python3.10/dist-packages (from keras>=3.2.0->scikeras) (0.0.8)\n",
            "Requirement already satisfied: h5py in /usr/local/lib/python3.10/dist-packages (from keras>=3.2.0->scikeras) (3.9.0)\n",
            "Requirement already satisfied: optree in /usr/local/lib/python3.10/dist-packages (from keras>=3.2.0->scikeras) (0.11.0)\n",
            "Requirement already satisfied: ml-dtypes in /usr/local/lib/python3.10/dist-packages (from keras>=3.2.0->scikeras) (0.2.0)\n",
            "Requirement already satisfied: scipy>=1.6.0 in /usr/local/lib/python3.10/dist-packages (from scikit-learn>=1.4.2->scikeras) (1.11.4)\n",
            "Requirement already satisfied: joblib>=1.2.0 in /usr/local/lib/python3.10/dist-packages (from scikit-learn>=1.4.2->scikeras) (1.4.0)\n",
            "Requirement already satisfied: threadpoolctl>=2.0.0 in /usr/local/lib/python3.10/dist-packages (from scikit-learn>=1.4.2->scikeras) (3.4.0)\n",
            "Requirement already satisfied: typing-extensions>=4.0.0 in /usr/local/lib/python3.10/dist-packages (from optree->keras>=3.2.0->scikeras) (4.11.0)\n",
            "Requirement already satisfied: markdown-it-py>=2.2.0 in /usr/local/lib/python3.10/dist-packages (from rich->keras>=3.2.0->scikeras) (3.0.0)\n",
            "Requirement already satisfied: pygments<3.0.0,>=2.13.0 in /usr/local/lib/python3.10/dist-packages (from rich->keras>=3.2.0->scikeras) (2.16.1)\n",
            "Requirement already satisfied: mdurl~=0.1 in /usr/local/lib/python3.10/dist-packages (from markdown-it-py>=2.2.0->rich->keras>=3.2.0->scikeras) (0.1.2)\n",
            "Installing collected packages: keras\n",
            "  Attempting uninstall: keras\n",
            "    Found existing installation: keras 2.15.0\n",
            "    Uninstalling keras-2.15.0:\n",
            "      Successfully uninstalled keras-2.15.0\n",
            "\u001b[31mERROR: pip's dependency resolver does not currently take into account all the packages that are installed. This behaviour is the source of the following dependency conflicts.\n",
            "tensorflow 2.15.0 requires keras<2.16,>=2.15.0, but you have keras 3.2.1 which is incompatible.\u001b[0m\u001b[31m\n",
            "\u001b[0mSuccessfully installed keras-3.2.1\n"
          ]
        },
        {
          "data": {
            "application/vnd.colab-display-data+json": {
              "id": "9fb9eeab2e204de1971be56c746f3a05",
              "pip_warning": {
                "packages": [
                  "keras"
                ]
              }
            }
          },
          "metadata": {},
          "output_type": "display_data"
        }
      ],
      "source": [
        "!pip install scikeras"
      ]
    },
    {
      "cell_type": "code",
      "execution_count": null,
      "metadata": {
        "id": "Fvc5RljLpV2t"
      },
      "outputs": [],
      "source": [
        "from sklearn.model_selection import GridSearchCV\n",
        "from keras.callbacks import EarlyStopping\n",
        "#from scikeras.wrappers import KerasClassifier\n",
        "from keras.models import Sequential\n",
        "from keras.layers import Embedding, LSTM, Dense\n",
        "from keras.optimizers import Adam"
      ]
    },
    {
      "cell_type": "code",
      "execution_count": null,
      "metadata": {
        "id": "ib2yxR0cpfca"
      },
      "outputs": [],
      "source": [
        "from sklearn import metrics"
      ]
    },
    {
      "cell_type": "code",
      "execution_count": null,
      "metadata": {
        "id": "qQEnsPS2psMj"
      },
      "outputs": [],
      "source": [
        "from transformers import AutoTokenizer, AutoModelForSequenceClassification\n",
        "from torch.utils.data import DataLoader, Dataset\n",
        "import pandas as pd\n",
        "from sklearn.model_selection import train_test_split"
      ]
    },
    {
      "cell_type": "code",
      "execution_count": null,
      "metadata": {
        "id": "Jo8ta2q-pug5"
      },
      "outputs": [],
      "source": [
        "import torch\n",
        "from transformers import AutoModelForSequenceClassification, AdamW\n",
        "from tqdm import tqdm  # for displaying progress bar"
      ]
    },
    {
      "cell_type": "code",
      "execution_count": null,
      "metadata": {
        "id": "hzMZhVKxpxNA"
      },
      "outputs": [],
      "source": [
        "from sklearn.metrics import accuracy_score, classification_report\n",
        "import numpy as np"
      ]
    },
    {
      "cell_type": "code",
      "execution_count": null,
      "metadata": {
        "id": "wj1wEFYPpzV2"
      },
      "outputs": [],
      "source": [
        "from sklearn.metrics import f1_score"
      ]
    },
    {
      "cell_type": "code",
      "execution_count": null,
      "metadata": {
        "id": "oo7_WDenp1FG"
      },
      "outputs": [],
      "source": [
        "from sklearn.metrics import confusion_matrix\n",
        "import seaborn as sns\n",
        "import matplotlib.pyplot as plt"
      ]
    },
    {
      "cell_type": "code",
      "execution_count": null,
      "metadata": {
        "id": "e38IxjAKp3NL"
      },
      "outputs": [],
      "source": [
        "from transformers import AutoModelForSequenceClassification, AutoTokenizer"
      ]
    },
    {
      "cell_type": "code",
      "execution_count": null,
      "metadata": {
        "id": "yqWAmACcp4jQ"
      },
      "outputs": [],
      "source": [
        "import pickle"
      ]
    },
    {
      "cell_type": "code",
      "execution_count": null,
      "metadata": {
        "id": "jVocSKlHD1cy"
      },
      "outputs": [],
      "source": [
        "from pythainlp import word_tokenize\n",
        "from pythainlp.augment import WordNetAug\n",
        "import random"
      ]
    },
    {
      "cell_type": "markdown",
      "metadata": {
        "id": "M0-RFzwVp8QM"
      },
      "source": [
        "# Data Exploration"
      ]
    },
    {
      "cell_type": "code",
      "execution_count": null,
      "metadata": {
        "id": "n6YRy_wr4bjk"
      },
      "outputs": [],
      "source": [
        "def augment_text(text, num_sentences=1):\n",
        "    tokens = word_tokenize(text, engine=\"newmm\")\n",
        "    augmented_sentences = []\n",
        "\n",
        "    for _ in range(num_sentences):\n",
        "        augmented_tokens = tokens.copy()\n",
        "        for i, token in enumerate(tokens):\n",
        "            if random.random() < 0.7:  # Replace 70% of the words\n",
        "                aug = WordNetAug()\n",
        "                synonyms = aug.augment(token)\n",
        "                if synonyms:\n",
        "                    synonym = random.choice(synonyms)\n",
        "                    augmented_tokens[i] = synonym[0]\n",
        "        augmented_sentences.append(\"\".join(augmented_tokens))\n",
        "\n",
        "    return augmented_sentences\n",
        "\n",
        "def augment_file(input_file, output_file):\n",
        "    with open(input_file, 'r', encoding='utf-8') as f:\n",
        "        original_sentences = f.readlines()\n",
        "\n",
        "    augmented_sentences = []\n",
        "    for sentence in original_sentences:\n",
        "        augmented_sentences.extend(augment_text(sentence))\n",
        "\n",
        "    with open(output_file, 'w', encoding='utf-8') as f:\n",
        "        f.writelines(original_sentences)\n",
        "        f.writelines(augmented_sentences)"
      ]
    },
    {
      "cell_type": "code",
      "execution_count": null,
      "metadata": {
        "id": "3g9KOCTB4dsV"
      },
      "outputs": [],
      "source": [
        "input_file_path = '/content/THHam.txt'\n",
        "output_file_path = '/content/ham_aug.txt'\n",
        "augment_file(input_file_path, output_file_path)"
      ]
    },
    {
      "cell_type": "code",
      "execution_count": null,
      "metadata": {
        "id": "pfVoSc1u4gNR"
      },
      "outputs": [],
      "source": [
        "input_file_path = '/content/THFraud.txt'\n",
        "output_file_path = '/content/fraud_aug.txt'\n",
        "augment_file(input_file_path, output_file_path)"
      ]
    },
    {
      "cell_type": "code",
      "execution_count": null,
      "metadata": {
        "colab": {
          "base_uri": "https://localhost:8080/"
        },
        "id": "a7p6l8a84jTf",
        "outputId": "5e42a293-d3f0-467d-983f-98c76ca3a0b8"
      },
      "outputs": [
        {
          "name": "stdout",
          "output_type": "stream",
          "text": [
            "Merge complete!\n"
          ]
        }
      ],
      "source": [
        "import csv\n",
        "\n",
        "# Function to read text file, drop duplicates, and convert to CSV\n",
        "def txt_to_csv(input_file, output_file, label):\n",
        "    with open(input_file, 'r') as txtfile:\n",
        "        lines = txtfile.readlines()\n",
        "\n",
        "    # Remove duplicates\n",
        "    lines = list(set(lines))\n",
        "\n",
        "    # Add label to each line\n",
        "    labeled_data = [(line.strip(), label) for line in lines]\n",
        "\n",
        "    # Write data to CSV\n",
        "    with open(output_file, 'a', newline='') as csvfile:\n",
        "        writer = csv.writer(csvfile)\n",
        "        # Check if the file is empty to add header\n",
        "        if csvfile.tell() == 0:\n",
        "            writer.writerow(['text', 'label'])  # Header\n",
        "        writer.writerows(labeled_data)\n",
        "\n",
        "# Paths to your text files\n",
        "ham_txt_file = 'ham_aug.txt'\n",
        "fraud_txt_file = 'fraud_aug.txt'\n",
        "\n",
        "# Path to output merged CSV file\n",
        "merged_csv_file = 'merged_data.csv'\n",
        "\n",
        "# Convert text files to CSV and merge them\n",
        "txt_to_csv(ham_txt_file, merged_csv_file, label=0)\n",
        "txt_to_csv(fraud_txt_file, merged_csv_file, label=1)\n",
        "\n",
        "print(\"Merge complete!\")"
      ]
    },
    {
      "cell_type": "code",
      "execution_count": null,
      "metadata": {
        "id": "kXC8GiuM4mvY"
      },
      "outputs": [],
      "source": [
        "# Load merged data\n",
        "merged_data_path = \"merged_data.csv\"  # Update with your merged data file path\n",
        "merged_data = pd.read_csv(merged_data_path)"
      ]
    },
    {
      "cell_type": "code",
      "execution_count": null,
      "metadata": {
        "colab": {
          "base_uri": "https://localhost:8080/",
          "height": 423
        },
        "id": "USJoSYY-exKG",
        "outputId": "252bd447-7d28-4931-f2c9-97e0ad5eb549"
      },
      "outputs": [
        {
          "data": {
            "application/vnd.google.colaboratory.intrinsic+json": {
              "summary": "{\n  \"name\": \"merged_data\",\n  \"rows\": 1349,\n  \"fields\": [\n    {\n      \"column\": \"text\",\n      \"properties\": {\n        \"dtype\": \"string\",\n        \"num_unique_values\": 1346,\n        \"samples\": [\n          \"\\u0e22\\u0e34\\u0e19\\u0e14\\u0e35,\\u0e14\\u0e49\\u0e27\\u0e22,\\u0e04\\u0e38\\u0e13,\\u0e40\\u0e1b\\u0e47\\u0e19,\\u0e1c\\u0e39\\u0e49,\\u0e42\\u0e0a\\u0e04\\u0e14\\u0e35,\\u0e08\\u0e32\\u0e01,\\u0e01\\u0e32\\u0e23,\\u0e0a\\u0e49\\u0e2d\\u0e1b,\\u0e2a\\u0e34\\u0e19\\u0e04\\u0e49\\u0e32,\\u0e04\\u0e25\\u0e34\\u0e01,\\u0e40\\u0e1e\\u0e37\\u0e48\\u0e2d,\\u0e41\\u0e2a\\u0e14\\u0e07\\u0e2b\\u0e25\\u0e31\\u0e01\\u0e10\\u0e32\\u0e19,\\u0e15\\u0e31\\u0e27\\u0e15\\u0e19\",\n          \"\\u0e1d\\u0e32\\u0e01\\u0e23\\u0e31\\u0e1a,\\u0e23\\u0e30\\u0e40\\u0e1a\\u0e34\\u0e14,\\u0e2b\\u0e19\\u0e31\\u0e01,\\u0e08\\u0e31\\u0e14,\\u0e40\\u0e15\\u0e47\\u0e21,\\u0e41\\u0e15\\u0e01,\\u0e07\\u0e48\\u0e32\\u0e22\\u0e46\",\n          \"\\u0e23\\u0e2b\\u0e31\\u0e2a,\\u0e2a\\u0e33\\u0e2b\\u0e23\\u0e31\\u0e1a,\\u0e1b\\u0e34\\u0e14\\u0e16\\u0e19\\u0e19,\\u0e01\\u0e32\\u0e23\\u0e43\\u0e0a\\u0e49\\u0e07\\u0e32\\u0e19,\\u0e2b\\u0e23\\u0e37\\u0e2d,\\u0e02\\u0e49\\u0e32\\u0e22,\\u0e2d\\u0e38\\u0e1b\\u0e01\\u0e23\\u0e13\\u0e4c,\\u0e22\\u0e37\\u0e19\\u0e22\\u0e31\\u0e19,\\u0e15\\u0e31\\u0e27\\u0e15\\u0e19,\\u0e02\\u0e2d\\u0e07,\\u0e04\\u0e38\\u0e13,\\u0e04\\u0e37\\u0e2d\"\n        ],\n        \"semantic_type\": \"\",\n        \"description\": \"\"\n      }\n    },\n    {\n      \"column\": \"label\",\n      \"properties\": {\n        \"dtype\": \"number\",\n        \"std\": 0,\n        \"min\": 0,\n        \"max\": 1,\n        \"num_unique_values\": 2,\n        \"samples\": [\n          1,\n          0\n        ],\n        \"semantic_type\": \"\",\n        \"description\": \"\"\n      }\n    }\n  ]\n}",
              "type": "dataframe",
              "variable_name": "merged_data"
            },
            "text/html": [
              "\n",
              "  <div id=\"df-c8e97842-e91a-4948-b60a-add656ac7ee2\" class=\"colab-df-container\">\n",
              "    <div>\n",
              "<style scoped>\n",
              "    .dataframe tbody tr th:only-of-type {\n",
              "        vertical-align: middle;\n",
              "    }\n",
              "\n",
              "    .dataframe tbody tr th {\n",
              "        vertical-align: top;\n",
              "    }\n",
              "\n",
              "    .dataframe thead th {\n",
              "        text-align: right;\n",
              "    }\n",
              "</style>\n",
              "<table border=\"1\" class=\"dataframe\">\n",
              "  <thead>\n",
              "    <tr style=\"text-align: right;\">\n",
              "      <th></th>\n",
              "      <th>text</th>\n",
              "      <th>label</th>\n",
              "    </tr>\n",
              "  </thead>\n",
              "  <tbody>\n",
              "    <tr>\n",
              "      <th>0</th>\n",
              "      <td>พิเศษ,ลูกค้า,เอไอเอส,รับ,สิทธิ์,ทดลองใช้,ฟรี,ว...</td>\n",
              "      <td>0</td>\n",
              "    </tr>\n",
              "    <tr>\n",
              "      <th>1</th>\n",
              "      <td>แจก,และ,อื่นๆ,รวม,ราคา,กว่า,มีโอกาส,ตอบรับ,ง่า...</td>\n",
              "      <td>0</td>\n",
              "    </tr>\n",
              "    <tr>\n",
              "      <th>2</th>\n",
              "      <td>เจอ,เหตุฉุกเฉิน,กี,อุ่นใจ,ด้วย,แผน,ประกัน,อุบั...</td>\n",
              "      <td>0</td>\n",
              "    </tr>\n",
              "    <tr>\n",
              "      <th>3</th>\n",
              "      <td>แจก,มือถือ,รับ,ปีใหม่,ฟรี,เฉพาะ,ธันวาคม,เล่น,ฟ...</td>\n",
              "      <td>0</td>\n",
              "    </tr>\n",
              "    <tr>\n",
              "      <th>4</th>\n",
              "      <td>เลือก,รับ,ของ,สมนาคุณ,โดนใจ,รายการ,บาท,หรือ,หู...</td>\n",
              "      <td>0</td>\n",
              "    </tr>\n",
              "    <tr>\n",
              "      <th>...</th>\n",
              "      <td>...</td>\n",
              "      <td>...</td>\n",
              "    </tr>\n",
              "    <tr>\n",
              "      <th>1344</th>\n",
              "      <td>ดิน,เก่า,ไม่,ระเบิด,มา,ที่นี่,ถอน,ไม่,อั้น,ไซต...</td>\n",
              "      <td>1</td>\n",
              "    </tr>\n",
              "    <tr>\n",
              "      <th>1345</th>\n",
              "      <td>ค่า,คอมฯ,ตีน,เข้า,กระเป๋า,เรียบร้อย,แล้ว</td>\n",
              "      <td>1</td>\n",
              "    </tr>\n",
              "    <tr>\n",
              "      <th>1346</th>\n",
              "      <td>เจ็บป่วย,กลางปี,ค้นพบ,แพทย์,ประเภท,ไม่,บรรจุ,ค...</td>\n",
              "      <td>1</td>\n",
              "    </tr>\n",
              "    <tr>\n",
              "      <th>1347</th>\n",
              "      <td>ช่วงทดลองงาน,มาแรง,ฝาก,เรา,มอบให้</td>\n",
              "      <td>1</td>\n",
              "    </tr>\n",
              "    <tr>\n",
              "      <th>1348</th>\n",
              "      <td>สมาชิก,ใหม่,แจก,เพิ่ม,ไม่,อั้น,คลิก</td>\n",
              "      <td>1</td>\n",
              "    </tr>\n",
              "  </tbody>\n",
              "</table>\n",
              "<p>1349 rows × 2 columns</p>\n",
              "</div>\n",
              "    <div class=\"colab-df-buttons\">\n",
              "\n",
              "  <div class=\"colab-df-container\">\n",
              "    <button class=\"colab-df-convert\" onclick=\"convertToInteractive('df-c8e97842-e91a-4948-b60a-add656ac7ee2')\"\n",
              "            title=\"Convert this dataframe to an interactive table.\"\n",
              "            style=\"display:none;\">\n",
              "\n",
              "  <svg xmlns=\"http://www.w3.org/2000/svg\" height=\"24px\" viewBox=\"0 -960 960 960\">\n",
              "    <path d=\"M120-120v-720h720v720H120Zm60-500h600v-160H180v160Zm220 220h160v-160H400v160Zm0 220h160v-160H400v160ZM180-400h160v-160H180v160Zm440 0h160v-160H620v160ZM180-180h160v-160H180v160Zm440 0h160v-160H620v160Z\"/>\n",
              "  </svg>\n",
              "    </button>\n",
              "\n",
              "  <style>\n",
              "    .colab-df-container {\n",
              "      display:flex;\n",
              "      gap: 12px;\n",
              "    }\n",
              "\n",
              "    .colab-df-convert {\n",
              "      background-color: #E8F0FE;\n",
              "      border: none;\n",
              "      border-radius: 50%;\n",
              "      cursor: pointer;\n",
              "      display: none;\n",
              "      fill: #1967D2;\n",
              "      height: 32px;\n",
              "      padding: 0 0 0 0;\n",
              "      width: 32px;\n",
              "    }\n",
              "\n",
              "    .colab-df-convert:hover {\n",
              "      background-color: #E2EBFA;\n",
              "      box-shadow: 0px 1px 2px rgba(60, 64, 67, 0.3), 0px 1px 3px 1px rgba(60, 64, 67, 0.15);\n",
              "      fill: #174EA6;\n",
              "    }\n",
              "\n",
              "    .colab-df-buttons div {\n",
              "      margin-bottom: 4px;\n",
              "    }\n",
              "\n",
              "    [theme=dark] .colab-df-convert {\n",
              "      background-color: #3B4455;\n",
              "      fill: #D2E3FC;\n",
              "    }\n",
              "\n",
              "    [theme=dark] .colab-df-convert:hover {\n",
              "      background-color: #434B5C;\n",
              "      box-shadow: 0px 1px 3px 1px rgba(0, 0, 0, 0.15);\n",
              "      filter: drop-shadow(0px 1px 2px rgba(0, 0, 0, 0.3));\n",
              "      fill: #FFFFFF;\n",
              "    }\n",
              "  </style>\n",
              "\n",
              "    <script>\n",
              "      const buttonEl =\n",
              "        document.querySelector('#df-c8e97842-e91a-4948-b60a-add656ac7ee2 button.colab-df-convert');\n",
              "      buttonEl.style.display =\n",
              "        google.colab.kernel.accessAllowed ? 'block' : 'none';\n",
              "\n",
              "      async function convertToInteractive(key) {\n",
              "        const element = document.querySelector('#df-c8e97842-e91a-4948-b60a-add656ac7ee2');\n",
              "        const dataTable =\n",
              "          await google.colab.kernel.invokeFunction('convertToInteractive',\n",
              "                                                    [key], {});\n",
              "        if (!dataTable) return;\n",
              "\n",
              "        const docLinkHtml = 'Like what you see? Visit the ' +\n",
              "          '<a target=\"_blank\" href=https://colab.research.google.com/notebooks/data_table.ipynb>data table notebook</a>'\n",
              "          + ' to learn more about interactive tables.';\n",
              "        element.innerHTML = '';\n",
              "        dataTable['output_type'] = 'display_data';\n",
              "        await google.colab.output.renderOutput(dataTable, element);\n",
              "        const docLink = document.createElement('div');\n",
              "        docLink.innerHTML = docLinkHtml;\n",
              "        element.appendChild(docLink);\n",
              "      }\n",
              "    </script>\n",
              "  </div>\n",
              "\n",
              "\n",
              "<div id=\"df-5e69e163-e2ed-4826-8938-72d8102db6ab\">\n",
              "  <button class=\"colab-df-quickchart\" onclick=\"quickchart('df-5e69e163-e2ed-4826-8938-72d8102db6ab')\"\n",
              "            title=\"Suggest charts\"\n",
              "            style=\"display:none;\">\n",
              "\n",
              "<svg xmlns=\"http://www.w3.org/2000/svg\" height=\"24px\"viewBox=\"0 0 24 24\"\n",
              "     width=\"24px\">\n",
              "    <g>\n",
              "        <path d=\"M19 3H5c-1.1 0-2 .9-2 2v14c0 1.1.9 2 2 2h14c1.1 0 2-.9 2-2V5c0-1.1-.9-2-2-2zM9 17H7v-7h2v7zm4 0h-2V7h2v10zm4 0h-2v-4h2v4z\"/>\n",
              "    </g>\n",
              "</svg>\n",
              "  </button>\n",
              "\n",
              "<style>\n",
              "  .colab-df-quickchart {\n",
              "      --bg-color: #E8F0FE;\n",
              "      --fill-color: #1967D2;\n",
              "      --hover-bg-color: #E2EBFA;\n",
              "      --hover-fill-color: #174EA6;\n",
              "      --disabled-fill-color: #AAA;\n",
              "      --disabled-bg-color: #DDD;\n",
              "  }\n",
              "\n",
              "  [theme=dark] .colab-df-quickchart {\n",
              "      --bg-color: #3B4455;\n",
              "      --fill-color: #D2E3FC;\n",
              "      --hover-bg-color: #434B5C;\n",
              "      --hover-fill-color: #FFFFFF;\n",
              "      --disabled-bg-color: #3B4455;\n",
              "      --disabled-fill-color: #666;\n",
              "  }\n",
              "\n",
              "  .colab-df-quickchart {\n",
              "    background-color: var(--bg-color);\n",
              "    border: none;\n",
              "    border-radius: 50%;\n",
              "    cursor: pointer;\n",
              "    display: none;\n",
              "    fill: var(--fill-color);\n",
              "    height: 32px;\n",
              "    padding: 0;\n",
              "    width: 32px;\n",
              "  }\n",
              "\n",
              "  .colab-df-quickchart:hover {\n",
              "    background-color: var(--hover-bg-color);\n",
              "    box-shadow: 0 1px 2px rgba(60, 64, 67, 0.3), 0 1px 3px 1px rgba(60, 64, 67, 0.15);\n",
              "    fill: var(--button-hover-fill-color);\n",
              "  }\n",
              "\n",
              "  .colab-df-quickchart-complete:disabled,\n",
              "  .colab-df-quickchart-complete:disabled:hover {\n",
              "    background-color: var(--disabled-bg-color);\n",
              "    fill: var(--disabled-fill-color);\n",
              "    box-shadow: none;\n",
              "  }\n",
              "\n",
              "  .colab-df-spinner {\n",
              "    border: 2px solid var(--fill-color);\n",
              "    border-color: transparent;\n",
              "    border-bottom-color: var(--fill-color);\n",
              "    animation:\n",
              "      spin 1s steps(1) infinite;\n",
              "  }\n",
              "\n",
              "  @keyframes spin {\n",
              "    0% {\n",
              "      border-color: transparent;\n",
              "      border-bottom-color: var(--fill-color);\n",
              "      border-left-color: var(--fill-color);\n",
              "    }\n",
              "    20% {\n",
              "      border-color: transparent;\n",
              "      border-left-color: var(--fill-color);\n",
              "      border-top-color: var(--fill-color);\n",
              "    }\n",
              "    30% {\n",
              "      border-color: transparent;\n",
              "      border-left-color: var(--fill-color);\n",
              "      border-top-color: var(--fill-color);\n",
              "      border-right-color: var(--fill-color);\n",
              "    }\n",
              "    40% {\n",
              "      border-color: transparent;\n",
              "      border-right-color: var(--fill-color);\n",
              "      border-top-color: var(--fill-color);\n",
              "    }\n",
              "    60% {\n",
              "      border-color: transparent;\n",
              "      border-right-color: var(--fill-color);\n",
              "    }\n",
              "    80% {\n",
              "      border-color: transparent;\n",
              "      border-right-color: var(--fill-color);\n",
              "      border-bottom-color: var(--fill-color);\n",
              "    }\n",
              "    90% {\n",
              "      border-color: transparent;\n",
              "      border-bottom-color: var(--fill-color);\n",
              "    }\n",
              "  }\n",
              "</style>\n",
              "\n",
              "  <script>\n",
              "    async function quickchart(key) {\n",
              "      const quickchartButtonEl =\n",
              "        document.querySelector('#' + key + ' button');\n",
              "      quickchartButtonEl.disabled = true;  // To prevent multiple clicks.\n",
              "      quickchartButtonEl.classList.add('colab-df-spinner');\n",
              "      try {\n",
              "        const charts = await google.colab.kernel.invokeFunction(\n",
              "            'suggestCharts', [key], {});\n",
              "      } catch (error) {\n",
              "        console.error('Error during call to suggestCharts:', error);\n",
              "      }\n",
              "      quickchartButtonEl.classList.remove('colab-df-spinner');\n",
              "      quickchartButtonEl.classList.add('colab-df-quickchart-complete');\n",
              "    }\n",
              "    (() => {\n",
              "      let quickchartButtonEl =\n",
              "        document.querySelector('#df-5e69e163-e2ed-4826-8938-72d8102db6ab button');\n",
              "      quickchartButtonEl.style.display =\n",
              "        google.colab.kernel.accessAllowed ? 'block' : 'none';\n",
              "    })();\n",
              "  </script>\n",
              "</div>\n",
              "    </div>\n",
              "  </div>\n"
            ],
            "text/plain": [
              "                                                   text  label\n",
              "0     พิเศษ,ลูกค้า,เอไอเอส,รับ,สิทธิ์,ทดลองใช้,ฟรี,ว...      0\n",
              "1     แจก,และ,อื่นๆ,รวม,ราคา,กว่า,มีโอกาส,ตอบรับ,ง่า...      0\n",
              "2     เจอ,เหตุฉุกเฉิน,กี,อุ่นใจ,ด้วย,แผน,ประกัน,อุบั...      0\n",
              "3     แจก,มือถือ,รับ,ปีใหม่,ฟรี,เฉพาะ,ธันวาคม,เล่น,ฟ...      0\n",
              "4     เลือก,รับ,ของ,สมนาคุณ,โดนใจ,รายการ,บาท,หรือ,หู...      0\n",
              "...                                                 ...    ...\n",
              "1344  ดิน,เก่า,ไม่,ระเบิด,มา,ที่นี่,ถอน,ไม่,อั้น,ไซต...      1\n",
              "1345           ค่า,คอมฯ,ตีน,เข้า,กระเป๋า,เรียบร้อย,แล้ว      1\n",
              "1346  เจ็บป่วย,กลางปี,ค้นพบ,แพทย์,ประเภท,ไม่,บรรจุ,ค...      1\n",
              "1347                  ช่วงทดลองงาน,มาแรง,ฝาก,เรา,มอบให้      1\n",
              "1348                สมาชิก,ใหม่,แจก,เพิ่ม,ไม่,อั้น,คลิก      1\n",
              "\n",
              "[1349 rows x 2 columns]"
            ]
          },
          "execution_count": 34,
          "metadata": {},
          "output_type": "execute_result"
        }
      ],
      "source": [
        "merged_data"
      ]
    },
    {
      "cell_type": "code",
      "execution_count": null,
      "metadata": {
        "id": "2N64vPbPdzBZ"
      },
      "outputs": [],
      "source": [
        "merged_data.dropna(inplace=True)"
      ]
    },
    {
      "cell_type": "code",
      "execution_count": null,
      "metadata": {
        "colab": {
          "base_uri": "https://localhost:8080/"
        },
        "id": "xdj8WoFRd-6J",
        "outputId": "7fb62fe3-29b4-4e41-e4c0-b59db6bf1b26"
      },
      "outputs": [
        {
          "name": "stdout",
          "output_type": "stream",
          "text": [
            "Duplicate rows:\n",
            "Empty DataFrame\n",
            "Columns: [text, label]\n",
            "Index: []\n",
            "Number of duplicate rows: 0\n"
          ]
        }
      ],
      "source": [
        "duplicate_rows = merged_data[merged_data.duplicated()]\n",
        "\n",
        "# Print the duplicate rows\n",
        "print(\"Duplicate rows:\")\n",
        "print(duplicate_rows)\n",
        "\n",
        "# Check the number of duplicate rows\n",
        "print(\"Number of duplicate rows:\", len(duplicate_rows))"
      ]
    },
    {
      "cell_type": "code",
      "execution_count": null,
      "metadata": {
        "colab": {
          "base_uri": "https://localhost:8080/"
        },
        "id": "_uw6v9JAhzaV",
        "outputId": "63dc87aa-8df9-4e70-b1ba-51fb482ba302"
      },
      "outputs": [
        {
          "name": "stdout",
          "output_type": "stream",
          "text": [
            "Shuffled DataFrame:\n",
            "                                                   text  label\n",
            "289   คุณ,มี,สกอร์,ใกล้,หมดอายุ,รีบ,แลก,คะแนน,ก่อน,ธ...      0\n",
            "1036  สวัสดี,ค่ะ,คุณ,มี,ประวัติการ,ใช้,งานบริการ,เกิ...      1\n",
            "535   หมุน,วงล้อ,ฟรี,มี,รางวัล,เล่น,ได้,ทุกวัน,แจก,ห...      0\n",
            "346   ครบ,เมนส์,ที่อยู่อาศัย,ด้วยกัน,รับ,ฟรี,อินเทอร...      0\n",
            "1075                   ไซต์,แทร่ๆ,การันตี,ไม่,บรรจุ,บิด      1\n",
            "...                                                 ...    ...\n",
            "1095            สมาชิก,ใหม่,ฟรี,เงิน,คืน,โหลด,รับ,โบนัส      1\n",
            "1130    รับ,ทุน,ฟรี,จำนวน,จำกัด,รอ,อะไร,สมัคร,เลย,คลิ๊ก      1\n",
            "1294        ค่าย,ใหญ่,แตกร้าว,ง่ายๆ,กลางคืน,ด้านบน,เสีย      1\n",
            "860   พัสดุ,ของ,คุณ,ไม่,ได้รับ,การจัดส่ง,สินค้า,กรุณ...      1\n",
            "1126  ฝาก,เร็ว,ถอน,ไว,ไม่,มี,ขั้นต่ำ,ปรับ,ค่า,แตก,ให...      1\n",
            "\n",
            "[1349 rows x 2 columns]\n"
          ]
        }
      ],
      "source": [
        "merged_data = merged_data.sample(frac=1, random_state=42)  # Shuffle the DataFrame\n",
        "\n",
        "# Print the shuffled DataFrame\n",
        "print(\"Shuffled DataFrame:\")\n",
        "print(merged_data)"
      ]
    },
    {
      "cell_type": "code",
      "execution_count": null,
      "metadata": {
        "colab": {
          "base_uri": "https://localhost:8080/",
          "height": 423
        },
        "id": "B-BZyuGfeXNI",
        "outputId": "846701ba-1684-43df-dbea-506cbfa66e7e"
      },
      "outputs": [
        {
          "data": {
            "application/vnd.google.colaboratory.intrinsic+json": {
              "summary": "{\n  \"name\": \"merged_data\",\n  \"rows\": 1349,\n  \"fields\": [\n    {\n      \"column\": \"text\",\n      \"properties\": {\n        \"dtype\": \"string\",\n        \"num_unique_values\": 1346,\n        \"samples\": [\n          \"\\u0e41\\u0e08\\u0e01,\\u0e08\\u0e38\\u0e43\\u0e08,\\u0e02\\u0e2d\\u0e07\\u0e02\\u0e27\\u0e31\\u0e0d,\\u0e1b\\u0e25\\u0e32\\u0e22\\u0e1b\\u0e35,\\u0e41\\u0e08\\u0e01,\\u0e17\\u0e31\\u0e49\\u0e07,\\u0e17\\u0e2d\\u0e07,\\u0e17\\u0e31\\u0e49\\u0e07,\\u0e21\\u0e37\\u0e2d\\u0e16\\u0e37\\u0e2d,\\u0e25\\u0e49\\u0e32\\u0e19,\\u0e17\\u0e23\\u0e39,\\u0e1e\\u0e2d\\u0e22\\u0e17\\u0e4c,\\u0e02\\u0e2d\\u0e07\\u0e23\\u0e32\\u0e07\\u0e27\\u0e31\\u0e25,\\u0e40\\u0e1e\\u0e35\\u0e22\\u0e1a,\\u0e40\\u0e25\\u0e48\\u0e19,\\u0e44\\u0e14\\u0e49,\\u0e17\\u0e38\\u0e01\\u0e27\\u0e31\\u0e19,\\u0e15\\u0e38\\u0e25\\u0e32\\u0e04\\u0e21,\\u0e21\\u0e01\\u0e23\\u0e32\\u0e04\\u0e21,\\u0e17\\u0e35\\u0e48,\\u0e17\\u0e23\\u0e39\\u0e44\\u0e2d\\u0e14\\u0e35,\\u0e40\\u0e25\\u0e48\\u0e19,\\u0e1f\\u0e23\\u0e35\",\n          \"\\u0e1a\\u0e32\\u0e17,\\u0e04\\u0e23\\u0e1a\\u0e01\\u0e33\\u0e2b\\u0e19\\u0e14,\\u0e27\\u0e31\\u0e19\\u0e17\\u0e35\\u0e48,\\u0e0a\\u0e33\\u0e23\\u0e30,\\u0e20\\u0e32\\u0e22\\u0e43\\u0e19,\\u0e01\\u0e33\\u0e2b\\u0e19\\u0e14,\\u0e40\\u0e1e\\u0e37\\u0e48\\u0e2d,\\u0e2b\\u0e25\\u0e35\\u0e01\\u0e40\\u0e25\\u0e35\\u0e48\\u0e22\\u0e07,\\u0e04\\u0e48\\u0e32\\u0e43\\u0e0a\\u0e49\\u0e08\\u0e48\\u0e32\\u0e22,\\u0e40\\u0e1e\\u0e34\\u0e48\\u0e21\\u0e40\\u0e15\\u0e34\\u0e21,\\u0e2a\\u0e2d\\u0e1a\\u0e16\\u0e32\\u0e21,\\u0e15\\u0e34\\u0e14\\u0e15\\u0e48\\u0e2d\",\n          \"\\u0e04\\u0e38\\u0e13,\\u0e21\\u0e35,\\u0e40\\u0e07\\u0e34\\u0e19\\u0e40\\u0e14\\u0e37\\u0e2d\\u0e19,\\u0e40\\u0e02\\u0e49\\u0e32\\u0e1a\\u0e31\\u0e0d\\u0e0a\\u0e35,\\u0e41\\u0e25\\u0e49\\u0e27,\\u0e40\\u0e02\\u0e49\\u0e32,\\u0e23\\u0e30\\u0e1a\\u0e1a,\\u0e40\\u0e1e\\u0e37\\u0e48\\u0e2d,\\u0e2a\\u0e30\\u0e2a\\u0e21\"\n        ],\n        \"semantic_type\": \"\",\n        \"description\": \"\"\n      }\n    },\n    {\n      \"column\": \"label\",\n      \"properties\": {\n        \"dtype\": \"number\",\n        \"std\": 0,\n        \"min\": 0,\n        \"max\": 1,\n        \"num_unique_values\": 2,\n        \"samples\": [\n          1,\n          0\n        ],\n        \"semantic_type\": \"\",\n        \"description\": \"\"\n      }\n    }\n  ]\n}",
              "type": "dataframe",
              "variable_name": "merged_data"
            },
            "text/html": [
              "\n",
              "  <div id=\"df-dc6cd605-dc2e-48ff-b463-49d720a9a98f\" class=\"colab-df-container\">\n",
              "    <div>\n",
              "<style scoped>\n",
              "    .dataframe tbody tr th:only-of-type {\n",
              "        vertical-align: middle;\n",
              "    }\n",
              "\n",
              "    .dataframe tbody tr th {\n",
              "        vertical-align: top;\n",
              "    }\n",
              "\n",
              "    .dataframe thead th {\n",
              "        text-align: right;\n",
              "    }\n",
              "</style>\n",
              "<table border=\"1\" class=\"dataframe\">\n",
              "  <thead>\n",
              "    <tr style=\"text-align: right;\">\n",
              "      <th></th>\n",
              "      <th>text</th>\n",
              "      <th>label</th>\n",
              "    </tr>\n",
              "  </thead>\n",
              "  <tbody>\n",
              "    <tr>\n",
              "      <th>289</th>\n",
              "      <td>คุณ,มี,สกอร์,ใกล้,หมดอายุ,รีบ,แลก,คะแนน,ก่อน,ธ...</td>\n",
              "      <td>0</td>\n",
              "    </tr>\n",
              "    <tr>\n",
              "      <th>1036</th>\n",
              "      <td>สวัสดี,ค่ะ,คุณ,มี,ประวัติการ,ใช้,งานบริการ,เกิ...</td>\n",
              "      <td>1</td>\n",
              "    </tr>\n",
              "    <tr>\n",
              "      <th>535</th>\n",
              "      <td>หมุน,วงล้อ,ฟรี,มี,รางวัล,เล่น,ได้,ทุกวัน,แจก,ห...</td>\n",
              "      <td>0</td>\n",
              "    </tr>\n",
              "    <tr>\n",
              "      <th>346</th>\n",
              "      <td>ครบ,เมนส์,ที่อยู่อาศัย,ด้วยกัน,รับ,ฟรี,อินเทอร...</td>\n",
              "      <td>0</td>\n",
              "    </tr>\n",
              "    <tr>\n",
              "      <th>1075</th>\n",
              "      <td>ไซต์,แทร่ๆ,การันตี,ไม่,บรรจุ,บิด</td>\n",
              "      <td>1</td>\n",
              "    </tr>\n",
              "    <tr>\n",
              "      <th>...</th>\n",
              "      <td>...</td>\n",
              "      <td>...</td>\n",
              "    </tr>\n",
              "    <tr>\n",
              "      <th>1095</th>\n",
              "      <td>สมาชิก,ใหม่,ฟรี,เงิน,คืน,โหลด,รับ,โบนัส</td>\n",
              "      <td>1</td>\n",
              "    </tr>\n",
              "    <tr>\n",
              "      <th>1130</th>\n",
              "      <td>รับ,ทุน,ฟรี,จำนวน,จำกัด,รอ,อะไร,สมัคร,เลย,คลิ๊ก</td>\n",
              "      <td>1</td>\n",
              "    </tr>\n",
              "    <tr>\n",
              "      <th>1294</th>\n",
              "      <td>ค่าย,ใหญ่,แตกร้าว,ง่ายๆ,กลางคืน,ด้านบน,เสีย</td>\n",
              "      <td>1</td>\n",
              "    </tr>\n",
              "    <tr>\n",
              "      <th>860</th>\n",
              "      <td>พัสดุ,ของ,คุณ,ไม่,ได้รับ,การจัดส่ง,สินค้า,กรุณ...</td>\n",
              "      <td>1</td>\n",
              "    </tr>\n",
              "    <tr>\n",
              "      <th>1126</th>\n",
              "      <td>ฝาก,เร็ว,ถอน,ไว,ไม่,มี,ขั้นต่ำ,ปรับ,ค่า,แตก,ให...</td>\n",
              "      <td>1</td>\n",
              "    </tr>\n",
              "  </tbody>\n",
              "</table>\n",
              "<p>1349 rows × 2 columns</p>\n",
              "</div>\n",
              "    <div class=\"colab-df-buttons\">\n",
              "\n",
              "  <div class=\"colab-df-container\">\n",
              "    <button class=\"colab-df-convert\" onclick=\"convertToInteractive('df-dc6cd605-dc2e-48ff-b463-49d720a9a98f')\"\n",
              "            title=\"Convert this dataframe to an interactive table.\"\n",
              "            style=\"display:none;\">\n",
              "\n",
              "  <svg xmlns=\"http://www.w3.org/2000/svg\" height=\"24px\" viewBox=\"0 -960 960 960\">\n",
              "    <path d=\"M120-120v-720h720v720H120Zm60-500h600v-160H180v160Zm220 220h160v-160H400v160Zm0 220h160v-160H400v160ZM180-400h160v-160H180v160Zm440 0h160v-160H620v160ZM180-180h160v-160H180v160Zm440 0h160v-160H620v160Z\"/>\n",
              "  </svg>\n",
              "    </button>\n",
              "\n",
              "  <style>\n",
              "    .colab-df-container {\n",
              "      display:flex;\n",
              "      gap: 12px;\n",
              "    }\n",
              "\n",
              "    .colab-df-convert {\n",
              "      background-color: #E8F0FE;\n",
              "      border: none;\n",
              "      border-radius: 50%;\n",
              "      cursor: pointer;\n",
              "      display: none;\n",
              "      fill: #1967D2;\n",
              "      height: 32px;\n",
              "      padding: 0 0 0 0;\n",
              "      width: 32px;\n",
              "    }\n",
              "\n",
              "    .colab-df-convert:hover {\n",
              "      background-color: #E2EBFA;\n",
              "      box-shadow: 0px 1px 2px rgba(60, 64, 67, 0.3), 0px 1px 3px 1px rgba(60, 64, 67, 0.15);\n",
              "      fill: #174EA6;\n",
              "    }\n",
              "\n",
              "    .colab-df-buttons div {\n",
              "      margin-bottom: 4px;\n",
              "    }\n",
              "\n",
              "    [theme=dark] .colab-df-convert {\n",
              "      background-color: #3B4455;\n",
              "      fill: #D2E3FC;\n",
              "    }\n",
              "\n",
              "    [theme=dark] .colab-df-convert:hover {\n",
              "      background-color: #434B5C;\n",
              "      box-shadow: 0px 1px 3px 1px rgba(0, 0, 0, 0.15);\n",
              "      filter: drop-shadow(0px 1px 2px rgba(0, 0, 0, 0.3));\n",
              "      fill: #FFFFFF;\n",
              "    }\n",
              "  </style>\n",
              "\n",
              "    <script>\n",
              "      const buttonEl =\n",
              "        document.querySelector('#df-dc6cd605-dc2e-48ff-b463-49d720a9a98f button.colab-df-convert');\n",
              "      buttonEl.style.display =\n",
              "        google.colab.kernel.accessAllowed ? 'block' : 'none';\n",
              "\n",
              "      async function convertToInteractive(key) {\n",
              "        const element = document.querySelector('#df-dc6cd605-dc2e-48ff-b463-49d720a9a98f');\n",
              "        const dataTable =\n",
              "          await google.colab.kernel.invokeFunction('convertToInteractive',\n",
              "                                                    [key], {});\n",
              "        if (!dataTable) return;\n",
              "\n",
              "        const docLinkHtml = 'Like what you see? Visit the ' +\n",
              "          '<a target=\"_blank\" href=https://colab.research.google.com/notebooks/data_table.ipynb>data table notebook</a>'\n",
              "          + ' to learn more about interactive tables.';\n",
              "        element.innerHTML = '';\n",
              "        dataTable['output_type'] = 'display_data';\n",
              "        await google.colab.output.renderOutput(dataTable, element);\n",
              "        const docLink = document.createElement('div');\n",
              "        docLink.innerHTML = docLinkHtml;\n",
              "        element.appendChild(docLink);\n",
              "      }\n",
              "    </script>\n",
              "  </div>\n",
              "\n",
              "\n",
              "<div id=\"df-1893f9d5-8394-44f7-8654-6e2ba78e3d51\">\n",
              "  <button class=\"colab-df-quickchart\" onclick=\"quickchart('df-1893f9d5-8394-44f7-8654-6e2ba78e3d51')\"\n",
              "            title=\"Suggest charts\"\n",
              "            style=\"display:none;\">\n",
              "\n",
              "<svg xmlns=\"http://www.w3.org/2000/svg\" height=\"24px\"viewBox=\"0 0 24 24\"\n",
              "     width=\"24px\">\n",
              "    <g>\n",
              "        <path d=\"M19 3H5c-1.1 0-2 .9-2 2v14c0 1.1.9 2 2 2h14c1.1 0 2-.9 2-2V5c0-1.1-.9-2-2-2zM9 17H7v-7h2v7zm4 0h-2V7h2v10zm4 0h-2v-4h2v4z\"/>\n",
              "    </g>\n",
              "</svg>\n",
              "  </button>\n",
              "\n",
              "<style>\n",
              "  .colab-df-quickchart {\n",
              "      --bg-color: #E8F0FE;\n",
              "      --fill-color: #1967D2;\n",
              "      --hover-bg-color: #E2EBFA;\n",
              "      --hover-fill-color: #174EA6;\n",
              "      --disabled-fill-color: #AAA;\n",
              "      --disabled-bg-color: #DDD;\n",
              "  }\n",
              "\n",
              "  [theme=dark] .colab-df-quickchart {\n",
              "      --bg-color: #3B4455;\n",
              "      --fill-color: #D2E3FC;\n",
              "      --hover-bg-color: #434B5C;\n",
              "      --hover-fill-color: #FFFFFF;\n",
              "      --disabled-bg-color: #3B4455;\n",
              "      --disabled-fill-color: #666;\n",
              "  }\n",
              "\n",
              "  .colab-df-quickchart {\n",
              "    background-color: var(--bg-color);\n",
              "    border: none;\n",
              "    border-radius: 50%;\n",
              "    cursor: pointer;\n",
              "    display: none;\n",
              "    fill: var(--fill-color);\n",
              "    height: 32px;\n",
              "    padding: 0;\n",
              "    width: 32px;\n",
              "  }\n",
              "\n",
              "  .colab-df-quickchart:hover {\n",
              "    background-color: var(--hover-bg-color);\n",
              "    box-shadow: 0 1px 2px rgba(60, 64, 67, 0.3), 0 1px 3px 1px rgba(60, 64, 67, 0.15);\n",
              "    fill: var(--button-hover-fill-color);\n",
              "  }\n",
              "\n",
              "  .colab-df-quickchart-complete:disabled,\n",
              "  .colab-df-quickchart-complete:disabled:hover {\n",
              "    background-color: var(--disabled-bg-color);\n",
              "    fill: var(--disabled-fill-color);\n",
              "    box-shadow: none;\n",
              "  }\n",
              "\n",
              "  .colab-df-spinner {\n",
              "    border: 2px solid var(--fill-color);\n",
              "    border-color: transparent;\n",
              "    border-bottom-color: var(--fill-color);\n",
              "    animation:\n",
              "      spin 1s steps(1) infinite;\n",
              "  }\n",
              "\n",
              "  @keyframes spin {\n",
              "    0% {\n",
              "      border-color: transparent;\n",
              "      border-bottom-color: var(--fill-color);\n",
              "      border-left-color: var(--fill-color);\n",
              "    }\n",
              "    20% {\n",
              "      border-color: transparent;\n",
              "      border-left-color: var(--fill-color);\n",
              "      border-top-color: var(--fill-color);\n",
              "    }\n",
              "    30% {\n",
              "      border-color: transparent;\n",
              "      border-left-color: var(--fill-color);\n",
              "      border-top-color: var(--fill-color);\n",
              "      border-right-color: var(--fill-color);\n",
              "    }\n",
              "    40% {\n",
              "      border-color: transparent;\n",
              "      border-right-color: var(--fill-color);\n",
              "      border-top-color: var(--fill-color);\n",
              "    }\n",
              "    60% {\n",
              "      border-color: transparent;\n",
              "      border-right-color: var(--fill-color);\n",
              "    }\n",
              "    80% {\n",
              "      border-color: transparent;\n",
              "      border-right-color: var(--fill-color);\n",
              "      border-bottom-color: var(--fill-color);\n",
              "    }\n",
              "    90% {\n",
              "      border-color: transparent;\n",
              "      border-bottom-color: var(--fill-color);\n",
              "    }\n",
              "  }\n",
              "</style>\n",
              "\n",
              "  <script>\n",
              "    async function quickchart(key) {\n",
              "      const quickchartButtonEl =\n",
              "        document.querySelector('#' + key + ' button');\n",
              "      quickchartButtonEl.disabled = true;  // To prevent multiple clicks.\n",
              "      quickchartButtonEl.classList.add('colab-df-spinner');\n",
              "      try {\n",
              "        const charts = await google.colab.kernel.invokeFunction(\n",
              "            'suggestCharts', [key], {});\n",
              "      } catch (error) {\n",
              "        console.error('Error during call to suggestCharts:', error);\n",
              "      }\n",
              "      quickchartButtonEl.classList.remove('colab-df-spinner');\n",
              "      quickchartButtonEl.classList.add('colab-df-quickchart-complete');\n",
              "    }\n",
              "    (() => {\n",
              "      let quickchartButtonEl =\n",
              "        document.querySelector('#df-1893f9d5-8394-44f7-8654-6e2ba78e3d51 button');\n",
              "      quickchartButtonEl.style.display =\n",
              "        google.colab.kernel.accessAllowed ? 'block' : 'none';\n",
              "    })();\n",
              "  </script>\n",
              "</div>\n",
              "    </div>\n",
              "  </div>\n"
            ],
            "text/plain": [
              "                                                   text  label\n",
              "289   คุณ,มี,สกอร์,ใกล้,หมดอายุ,รีบ,แลก,คะแนน,ก่อน,ธ...      0\n",
              "1036  สวัสดี,ค่ะ,คุณ,มี,ประวัติการ,ใช้,งานบริการ,เกิ...      1\n",
              "535   หมุน,วงล้อ,ฟรี,มี,รางวัล,เล่น,ได้,ทุกวัน,แจก,ห...      0\n",
              "346   ครบ,เมนส์,ที่อยู่อาศัย,ด้วยกัน,รับ,ฟรี,อินเทอร...      0\n",
              "1075                   ไซต์,แทร่ๆ,การันตี,ไม่,บรรจุ,บิด      1\n",
              "...                                                 ...    ...\n",
              "1095            สมาชิก,ใหม่,ฟรี,เงิน,คืน,โหลด,รับ,โบนัส      1\n",
              "1130    รับ,ทุน,ฟรี,จำนวน,จำกัด,รอ,อะไร,สมัคร,เลย,คลิ๊ก      1\n",
              "1294        ค่าย,ใหญ่,แตกร้าว,ง่ายๆ,กลางคืน,ด้านบน,เสีย      1\n",
              "860   พัสดุ,ของ,คุณ,ไม่,ได้รับ,การจัดส่ง,สินค้า,กรุณ...      1\n",
              "1126  ฝาก,เร็ว,ถอน,ไว,ไม่,มี,ขั้นต่ำ,ปรับ,ค่า,แตก,ให...      1\n",
              "\n",
              "[1349 rows x 2 columns]"
            ]
          },
          "execution_count": 38,
          "metadata": {},
          "output_type": "execute_result"
        }
      ],
      "source": [
        "merged_data"
      ]
    },
    {
      "cell_type": "markdown",
      "metadata": {
        "id": "z_qDHPXRG-eb"
      },
      "source": [
        "# Dara Prepraration"
      ]
    },
    {
      "cell_type": "code",
      "execution_count": null,
      "metadata": {
        "colab": {
          "base_uri": "https://localhost:8080/"
        },
        "id": "FyMTGIC3kQFq",
        "outputId": "5fbedd40-4c1a-4d41-c81d-8e73942a6e4c"
      },
      "outputs": [
        {
          "name": "stdout",
          "output_type": "stream",
          "text": [
            "                                                   text  label\n",
            "667   วันแม่,ปี,นี้,ซื้อ,ประกันชีวิต,อาวุโส,โอเค,ให้...      0\n",
            "765   สวัสดี,ค่ะ,คุณ,มี,ประวัติ,การใช้,บริการ,เกิน,ค...      1\n",
            "164   โปร,แรง,ดับ,ร้อน,เน็ต,เต็ม,สปิด,ให้,แบบ,จูกๆ,ฟ...      0\n",
            "1178         แอด,เพื่อ,รับ,เงินกู้,วงเงิน,เครดิต,ธนาคาร      1\n",
            "874   จำเป็นต้อง,เข้าไป,ถอด,มิเตอร์,เนื่องด้วย,ผู้ใช...      1\n",
            "...                                                 ...    ...\n",
            "679   ขวบ,นี้,ก็,โทมัส_ยัง,แจก,ต่อ,แจก,ฟรี,เฉพาะ,มกร...      0\n",
            "297   เฉพาะ,คุณ,ส่วนลด,เพียง,ชอป,สถานที่,วัตสัน,มาถึ...      0\n",
            "531   สุข,ด้วยกัน,อลัง,กิน,อลังการ,ดิน,ห้างสรรพสินค้...      0\n",
            "279   ใช้,ใน,นาที,ห้าม,บอก,นี้,แก่,ผู้อื่น,ไม่,ว่า,ก...      0\n",
            "608   พัสดุ,จัดส่ง,สำเร็จ,แล้ว,ตรวจสอบ,ได้ที่,เว็บไซ...      0\n",
            "\n",
            "[1328 rows x 2 columns]\n"
          ]
        }
      ],
      "source": [
        "# Assuming df is your DataFrame with two classes: '0' and '1'\n",
        "minority_class = merged_data[merged_data['label'] == 1]\n",
        "majority_class = merged_data[merged_data['label'] == 0]\n",
        "\n",
        "# Determine the number of samples in the minority class\n",
        "num_minority_samples = len(minority_class)\n",
        "\n",
        "# Sample from the majority class to match the number of samples in the minority class\n",
        "downsampled_majority_class = majority_class.sample(n=num_minority_samples, random_state=42)\n",
        "\n",
        "# Concatenate the minority class DataFrame with the downsampled majority class DataFrame\n",
        "merged_data = pd.concat([minority_class, downsampled_majority_class])\n",
        "\n",
        "# Shuffle the balanced DataFrame (optional)\n",
        "merged_data = merged_data.sample(frac=1, random_state=42)\n",
        "\n",
        "# Print the balanced DataFrame\n",
        "print(merged_data)\n"
      ]
    },
    {
      "cell_type": "code",
      "execution_count": null,
      "metadata": {
        "colab": {
          "base_uri": "https://localhost:8080/"
        },
        "id": "iT_0f-r-k4kb",
        "outputId": "a99d862b-0d4d-416d-ca85-2656bf31bacc"
      },
      "outputs": [
        {
          "data": {
            "text/plain": [
              "label\n",
              "0    664\n",
              "1    664\n",
              "Name: count, dtype: int64"
            ]
          },
          "execution_count": 40,
          "metadata": {},
          "output_type": "execute_result"
        }
      ],
      "source": [
        "merged_data['label'].value_counts()"
      ]
    },
    {
      "cell_type": "code",
      "execution_count": null,
      "metadata": {
        "id": "cLcsKcV2qt06"
      },
      "outputs": [],
      "source": [
        "merged_data[\"text2\"] = merged_data[\"text\"].replace(',', ' ', regex=True)\n",
        "merged_data[\"tokens\"] = merged_data[\"text2\"].apply(lambda text: word_tokenize(text, keep_whitespace=True))\n",
        "merged_data[\"processed_sentence\"] = merged_data[\"tokens\"].apply(lambda tokens: \" \".join(tokens))"
      ]
    },
    {
      "cell_type": "code",
      "execution_count": null,
      "metadata": {
        "colab": {
          "base_uri": "https://localhost:8080/",
          "height": 597
        },
        "id": "2fqYqxKcq0KJ",
        "outputId": "52096229-4d65-4f1c-9093-bc9444f6672b"
      },
      "outputs": [
        {
          "data": {
            "application/vnd.google.colaboratory.intrinsic+json": {
              "summary": "{\n  \"name\": \"merged_data\",\n  \"rows\": 1328,\n  \"fields\": [\n    {\n      \"column\": \"text\",\n      \"properties\": {\n        \"dtype\": \"string\",\n        \"num_unique_values\": 1325,\n        \"samples\": [\n          \"\\u0e1b\\u0e35,\\u0e19\\u0e35\\u0e49,\\u0e01\\u0e47,\\u0e22\\u0e31\\u0e07,\\u0e41\\u0e08\\u0e01,\\u0e15\\u0e48\\u0e2d,\\u0e41\\u0e08\\u0e01,\\u0e1f\\u0e23\\u0e35,\\u0e40\\u0e09\\u0e1e\\u0e32\\u0e30,\\u0e21\\u0e01\\u0e23\\u0e32\\u0e04\\u0e21,\\u0e40\\u0e25\\u0e48\\u0e19,\\u0e1f\\u0e23\\u0e35,\\u0e17\\u0e35\\u0e48,\\u0e17\\u0e23\\u0e39\\u0e44\\u0e2d\\u0e14\\u0e35,\\u0e04\\u0e25\\u0e34\\u0e01\",\n          \"\\u0e40\\u0e09\\u0e1e\\u0e32\\u0e30,\\u0e1c\\u0e39\\u0e49,\\u0e17\\u0e35\\u0e48,\\u0e40\\u0e2d\\u0e32,\\u0e02\\u0e49\\u0e2d\\u0e04\\u0e27\\u0e32\\u0e21,\\u0e40\\u0e1e\\u0e35\\u0e22\\u0e07\\u0e41\\u0e04\\u0e48,\\u0e40\\u0e1b\\u0e34\\u0e14\\u0e2d\\u0e22\\u0e39\\u0e48,\\u0e1a\\u0e34\\u0e25,\\u0e41\\u0e23\\u0e01\\u0e23\\u0e31\\u0e1a\\u0e21\\u0e37\\u0e2d,\\u0e1f\\u0e23\\u0e35,\\u0e04\\u0e25\\u0e34\\u0e01\",\n          \"\\u0e41\\u0e08\\u0e01,\\u0e21\\u0e37\\u0e2d\\u0e16\\u0e37\\u0e2d,\\u0e15\\u0e2d\\u0e1a\\u0e23\\u0e31\\u0e1a,\\u0e1b\\u0e35\\u0e43\\u0e2b\\u0e21\\u0e48,\\u0e1f\\u0e23\\u0e35,\\u0e40\\u0e09\\u0e1e\\u0e32\\u0e30,\\u0e18.\\u0e04.,\\u0e40\\u0e25\\u0e48\\u0e19,\\u0e1f\\u0e23\\u0e35,\\u0e2a\\u0e16\\u0e32\\u0e19\\u0e17\\u0e35\\u0e48,\\u0e17\\u0e23\\u0e39\\u0e15\\u0e31\\u0e27\\u0e44\\u0e2d\\u0e1e\\u0e23\\u0e30\\u0e1b\\u0e34\\u0e15\\u0e15\\u0e30,\\u0e04\\u0e25\\u0e34\\u0e01,\\u0e40\\u0e25\\u0e22\"\n        ],\n        \"semantic_type\": \"\",\n        \"description\": \"\"\n      }\n    },\n    {\n      \"column\": \"label\",\n      \"properties\": {\n        \"dtype\": \"number\",\n        \"std\": 0,\n        \"min\": 0,\n        \"max\": 1,\n        \"num_unique_values\": 2,\n        \"samples\": [\n          1,\n          0\n        ],\n        \"semantic_type\": \"\",\n        \"description\": \"\"\n      }\n    },\n    {\n      \"column\": \"text2\",\n      \"properties\": {\n        \"dtype\": \"string\",\n        \"num_unique_values\": 1325,\n        \"samples\": [\n          \"\\u0e1b\\u0e35 \\u0e19\\u0e35\\u0e49 \\u0e01\\u0e47 \\u0e22\\u0e31\\u0e07 \\u0e41\\u0e08\\u0e01 \\u0e15\\u0e48\\u0e2d \\u0e41\\u0e08\\u0e01 \\u0e1f\\u0e23\\u0e35 \\u0e40\\u0e09\\u0e1e\\u0e32\\u0e30 \\u0e21\\u0e01\\u0e23\\u0e32\\u0e04\\u0e21 \\u0e40\\u0e25\\u0e48\\u0e19 \\u0e1f\\u0e23\\u0e35 \\u0e17\\u0e35\\u0e48 \\u0e17\\u0e23\\u0e39\\u0e44\\u0e2d\\u0e14\\u0e35 \\u0e04\\u0e25\\u0e34\\u0e01\",\n          \"\\u0e40\\u0e09\\u0e1e\\u0e32\\u0e30 \\u0e1c\\u0e39\\u0e49 \\u0e17\\u0e35\\u0e48 \\u0e40\\u0e2d\\u0e32 \\u0e02\\u0e49\\u0e2d\\u0e04\\u0e27\\u0e32\\u0e21 \\u0e40\\u0e1e\\u0e35\\u0e22\\u0e07\\u0e41\\u0e04\\u0e48 \\u0e40\\u0e1b\\u0e34\\u0e14\\u0e2d\\u0e22\\u0e39\\u0e48 \\u0e1a\\u0e34\\u0e25 \\u0e41\\u0e23\\u0e01\\u0e23\\u0e31\\u0e1a\\u0e21\\u0e37\\u0e2d \\u0e1f\\u0e23\\u0e35 \\u0e04\\u0e25\\u0e34\\u0e01\"\n        ],\n        \"semantic_type\": \"\",\n        \"description\": \"\"\n      }\n    },\n    {\n      \"column\": \"tokens\",\n      \"properties\": {\n        \"dtype\": \"object\",\n        \"semantic_type\": \"\",\n        \"description\": \"\"\n      }\n    },\n    {\n      \"column\": \"processed_sentence\",\n      \"properties\": {\n        \"dtype\": \"string\",\n        \"num_unique_values\": 1325,\n        \"samples\": [\n          \"\\u0e1b\\u0e35   \\u0e19\\u0e35\\u0e49   \\u0e01\\u0e47   \\u0e22\\u0e31\\u0e07   \\u0e41\\u0e08\\u0e01   \\u0e15\\u0e48\\u0e2d   \\u0e41\\u0e08\\u0e01   \\u0e1f\\u0e23\\u0e35   \\u0e40\\u0e09\\u0e1e\\u0e32\\u0e30   \\u0e21\\u0e01\\u0e23\\u0e32\\u0e04\\u0e21   \\u0e40\\u0e25\\u0e48\\u0e19   \\u0e1f\\u0e23\\u0e35   \\u0e17\\u0e35\\u0e48   \\u0e17\\u0e23\\u0e39 \\u0e44\\u0e2d \\u0e14\\u0e35   \\u0e04\\u0e25\\u0e34\\u0e01\",\n          \"\\u0e40\\u0e09\\u0e1e\\u0e32\\u0e30   \\u0e1c\\u0e39\\u0e49   \\u0e17\\u0e35\\u0e48   \\u0e40\\u0e2d\\u0e32   \\u0e02\\u0e49\\u0e2d\\u0e04\\u0e27\\u0e32\\u0e21   \\u0e40\\u0e1e\\u0e35\\u0e22\\u0e07\\u0e41\\u0e04\\u0e48   \\u0e40\\u0e1b\\u0e34\\u0e14 \\u0e2d\\u0e22\\u0e39\\u0e48   \\u0e1a\\u0e34\\u0e25   \\u0e41\\u0e23\\u0e01 \\u0e23\\u0e31\\u0e1a\\u0e21\\u0e37\\u0e2d   \\u0e1f\\u0e23\\u0e35   \\u0e04\\u0e25\\u0e34\\u0e01\"\n        ],\n        \"semantic_type\": \"\",\n        \"description\": \"\"\n      }\n    }\n  ]\n}",
              "type": "dataframe",
              "variable_name": "merged_data"
            },
            "text/html": [
              "\n",
              "  <div id=\"df-0461a5c5-e38b-41a5-b8a8-5874f00542c2\" class=\"colab-df-container\">\n",
              "    <div>\n",
              "<style scoped>\n",
              "    .dataframe tbody tr th:only-of-type {\n",
              "        vertical-align: middle;\n",
              "    }\n",
              "\n",
              "    .dataframe tbody tr th {\n",
              "        vertical-align: top;\n",
              "    }\n",
              "\n",
              "    .dataframe thead th {\n",
              "        text-align: right;\n",
              "    }\n",
              "</style>\n",
              "<table border=\"1\" class=\"dataframe\">\n",
              "  <thead>\n",
              "    <tr style=\"text-align: right;\">\n",
              "      <th></th>\n",
              "      <th>text</th>\n",
              "      <th>label</th>\n",
              "      <th>text2</th>\n",
              "      <th>tokens</th>\n",
              "      <th>processed_sentence</th>\n",
              "    </tr>\n",
              "  </thead>\n",
              "  <tbody>\n",
              "    <tr>\n",
              "      <th>667</th>\n",
              "      <td>วันแม่,ปี,นี้,ซื้อ,ประกันชีวิต,อาวุโส,โอเค,ให้...</td>\n",
              "      <td>0</td>\n",
              "      <td>วันแม่ ปี นี้ ซื้อ ประกันชีวิต อาวุโส โอเค ให้...</td>\n",
              "      <td>[วันแม่,  , ปี,  , นี้,  , ซื้อ,  , ประกันชีวิ...</td>\n",
              "      <td>วันแม่   ปี   นี้   ซื้อ   ประกันชีวิต   อาวุโ...</td>\n",
              "    </tr>\n",
              "    <tr>\n",
              "      <th>765</th>\n",
              "      <td>สวัสดี,ค่ะ,คุณ,มี,ประวัติ,การใช้,บริการ,เกิน,ค...</td>\n",
              "      <td>1</td>\n",
              "      <td>สวัสดี ค่ะ คุณ มี ประวัติ การใช้ บริการ เกิน ค...</td>\n",
              "      <td>[สวัสดี,  , ค่ะ,  , คุณ,  , มี,  , ประวัติ,  ,...</td>\n",
              "      <td>สวัสดี   ค่ะ   คุณ   มี   ประวัติ   การ ใช้   ...</td>\n",
              "    </tr>\n",
              "    <tr>\n",
              "      <th>164</th>\n",
              "      <td>โปร,แรง,ดับ,ร้อน,เน็ต,เต็ม,สปิด,ให้,แบบ,จูกๆ,ฟ...</td>\n",
              "      <td>0</td>\n",
              "      <td>โปร แรง ดับ ร้อน เน็ต เต็ม สปิด ให้ แบบ จูกๆ ฟ...</td>\n",
              "      <td>[โปร,  , แรง,  , ดับ,  , ร้อน,  , เน็ต,  , เต็...</td>\n",
              "      <td>โปร   แรง   ดับ   ร้อน   เน็ต   เต็ม   ส ปิด  ...</td>\n",
              "    </tr>\n",
              "    <tr>\n",
              "      <th>1178</th>\n",
              "      <td>แอด,เพื่อ,รับ,เงินกู้,วงเงิน,เครดิต,ธนาคาร</td>\n",
              "      <td>1</td>\n",
              "      <td>แอด เพื่อ รับ เงินกู้ วงเงิน เครดิต ธนาคาร</td>\n",
              "      <td>[แอด,  , เพื่อ,  , รับ,  , เงินกู้,  , วงเงิน,...</td>\n",
              "      <td>แอด   เพื่อ   รับ   เงินกู้   วงเงิน   เครดิต ...</td>\n",
              "    </tr>\n",
              "    <tr>\n",
              "      <th>874</th>\n",
              "      <td>จำเป็นต้อง,เข้าไป,ถอด,มิเตอร์,เนื่องด้วย,ผู้ใช...</td>\n",
              "      <td>1</td>\n",
              "      <td>จำเป็นต้อง เข้าไป ถอด มิเตอร์ เนื่องด้วย ผู้ใช...</td>\n",
              "      <td>[จำเป็นต้อง,  , เข้าไป,  , ถอด,  , มิเตอร์,  ,...</td>\n",
              "      <td>จำเป็นต้อง   เข้าไป   ถอด   มิเตอร์   เนื่องด้...</td>\n",
              "    </tr>\n",
              "    <tr>\n",
              "      <th>...</th>\n",
              "      <td>...</td>\n",
              "      <td>...</td>\n",
              "      <td>...</td>\n",
              "      <td>...</td>\n",
              "      <td>...</td>\n",
              "    </tr>\n",
              "    <tr>\n",
              "      <th>679</th>\n",
              "      <td>ขวบ,นี้,ก็,โทมัส_ยัง,แจก,ต่อ,แจก,ฟรี,เฉพาะ,มกร...</td>\n",
              "      <td>0</td>\n",
              "      <td>ขวบ นี้ ก็ โทมัส_ยัง แจก ต่อ แจก ฟรี เฉพาะ มกร...</td>\n",
              "      <td>[ขวบ,  , นี้,  , ก็,  , โทมัส, _, ยัง,  , แจก,...</td>\n",
              "      <td>ขวบ   นี้   ก็   โทมัส _ ยัง   แจก   ต่อ   แจก...</td>\n",
              "    </tr>\n",
              "    <tr>\n",
              "      <th>297</th>\n",
              "      <td>เฉพาะ,คุณ,ส่วนลด,เพียง,ชอป,สถานที่,วัตสัน,มาถึ...</td>\n",
              "      <td>0</td>\n",
              "      <td>เฉพาะ คุณ ส่วนลด เพียง ชอป สถานที่ วัตสัน มาถึ...</td>\n",
              "      <td>[เฉพาะ,  , คุณ,  , ส่วนลด,  , เพียง,  , ชอป,  ...</td>\n",
              "      <td>เฉพาะ   คุณ   ส่วนลด   เพียง   ชอป   สถานที่  ...</td>\n",
              "    </tr>\n",
              "    <tr>\n",
              "      <th>531</th>\n",
              "      <td>สุข,ด้วยกัน,อลัง,กิน,อลังการ,ดิน,ห้างสรรพสินค้...</td>\n",
              "      <td>0</td>\n",
              "      <td>สุข ด้วยกัน อลัง กิน อลังการ ดิน ห้างสรรพสินค้...</td>\n",
              "      <td>[สุข,  , ด้วยกัน,  , อ, ลัง,  , กิน,  , อลังกา...</td>\n",
              "      <td>สุข   ด้วยกัน   อ ลัง   กิน   อลังการ   ดิน   ...</td>\n",
              "    </tr>\n",
              "    <tr>\n",
              "      <th>279</th>\n",
              "      <td>ใช้,ใน,นาที,ห้าม,บอก,นี้,แก่,ผู้อื่น,ไม่,ว่า,ก...</td>\n",
              "      <td>0</td>\n",
              "      <td>ใช้ ใน นาที ห้าม บอก นี้ แก่ ผู้อื่น ไม่ ว่า ก...</td>\n",
              "      <td>[ใช้,  , ใน,  , นาที,  , ห้าม,  , บอก,  , นี้,...</td>\n",
              "      <td>ใช้   ใน   นาที   ห้าม   บอก   นี้   แก่   ผู้...</td>\n",
              "    </tr>\n",
              "    <tr>\n",
              "      <th>608</th>\n",
              "      <td>พัสดุ,จัดส่ง,สำเร็จ,แล้ว,ตรวจสอบ,ได้ที่,เว็บไซ...</td>\n",
              "      <td>0</td>\n",
              "      <td>พัสดุ จัดส่ง สำเร็จ แล้ว ตรวจสอบ ได้ที่ เว็บไซ...</td>\n",
              "      <td>[พัสดุ,  , จัดส่ง,  , สำเร็จ,  , แล้ว,  , ตรวจ...</td>\n",
              "      <td>พัสดุ   จัดส่ง   สำเร็จ   แล้ว   ตรวจสอบ   ได้...</td>\n",
              "    </tr>\n",
              "  </tbody>\n",
              "</table>\n",
              "<p>1328 rows × 5 columns</p>\n",
              "</div>\n",
              "    <div class=\"colab-df-buttons\">\n",
              "\n",
              "  <div class=\"colab-df-container\">\n",
              "    <button class=\"colab-df-convert\" onclick=\"convertToInteractive('df-0461a5c5-e38b-41a5-b8a8-5874f00542c2')\"\n",
              "            title=\"Convert this dataframe to an interactive table.\"\n",
              "            style=\"display:none;\">\n",
              "\n",
              "  <svg xmlns=\"http://www.w3.org/2000/svg\" height=\"24px\" viewBox=\"0 -960 960 960\">\n",
              "    <path d=\"M120-120v-720h720v720H120Zm60-500h600v-160H180v160Zm220 220h160v-160H400v160Zm0 220h160v-160H400v160ZM180-400h160v-160H180v160Zm440 0h160v-160H620v160ZM180-180h160v-160H180v160Zm440 0h160v-160H620v160Z\"/>\n",
              "  </svg>\n",
              "    </button>\n",
              "\n",
              "  <style>\n",
              "    .colab-df-container {\n",
              "      display:flex;\n",
              "      gap: 12px;\n",
              "    }\n",
              "\n",
              "    .colab-df-convert {\n",
              "      background-color: #E8F0FE;\n",
              "      border: none;\n",
              "      border-radius: 50%;\n",
              "      cursor: pointer;\n",
              "      display: none;\n",
              "      fill: #1967D2;\n",
              "      height: 32px;\n",
              "      padding: 0 0 0 0;\n",
              "      width: 32px;\n",
              "    }\n",
              "\n",
              "    .colab-df-convert:hover {\n",
              "      background-color: #E2EBFA;\n",
              "      box-shadow: 0px 1px 2px rgba(60, 64, 67, 0.3), 0px 1px 3px 1px rgba(60, 64, 67, 0.15);\n",
              "      fill: #174EA6;\n",
              "    }\n",
              "\n",
              "    .colab-df-buttons div {\n",
              "      margin-bottom: 4px;\n",
              "    }\n",
              "\n",
              "    [theme=dark] .colab-df-convert {\n",
              "      background-color: #3B4455;\n",
              "      fill: #D2E3FC;\n",
              "    }\n",
              "\n",
              "    [theme=dark] .colab-df-convert:hover {\n",
              "      background-color: #434B5C;\n",
              "      box-shadow: 0px 1px 3px 1px rgba(0, 0, 0, 0.15);\n",
              "      filter: drop-shadow(0px 1px 2px rgba(0, 0, 0, 0.3));\n",
              "      fill: #FFFFFF;\n",
              "    }\n",
              "  </style>\n",
              "\n",
              "    <script>\n",
              "      const buttonEl =\n",
              "        document.querySelector('#df-0461a5c5-e38b-41a5-b8a8-5874f00542c2 button.colab-df-convert');\n",
              "      buttonEl.style.display =\n",
              "        google.colab.kernel.accessAllowed ? 'block' : 'none';\n",
              "\n",
              "      async function convertToInteractive(key) {\n",
              "        const element = document.querySelector('#df-0461a5c5-e38b-41a5-b8a8-5874f00542c2');\n",
              "        const dataTable =\n",
              "          await google.colab.kernel.invokeFunction('convertToInteractive',\n",
              "                                                    [key], {});\n",
              "        if (!dataTable) return;\n",
              "\n",
              "        const docLinkHtml = 'Like what you see? Visit the ' +\n",
              "          '<a target=\"_blank\" href=https://colab.research.google.com/notebooks/data_table.ipynb>data table notebook</a>'\n",
              "          + ' to learn more about interactive tables.';\n",
              "        element.innerHTML = '';\n",
              "        dataTable['output_type'] = 'display_data';\n",
              "        await google.colab.output.renderOutput(dataTable, element);\n",
              "        const docLink = document.createElement('div');\n",
              "        docLink.innerHTML = docLinkHtml;\n",
              "        element.appendChild(docLink);\n",
              "      }\n",
              "    </script>\n",
              "  </div>\n",
              "\n",
              "\n",
              "<div id=\"df-574446bc-70ff-421d-a32d-4a8c7e2acf13\">\n",
              "  <button class=\"colab-df-quickchart\" onclick=\"quickchart('df-574446bc-70ff-421d-a32d-4a8c7e2acf13')\"\n",
              "            title=\"Suggest charts\"\n",
              "            style=\"display:none;\">\n",
              "\n",
              "<svg xmlns=\"http://www.w3.org/2000/svg\" height=\"24px\"viewBox=\"0 0 24 24\"\n",
              "     width=\"24px\">\n",
              "    <g>\n",
              "        <path d=\"M19 3H5c-1.1 0-2 .9-2 2v14c0 1.1.9 2 2 2h14c1.1 0 2-.9 2-2V5c0-1.1-.9-2-2-2zM9 17H7v-7h2v7zm4 0h-2V7h2v10zm4 0h-2v-4h2v4z\"/>\n",
              "    </g>\n",
              "</svg>\n",
              "  </button>\n",
              "\n",
              "<style>\n",
              "  .colab-df-quickchart {\n",
              "      --bg-color: #E8F0FE;\n",
              "      --fill-color: #1967D2;\n",
              "      --hover-bg-color: #E2EBFA;\n",
              "      --hover-fill-color: #174EA6;\n",
              "      --disabled-fill-color: #AAA;\n",
              "      --disabled-bg-color: #DDD;\n",
              "  }\n",
              "\n",
              "  [theme=dark] .colab-df-quickchart {\n",
              "      --bg-color: #3B4455;\n",
              "      --fill-color: #D2E3FC;\n",
              "      --hover-bg-color: #434B5C;\n",
              "      --hover-fill-color: #FFFFFF;\n",
              "      --disabled-bg-color: #3B4455;\n",
              "      --disabled-fill-color: #666;\n",
              "  }\n",
              "\n",
              "  .colab-df-quickchart {\n",
              "    background-color: var(--bg-color);\n",
              "    border: none;\n",
              "    border-radius: 50%;\n",
              "    cursor: pointer;\n",
              "    display: none;\n",
              "    fill: var(--fill-color);\n",
              "    height: 32px;\n",
              "    padding: 0;\n",
              "    width: 32px;\n",
              "  }\n",
              "\n",
              "  .colab-df-quickchart:hover {\n",
              "    background-color: var(--hover-bg-color);\n",
              "    box-shadow: 0 1px 2px rgba(60, 64, 67, 0.3), 0 1px 3px 1px rgba(60, 64, 67, 0.15);\n",
              "    fill: var(--button-hover-fill-color);\n",
              "  }\n",
              "\n",
              "  .colab-df-quickchart-complete:disabled,\n",
              "  .colab-df-quickchart-complete:disabled:hover {\n",
              "    background-color: var(--disabled-bg-color);\n",
              "    fill: var(--disabled-fill-color);\n",
              "    box-shadow: none;\n",
              "  }\n",
              "\n",
              "  .colab-df-spinner {\n",
              "    border: 2px solid var(--fill-color);\n",
              "    border-color: transparent;\n",
              "    border-bottom-color: var(--fill-color);\n",
              "    animation:\n",
              "      spin 1s steps(1) infinite;\n",
              "  }\n",
              "\n",
              "  @keyframes spin {\n",
              "    0% {\n",
              "      border-color: transparent;\n",
              "      border-bottom-color: var(--fill-color);\n",
              "      border-left-color: var(--fill-color);\n",
              "    }\n",
              "    20% {\n",
              "      border-color: transparent;\n",
              "      border-left-color: var(--fill-color);\n",
              "      border-top-color: var(--fill-color);\n",
              "    }\n",
              "    30% {\n",
              "      border-color: transparent;\n",
              "      border-left-color: var(--fill-color);\n",
              "      border-top-color: var(--fill-color);\n",
              "      border-right-color: var(--fill-color);\n",
              "    }\n",
              "    40% {\n",
              "      border-color: transparent;\n",
              "      border-right-color: var(--fill-color);\n",
              "      border-top-color: var(--fill-color);\n",
              "    }\n",
              "    60% {\n",
              "      border-color: transparent;\n",
              "      border-right-color: var(--fill-color);\n",
              "    }\n",
              "    80% {\n",
              "      border-color: transparent;\n",
              "      border-right-color: var(--fill-color);\n",
              "      border-bottom-color: var(--fill-color);\n",
              "    }\n",
              "    90% {\n",
              "      border-color: transparent;\n",
              "      border-bottom-color: var(--fill-color);\n",
              "    }\n",
              "  }\n",
              "</style>\n",
              "\n",
              "  <script>\n",
              "    async function quickchart(key) {\n",
              "      const quickchartButtonEl =\n",
              "        document.querySelector('#' + key + ' button');\n",
              "      quickchartButtonEl.disabled = true;  // To prevent multiple clicks.\n",
              "      quickchartButtonEl.classList.add('colab-df-spinner');\n",
              "      try {\n",
              "        const charts = await google.colab.kernel.invokeFunction(\n",
              "            'suggestCharts', [key], {});\n",
              "      } catch (error) {\n",
              "        console.error('Error during call to suggestCharts:', error);\n",
              "      }\n",
              "      quickchartButtonEl.classList.remove('colab-df-spinner');\n",
              "      quickchartButtonEl.classList.add('colab-df-quickchart-complete');\n",
              "    }\n",
              "    (() => {\n",
              "      let quickchartButtonEl =\n",
              "        document.querySelector('#df-574446bc-70ff-421d-a32d-4a8c7e2acf13 button');\n",
              "      quickchartButtonEl.style.display =\n",
              "        google.colab.kernel.accessAllowed ? 'block' : 'none';\n",
              "    })();\n",
              "  </script>\n",
              "</div>\n",
              "    </div>\n",
              "  </div>\n"
            ],
            "text/plain": [
              "                                                   text  label  \\\n",
              "667   วันแม่,ปี,นี้,ซื้อ,ประกันชีวิต,อาวุโส,โอเค,ให้...      0   \n",
              "765   สวัสดี,ค่ะ,คุณ,มี,ประวัติ,การใช้,บริการ,เกิน,ค...      1   \n",
              "164   โปร,แรง,ดับ,ร้อน,เน็ต,เต็ม,สปิด,ให้,แบบ,จูกๆ,ฟ...      0   \n",
              "1178         แอด,เพื่อ,รับ,เงินกู้,วงเงิน,เครดิต,ธนาคาร      1   \n",
              "874   จำเป็นต้อง,เข้าไป,ถอด,มิเตอร์,เนื่องด้วย,ผู้ใช...      1   \n",
              "...                                                 ...    ...   \n",
              "679   ขวบ,นี้,ก็,โทมัส_ยัง,แจก,ต่อ,แจก,ฟรี,เฉพาะ,มกร...      0   \n",
              "297   เฉพาะ,คุณ,ส่วนลด,เพียง,ชอป,สถานที่,วัตสัน,มาถึ...      0   \n",
              "531   สุข,ด้วยกัน,อลัง,กิน,อลังการ,ดิน,ห้างสรรพสินค้...      0   \n",
              "279   ใช้,ใน,นาที,ห้าม,บอก,นี้,แก่,ผู้อื่น,ไม่,ว่า,ก...      0   \n",
              "608   พัสดุ,จัดส่ง,สำเร็จ,แล้ว,ตรวจสอบ,ได้ที่,เว็บไซ...      0   \n",
              "\n",
              "                                                  text2  \\\n",
              "667   วันแม่ ปี นี้ ซื้อ ประกันชีวิต อาวุโส โอเค ให้...   \n",
              "765   สวัสดี ค่ะ คุณ มี ประวัติ การใช้ บริการ เกิน ค...   \n",
              "164   โปร แรง ดับ ร้อน เน็ต เต็ม สปิด ให้ แบบ จูกๆ ฟ...   \n",
              "1178         แอด เพื่อ รับ เงินกู้ วงเงิน เครดิต ธนาคาร   \n",
              "874   จำเป็นต้อง เข้าไป ถอด มิเตอร์ เนื่องด้วย ผู้ใช...   \n",
              "...                                                 ...   \n",
              "679   ขวบ นี้ ก็ โทมัส_ยัง แจก ต่อ แจก ฟรี เฉพาะ มกร...   \n",
              "297   เฉพาะ คุณ ส่วนลด เพียง ชอป สถานที่ วัตสัน มาถึ...   \n",
              "531   สุข ด้วยกัน อลัง กิน อลังการ ดิน ห้างสรรพสินค้...   \n",
              "279   ใช้ ใน นาที ห้าม บอก นี้ แก่ ผู้อื่น ไม่ ว่า ก...   \n",
              "608   พัสดุ จัดส่ง สำเร็จ แล้ว ตรวจสอบ ได้ที่ เว็บไซ...   \n",
              "\n",
              "                                                 tokens  \\\n",
              "667   [วันแม่,  , ปี,  , นี้,  , ซื้อ,  , ประกันชีวิ...   \n",
              "765   [สวัสดี,  , ค่ะ,  , คุณ,  , มี,  , ประวัติ,  ,...   \n",
              "164   [โปร,  , แรง,  , ดับ,  , ร้อน,  , เน็ต,  , เต็...   \n",
              "1178  [แอด,  , เพื่อ,  , รับ,  , เงินกู้,  , วงเงิน,...   \n",
              "874   [จำเป็นต้อง,  , เข้าไป,  , ถอด,  , มิเตอร์,  ,...   \n",
              "...                                                 ...   \n",
              "679   [ขวบ,  , นี้,  , ก็,  , โทมัส, _, ยัง,  , แจก,...   \n",
              "297   [เฉพาะ,  , คุณ,  , ส่วนลด,  , เพียง,  , ชอป,  ...   \n",
              "531   [สุข,  , ด้วยกัน,  , อ, ลัง,  , กิน,  , อลังกา...   \n",
              "279   [ใช้,  , ใน,  , นาที,  , ห้าม,  , บอก,  , นี้,...   \n",
              "608   [พัสดุ,  , จัดส่ง,  , สำเร็จ,  , แล้ว,  , ตรวจ...   \n",
              "\n",
              "                                     processed_sentence  \n",
              "667   วันแม่   ปี   นี้   ซื้อ   ประกันชีวิต   อาวุโ...  \n",
              "765   สวัสดี   ค่ะ   คุณ   มี   ประวัติ   การ ใช้   ...  \n",
              "164   โปร   แรง   ดับ   ร้อน   เน็ต   เต็ม   ส ปิด  ...  \n",
              "1178  แอด   เพื่อ   รับ   เงินกู้   วงเงิน   เครดิต ...  \n",
              "874   จำเป็นต้อง   เข้าไป   ถอด   มิเตอร์   เนื่องด้...  \n",
              "...                                                 ...  \n",
              "679   ขวบ   นี้   ก็   โทมัส _ ยัง   แจก   ต่อ   แจก...  \n",
              "297   เฉพาะ   คุณ   ส่วนลด   เพียง   ชอป   สถานที่  ...  \n",
              "531   สุข   ด้วยกัน   อ ลัง   กิน   อลังการ   ดิน   ...  \n",
              "279   ใช้   ใน   นาที   ห้าม   บอก   นี้   แก่   ผู้...  \n",
              "608   พัสดุ   จัดส่ง   สำเร็จ   แล้ว   ตรวจสอบ   ได้...  \n",
              "\n",
              "[1328 rows x 5 columns]"
            ]
          },
          "execution_count": 42,
          "metadata": {},
          "output_type": "execute_result"
        }
      ],
      "source": [
        "merged_data"
      ]
    },
    {
      "cell_type": "code",
      "execution_count": null,
      "metadata": {
        "colab": {
          "base_uri": "https://localhost:8080/"
        },
        "id": "wBH336CZs-Fa",
        "outputId": "1b518fd4-3ed7-4cd4-9cf6-6e385aad49f1"
      },
      "outputs": [
        {
          "name": "stdout",
          "output_type": "stream",
          "text": [
            "Maximum length of words from all rows: 43\n"
          ]
        }
      ],
      "source": [
        "# Initialize a variable to store the maximum length of words from all rows\n",
        "max_len = 0\n",
        "\n",
        "# Iterate over each row in the DataFrame\n",
        "for index, row in merged_data.iterrows():\n",
        "    # Split the text into words using comma as the delimiter\n",
        "    words = row['text'].split(',')\n",
        "\n",
        "    # Calculate the maximum length of words in the current row\n",
        "    max_length_current_row = max(len(word) for word in words)\n",
        "\n",
        "    # Update the maximum length of words from all rows if the current row's maximum length is greater\n",
        "    if max_length_current_row > max_len:\n",
        "        max_len = max_length_current_row\n",
        "\n",
        "# Print the maximum length of words from all rows\n",
        "print(f\"Maximum length of words from all rows: {max_len}\")"
      ]
    },
    {
      "cell_type": "code",
      "execution_count": null,
      "metadata": {
        "colab": {
          "base_uri": "https://localhost:8080/"
        },
        "id": "JBySvLKZAAne",
        "outputId": "f8b42d2c-53af-4eb9-bd64-89f654830f6f"
      },
      "outputs": [
        {
          "name": "stdout",
          "output_type": "stream",
          "text": [
            "Average length of words: 4.90\n"
          ]
        }
      ],
      "source": [
        "# Initialize variables to store the total length of words and the total number of words\n",
        "total_length = 0\n",
        "total_words = 0\n",
        "\n",
        "# Iterate over each row in the DataFrame\n",
        "for index, row in merged_data.iterrows():\n",
        "    # Split the text into words using comma as the delimiter\n",
        "    words = row['text'].split(',')\n",
        "\n",
        "    # Update the total length and total number of words\n",
        "    total_length += sum(len(word) for word in words)\n",
        "    total_words += len(words)\n",
        "\n",
        "# Calculate the average length of words\n",
        "average_length = total_length / total_words\n",
        "\n",
        "# Print the average length of words\n",
        "print(f\"Average length of words: {average_length:.2f}\")"
      ]
    },
    {
      "cell_type": "code",
      "execution_count": null,
      "metadata": {
        "colab": {
          "base_uri": "https://localhost:8080/"
        },
        "id": "s3jbgiVHrb4e",
        "outputId": "99f5b45a-6275-45d1-c784-5be22a28ad26"
      },
      "outputs": [
        {
          "name": "stdout",
          "output_type": "stream",
          "text": [
            "True\n",
            "The number of training 1062, validation 266 \n",
            "vocab_size:  2168\n",
            "max_len:  43\n",
            "Found 2167 unique words: \n",
            "data shape:  (1328, 50)\n"
          ]
        }
      ],
      "source": [
        "from keras.layers import SimpleRNN, Embedding, Dense, LSTM, Dropout, Conv1D\n",
        "from keras.models import Sequential\n",
        "\n",
        "from keras.preprocessing.text import Tokenizer\n",
        "from keras.preprocessing.sequence import pad_sequences\n",
        "\n",
        "all_text = merged_data.shape[0]\n",
        "\n",
        "# we will use 80% of data as training, 20% as validation data\n",
        "training_samples = int(all_text * .8)\n",
        "validation_samples = int(all_text - training_samples)\n",
        "# sanity check\n",
        "print(len(merged_data['processed_sentence']) == (training_samples + validation_samples))\n",
        "print(\"The number of training {0}, validation {1} \".format(training_samples, validation_samples))\n",
        "\n",
        "tokenizer = Tokenizer()\n",
        "tokenizer.fit_on_texts(merged_data['processed_sentence'])\n",
        "vocab_size = len(tokenizer.word_index)+1\n",
        "print(\"vocab_size: \",vocab_size)\n",
        "sequences = tokenizer.texts_to_sequences(merged_data['processed_sentence'])\n",
        "\n",
        "print(\"max_len: \", max_len)\n",
        "\n",
        "word_index = tokenizer.word_index\n",
        "print(\"Found {0} unique words: \".format(len(word_index)))\n",
        "\n",
        "data = pad_sequences(sequences, maxlen=50)\n",
        "\n",
        "print(\"data shape: \", data.shape)\n",
        "embedding_dim = 50\n",
        "\n",
        "np.random.seed(42)\n",
        "# shuffle data\n",
        "labels=merged_data['label']\n",
        "indices = np.arange(data.shape[0])\n",
        "np.random.shuffle(indices)\n",
        "data = data[indices]\n",
        "labels = labels.iloc[indices]\n",
        "\n",
        "texts_train = data[:training_samples]\n",
        "y_train = labels[:training_samples]\n",
        "texts_test = data[training_samples:]\n",
        "y_test = labels[training_samples:]"
      ]
    },
    {
      "cell_type": "code",
      "execution_count": null,
      "metadata": {
        "colab": {
          "base_uri": "https://localhost:8080/"
        },
        "id": "vkTbrFF9q5ub",
        "outputId": "12ab3c66-01b3-4988-df59-ae6626ab54e7"
      },
      "outputs": [
        {
          "data": {
            "text/plain": [
              "471     0\n",
              "111     0\n",
              "1033    1\n",
              "829     1\n",
              "684     0\n",
              "       ..\n",
              "919     1\n",
              "38      0\n",
              "352     0\n",
              "837     1\n",
              "916     1\n",
              "Name: label, Length: 266, dtype: int64"
            ]
          },
          "execution_count": 52,
          "metadata": {},
          "output_type": "execute_result"
        }
      ],
      "source": [
        "y_test"
      ]
    },
    {
      "cell_type": "markdown",
      "metadata": {
        "id": "nzJAm4xevTau"
      },
      "source": [
        "# Import New_data"
      ]
    },
    {
      "cell_type": "code",
      "execution_count": null,
      "metadata": {
        "id": "q8s-5d4Zv5bg"
      },
      "outputs": [],
      "source": [
        "merged_data_path = \"final_data_th.csv\"\n",
        "merged_data = pd.read_csv(merged_data_path)"
      ]
    },
    {
      "cell_type": "code",
      "execution_count": null,
      "metadata": {
        "colab": {
          "base_uri": "https://localhost:8080/",
          "height": 423
        },
        "id": "EuBmqwWswOrP",
        "outputId": "e0704f64-5efa-4ee2-a7cd-83c051703e50"
      },
      "outputs": [
        {
          "data": {
            "application/vnd.google.colaboratory.intrinsic+json": {
              "summary": "{\n  \"name\": \"merged_data\",\n  \"rows\": 1310,\n  \"fields\": [\n    {\n      \"column\": \"text\",\n      \"properties\": {\n        \"dtype\": \"string\",\n        \"num_unique_values\": 1308,\n        \"samples\": [\n          \"\\u0e18\\u0e19\\u0e32\\u0e04\\u0e32\\u0e23,\\u0e44\\u0e14\\u0e49,\\u0e2d\\u0e19\\u0e38\\u0e21\\u0e31\\u0e15\\u0e34,\\u0e40\\u0e07\\u0e34\\u0e19\\u0e2a\\u0e34\\u0e19\\u0e40\\u0e0a\\u0e37\\u0e48\\u0e2d,\\u0e27\\u0e31\\u0e15\\u0e16\\u0e38,\\u0e04\\u0e38\\u0e13,\\u0e41\\u0e25\\u0e49\\u0e27,\\u0e2a\\u0e31\\u0e21\\u0e1c\\u0e31\\u0e2a\",\n          \"\\u0e40\\u0e27\\u0e47\\u0e1a,\\u0e43\\u0e2b\\u0e0d\\u0e48,\\u0e44\\u0e21\\u0e48,\\u0e2d\\u0e31\\u0e49\\u0e19,\\u0e16\\u0e2d\\u0e19,\\u0e1d\\u0e32\\u0e08\\u0e38\\u0e01\\u0e01\\u0e23\\u0e31\\u0e1a\\u0e21\\u0e37\\u0e2d,\\u0e2d\\u0e22\\u0e48\\u0e32\\u0e07\\u0e23\\u0e27\\u0e14\\u0e40\\u0e23\\u0e47\\u0e27\",\n          \"\\u0e43\\u0e0a\\u0e49,\\u0e43\\u0e19,\\u0e19\\u0e32\\u0e17\\u0e35,\\u0e2b\\u0e49\\u0e32\\u0e21,\\u0e1a\\u0e2d\\u0e01,\\u0e19\\u0e35\\u0e49,\\u0e41\\u0e01\\u0e48,\\u0e1c\\u0e39\\u0e49\\u0e2d\\u0e37\\u0e48\\u0e19,\\u0e44\\u0e21\\u0e48,\\u0e27\\u0e48\\u0e32,\\u0e01\\u0e23\\u0e13\\u0e35,\\u0e43\\u0e14\"\n        ],\n        \"semantic_type\": \"\",\n        \"description\": \"\"\n      }\n    },\n    {\n      \"column\": \"label\",\n      \"properties\": {\n        \"dtype\": \"number\",\n        \"std\": 0,\n        \"min\": 0,\n        \"max\": 1,\n        \"num_unique_values\": 2,\n        \"samples\": [\n          1,\n          0\n        ],\n        \"semantic_type\": \"\",\n        \"description\": \"\"\n      }\n    },\n    {\n      \"column\": \"processed_sentence\",\n      \"properties\": {\n        \"dtype\": \"string\",\n        \"num_unique_values\": 1308,\n        \"samples\": [\n          \"\\u0e18\\u0e19\\u0e32\\u0e04\\u0e32\\u0e23 \\u0e44\\u0e14\\u0e49 \\u0e2d\\u0e19\\u0e38\\u0e21\\u0e31\\u0e15\\u0e34 \\u0e40\\u0e07\\u0e34\\u0e19\\u0e2a\\u0e34\\u0e19\\u0e40\\u0e0a\\u0e37\\u0e48\\u0e2d \\u0e27\\u0e31\\u0e15\\u0e16\\u0e38 \\u0e04\\u0e38\\u0e13 \\u0e41\\u0e25\\u0e49\\u0e27 \\u0e2a\\u0e31\\u0e21\\u0e1c\\u0e31\\u0e2a\",\n          \"\\u0e40\\u0e27\\u0e47\\u0e1a \\u0e43\\u0e2b\\u0e0d\\u0e48 \\u0e44\\u0e21\\u0e48 \\u0e2d\\u0e31\\u0e49\\u0e19 \\u0e16\\u0e2d\\u0e19 \\u0e1d\\u0e32\\u0e08\\u0e38\\u0e01\\u0e01\\u0e23\\u0e31\\u0e1a\\u0e21\\u0e37\\u0e2d \\u0e2d\\u0e22\\u0e48\\u0e32\\u0e07\\u0e23\\u0e27\\u0e14\\u0e40\\u0e23\\u0e47\\u0e27\"\n        ],\n        \"semantic_type\": \"\",\n        \"description\": \"\"\n      }\n    }\n  ]\n}",
              "type": "dataframe",
              "variable_name": "merged_data"
            },
            "text/html": [
              "\n",
              "  <div id=\"df-15285856-cb89-47d5-aee5-7156e717e238\" class=\"colab-df-container\">\n",
              "    <div>\n",
              "<style scoped>\n",
              "    .dataframe tbody tr th:only-of-type {\n",
              "        vertical-align: middle;\n",
              "    }\n",
              "\n",
              "    .dataframe tbody tr th {\n",
              "        vertical-align: top;\n",
              "    }\n",
              "\n",
              "    .dataframe thead th {\n",
              "        text-align: right;\n",
              "    }\n",
              "</style>\n",
              "<table border=\"1\" class=\"dataframe\">\n",
              "  <thead>\n",
              "    <tr style=\"text-align: right;\">\n",
              "      <th></th>\n",
              "      <th>text</th>\n",
              "      <th>label</th>\n",
              "      <th>processed_sentence</th>\n",
              "    </tr>\n",
              "  </thead>\n",
              "  <tbody>\n",
              "    <tr>\n",
              "      <th>0</th>\n",
              "      <td>คุ้ม,เว่อร์,แค่,โหลด,แอปฯ,เช็ก,พอยท์,สะสม,ของ,...</td>\n",
              "      <td>0</td>\n",
              "      <td>คุ้ม เว่อร์ แค่ โหลด แอปฯ เช็ก พอยท์ สะสม ของ ...</td>\n",
              "    </tr>\n",
              "    <tr>\n",
              "      <th>1</th>\n",
              "      <td>รัตนาธิเบศร์,ขอบคุณ,ด้วยใจ,สมาชิก,บ่งบอก,รับ,ส...</td>\n",
              "      <td>0</td>\n",
              "      <td>รัตนาธิเบศร์ ขอบคุณ ด้วยใจ สมาชิก บ่งบอก รับ ส...</td>\n",
              "    </tr>\n",
              "    <tr>\n",
              "      <th>2</th>\n",
              "      <td>นัด,มี,เมือง,เดียวกัน,นางแบบ,ดารา,เด็กนักเรียน...</td>\n",
              "      <td>1</td>\n",
              "      <td>นัด มี เมือง เดียวกัน นางแบบ ดารา เด็กนักเรียน...</td>\n",
              "    </tr>\n",
              "    <tr>\n",
              "      <th>3</th>\n",
              "      <td>แจก,ฟรี,ไอเทม,พิเศษ,ให้,อุปกรณ์เล่นเกม,เมอร์,ท...</td>\n",
              "      <td>0</td>\n",
              "      <td>แจก ฟรี ไอเทม พิเศษ ให้ อุปกรณ์เล่นเกม เมอร์ ท...</td>\n",
              "    </tr>\n",
              "    <tr>\n",
              "      <th>4</th>\n",
              "      <td>วงเงิน,ของ,คุณ,ได้มา,การอนุมัติ,แล้ว,สัมผัส</td>\n",
              "      <td>1</td>\n",
              "      <td>วงเงิน ของ คุณ ได้มา การอนุมัติ แล้ว สัมผัส</td>\n",
              "    </tr>\n",
              "    <tr>\n",
              "      <th>...</th>\n",
              "      <td>...</td>\n",
              "      <td>...</td>\n",
              "      <td>...</td>\n",
              "    </tr>\n",
              "    <tr>\n",
              "      <th>1305</th>\n",
              "      <td>ร่วม,โหวต,ร่วม,เชียร์,ทีม,ที่,ชื่นชอบ,ใน,การแข...</td>\n",
              "      <td>0</td>\n",
              "      <td>ร่วม โหวต ร่วม เชียร์ ทีม ที่ ชื่นชอบ ใน การแข...</td>\n",
              "    </tr>\n",
              "    <tr>\n",
              "      <th>1306</th>\n",
              "      <td>คะแนน,ของ,คุณ,หมดอายุ,หรือยัง,ตรวจเช็ก,วันหมดอ...</td>\n",
              "      <td>0</td>\n",
              "      <td>คะแนน ของ คุณ หมดอายุ หรือยัง ตรวจเช็ก วันหมดอ...</td>\n",
              "    </tr>\n",
              "    <tr>\n",
              "      <th>1307</th>\n",
              "      <td>ไม่,รีบ,ก็,อด,คุ้ม,สมัคร,เพิ่ม,เลย,แพ็กเกจ,ราย...</td>\n",
              "      <td>0</td>\n",
              "      <td>ไม่ รีบ ก็ อด คุ้ม สมัคร เพิ่ม เลย แพ็กเกจ ราย...</td>\n",
              "    </tr>\n",
              "    <tr>\n",
              "      <th>1308</th>\n",
              "      <td>อาพาท,ค่ารักษาพยาบาล,แพง,เตรียมตัว,คิดวางแผน,ป...</td>\n",
              "      <td>0</td>\n",
              "      <td>อาพาท ค่ารักษาพยาบาล แพง เตรียมตัว คิดวางแผน ป...</td>\n",
              "    </tr>\n",
              "    <tr>\n",
              "      <th>1309</th>\n",
              "      <td>ใช้,เพื่อ,ยืนยัน,เบอร์,มือถือ,ของ,คุณ,ภายใน,นา...</td>\n",
              "      <td>0</td>\n",
              "      <td>ใช้ เพื่อ ยืนยัน เบอร์ มือถือ ของ คุณ ภายใน นา...</td>\n",
              "    </tr>\n",
              "  </tbody>\n",
              "</table>\n",
              "<p>1310 rows × 3 columns</p>\n",
              "</div>\n",
              "    <div class=\"colab-df-buttons\">\n",
              "\n",
              "  <div class=\"colab-df-container\">\n",
              "    <button class=\"colab-df-convert\" onclick=\"convertToInteractive('df-15285856-cb89-47d5-aee5-7156e717e238')\"\n",
              "            title=\"Convert this dataframe to an interactive table.\"\n",
              "            style=\"display:none;\">\n",
              "\n",
              "  <svg xmlns=\"http://www.w3.org/2000/svg\" height=\"24px\" viewBox=\"0 -960 960 960\">\n",
              "    <path d=\"M120-120v-720h720v720H120Zm60-500h600v-160H180v160Zm220 220h160v-160H400v160Zm0 220h160v-160H400v160ZM180-400h160v-160H180v160Zm440 0h160v-160H620v160ZM180-180h160v-160H180v160Zm440 0h160v-160H620v160Z\"/>\n",
              "  </svg>\n",
              "    </button>\n",
              "\n",
              "  <style>\n",
              "    .colab-df-container {\n",
              "      display:flex;\n",
              "      gap: 12px;\n",
              "    }\n",
              "\n",
              "    .colab-df-convert {\n",
              "      background-color: #E8F0FE;\n",
              "      border: none;\n",
              "      border-radius: 50%;\n",
              "      cursor: pointer;\n",
              "      display: none;\n",
              "      fill: #1967D2;\n",
              "      height: 32px;\n",
              "      padding: 0 0 0 0;\n",
              "      width: 32px;\n",
              "    }\n",
              "\n",
              "    .colab-df-convert:hover {\n",
              "      background-color: #E2EBFA;\n",
              "      box-shadow: 0px 1px 2px rgba(60, 64, 67, 0.3), 0px 1px 3px 1px rgba(60, 64, 67, 0.15);\n",
              "      fill: #174EA6;\n",
              "    }\n",
              "\n",
              "    .colab-df-buttons div {\n",
              "      margin-bottom: 4px;\n",
              "    }\n",
              "\n",
              "    [theme=dark] .colab-df-convert {\n",
              "      background-color: #3B4455;\n",
              "      fill: #D2E3FC;\n",
              "    }\n",
              "\n",
              "    [theme=dark] .colab-df-convert:hover {\n",
              "      background-color: #434B5C;\n",
              "      box-shadow: 0px 1px 3px 1px rgba(0, 0, 0, 0.15);\n",
              "      filter: drop-shadow(0px 1px 2px rgba(0, 0, 0, 0.3));\n",
              "      fill: #FFFFFF;\n",
              "    }\n",
              "  </style>\n",
              "\n",
              "    <script>\n",
              "      const buttonEl =\n",
              "        document.querySelector('#df-15285856-cb89-47d5-aee5-7156e717e238 button.colab-df-convert');\n",
              "      buttonEl.style.display =\n",
              "        google.colab.kernel.accessAllowed ? 'block' : 'none';\n",
              "\n",
              "      async function convertToInteractive(key) {\n",
              "        const element = document.querySelector('#df-15285856-cb89-47d5-aee5-7156e717e238');\n",
              "        const dataTable =\n",
              "          await google.colab.kernel.invokeFunction('convertToInteractive',\n",
              "                                                    [key], {});\n",
              "        if (!dataTable) return;\n",
              "\n",
              "        const docLinkHtml = 'Like what you see? Visit the ' +\n",
              "          '<a target=\"_blank\" href=https://colab.research.google.com/notebooks/data_table.ipynb>data table notebook</a>'\n",
              "          + ' to learn more about interactive tables.';\n",
              "        element.innerHTML = '';\n",
              "        dataTable['output_type'] = 'display_data';\n",
              "        await google.colab.output.renderOutput(dataTable, element);\n",
              "        const docLink = document.createElement('div');\n",
              "        docLink.innerHTML = docLinkHtml;\n",
              "        element.appendChild(docLink);\n",
              "      }\n",
              "    </script>\n",
              "  </div>\n",
              "\n",
              "\n",
              "<div id=\"df-aeaac85f-2ee6-446b-b112-a309d153ff49\">\n",
              "  <button class=\"colab-df-quickchart\" onclick=\"quickchart('df-aeaac85f-2ee6-446b-b112-a309d153ff49')\"\n",
              "            title=\"Suggest charts\"\n",
              "            style=\"display:none;\">\n",
              "\n",
              "<svg xmlns=\"http://www.w3.org/2000/svg\" height=\"24px\"viewBox=\"0 0 24 24\"\n",
              "     width=\"24px\">\n",
              "    <g>\n",
              "        <path d=\"M19 3H5c-1.1 0-2 .9-2 2v14c0 1.1.9 2 2 2h14c1.1 0 2-.9 2-2V5c0-1.1-.9-2-2-2zM9 17H7v-7h2v7zm4 0h-2V7h2v10zm4 0h-2v-4h2v4z\"/>\n",
              "    </g>\n",
              "</svg>\n",
              "  </button>\n",
              "\n",
              "<style>\n",
              "  .colab-df-quickchart {\n",
              "      --bg-color: #E8F0FE;\n",
              "      --fill-color: #1967D2;\n",
              "      --hover-bg-color: #E2EBFA;\n",
              "      --hover-fill-color: #174EA6;\n",
              "      --disabled-fill-color: #AAA;\n",
              "      --disabled-bg-color: #DDD;\n",
              "  }\n",
              "\n",
              "  [theme=dark] .colab-df-quickchart {\n",
              "      --bg-color: #3B4455;\n",
              "      --fill-color: #D2E3FC;\n",
              "      --hover-bg-color: #434B5C;\n",
              "      --hover-fill-color: #FFFFFF;\n",
              "      --disabled-bg-color: #3B4455;\n",
              "      --disabled-fill-color: #666;\n",
              "  }\n",
              "\n",
              "  .colab-df-quickchart {\n",
              "    background-color: var(--bg-color);\n",
              "    border: none;\n",
              "    border-radius: 50%;\n",
              "    cursor: pointer;\n",
              "    display: none;\n",
              "    fill: var(--fill-color);\n",
              "    height: 32px;\n",
              "    padding: 0;\n",
              "    width: 32px;\n",
              "  }\n",
              "\n",
              "  .colab-df-quickchart:hover {\n",
              "    background-color: var(--hover-bg-color);\n",
              "    box-shadow: 0 1px 2px rgba(60, 64, 67, 0.3), 0 1px 3px 1px rgba(60, 64, 67, 0.15);\n",
              "    fill: var(--button-hover-fill-color);\n",
              "  }\n",
              "\n",
              "  .colab-df-quickchart-complete:disabled,\n",
              "  .colab-df-quickchart-complete:disabled:hover {\n",
              "    background-color: var(--disabled-bg-color);\n",
              "    fill: var(--disabled-fill-color);\n",
              "    box-shadow: none;\n",
              "  }\n",
              "\n",
              "  .colab-df-spinner {\n",
              "    border: 2px solid var(--fill-color);\n",
              "    border-color: transparent;\n",
              "    border-bottom-color: var(--fill-color);\n",
              "    animation:\n",
              "      spin 1s steps(1) infinite;\n",
              "  }\n",
              "\n",
              "  @keyframes spin {\n",
              "    0% {\n",
              "      border-color: transparent;\n",
              "      border-bottom-color: var(--fill-color);\n",
              "      border-left-color: var(--fill-color);\n",
              "    }\n",
              "    20% {\n",
              "      border-color: transparent;\n",
              "      border-left-color: var(--fill-color);\n",
              "      border-top-color: var(--fill-color);\n",
              "    }\n",
              "    30% {\n",
              "      border-color: transparent;\n",
              "      border-left-color: var(--fill-color);\n",
              "      border-top-color: var(--fill-color);\n",
              "      border-right-color: var(--fill-color);\n",
              "    }\n",
              "    40% {\n",
              "      border-color: transparent;\n",
              "      border-right-color: var(--fill-color);\n",
              "      border-top-color: var(--fill-color);\n",
              "    }\n",
              "    60% {\n",
              "      border-color: transparent;\n",
              "      border-right-color: var(--fill-color);\n",
              "    }\n",
              "    80% {\n",
              "      border-color: transparent;\n",
              "      border-right-color: var(--fill-color);\n",
              "      border-bottom-color: var(--fill-color);\n",
              "    }\n",
              "    90% {\n",
              "      border-color: transparent;\n",
              "      border-bottom-color: var(--fill-color);\n",
              "    }\n",
              "  }\n",
              "</style>\n",
              "\n",
              "  <script>\n",
              "    async function quickchart(key) {\n",
              "      const quickchartButtonEl =\n",
              "        document.querySelector('#' + key + ' button');\n",
              "      quickchartButtonEl.disabled = true;  // To prevent multiple clicks.\n",
              "      quickchartButtonEl.classList.add('colab-df-spinner');\n",
              "      try {\n",
              "        const charts = await google.colab.kernel.invokeFunction(\n",
              "            'suggestCharts', [key], {});\n",
              "      } catch (error) {\n",
              "        console.error('Error during call to suggestCharts:', error);\n",
              "      }\n",
              "      quickchartButtonEl.classList.remove('colab-df-spinner');\n",
              "      quickchartButtonEl.classList.add('colab-df-quickchart-complete');\n",
              "    }\n",
              "    (() => {\n",
              "      let quickchartButtonEl =\n",
              "        document.querySelector('#df-aeaac85f-2ee6-446b-b112-a309d153ff49 button');\n",
              "      quickchartButtonEl.style.display =\n",
              "        google.colab.kernel.accessAllowed ? 'block' : 'none';\n",
              "    })();\n",
              "  </script>\n",
              "</div>\n",
              "    </div>\n",
              "  </div>\n"
            ],
            "text/plain": [
              "                                                   text  label  \\\n",
              "0     คุ้ม,เว่อร์,แค่,โหลด,แอปฯ,เช็ก,พอยท์,สะสม,ของ,...      0   \n",
              "1     รัตนาธิเบศร์,ขอบคุณ,ด้วยใจ,สมาชิก,บ่งบอก,รับ,ส...      0   \n",
              "2     นัด,มี,เมือง,เดียวกัน,นางแบบ,ดารา,เด็กนักเรียน...      1   \n",
              "3     แจก,ฟรี,ไอเทม,พิเศษ,ให้,อุปกรณ์เล่นเกม,เมอร์,ท...      0   \n",
              "4           วงเงิน,ของ,คุณ,ได้มา,การอนุมัติ,แล้ว,สัมผัส      1   \n",
              "...                                                 ...    ...   \n",
              "1305  ร่วม,โหวต,ร่วม,เชียร์,ทีม,ที่,ชื่นชอบ,ใน,การแข...      0   \n",
              "1306  คะแนน,ของ,คุณ,หมดอายุ,หรือยัง,ตรวจเช็ก,วันหมดอ...      0   \n",
              "1307  ไม่,รีบ,ก็,อด,คุ้ม,สมัคร,เพิ่ม,เลย,แพ็กเกจ,ราย...      0   \n",
              "1308  อาพาท,ค่ารักษาพยาบาล,แพง,เตรียมตัว,คิดวางแผน,ป...      0   \n",
              "1309  ใช้,เพื่อ,ยืนยัน,เบอร์,มือถือ,ของ,คุณ,ภายใน,นา...      0   \n",
              "\n",
              "                                     processed_sentence  \n",
              "0     คุ้ม เว่อร์ แค่ โหลด แอปฯ เช็ก พอยท์ สะสม ของ ...  \n",
              "1     รัตนาธิเบศร์ ขอบคุณ ด้วยใจ สมาชิก บ่งบอก รับ ส...  \n",
              "2     นัด มี เมือง เดียวกัน นางแบบ ดารา เด็กนักเรียน...  \n",
              "3     แจก ฟรี ไอเทม พิเศษ ให้ อุปกรณ์เล่นเกม เมอร์ ท...  \n",
              "4           วงเงิน ของ คุณ ได้มา การอนุมัติ แล้ว สัมผัส  \n",
              "...                                                 ...  \n",
              "1305  ร่วม โหวต ร่วม เชียร์ ทีม ที่ ชื่นชอบ ใน การแข...  \n",
              "1306  คะแนน ของ คุณ หมดอายุ หรือยัง ตรวจเช็ก วันหมดอ...  \n",
              "1307  ไม่ รีบ ก็ อด คุ้ม สมัคร เพิ่ม เลย แพ็กเกจ ราย...  \n",
              "1308  อาพาท ค่ารักษาพยาบาล แพง เตรียมตัว คิดวางแผน ป...  \n",
              "1309  ใช้ เพื่อ ยืนยัน เบอร์ มือถือ ของ คุณ ภายใน นา...  \n",
              "\n",
              "[1310 rows x 3 columns]"
            ]
          },
          "execution_count": 24,
          "metadata": {},
          "output_type": "execute_result"
        }
      ],
      "source": [
        "merged_data"
      ]
    },
    {
      "cell_type": "code",
      "execution_count": null,
      "metadata": {
        "id": "5j6JdF5OwYSD"
      },
      "outputs": [],
      "source": [
        "merged_data.dropna(inplace=True)"
      ]
    },
    {
      "cell_type": "code",
      "execution_count": null,
      "metadata": {
        "colab": {
          "base_uri": "https://localhost:8080/"
        },
        "id": "M5Y5RUIpwcVL",
        "outputId": "7346e33b-8748-4bd5-9d26-deafb9f31086"
      },
      "outputs": [
        {
          "name": "stdout",
          "output_type": "stream",
          "text": [
            "Duplicate rows:\n",
            "Empty DataFrame\n",
            "Columns: [text, label, processed_sentence]\n",
            "Index: []\n",
            "Number of duplicate rows: 0\n"
          ]
        }
      ],
      "source": [
        "duplicate_rows = merged_data[merged_data.duplicated()]\n",
        "\n",
        "# Print the duplicate rows\n",
        "print(\"Duplicate rows:\")\n",
        "print(duplicate_rows)\n",
        "\n",
        "# Check the number of duplicate rows\n",
        "print(\"Number of duplicate rows:\", len(duplicate_rows))"
      ]
    },
    {
      "cell_type": "code",
      "execution_count": null,
      "metadata": {
        "colab": {
          "base_uri": "https://localhost:8080/"
        },
        "id": "DP9HEjfRwToe",
        "outputId": "ad31f793-651c-4e52-ddd7-2f9dd69f6302"
      },
      "outputs": [
        {
          "data": {
            "text/plain": [
              "label\n",
              "0    655\n",
              "1    655\n",
              "Name: count, dtype: int64"
            ]
          },
          "execution_count": 27,
          "metadata": {},
          "output_type": "execute_result"
        }
      ],
      "source": [
        "merged_data['label'].value_counts()"
      ]
    },
    {
      "cell_type": "code",
      "execution_count": null,
      "metadata": {
        "colab": {
          "base_uri": "https://localhost:8080/"
        },
        "id": "87ITpNeK2lTo",
        "outputId": "5d2ac535-6c3a-47fd-b2c0-c41793f3d317"
      },
      "outputs": [
        {
          "name": "stdout",
          "output_type": "stream",
          "text": [
            "Maximum length of words from all rows: 37\n"
          ]
        }
      ],
      "source": [
        "# Initialize a variable to store the maximum length of words from all rows\n",
        "max_len = 0\n",
        "\n",
        "# Iterate over each row in the DataFrame\n",
        "for index, row in merged_data.iterrows():\n",
        "    # Split the text into words using whitespace as the delimiter\n",
        "    words = row['processed_sentence'].split()\n",
        "\n",
        "    # Calculate the maximum length of words in the current row\n",
        "    max_length_current_row = max(len(word) for word in words)\n",
        "\n",
        "    # Update the maximum length of words from all rows if the current row's maximum length is greater\n",
        "    if max_length_current_row > max_len:\n",
        "        max_len = max_length_current_row\n",
        "\n",
        "# Print the maximum length of words from all rows\n",
        "print(f\"Maximum length of words from all rows: {max_len}\")"
      ]
    },
    {
      "cell_type": "code",
      "execution_count": null,
      "metadata": {
        "colab": {
          "base_uri": "https://localhost:8080/"
        },
        "id": "Z3AlIgv72zR1",
        "outputId": "7e9a7e67-86a5-4a84-fe27-b9ab421f4a40"
      },
      "outputs": [
        {
          "name": "stdout",
          "output_type": "stream",
          "text": [
            "Average length of words: 4.92\n"
          ]
        }
      ],
      "source": [
        "# Initialize variables to store the total length of words and the total number of words\n",
        "total_length = 0\n",
        "total_words = 0\n",
        "\n",
        "# Iterate over each row in the DataFrame\n",
        "for index, row in merged_data.iterrows():\n",
        "    # Split the text into words using whitespace as the delimiter\n",
        "    words = row['processed_sentence'].split()\n",
        "\n",
        "    # Update the total length and total number of words\n",
        "    total_length += sum(len(word) for word in words)\n",
        "    total_words += len(words)\n",
        "\n",
        "# Calculate the average length of words\n",
        "average_length = total_length / total_words\n",
        "\n",
        "# Print the average length of words\n",
        "print(f\"Average length of words: {average_length:.2f}\")"
      ]
    },
    {
      "cell_type": "markdown",
      "metadata": {
        "id": "bT0itFGxDP6G"
      },
      "source": [
        "# Model Training - Wangchan"
      ]
    },
    {
      "cell_type": "code",
      "execution_count": null,
      "metadata": {
        "colab": {
          "base_uri": "https://localhost:8080/"
        },
        "id": "5reIRTL97BHF",
        "outputId": "1a44dc4b-52e9-45fb-f0dd-59b9feaed097"
      },
      "outputs": [
        {
          "name": "stderr",
          "output_type": "stream",
          "text": [
            "/usr/local/lib/python3.10/dist-packages/huggingface_hub/utils/_token.py:88: UserWarning: \n",
            "The secret `HF_TOKEN` does not exist in your Colab secrets.\n",
            "To authenticate with the Hugging Face Hub, create a token in your settings tab (https://huggingface.co/settings/tokens), set it as secret in your Google Colab and restart your session.\n",
            "You will be able to reuse this secret in all of your notebooks.\n",
            "Please note that authentication is recommended but still optional to access public models or datasets.\n",
            "  warnings.warn(\n",
            "Some weights of CamembertForSequenceClassification were not initialized from the model checkpoint at airesearch/wangchanberta-base-att-spm-uncased and are newly initialized: ['classifier.dense.bias', 'classifier.dense.weight', 'classifier.out_proj.bias', 'classifier.out_proj.weight']\n",
            "You should probably TRAIN this model on a down-stream task to be able to use it for predictions and inference.\n",
            "/usr/local/lib/python3.10/dist-packages/transformers/optimization.py:429: FutureWarning: This implementation of AdamW is deprecated and will be removed in a future version. Use the PyTorch implementation torch.optim.AdamW instead, or set `no_deprecation_warning=True` to disable this warning\n",
            "  warnings.warn(\n"
          ]
        }
      ],
      "source": [
        "# Define model and tokenizer\n",
        "model_name = \"airesearch/wangchanberta-base-att-spm-uncased\"\n",
        "tokenizer = AutoTokenizer.from_pretrained(model_name)\n",
        "model = AutoModelForSequenceClassification.from_pretrained(model_name)\n",
        "\n",
        "# Tokenize function\n",
        "def tokenize_function(examples):\n",
        "    return tokenizer(examples[\"processed_sentence\"], padding=\"max_length\", truncation=True, max_length=50)\n",
        "\n",
        "# Custom dataset\n",
        "class CustomDataset(Dataset):\n",
        "    def __init__(self, texts, labels, tokenizer, max_token_len=50):\n",
        "        self.tokenizer = tokenizer\n",
        "        self.texts = texts\n",
        "        self.labels = labels\n",
        "        self.max_token_len = max_token_len\n",
        "\n",
        "    def __len__(self):\n",
        "        return len(self.texts)\n",
        "\n",
        "    def __getitem__(self, idx):\n",
        "        text = self.texts[idx]\n",
        "        labels = self.labels[idx]\n",
        "        encoding = self.tokenizer.encode_plus(\n",
        "            text,\n",
        "            add_special_tokens=True,\n",
        "            max_length=self.max_token_len,\n",
        "            return_token_type_ids=False,\n",
        "            padding=\"max_length\",\n",
        "            return_attention_mask=True,\n",
        "            return_tensors='pt',\n",
        "            truncation=True\n",
        "        )\n",
        "\n",
        "        return {\n",
        "            'input_ids': encoding['input_ids'].flatten(),\n",
        "            'attention_mask': encoding['attention_mask'].flatten(),\n",
        "            'labels': torch.tensor(labels, dtype=torch.long)\n",
        "        }\n",
        "\n",
        "# Preparing dataset\n",
        "X_train, X_test, y_train, y_test = train_test_split(merged_data['processed_sentence'], merged_data['label'], test_size=0.2)\n",
        "train_dataset = CustomDataset(X_train.tolist(), y_train.tolist(), tokenizer)\n",
        "test_dataset = CustomDataset(X_test.tolist(), y_test.tolist(), tokenizer)\n",
        "\n",
        "train_loader = DataLoader(train_dataset, batch_size=16, shuffle=True)\n",
        "test_loader = DataLoader(test_dataset, batch_size=16)\n",
        "\n",
        "# Assuming you've already defined your model\n",
        "# model = AutoModelForSequenceClassification.from_pretrained(model_name, num_labels=num_labels)\n",
        "\n",
        "optim = AdamW(model.parameters(), lr=5e-5)\n",
        "\n",
        "# Training loop setup (simplified for illustration)\n",
        "for batch in train_loader:\n",
        "    optim.zero_grad()\n",
        "    input_ids = batch['input_ids']\n",
        "    attention_mask = batch['attention_mask']\n",
        "    labels = batch['labels']\n",
        "    outputs = model(input_ids, attention_mask=attention_mask, labels=labels)\n",
        "    loss = outputs.loss\n",
        "    loss.backward()\n",
        "    optim.step()"
      ]
    },
    {
      "cell_type": "code",
      "execution_count": null,
      "metadata": {
        "colab": {
          "base_uri": "https://localhost:8080/"
        },
        "id": "lMUDEz8GQfeq",
        "outputId": "f2e6ae86-904a-46cb-8e03-12a9990254e7"
      },
      "outputs": [
        {
          "name": "stdout",
          "output_type": "stream",
          "text": [
            "Vocabulary size: 25004\n"
          ]
        }
      ],
      "source": [
        "\n",
        "\n",
        "# Concatenate all the texts from your dataset\n",
        "all_texts = list(merged_data['processed_sentence'])\n",
        "\n",
        "# Tokenize all the texts to get the vocabulary\n",
        "vocab = tokenizer(all_texts, add_special_tokens=False)\n",
        "\n",
        "# Calculate the vocabulary size\n",
        "vocab_size = len(tokenizer.get_vocab())\n",
        "\n",
        "print(\"Vocabulary size:\", vocab_size)\n"
      ]
    },
    {
      "cell_type": "code",
      "execution_count": null,
      "metadata": {
        "colab": {
          "base_uri": "https://localhost:8080/"
        },
        "id": "gzIXm5eR7E0g",
        "outputId": "fb1f6f92-b269-4865-c092-64516cd371c3"
      },
      "outputs": [
        {
          "name": "stderr",
          "output_type": "stream",
          "text": [
            "Some weights of CamembertForSequenceClassification were not initialized from the model checkpoint at airesearch/wangchanberta-base-att-spm-uncased and are newly initialized: ['classifier.dense.bias', 'classifier.dense.weight', 'classifier.out_proj.bias', 'classifier.out_proj.weight']\n",
            "You should probably TRAIN this model on a down-stream task to be able to use it for predictions and inference.\n",
            "/usr/local/lib/python3.10/dist-packages/transformers/optimization.py:429: FutureWarning: This implementation of AdamW is deprecated and will be removed in a future version. Use the PyTorch implementation torch.optim.AdamW instead, or set `no_deprecation_warning=True` to disable this warning\n",
            "  warnings.warn(\n"
          ]
        }
      ],
      "source": [
        "# Adjust the number of labels according to your dataset\n",
        "num_labels = 2  # binary classification\n",
        "\n",
        "model = AutoModelForSequenceClassification.from_pretrained(model_name, num_labels=num_labels)\n",
        "model.to('cuda' if torch.cuda.is_available() else 'cpu')\n",
        "\n",
        "# Define the optimizer\n",
        "optimizer = AdamW(model.parameters(), lr=5e-5)"
      ]
    },
    {
      "cell_type": "code",
      "execution_count": null,
      "metadata": {
        "id": "NrFVUuKtTRn6"
      },
      "outputs": [],
      "source": [
        "from torch.utils.data import DataLoader\n",
        "from tqdm import tqdm\n",
        "import torch"
      ]
    },
    {
      "cell_type": "code",
      "execution_count": null,
      "metadata": {
        "colab": {
          "base_uri": "https://localhost:8080/"
        },
        "id": "OJeAqGgByq9X",
        "outputId": "ea4cd9bd-1bc2-4890-a822-18ad05159e01"
      },
      "outputs": [
        {
          "name": "stderr",
          "output_type": "stream",
          "text": []
        },
        {
          "name": "stdout",
          "output_type": "stream",
          "text": [
            "\n",
            "Epoch 0\n",
            "Train Loss: 0.4089604923219392\tTrain Accuracy: 0.8015267175572519\tVal Loss: 0.1955590892363997\tVal Accuracy: 0.9427480916030534\n"
          ]
        },
        {
          "name": "stderr",
          "output_type": "stream",
          "text": []
        },
        {
          "name": "stdout",
          "output_type": "stream",
          "text": [
            "\n",
            "Epoch 1\n",
            "Train Loss: 0.15568463998197607\tTrain Accuracy: 0.941793893129771\tVal Loss: 0.14109685315805323\tVal Accuracy: 0.9541984732824428\n"
          ]
        },
        {
          "name": "stderr",
          "output_type": "stream",
          "text": []
        },
        {
          "name": "stdout",
          "output_type": "stream",
          "text": [
            "\n",
            "Epoch 2\n",
            "Train Loss: 0.08801359949266595\tTrain Accuracy: 0.9713740458015268\tVal Loss: 0.09167019502424142\tVal Accuracy: 0.9656488549618321\n"
          ]
        },
        {
          "name": "stderr",
          "output_type": "stream",
          "text": [
            "                                                           "
          ]
        },
        {
          "name": "stdout",
          "output_type": "stream",
          "text": [
            "\n",
            "Epoch 3\n",
            "Train Loss: 0.03888297314882617\tTrain Accuracy: 0.9866412213740458\tVal Loss: 0.0778747368740904\tVal Accuracy: 0.9809160305343512\n"
          ]
        },
        {
          "name": "stderr",
          "output_type": "stream",
          "text": [
            "\r"
          ]
        }
      ],
      "source": [
        "# Initialize empty lists to store training history\n",
        "train_loss_history = []\n",
        "val_loss_history = []\n",
        "train_acc_history = []\n",
        "val_acc_history = []\n",
        "\n",
        "\n",
        "# Training loop\n",
        "epochs = 4\n",
        "for epoch in range(epochs):\n",
        "    model.train()\n",
        "    train_loss = 0\n",
        "    correct = 0\n",
        "    total = 0\n",
        "    progress_bar = tqdm(train_loader, desc=\"Epoch {:1d}\".format(epoch), leave=False, disable=False)\n",
        "    for batch in progress_bar:\n",
        "        optimizer.zero_grad()\n",
        "        batch = {k: v.to('cuda' if torch.cuda.is_available() else 'cpu') for k, v in batch.items()}\n",
        "        outputs = model(**batch)\n",
        "        loss = outputs.loss\n",
        "        loss.backward()\n",
        "        optimizer.step()\n",
        "        train_loss += loss.item()\n",
        "        _, predicted = outputs.logits.max(1)\n",
        "        total += batch['labels'].size(0)\n",
        "        correct += predicted.eq(batch['labels']).sum().item()\n",
        "\n",
        "    train_loss_history.append(train_loss / len(train_loader))\n",
        "    train_acc = correct / total\n",
        "    train_acc_history.append(train_acc)\n",
        "\n",
        "    # Validation loop\n",
        "    model.eval()\n",
        "    val_loss = 0\n",
        "    correct = 0\n",
        "    total = 0\n",
        "    eval_loss = 0\n",
        "    predictions , true_labels = [], []\n",
        "    for batch in tqdm(test_loader, desc=\"Evaluating\", leave=False):\n",
        "      batch = {k: v.to('cuda' if torch.cuda.is_available() else 'cpu') for k, v in batch.items()}\n",
        "      with torch.no_grad():\n",
        "        outputs = model(**batch)\n",
        "        loss = outputs.loss\n",
        "        val_loss += loss.item()\n",
        "        _, predicted = outputs.logits.max(1)\n",
        "        total += batch['labels'].size(0)\n",
        "        correct += predicted.eq(batch['labels']).sum().item()\n",
        "        logits = outputs.logits\n",
        "        eval_loss += outputs.loss.item()\n",
        "        predictions.append(logits.detach().cpu().numpy())\n",
        "        true_labels.append(batch['labels'].detach().cpu().numpy())\n",
        "\n",
        "    val_loss_history.append(val_loss / len(test_loader))\n",
        "    val_acc = correct / total\n",
        "    val_acc_history.append(val_acc)\n",
        "\n",
        "\n",
        "    # Print total loss and accuracy for the epoch using tqdm.write()\n",
        "    tqdm.write(f'\\nEpoch {epoch}\\nTrain Loss: {train_loss_history[-1]}\\tTrain Accuracy: {train_acc}\\tVal Loss: {val_loss_history[-1]}\\tVal Accuracy: {val_acc}')\n",
        "\n",
        "# Store the history in a dictionary\n",
        "history = {\n",
        "    'loss': train_loss_history,\n",
        "    'val_loss': val_loss_history,\n",
        "    'acc': train_acc_history,\n",
        "    'val_acc': val_acc_history\n",
        "}"
      ]
    },
    {
      "cell_type": "markdown",
      "metadata": {
        "id": "rK_tDY4PKwb_"
      },
      "source": [
        "# Model Evaluation"
      ]
    },
    {
      "cell_type": "code",
      "execution_count": null,
      "metadata": {
        "colab": {
          "base_uri": "https://localhost:8080/"
        },
        "id": "0uYmtW257LBz",
        "outputId": "7da4a4f3-5d7c-401c-8c61-70654128b25c"
      },
      "outputs": [
        {
          "name": "stdout",
          "output_type": "stream",
          "text": [
            "Accuracy: 0.9809\n",
            "              precision    recall  f1-score   support\n",
            "\n",
            "     Class 0       0.96      1.00      0.98       127\n",
            "     Class 1       1.00      0.96      0.98       135\n",
            "\n",
            "    accuracy                           0.98       262\n",
            "   macro avg       0.98      0.98      0.98       262\n",
            "weighted avg       0.98      0.98      0.98       262\n",
            "\n"
          ]
        }
      ],
      "source": [
        "# Convert logits to predictions\n",
        "predictions = np.concatenate(predictions, axis=0)\n",
        "# For binary or single-label classification, you might use the argmax to get the predicted class\n",
        "predicted_labels = np.argmax(predictions, axis=1)\n",
        "\n",
        "# Concatenate true labels\n",
        "true_labels = np.concatenate(true_labels, axis=0)\n",
        "\n",
        "# Calculate Accuracy\n",
        "accuracy = accuracy_score(true_labels, predicted_labels)\n",
        "print(f'Accuracy: {accuracy:.4f}')\n",
        "\n",
        "# Classification Report for detailed metrics\n",
        "print(classification_report(true_labels, predicted_labels, target_names=['Class 0', 'Class 1']))"
      ]
    },
    {
      "cell_type": "code",
      "execution_count": null,
      "metadata": {
        "colab": {
          "base_uri": "https://localhost:8080/"
        },
        "id": "l2FdCRBV7NT0",
        "outputId": "30101605-3ac2-449a-cce0-49efd3681eaa"
      },
      "outputs": [
        {
          "name": "stdout",
          "output_type": "stream",
          "text": [
            "F1 Score: 0.9811\n"
          ]
        }
      ],
      "source": [
        "from sklearn.metrics import f1_score\n",
        "#Calculate F1 Score\n",
        "f1 = f1_score(true_labels, predicted_labels, average='binary')  # Use 'micro', 'macro', or 'weighted' for multi-class\n",
        "print(f'F1 Score: {f1:.4f}')"
      ]
    },
    {
      "cell_type": "code",
      "execution_count": null,
      "metadata": {
        "colab": {
          "base_uri": "https://localhost:8080/"
        },
        "id": "50c3eeEU1GgF",
        "outputId": "aa8ae952-c1fc-42ac-b327-ae5dea81323d"
      },
      "outputs": [
        {
          "name": "stdout",
          "output_type": "stream",
          "text": [
            "Overall Training Loss: 0.17288542623635184\n",
            "Overall Validation Loss: 0.1265502185731962\n"
          ]
        }
      ],
      "source": [
        "# Calculate the overall (average) training and validation loss\n",
        "overall_train_loss = sum(train_loss_history) / len(train_loss_history)\n",
        "overall_val_loss = sum(val_loss_history) / len(val_loss_history)\n",
        "\n",
        "# Print the overall loss\n",
        "print(f'Overall Training Loss: {overall_train_loss}')\n",
        "print(f'Overall Validation Loss: {overall_val_loss}')"
      ]
    },
    {
      "cell_type": "code",
      "execution_count": null,
      "metadata": {
        "id": "rZBK-w85ShEL"
      },
      "outputs": [],
      "source": [
        "import torch\n",
        "\n",
        "# บันทึกโมเดล\n",
        "torch.save(model.state_dict(), \"Wangchan_model4.pth\")"
      ]
    },
    {
      "cell_type": "markdown",
      "metadata": {
        "id": "nujHsdcKSTHv"
      },
      "source": [
        "# Model Inference"
      ]
    },
    {
      "cell_type": "markdown",
      "metadata": {
        "id": "kZktDgrTDssT"
      },
      "source": [
        "หลังจากที่โมเดลได้รับการสอน (Train) และประเมินประสิทธิภาพในการทำนายแล้ว ขั้นตอนถัดไปคือการนำโมเดลมาใช้งานจริงกับข้อมูลใหม่ เรียกว่า \"Model Inference\" หรือ \"การใช้โมเดลในการทำนาย\" โดยที่โมเดลจะทำนายผลลัพธ์ของข้อมูลใหม่ที่ไม่เคยเห็นมาก่อน โดยชุดข้อมูลที่ใช้ในการทดสอบ จะมี 10 ข้อความ  คือ ข้อความ SMS หลอกลวง 5 ข้อความ  และข้อความ SMS ทั่วไป 5 ข้อความ"
      ]
    },
    {
      "cell_type": "code",
      "execution_count": null,
      "metadata": {
        "id": "lSpAoL5CUUxo"
      },
      "outputs": [],
      "source": [
        "import csv\n",
        "\n",
        "# Function to read text file, drop duplicates, and convert to CSV\n",
        "def txt_to_csv(input_file, output_file):\n",
        "    with open(input_file, 'r') as txtfile:\n",
        "        lines = txtfile.readlines()\n",
        "\n",
        "    # Remove duplicates\n",
        "    lines = list(set(lines))\n",
        "\n",
        "    # Label the first 5 lines as 0 and the rest as 1\n",
        "    labeled_data = []\n",
        "    for i, line in enumerate(lines):\n",
        "        if i < 5:\n",
        "            labeled_data.append((line.strip(), 0))\n",
        "        else:\n",
        "            labeled_data.append((line.strip(), 1))\n",
        "\n",
        "    # Write data to CSV\n",
        "    with open(output_file, 'a', newline='') as csvfile:\n",
        "        writer = csv.writer(csvfile)\n",
        "        # Check if the file is empty to add header\n",
        "        if csvfile.tell() == 0:\n",
        "            writer.writerow(['text', 'label'])  # Header\n",
        "        writer.writerows(labeled_data)\n",
        "\n",
        "# Paths to your text files\n",
        "test_txt_file = 'exported_test_data.txt'\n",
        "\n",
        "# Path to output merged CSV file\n",
        "test_csv_file = 'exported_test_data.csv'\n",
        "\n",
        "# Convert text file to CSV\n",
        "txt_to_csv(test_txt_file, test_csv_file)"
      ]
    },
    {
      "cell_type": "code",
      "execution_count": null,
      "metadata": {
        "id": "WqYmFfZZUUxo"
      },
      "outputs": [],
      "source": [
        "# Load merged data\n",
        "test_data_path = \"exported_test_data.csv\"  # Update with your test data file path\n",
        "test_data = pd.read_csv(test_data_path)"
      ]
    },
    {
      "cell_type": "code",
      "execution_count": null,
      "metadata": {
        "colab": {
          "base_uri": "https://localhost:8080/"
        },
        "id": "tdioKARKUUxp",
        "outputId": "fbca9c72-d9c5-4e79-aeb2-efae5d922da1"
      },
      "outputs": [
        {
          "name": "stdout",
          "output_type": "stream",
          "text": [
            "Shuffled DataFrame:\n",
            "                                                text  label\n",
            "8  ﻿รับ,รวม,สูงสุด,เมื่อ,ช้อป,แบรนด์,ดัง,ระดับโลก...      1\n",
            "1  สินค้า,ซ่อม,เสร็จ,แล้ว,สามารถ,ติดต่อ,รับ,สินค้...      0\n",
            "5             คุณ,ได้รับ,สิทธิ์,ยื่น,สินเชื่อ,ติดต่อ      1\n",
            "0  รบกวน,ติดต่อ,ฝ่าย,บริการ,เพื่อ,ยืนยัน,รับ,ของ,...      0\n",
            "7  ช้อป,ออนไลน์,ใช้,คูปอง,ลด,เพิ่ม,แล้ว,รับ,เพิ่ม...      1\n",
            "2  พิเศษ,เฉพาะ,ลูกค้า,ใหม่,รับ,คูปอง,ส่วนลด,สั่ง,...      0\n",
            "9  ขออภัย,พัสดุ,ของ,ท่าน,จัดส่ง,ไม่,สำเร็จ,กรุณา,...      1\n",
            "4             เส้นทาง,มา,จอง,สมาชิก,ใหม่,ฝาก,แร,กรับ      0\n",
            "3  รับ,ส่วนลด,บาท,เมื่อ,ช้อป,แบรนด์,เสื้อ,ดอกไม้,...      0\n",
            "6  รับ,ฟรี,ปรับ,แตก,คืน,ยอด,เสีย,ทุกวัน,ไม่,อั้น,ถอน      1\n"
          ]
        }
      ],
      "source": [
        "test_data = test_data.sample(frac=1, random_state=42)  # Shuffle the DataFrame\n",
        "\n",
        "# Print the shuffled DataFrame\n",
        "print(\"Shuffled DataFrame:\")\n",
        "print(test_data)"
      ]
    },
    {
      "cell_type": "code",
      "execution_count": null,
      "metadata": {
        "id": "olZiq6u5UUxp"
      },
      "outputs": [],
      "source": [
        "test_data[\"text2\"] = test_data[\"text\"].replace(',', ' ', regex=True)\n",
        "test_data[\"tokens\"] = test_data[\"text2\"].apply(lambda text: word_tokenize(text, keep_whitespace=True))\n",
        "test_data[\"processed_sentence\"] = test_data[\"tokens\"].apply(lambda tokens: \" \".join(tokens))"
      ]
    },
    {
      "cell_type": "code",
      "execution_count": null,
      "metadata": {
        "colab": {
          "base_uri": "https://localhost:8080/",
          "height": 536
        },
        "id": "Myj7r4IWUUxq",
        "outputId": "0fe3c4e8-d8aa-4744-f598-c78340c30478"
      },
      "outputs": [
        {
          "data": {
            "application/vnd.google.colaboratory.intrinsic+json": {
              "summary": "{\n  \"name\": \"test_data\",\n  \"rows\": 10,\n  \"fields\": [\n    {\n      \"column\": \"text\",\n      \"properties\": {\n        \"dtype\": \"string\",\n        \"num_unique_values\": 10,\n        \"samples\": [\n          \"\\u0e23\\u0e31\\u0e1a,\\u0e2a\\u0e48\\u0e27\\u0e19\\u0e25\\u0e14,\\u0e1a\\u0e32\\u0e17,\\u0e40\\u0e21\\u0e37\\u0e48\\u0e2d,\\u0e0a\\u0e49\\u0e2d\\u0e1b,\\u0e41\\u0e1a\\u0e23\\u0e19\\u0e14\\u0e4c,\\u0e40\\u0e2a\\u0e37\\u0e49\\u0e2d,\\u0e14\\u0e2d\\u0e01\\u0e44\\u0e21\\u0e49,\\u0e2a\\u0e38\\u0e14,\\u0e2e\\u0e34\\u0e15,\\u0e08\\u0e32\\u0e01,\\u0e40\\u0e01\\u0e32\\u0e2b\\u0e25\\u0e35,\\u0e40\\u0e01\\u0e47\\u0e1a,\\u0e04\\u0e39\\u0e1b\\u0e2d\\u0e07,\\u0e2a\\u0e48\\u0e27\\u0e19\\u0e25\\u0e14,\\u0e40\\u0e25\\u0e22,\\u0e04\\u0e25\\u0e34\\u0e01\",\n          \"\\u0e2a\\u0e34\\u0e19\\u0e04\\u0e49\\u0e32,\\u0e0b\\u0e48\\u0e2d\\u0e21,\\u0e40\\u0e2a\\u0e23\\u0e47\\u0e08,\\u0e41\\u0e25\\u0e49\\u0e27,\\u0e2a\\u0e32\\u0e21\\u0e32\\u0e23\\u0e16,\\u0e15\\u0e34\\u0e14\\u0e15\\u0e48\\u0e2d,\\u0e23\\u0e31\\u0e1a,\\u0e2a\\u0e34\\u0e19\\u0e04\\u0e49\\u0e32,\\u0e04\\u0e37\\u0e19,\\u0e44\\u0e14\\u0e49\\u0e17\\u0e35\\u0e48,\\u0e28\\u0e39\\u0e19\\u0e22\\u0e4c,\\u0e1a\\u0e23\\u0e34\\u0e01\\u0e32\\u0e23\",\n          \"\\u0e1e\\u0e34\\u0e40\\u0e28\\u0e29,\\u0e40\\u0e09\\u0e1e\\u0e32\\u0e30,\\u0e25\\u0e39\\u0e01\\u0e04\\u0e49\\u0e32,\\u0e43\\u0e2b\\u0e21\\u0e48,\\u0e23\\u0e31\\u0e1a,\\u0e04\\u0e39\\u0e1b\\u0e2d\\u0e07,\\u0e2a\\u0e48\\u0e27\\u0e19\\u0e25\\u0e14,\\u0e2a\\u0e31\\u0e48\\u0e07,\\u0e1e\\u0e34\\u0e0b\\u0e0b\\u0e48\\u0e32,\\u0e2b\\u0e19\\u0e49\\u0e32,\\u0e42\\u0e1b\\u0e23\\u0e14,\\u0e1f\\u0e23\\u0e35,\\u0e17\\u0e35\\u0e48,\\u0e41\\u0e2d,\\u0e1b\"\n        ],\n        \"semantic_type\": \"\",\n        \"description\": \"\"\n      }\n    },\n    {\n      \"column\": \"label\",\n      \"properties\": {\n        \"dtype\": \"number\",\n        \"std\": 0,\n        \"min\": 0,\n        \"max\": 1,\n        \"num_unique_values\": 2,\n        \"samples\": [\n          0,\n          1\n        ],\n        \"semantic_type\": \"\",\n        \"description\": \"\"\n      }\n    },\n    {\n      \"column\": \"text2\",\n      \"properties\": {\n        \"dtype\": \"string\",\n        \"num_unique_values\": 10,\n        \"samples\": [\n          \"\\u0e23\\u0e31\\u0e1a \\u0e2a\\u0e48\\u0e27\\u0e19\\u0e25\\u0e14 \\u0e1a\\u0e32\\u0e17 \\u0e40\\u0e21\\u0e37\\u0e48\\u0e2d \\u0e0a\\u0e49\\u0e2d\\u0e1b \\u0e41\\u0e1a\\u0e23\\u0e19\\u0e14\\u0e4c \\u0e40\\u0e2a\\u0e37\\u0e49\\u0e2d \\u0e14\\u0e2d\\u0e01\\u0e44\\u0e21\\u0e49 \\u0e2a\\u0e38\\u0e14 \\u0e2e\\u0e34\\u0e15 \\u0e08\\u0e32\\u0e01 \\u0e40\\u0e01\\u0e32\\u0e2b\\u0e25\\u0e35 \\u0e40\\u0e01\\u0e47\\u0e1a \\u0e04\\u0e39\\u0e1b\\u0e2d\\u0e07 \\u0e2a\\u0e48\\u0e27\\u0e19\\u0e25\\u0e14 \\u0e40\\u0e25\\u0e22 \\u0e04\\u0e25\\u0e34\\u0e01\",\n          \"\\u0e2a\\u0e34\\u0e19\\u0e04\\u0e49\\u0e32 \\u0e0b\\u0e48\\u0e2d\\u0e21 \\u0e40\\u0e2a\\u0e23\\u0e47\\u0e08 \\u0e41\\u0e25\\u0e49\\u0e27 \\u0e2a\\u0e32\\u0e21\\u0e32\\u0e23\\u0e16 \\u0e15\\u0e34\\u0e14\\u0e15\\u0e48\\u0e2d \\u0e23\\u0e31\\u0e1a \\u0e2a\\u0e34\\u0e19\\u0e04\\u0e49\\u0e32 \\u0e04\\u0e37\\u0e19 \\u0e44\\u0e14\\u0e49\\u0e17\\u0e35\\u0e48 \\u0e28\\u0e39\\u0e19\\u0e22\\u0e4c \\u0e1a\\u0e23\\u0e34\\u0e01\\u0e32\\u0e23\"\n        ],\n        \"semantic_type\": \"\",\n        \"description\": \"\"\n      }\n    },\n    {\n      \"column\": \"tokens\",\n      \"properties\": {\n        \"dtype\": \"object\",\n        \"semantic_type\": \"\",\n        \"description\": \"\"\n      }\n    },\n    {\n      \"column\": \"processed_sentence\",\n      \"properties\": {\n        \"dtype\": \"string\",\n        \"num_unique_values\": 10,\n        \"samples\": [\n          \"\\u0e23\\u0e31\\u0e1a   \\u0e2a\\u0e48\\u0e27\\u0e19\\u0e25\\u0e14   \\u0e1a\\u0e32\\u0e17   \\u0e40\\u0e21\\u0e37\\u0e48\\u0e2d   \\u0e0a\\u0e49\\u0e2d\\u0e1b   \\u0e41\\u0e1a\\u0e23\\u0e19\\u0e14\\u0e4c   \\u0e40\\u0e2a\\u0e37\\u0e49\\u0e2d   \\u0e14\\u0e2d\\u0e01\\u0e44\\u0e21\\u0e49   \\u0e2a\\u0e38\\u0e14   \\u0e2e\\u0e34\\u0e15   \\u0e08\\u0e32\\u0e01   \\u0e40\\u0e01\\u0e32\\u0e2b\\u0e25\\u0e35   \\u0e40\\u0e01\\u0e47\\u0e1a   \\u0e04\\u0e39\\u0e1b\\u0e2d\\u0e07   \\u0e2a\\u0e48\\u0e27\\u0e19\\u0e25\\u0e14   \\u0e40\\u0e25\\u0e22   \\u0e04\\u0e25\\u0e34\\u0e01\",\n          \"\\u0e2a\\u0e34\\u0e19\\u0e04\\u0e49\\u0e32   \\u0e0b\\u0e48\\u0e2d\\u0e21   \\u0e40\\u0e2a\\u0e23\\u0e47\\u0e08   \\u0e41\\u0e25\\u0e49\\u0e27   \\u0e2a\\u0e32\\u0e21\\u0e32\\u0e23\\u0e16   \\u0e15\\u0e34\\u0e14\\u0e15\\u0e48\\u0e2d   \\u0e23\\u0e31\\u0e1a   \\u0e2a\\u0e34\\u0e19\\u0e04\\u0e49\\u0e32   \\u0e04\\u0e37\\u0e19   \\u0e44\\u0e14\\u0e49\\u0e17\\u0e35\\u0e48   \\u0e28\\u0e39\\u0e19\\u0e22\\u0e4c   \\u0e1a\\u0e23\\u0e34\\u0e01\\u0e32\\u0e23\"\n        ],\n        \"semantic_type\": \"\",\n        \"description\": \"\"\n      }\n    }\n  ]\n}",
              "type": "dataframe",
              "variable_name": "test_data"
            },
            "text/html": [
              "\n",
              "  <div id=\"df-16edcb63-059d-4b7b-bdb3-7fa8ca53c9d7\" class=\"colab-df-container\">\n",
              "    <div>\n",
              "<style scoped>\n",
              "    .dataframe tbody tr th:only-of-type {\n",
              "        vertical-align: middle;\n",
              "    }\n",
              "\n",
              "    .dataframe tbody tr th {\n",
              "        vertical-align: top;\n",
              "    }\n",
              "\n",
              "    .dataframe thead th {\n",
              "        text-align: right;\n",
              "    }\n",
              "</style>\n",
              "<table border=\"1\" class=\"dataframe\">\n",
              "  <thead>\n",
              "    <tr style=\"text-align: right;\">\n",
              "      <th></th>\n",
              "      <th>text</th>\n",
              "      <th>label</th>\n",
              "      <th>text2</th>\n",
              "      <th>tokens</th>\n",
              "      <th>processed_sentence</th>\n",
              "    </tr>\n",
              "  </thead>\n",
              "  <tbody>\n",
              "    <tr>\n",
              "      <th>8</th>\n",
              "      <td>﻿รับ,รวม,สูงสุด,เมื่อ,ช้อป,แบรนด์,ดัง,ระดับโลก...</td>\n",
              "      <td>1</td>\n",
              "      <td>﻿รับ รวม สูงสุด เมื่อ ช้อป แบรนด์ ดัง ระดับโลก...</td>\n",
              "      <td>[﻿, รับ,  , รวม,  , สูงสุด,  , เมื่อ,  , ช้อป,...</td>\n",
              "      <td>﻿ รับ   รวม   สูงสุด   เมื่อ   ช้อป   แบรนด์  ...</td>\n",
              "    </tr>\n",
              "    <tr>\n",
              "      <th>1</th>\n",
              "      <td>สินค้า,ซ่อม,เสร็จ,แล้ว,สามารถ,ติดต่อ,รับ,สินค้...</td>\n",
              "      <td>0</td>\n",
              "      <td>สินค้า ซ่อม เสร็จ แล้ว สามารถ ติดต่อ รับ สินค้...</td>\n",
              "      <td>[สินค้า,  , ซ่อม,  , เสร็จ,  , แล้ว,  , สามารถ...</td>\n",
              "      <td>สินค้า   ซ่อม   เสร็จ   แล้ว   สามารถ   ติดต่อ...</td>\n",
              "    </tr>\n",
              "    <tr>\n",
              "      <th>5</th>\n",
              "      <td>คุณ,ได้รับ,สิทธิ์,ยื่น,สินเชื่อ,ติดต่อ</td>\n",
              "      <td>1</td>\n",
              "      <td>คุณ ได้รับ สิทธิ์ ยื่น สินเชื่อ ติดต่อ</td>\n",
              "      <td>[คุณ,  , ได้รับ,  , สิทธิ์,  , ยื่น,  , สินเชื...</td>\n",
              "      <td>คุณ   ได้รับ   สิทธิ์   ยื่น   สินเชื่อ   ติดต่อ</td>\n",
              "    </tr>\n",
              "    <tr>\n",
              "      <th>0</th>\n",
              "      <td>รบกวน,ติดต่อ,ฝ่าย,บริการ,เพื่อ,ยืนยัน,รับ,ของ,...</td>\n",
              "      <td>0</td>\n",
              "      <td>รบกวน ติดต่อ ฝ่าย บริการ เพื่อ ยืนยัน รับ ของ ...</td>\n",
              "      <td>[รบกวน,  , ติดต่อ,  , ฝ่าย,  , บริการ,  , เพื่...</td>\n",
              "      <td>รบกวน   ติดต่อ   ฝ่าย   บริการ   เพื่อ   ยืนยั...</td>\n",
              "    </tr>\n",
              "    <tr>\n",
              "      <th>7</th>\n",
              "      <td>ช้อป,ออนไลน์,ใช้,คูปอง,ลด,เพิ่ม,แล้ว,รับ,เพิ่ม...</td>\n",
              "      <td>1</td>\n",
              "      <td>ช้อป ออนไลน์ ใช้ คูปอง ลด เพิ่ม แล้ว รับ เพิ่ม...</td>\n",
              "      <td>[ช้อป,  , ออนไลน์,  , ใช้,  , คูปอง,  , ลด,  ,...</td>\n",
              "      <td>ช้อป   ออนไลน์   ใช้   คูปอง   ลด   เพิ่ม   แล...</td>\n",
              "    </tr>\n",
              "    <tr>\n",
              "      <th>2</th>\n",
              "      <td>พิเศษ,เฉพาะ,ลูกค้า,ใหม่,รับ,คูปอง,ส่วนลด,สั่ง,...</td>\n",
              "      <td>0</td>\n",
              "      <td>พิเศษ เฉพาะ ลูกค้า ใหม่ รับ คูปอง ส่วนลด สั่ง ...</td>\n",
              "      <td>[พิเศษ,  , เฉพาะ,  , ลูกค้า,  , ใหม่,  , รับ, ...</td>\n",
              "      <td>พิเศษ   เฉพาะ   ลูกค้า   ใหม่   รับ   คูปอง   ...</td>\n",
              "    </tr>\n",
              "    <tr>\n",
              "      <th>9</th>\n",
              "      <td>ขออภัย,พัสดุ,ของ,ท่าน,จัดส่ง,ไม่,สำเร็จ,กรุณา,...</td>\n",
              "      <td>1</td>\n",
              "      <td>ขออภัย พัสดุ ของ ท่าน จัดส่ง ไม่ สำเร็จ กรุณา ...</td>\n",
              "      <td>[ขออภัย,  , พัสดุ,  , ของ,  , ท่าน,  , จัดส่ง,...</td>\n",
              "      <td>ขออภัย   พัสดุ   ของ   ท่าน   จัดส่ง   ไม่   ส...</td>\n",
              "    </tr>\n",
              "    <tr>\n",
              "      <th>4</th>\n",
              "      <td>เส้นทาง,มา,จอง,สมาชิก,ใหม่,ฝาก,แร,กรับ</td>\n",
              "      <td>0</td>\n",
              "      <td>เส้นทาง มา จอง สมาชิก ใหม่ ฝาก แร กรับ</td>\n",
              "      <td>[เส้นทาง,  , มา,  , จอง,  , สมาชิก,  , ใหม่,  ...</td>\n",
              "      <td>เส้นทาง   มา   จอง   สมาชิก   ใหม่   ฝาก   แร ...</td>\n",
              "    </tr>\n",
              "    <tr>\n",
              "      <th>3</th>\n",
              "      <td>รับ,ส่วนลด,บาท,เมื่อ,ช้อป,แบรนด์,เสื้อ,ดอกไม้,...</td>\n",
              "      <td>0</td>\n",
              "      <td>รับ ส่วนลด บาท เมื่อ ช้อป แบรนด์ เสื้อ ดอกไม้ ...</td>\n",
              "      <td>[รับ,  , ส่วนลด,  , บาท,  , เมื่อ,  , ช้อป,  ,...</td>\n",
              "      <td>รับ   ส่วนลด   บาท   เมื่อ   ช้อป   แบรนด์   เ...</td>\n",
              "    </tr>\n",
              "    <tr>\n",
              "      <th>6</th>\n",
              "      <td>รับ,ฟรี,ปรับ,แตก,คืน,ยอด,เสีย,ทุกวัน,ไม่,อั้น,ถอน</td>\n",
              "      <td>1</td>\n",
              "      <td>รับ ฟรี ปรับ แตก คืน ยอด เสีย ทุกวัน ไม่ อั้น ถอน</td>\n",
              "      <td>[รับ,  , ฟรี,  , ปรับ,  , แตก,  , คืน,  , ยอด,...</td>\n",
              "      <td>รับ   ฟรี   ปรับ   แตก   คืน   ยอด   เสีย   ทุ...</td>\n",
              "    </tr>\n",
              "  </tbody>\n",
              "</table>\n",
              "</div>\n",
              "    <div class=\"colab-df-buttons\">\n",
              "\n",
              "  <div class=\"colab-df-container\">\n",
              "    <button class=\"colab-df-convert\" onclick=\"convertToInteractive('df-16edcb63-059d-4b7b-bdb3-7fa8ca53c9d7')\"\n",
              "            title=\"Convert this dataframe to an interactive table.\"\n",
              "            style=\"display:none;\">\n",
              "\n",
              "  <svg xmlns=\"http://www.w3.org/2000/svg\" height=\"24px\" viewBox=\"0 -960 960 960\">\n",
              "    <path d=\"M120-120v-720h720v720H120Zm60-500h600v-160H180v160Zm220 220h160v-160H400v160Zm0 220h160v-160H400v160ZM180-400h160v-160H180v160Zm440 0h160v-160H620v160ZM180-180h160v-160H180v160Zm440 0h160v-160H620v160Z\"/>\n",
              "  </svg>\n",
              "    </button>\n",
              "\n",
              "  <style>\n",
              "    .colab-df-container {\n",
              "      display:flex;\n",
              "      gap: 12px;\n",
              "    }\n",
              "\n",
              "    .colab-df-convert {\n",
              "      background-color: #E8F0FE;\n",
              "      border: none;\n",
              "      border-radius: 50%;\n",
              "      cursor: pointer;\n",
              "      display: none;\n",
              "      fill: #1967D2;\n",
              "      height: 32px;\n",
              "      padding: 0 0 0 0;\n",
              "      width: 32px;\n",
              "    }\n",
              "\n",
              "    .colab-df-convert:hover {\n",
              "      background-color: #E2EBFA;\n",
              "      box-shadow: 0px 1px 2px rgba(60, 64, 67, 0.3), 0px 1px 3px 1px rgba(60, 64, 67, 0.15);\n",
              "      fill: #174EA6;\n",
              "    }\n",
              "\n",
              "    .colab-df-buttons div {\n",
              "      margin-bottom: 4px;\n",
              "    }\n",
              "\n",
              "    [theme=dark] .colab-df-convert {\n",
              "      background-color: #3B4455;\n",
              "      fill: #D2E3FC;\n",
              "    }\n",
              "\n",
              "    [theme=dark] .colab-df-convert:hover {\n",
              "      background-color: #434B5C;\n",
              "      box-shadow: 0px 1px 3px 1px rgba(0, 0, 0, 0.15);\n",
              "      filter: drop-shadow(0px 1px 2px rgba(0, 0, 0, 0.3));\n",
              "      fill: #FFFFFF;\n",
              "    }\n",
              "  </style>\n",
              "\n",
              "    <script>\n",
              "      const buttonEl =\n",
              "        document.querySelector('#df-16edcb63-059d-4b7b-bdb3-7fa8ca53c9d7 button.colab-df-convert');\n",
              "      buttonEl.style.display =\n",
              "        google.colab.kernel.accessAllowed ? 'block' : 'none';\n",
              "\n",
              "      async function convertToInteractive(key) {\n",
              "        const element = document.querySelector('#df-16edcb63-059d-4b7b-bdb3-7fa8ca53c9d7');\n",
              "        const dataTable =\n",
              "          await google.colab.kernel.invokeFunction('convertToInteractive',\n",
              "                                                    [key], {});\n",
              "        if (!dataTable) return;\n",
              "\n",
              "        const docLinkHtml = 'Like what you see? Visit the ' +\n",
              "          '<a target=\"_blank\" href=https://colab.research.google.com/notebooks/data_table.ipynb>data table notebook</a>'\n",
              "          + ' to learn more about interactive tables.';\n",
              "        element.innerHTML = '';\n",
              "        dataTable['output_type'] = 'display_data';\n",
              "        await google.colab.output.renderOutput(dataTable, element);\n",
              "        const docLink = document.createElement('div');\n",
              "        docLink.innerHTML = docLinkHtml;\n",
              "        element.appendChild(docLink);\n",
              "      }\n",
              "    </script>\n",
              "  </div>\n",
              "\n",
              "\n",
              "<div id=\"df-df7c630e-d205-481d-bdd7-896b89295562\">\n",
              "  <button class=\"colab-df-quickchart\" onclick=\"quickchart('df-df7c630e-d205-481d-bdd7-896b89295562')\"\n",
              "            title=\"Suggest charts\"\n",
              "            style=\"display:none;\">\n",
              "\n",
              "<svg xmlns=\"http://www.w3.org/2000/svg\" height=\"24px\"viewBox=\"0 0 24 24\"\n",
              "     width=\"24px\">\n",
              "    <g>\n",
              "        <path d=\"M19 3H5c-1.1 0-2 .9-2 2v14c0 1.1.9 2 2 2h14c1.1 0 2-.9 2-2V5c0-1.1-.9-2-2-2zM9 17H7v-7h2v7zm4 0h-2V7h2v10zm4 0h-2v-4h2v4z\"/>\n",
              "    </g>\n",
              "</svg>\n",
              "  </button>\n",
              "\n",
              "<style>\n",
              "  .colab-df-quickchart {\n",
              "      --bg-color: #E8F0FE;\n",
              "      --fill-color: #1967D2;\n",
              "      --hover-bg-color: #E2EBFA;\n",
              "      --hover-fill-color: #174EA6;\n",
              "      --disabled-fill-color: #AAA;\n",
              "      --disabled-bg-color: #DDD;\n",
              "  }\n",
              "\n",
              "  [theme=dark] .colab-df-quickchart {\n",
              "      --bg-color: #3B4455;\n",
              "      --fill-color: #D2E3FC;\n",
              "      --hover-bg-color: #434B5C;\n",
              "      --hover-fill-color: #FFFFFF;\n",
              "      --disabled-bg-color: #3B4455;\n",
              "      --disabled-fill-color: #666;\n",
              "  }\n",
              "\n",
              "  .colab-df-quickchart {\n",
              "    background-color: var(--bg-color);\n",
              "    border: none;\n",
              "    border-radius: 50%;\n",
              "    cursor: pointer;\n",
              "    display: none;\n",
              "    fill: var(--fill-color);\n",
              "    height: 32px;\n",
              "    padding: 0;\n",
              "    width: 32px;\n",
              "  }\n",
              "\n",
              "  .colab-df-quickchart:hover {\n",
              "    background-color: var(--hover-bg-color);\n",
              "    box-shadow: 0 1px 2px rgba(60, 64, 67, 0.3), 0 1px 3px 1px rgba(60, 64, 67, 0.15);\n",
              "    fill: var(--button-hover-fill-color);\n",
              "  }\n",
              "\n",
              "  .colab-df-quickchart-complete:disabled,\n",
              "  .colab-df-quickchart-complete:disabled:hover {\n",
              "    background-color: var(--disabled-bg-color);\n",
              "    fill: var(--disabled-fill-color);\n",
              "    box-shadow: none;\n",
              "  }\n",
              "\n",
              "  .colab-df-spinner {\n",
              "    border: 2px solid var(--fill-color);\n",
              "    border-color: transparent;\n",
              "    border-bottom-color: var(--fill-color);\n",
              "    animation:\n",
              "      spin 1s steps(1) infinite;\n",
              "  }\n",
              "\n",
              "  @keyframes spin {\n",
              "    0% {\n",
              "      border-color: transparent;\n",
              "      border-bottom-color: var(--fill-color);\n",
              "      border-left-color: var(--fill-color);\n",
              "    }\n",
              "    20% {\n",
              "      border-color: transparent;\n",
              "      border-left-color: var(--fill-color);\n",
              "      border-top-color: var(--fill-color);\n",
              "    }\n",
              "    30% {\n",
              "      border-color: transparent;\n",
              "      border-left-color: var(--fill-color);\n",
              "      border-top-color: var(--fill-color);\n",
              "      border-right-color: var(--fill-color);\n",
              "    }\n",
              "    40% {\n",
              "      border-color: transparent;\n",
              "      border-right-color: var(--fill-color);\n",
              "      border-top-color: var(--fill-color);\n",
              "    }\n",
              "    60% {\n",
              "      border-color: transparent;\n",
              "      border-right-color: var(--fill-color);\n",
              "    }\n",
              "    80% {\n",
              "      border-color: transparent;\n",
              "      border-right-color: var(--fill-color);\n",
              "      border-bottom-color: var(--fill-color);\n",
              "    }\n",
              "    90% {\n",
              "      border-color: transparent;\n",
              "      border-bottom-color: var(--fill-color);\n",
              "    }\n",
              "  }\n",
              "</style>\n",
              "\n",
              "  <script>\n",
              "    async function quickchart(key) {\n",
              "      const quickchartButtonEl =\n",
              "        document.querySelector('#' + key + ' button');\n",
              "      quickchartButtonEl.disabled = true;  // To prevent multiple clicks.\n",
              "      quickchartButtonEl.classList.add('colab-df-spinner');\n",
              "      try {\n",
              "        const charts = await google.colab.kernel.invokeFunction(\n",
              "            'suggestCharts', [key], {});\n",
              "      } catch (error) {\n",
              "        console.error('Error during call to suggestCharts:', error);\n",
              "      }\n",
              "      quickchartButtonEl.classList.remove('colab-df-spinner');\n",
              "      quickchartButtonEl.classList.add('colab-df-quickchart-complete');\n",
              "    }\n",
              "    (() => {\n",
              "      let quickchartButtonEl =\n",
              "        document.querySelector('#df-df7c630e-d205-481d-bdd7-896b89295562 button');\n",
              "      quickchartButtonEl.style.display =\n",
              "        google.colab.kernel.accessAllowed ? 'block' : 'none';\n",
              "    })();\n",
              "  </script>\n",
              "</div>\n",
              "    </div>\n",
              "  </div>\n"
            ],
            "text/plain": [
              "                                                text  label  \\\n",
              "8  ﻿รับ,รวม,สูงสุด,เมื่อ,ช้อป,แบรนด์,ดัง,ระดับโลก...      1   \n",
              "1  สินค้า,ซ่อม,เสร็จ,แล้ว,สามารถ,ติดต่อ,รับ,สินค้...      0   \n",
              "5             คุณ,ได้รับ,สิทธิ์,ยื่น,สินเชื่อ,ติดต่อ      1   \n",
              "0  รบกวน,ติดต่อ,ฝ่าย,บริการ,เพื่อ,ยืนยัน,รับ,ของ,...      0   \n",
              "7  ช้อป,ออนไลน์,ใช้,คูปอง,ลด,เพิ่ม,แล้ว,รับ,เพิ่ม...      1   \n",
              "2  พิเศษ,เฉพาะ,ลูกค้า,ใหม่,รับ,คูปอง,ส่วนลด,สั่ง,...      0   \n",
              "9  ขออภัย,พัสดุ,ของ,ท่าน,จัดส่ง,ไม่,สำเร็จ,กรุณา,...      1   \n",
              "4             เส้นทาง,มา,จอง,สมาชิก,ใหม่,ฝาก,แร,กรับ      0   \n",
              "3  รับ,ส่วนลด,บาท,เมื่อ,ช้อป,แบรนด์,เสื้อ,ดอกไม้,...      0   \n",
              "6  รับ,ฟรี,ปรับ,แตก,คืน,ยอด,เสีย,ทุกวัน,ไม่,อั้น,ถอน      1   \n",
              "\n",
              "                                               text2  \\\n",
              "8  ﻿รับ รวม สูงสุด เมื่อ ช้อป แบรนด์ ดัง ระดับโลก...   \n",
              "1  สินค้า ซ่อม เสร็จ แล้ว สามารถ ติดต่อ รับ สินค้...   \n",
              "5             คุณ ได้รับ สิทธิ์ ยื่น สินเชื่อ ติดต่อ   \n",
              "0  รบกวน ติดต่อ ฝ่าย บริการ เพื่อ ยืนยัน รับ ของ ...   \n",
              "7  ช้อป ออนไลน์ ใช้ คูปอง ลด เพิ่ม แล้ว รับ เพิ่ม...   \n",
              "2  พิเศษ เฉพาะ ลูกค้า ใหม่ รับ คูปอง ส่วนลด สั่ง ...   \n",
              "9  ขออภัย พัสดุ ของ ท่าน จัดส่ง ไม่ สำเร็จ กรุณา ...   \n",
              "4             เส้นทาง มา จอง สมาชิก ใหม่ ฝาก แร กรับ   \n",
              "3  รับ ส่วนลด บาท เมื่อ ช้อป แบรนด์ เสื้อ ดอกไม้ ...   \n",
              "6  รับ ฟรี ปรับ แตก คืน ยอด เสีย ทุกวัน ไม่ อั้น ถอน   \n",
              "\n",
              "                                              tokens  \\\n",
              "8  [﻿, รับ,  , รวม,  , สูงสุด,  , เมื่อ,  , ช้อป,...   \n",
              "1  [สินค้า,  , ซ่อม,  , เสร็จ,  , แล้ว,  , สามารถ...   \n",
              "5  [คุณ,  , ได้รับ,  , สิทธิ์,  , ยื่น,  , สินเชื...   \n",
              "0  [รบกวน,  , ติดต่อ,  , ฝ่าย,  , บริการ,  , เพื่...   \n",
              "7  [ช้อป,  , ออนไลน์,  , ใช้,  , คูปอง,  , ลด,  ,...   \n",
              "2  [พิเศษ,  , เฉพาะ,  , ลูกค้า,  , ใหม่,  , รับ, ...   \n",
              "9  [ขออภัย,  , พัสดุ,  , ของ,  , ท่าน,  , จัดส่ง,...   \n",
              "4  [เส้นทาง,  , มา,  , จอง,  , สมาชิก,  , ใหม่,  ...   \n",
              "3  [รับ,  , ส่วนลด,  , บาท,  , เมื่อ,  , ช้อป,  ,...   \n",
              "6  [รับ,  , ฟรี,  , ปรับ,  , แตก,  , คืน,  , ยอด,...   \n",
              "\n",
              "                                  processed_sentence  \n",
              "8  ﻿ รับ   รวม   สูงสุด   เมื่อ   ช้อป   แบรนด์  ...  \n",
              "1  สินค้า   ซ่อม   เสร็จ   แล้ว   สามารถ   ติดต่อ...  \n",
              "5   คุณ   ได้รับ   สิทธิ์   ยื่น   สินเชื่อ   ติดต่อ  \n",
              "0  รบกวน   ติดต่อ   ฝ่าย   บริการ   เพื่อ   ยืนยั...  \n",
              "7  ช้อป   ออนไลน์   ใช้   คูปอง   ลด   เพิ่ม   แล...  \n",
              "2  พิเศษ   เฉพาะ   ลูกค้า   ใหม่   รับ   คูปอง   ...  \n",
              "9  ขออภัย   พัสดุ   ของ   ท่าน   จัดส่ง   ไม่   ส...  \n",
              "4  เส้นทาง   มา   จอง   สมาชิก   ใหม่   ฝาก   แร ...  \n",
              "3  รับ   ส่วนลด   บาท   เมื่อ   ช้อป   แบรนด์   เ...  \n",
              "6  รับ   ฟรี   ปรับ   แตก   คืน   ยอด   เสีย   ทุ...  "
            ]
          },
          "execution_count": 76,
          "metadata": {},
          "output_type": "execute_result"
        }
      ],
      "source": [
        "test_data"
      ]
    },
    {
      "cell_type": "code",
      "execution_count": null,
      "metadata": {
        "id": "T5pdXk2oZms4"
      },
      "outputs": [],
      "source": [
        "# Assuming you have loaded your test data into test_data DataFrame\n",
        "\n",
        "# Extract 'text' and 'label' columns from test_data\n",
        "test_texts = test_data['text'].tolist()\n",
        "test_labels = test_data['label'].tolist()\n",
        "\n",
        "# Tokenize test data\n",
        "testing_encodings = tokenizer(test_texts, padding=\"max_length\", truncation=True, max_length=50)\n",
        "\n",
        "# Create a CustomDataset instance for test data\n",
        "testing_dataset = CustomDataset(test_texts, test_labels, tokenizer)\n",
        "\n",
        "# Create a DataLoader for test data\n",
        "batch_size = 16  # Choose an appropriate batch size\n",
        "testing_loader = DataLoader(testing_dataset, batch_size=batch_size, shuffle=False)"
      ]
    },
    {
      "cell_type": "code",
      "execution_count": null,
      "metadata": {
        "colab": {
          "base_uri": "https://localhost:8080/"
        },
        "id": "mpu1yde3dlsX",
        "outputId": "71047607-05b0-4660-a868-1f1a1c67494a"
      },
      "outputs": [
        {
          "name": "stdout",
          "output_type": "stream",
          "text": [
            "Accuracy: 0.6\n",
            "Classification Report:\n",
            "              precision    recall  f1-score   support\n",
            "\n",
            "     class 0       0.57      0.80      0.67         5\n",
            "     class 1       0.67      0.40      0.50         5\n",
            "\n",
            "    accuracy                           0.60        10\n",
            "   macro avg       0.62      0.60      0.58        10\n",
            "weighted avg       0.62      0.60      0.58        10\n",
            "\n"
          ]
        }
      ],
      "source": [
        "# Assuming you have loaded and preprocessed your new test data and created a DataLoader for it\n",
        "# Iterate over batches in the test DataLoader\n",
        "model.eval()\n",
        "test_predictions = []\n",
        "test_true_labels = []\n",
        "\n",
        "for batch in testing_loader:\n",
        "    # Move batch to device if using GPU\n",
        "    batch = {k: v.to('cuda' if torch.cuda.is_available() else 'cpu') for k, v in batch.items()}\n",
        "\n",
        "    # Perform forward pass to get model predictions\n",
        "    with torch.no_grad():\n",
        "        outputs = model(**batch)\n",
        "\n",
        "    # Extract predicted labels and true labels\n",
        "    predicted_labels = outputs.logits.argmax(dim=1)\n",
        "    test_true_labels.extend(batch['labels'].tolist())\n",
        "    test_predictions.extend(predicted_labels.tolist())\n",
        "\n",
        "# Calculate evaluation metrics\n",
        "from sklearn.metrics import classification_report, accuracy_score\n",
        "\n",
        "accuracy = accuracy_score(test_true_labels, test_predictions)\n",
        "report = classification_report(test_true_labels, test_predictions, target_names=['class 0', 'class 1'])\n",
        "\n",
        "print(f'Accuracy: {accuracy}')\n",
        "print(f'Classification Report:\\n{report}')"
      ]
    },
    {
      "cell_type": "code",
      "execution_count": null,
      "metadata": {
        "colab": {
          "base_uri": "https://localhost:8080/"
        },
        "id": "qS0qsHUefS5X",
        "outputId": "a91c4ddb-8cd2-4e51-99ab-15a69db8a9d3"
      },
      "outputs": [
        {
          "name": "stdout",
          "output_type": "stream",
          "text": [
            "Text: ﻿รับ,รวม,สูงสุด,เมื่อ,ช้อป,แบรนด์,ดัง,ระดับโลก,ผ่าน,บริการ,เฉพาะ,ลูกค้า,บัตรเครดิต,วัน,สยาม,กสิกร,ไทย,เท่านั้น,ช้อป,เลย,คลิก, True Label: 1, Predicted Label: 0\n",
            "Text: สินค้า,ซ่อม,เสร็จ,แล้ว,สามารถ,ติดต่อ,รับ,สินค้า,คืน,ได้ที่,ศูนย์,บริการ, True Label: 0, Predicted Label: 0\n",
            "Text: คุณ,ได้รับ,สิทธิ์,ยื่น,สินเชื่อ,ติดต่อ, True Label: 1, Predicted Label: 1\n",
            "Text: รบกวน,ติดต่อ,ฝ่าย,บริการ,เพื่อ,ยืนยัน,รับ,ของ,ที่,ท่าน,ได้,สั่ง,ผ่าน,ทาง,บริการ,ออนไลน์, True Label: 0, Predicted Label: 0\n",
            "Text: ช้อป,ออนไลน์,ใช้,คูปอง,ลด,เพิ่ม,แล้ว,รับ,เพิ่ม,ที่,ถึง,กรกฎาคม,เท่านั้น,ช้อป,เลย,คลิก, True Label: 1, Predicted Label: 0\n",
            "Text: พิเศษ,เฉพาะ,ลูกค้า,ใหม่,รับ,คูปอง,ส่วนลด,สั่ง,พิซซ่า,หน้า,โปรด,ฟรี,ที่,แอ,ป, True Label: 0, Predicted Label: 0\n",
            "Text: ขออภัย,พัสดุ,ของ,ท่าน,จัดส่ง,ไม่,สำเร็จ,กรุณา,ตรวจสอบ,และ,ยืนยัน,การจัดส่ง,อีกครั้ง, True Label: 1, Predicted Label: 0\n",
            "Text: เส้นทาง,มา,จอง,สมาชิก,ใหม่,ฝาก,แร,กรับ, True Label: 0, Predicted Label: 1\n",
            "Text: รับ,ส่วนลด,บาท,เมื่อ,ช้อป,แบรนด์,เสื้อ,ดอกไม้,สุด,ฮิต,จาก,เกาหลี,เก็บ,คูปอง,ส่วนลด,เลย,คลิก, True Label: 0, Predicted Label: 0\n",
            "Text: รับ,ฟรี,ปรับ,แตก,คืน,ยอด,เสีย,ทุกวัน,ไม่,อั้น,ถอน, True Label: 1, Predicted Label: 1\n"
          ]
        }
      ],
      "source": [
        "# Print text, true labels, and predicted labels side by side\n",
        "for text, true_label, predicted_label in zip(test_texts, test_true_labels, test_predictions):\n",
        "    print(f'Text: {text}, True Label: {true_label}, Predicted Label: {predicted_label}')"
      ]
    }
  ],
  "metadata": {
    "colab": {
      "collapsed_sections": [
        "bgzq_RpehMMQ",
        "M0-RFzwVp8QM",
        "nzJAm4xevTau",
        "bT0itFGxDP6G",
        "nujHsdcKSTHv"
      ],
      "provenance": []
    },
    "kernelspec": {
      "display_name": "Python 3",
      "name": "python3"
    },
    "language_info": {
      "name": "python"
    }
  },
  "nbformat": 4,
  "nbformat_minor": 0
}
