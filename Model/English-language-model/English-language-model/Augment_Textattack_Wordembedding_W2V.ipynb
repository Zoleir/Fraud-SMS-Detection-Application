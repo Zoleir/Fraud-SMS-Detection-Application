{
  "cells": [
    {
      "cell_type": "markdown",
      "metadata": {
        "id": "U5Lb6v52fhHu"
      },
      "source": [
        "# Data Exploration"
      ]
    },
    {
      "cell_type": "code",
      "execution_count": null,
      "metadata": {
        "id": "fSMKV0eHILkP"
      },
      "outputs": [],
      "source": [
        "import numpy as np\n",
        "import pandas as pd\n",
        "import matplotlib.pyplot as plt\n",
        "import seaborn as sns"
      ]
    },
    {
      "cell_type": "markdown",
      "metadata": {
        "id": "JeYQn2i3kAL7"
      },
      "source": [
        "- Dataset from kaggle"
      ]
    },
    {
      "cell_type": "code",
      "execution_count": null,
      "metadata": {
        "id": "8Gn19Q4NKZ8T"
      },
      "outputs": [],
      "source": [
        "#import file\n",
        "df1 = pd.read_csv(\"dataset_kaggle.csv\",encoding = \"latin-1\")"
      ]
    },
    {
      "cell_type": "code",
      "execution_count": null,
      "metadata": {
        "colab": {
          "base_uri": "https://localhost:8080/"
        },
        "id": "eKEtN00xdlaL",
        "outputId": "21a6526a-56a9-49a0-f3cc-32a90365effe"
      },
      "outputs": [
        {
          "name": "stdout",
          "output_type": "stream",
          "text": [
            "<class 'pandas.core.frame.DataFrame'>\n",
            "RangeIndex: 5572 entries, 0 to 5571\n",
            "Data columns (total 5 columns):\n",
            " #   Column      Non-Null Count  Dtype \n",
            "---  ------      --------------  ----- \n",
            " 0   v1          5572 non-null   object\n",
            " 1   v2          5572 non-null   object\n",
            " 2   Unnamed: 2  50 non-null     object\n",
            " 3   Unnamed: 3  12 non-null     object\n",
            " 4   Unnamed: 4  6 non-null      object\n",
            "dtypes: object(5)\n",
            "memory usage: 217.8+ KB\n"
          ]
        }
      ],
      "source": [
        "#information of data\n",
        "df1.info()"
      ]
    },
    {
      "cell_type": "code",
      "execution_count": null,
      "metadata": {
        "id": "xgsDTzLakwf0"
      },
      "outputs": [],
      "source": [
        "#drop column all Unnamed\n",
        "df1.drop(df1.iloc[:,2:],inplace=True,axis=1)"
      ]
    },
    {
      "cell_type": "code",
      "execution_count": null,
      "metadata": {
        "id": "f4ksCKnuSguf"
      },
      "outputs": [],
      "source": [
        "#rename columns\n",
        "df1.rename(columns={\"v1\": \"label\", \"v2\": \"sms\"},inplace=True)"
      ]
    },
    {
      "cell_type": "code",
      "execution_count": null,
      "metadata": {
        "colab": {
          "base_uri": "https://localhost:8080/",
          "height": 206
        },
        "id": "fIJR6eBHj73U",
        "outputId": "4792a05b-086d-4508-ef43-f18cb8b9e8ab"
      },
      "outputs": [
        {
          "data": {
            "application/vnd.google.colaboratory.intrinsic+json": {
              "summary": "{\n  \"name\": \"df1\",\n  \"rows\": 5572,\n  \"fields\": [\n    {\n      \"column\": \"label\",\n      \"properties\": {\n        \"dtype\": \"category\",\n        \"num_unique_values\": 2,\n        \"samples\": [\n          \"spam\",\n          \"ham\"\n        ],\n        \"semantic_type\": \"\",\n        \"description\": \"\"\n      }\n    },\n    {\n      \"column\": \"sms\",\n      \"properties\": {\n        \"dtype\": \"string\",\n        \"num_unique_values\": 5169,\n        \"samples\": [\n          \"Did u download the fring app?\",\n          \"Pass dis to all ur contacts n see wat u get! Red;i'm in luv wid u. Blue;u put a smile on my face. Purple;u r realy hot. Pink;u r so swt. Orange;i thnk i lyk u. Green;i realy wana go out wid u. Yelow;i wnt u bck. Black;i'm jealous of u. Brown;i miss you Nw plz giv me one color\"\n        ],\n        \"semantic_type\": \"\",\n        \"description\": \"\"\n      }\n    }\n  ]\n}",
              "type": "dataframe",
              "variable_name": "df1"
            },
            "text/html": [
              "\n",
              "  <div id=\"df-c015cf96-3d61-4e32-bc5d-88173b589388\" class=\"colab-df-container\">\n",
              "    <div>\n",
              "<style scoped>\n",
              "    .dataframe tbody tr th:only-of-type {\n",
              "        vertical-align: middle;\n",
              "    }\n",
              "\n",
              "    .dataframe tbody tr th {\n",
              "        vertical-align: top;\n",
              "    }\n",
              "\n",
              "    .dataframe thead th {\n",
              "        text-align: right;\n",
              "    }\n",
              "</style>\n",
              "<table border=\"1\" class=\"dataframe\">\n",
              "  <thead>\n",
              "    <tr style=\"text-align: right;\">\n",
              "      <th></th>\n",
              "      <th>label</th>\n",
              "      <th>sms</th>\n",
              "    </tr>\n",
              "  </thead>\n",
              "  <tbody>\n",
              "    <tr>\n",
              "      <th>0</th>\n",
              "      <td>ham</td>\n",
              "      <td>Go until jurong point, crazy.. Available only ...</td>\n",
              "    </tr>\n",
              "    <tr>\n",
              "      <th>1</th>\n",
              "      <td>ham</td>\n",
              "      <td>Ok lar... Joking wif u oni...</td>\n",
              "    </tr>\n",
              "    <tr>\n",
              "      <th>2</th>\n",
              "      <td>spam</td>\n",
              "      <td>Free entry in 2 a wkly comp to win FA Cup fina...</td>\n",
              "    </tr>\n",
              "    <tr>\n",
              "      <th>3</th>\n",
              "      <td>ham</td>\n",
              "      <td>U dun say so early hor... U c already then say...</td>\n",
              "    </tr>\n",
              "    <tr>\n",
              "      <th>4</th>\n",
              "      <td>ham</td>\n",
              "      <td>Nah I don't think he goes to usf, he lives aro...</td>\n",
              "    </tr>\n",
              "  </tbody>\n",
              "</table>\n",
              "</div>\n",
              "    <div class=\"colab-df-buttons\">\n",
              "\n",
              "  <div class=\"colab-df-container\">\n",
              "    <button class=\"colab-df-convert\" onclick=\"convertToInteractive('df-c015cf96-3d61-4e32-bc5d-88173b589388')\"\n",
              "            title=\"Convert this dataframe to an interactive table.\"\n",
              "            style=\"display:none;\">\n",
              "\n",
              "  <svg xmlns=\"http://www.w3.org/2000/svg\" height=\"24px\" viewBox=\"0 -960 960 960\">\n",
              "    <path d=\"M120-120v-720h720v720H120Zm60-500h600v-160H180v160Zm220 220h160v-160H400v160Zm0 220h160v-160H400v160ZM180-400h160v-160H180v160Zm440 0h160v-160H620v160ZM180-180h160v-160H180v160Zm440 0h160v-160H620v160Z\"/>\n",
              "  </svg>\n",
              "    </button>\n",
              "\n",
              "  <style>\n",
              "    .colab-df-container {\n",
              "      display:flex;\n",
              "      gap: 12px;\n",
              "    }\n",
              "\n",
              "    .colab-df-convert {\n",
              "      background-color: #E8F0FE;\n",
              "      border: none;\n",
              "      border-radius: 50%;\n",
              "      cursor: pointer;\n",
              "      display: none;\n",
              "      fill: #1967D2;\n",
              "      height: 32px;\n",
              "      padding: 0 0 0 0;\n",
              "      width: 32px;\n",
              "    }\n",
              "\n",
              "    .colab-df-convert:hover {\n",
              "      background-color: #E2EBFA;\n",
              "      box-shadow: 0px 1px 2px rgba(60, 64, 67, 0.3), 0px 1px 3px 1px rgba(60, 64, 67, 0.15);\n",
              "      fill: #174EA6;\n",
              "    }\n",
              "\n",
              "    .colab-df-buttons div {\n",
              "      margin-bottom: 4px;\n",
              "    }\n",
              "\n",
              "    [theme=dark] .colab-df-convert {\n",
              "      background-color: #3B4455;\n",
              "      fill: #D2E3FC;\n",
              "    }\n",
              "\n",
              "    [theme=dark] .colab-df-convert:hover {\n",
              "      background-color: #434B5C;\n",
              "      box-shadow: 0px 1px 3px 1px rgba(0, 0, 0, 0.15);\n",
              "      filter: drop-shadow(0px 1px 2px rgba(0, 0, 0, 0.3));\n",
              "      fill: #FFFFFF;\n",
              "    }\n",
              "  </style>\n",
              "\n",
              "    <script>\n",
              "      const buttonEl =\n",
              "        document.querySelector('#df-c015cf96-3d61-4e32-bc5d-88173b589388 button.colab-df-convert');\n",
              "      buttonEl.style.display =\n",
              "        google.colab.kernel.accessAllowed ? 'block' : 'none';\n",
              "\n",
              "      async function convertToInteractive(key) {\n",
              "        const element = document.querySelector('#df-c015cf96-3d61-4e32-bc5d-88173b589388');\n",
              "        const dataTable =\n",
              "          await google.colab.kernel.invokeFunction('convertToInteractive',\n",
              "                                                    [key], {});\n",
              "        if (!dataTable) return;\n",
              "\n",
              "        const docLinkHtml = 'Like what you see? Visit the ' +\n",
              "          '<a target=\"_blank\" href=https://colab.research.google.com/notebooks/data_table.ipynb>data table notebook</a>'\n",
              "          + ' to learn more about interactive tables.';\n",
              "        element.innerHTML = '';\n",
              "        dataTable['output_type'] = 'display_data';\n",
              "        await google.colab.output.renderOutput(dataTable, element);\n",
              "        const docLink = document.createElement('div');\n",
              "        docLink.innerHTML = docLinkHtml;\n",
              "        element.appendChild(docLink);\n",
              "      }\n",
              "    </script>\n",
              "  </div>\n",
              "\n",
              "\n",
              "<div id=\"df-991fa09c-0395-4224-8aab-6e6929c9b46f\">\n",
              "  <button class=\"colab-df-quickchart\" onclick=\"quickchart('df-991fa09c-0395-4224-8aab-6e6929c9b46f')\"\n",
              "            title=\"Suggest charts\"\n",
              "            style=\"display:none;\">\n",
              "\n",
              "<svg xmlns=\"http://www.w3.org/2000/svg\" height=\"24px\"viewBox=\"0 0 24 24\"\n",
              "     width=\"24px\">\n",
              "    <g>\n",
              "        <path d=\"M19 3H5c-1.1 0-2 .9-2 2v14c0 1.1.9 2 2 2h14c1.1 0 2-.9 2-2V5c0-1.1-.9-2-2-2zM9 17H7v-7h2v7zm4 0h-2V7h2v10zm4 0h-2v-4h2v4z\"/>\n",
              "    </g>\n",
              "</svg>\n",
              "  </button>\n",
              "\n",
              "<style>\n",
              "  .colab-df-quickchart {\n",
              "      --bg-color: #E8F0FE;\n",
              "      --fill-color: #1967D2;\n",
              "      --hover-bg-color: #E2EBFA;\n",
              "      --hover-fill-color: #174EA6;\n",
              "      --disabled-fill-color: #AAA;\n",
              "      --disabled-bg-color: #DDD;\n",
              "  }\n",
              "\n",
              "  [theme=dark] .colab-df-quickchart {\n",
              "      --bg-color: #3B4455;\n",
              "      --fill-color: #D2E3FC;\n",
              "      --hover-bg-color: #434B5C;\n",
              "      --hover-fill-color: #FFFFFF;\n",
              "      --disabled-bg-color: #3B4455;\n",
              "      --disabled-fill-color: #666;\n",
              "  }\n",
              "\n",
              "  .colab-df-quickchart {\n",
              "    background-color: var(--bg-color);\n",
              "    border: none;\n",
              "    border-radius: 50%;\n",
              "    cursor: pointer;\n",
              "    display: none;\n",
              "    fill: var(--fill-color);\n",
              "    height: 32px;\n",
              "    padding: 0;\n",
              "    width: 32px;\n",
              "  }\n",
              "\n",
              "  .colab-df-quickchart:hover {\n",
              "    background-color: var(--hover-bg-color);\n",
              "    box-shadow: 0 1px 2px rgba(60, 64, 67, 0.3), 0 1px 3px 1px rgba(60, 64, 67, 0.15);\n",
              "    fill: var(--button-hover-fill-color);\n",
              "  }\n",
              "\n",
              "  .colab-df-quickchart-complete:disabled,\n",
              "  .colab-df-quickchart-complete:disabled:hover {\n",
              "    background-color: var(--disabled-bg-color);\n",
              "    fill: var(--disabled-fill-color);\n",
              "    box-shadow: none;\n",
              "  }\n",
              "\n",
              "  .colab-df-spinner {\n",
              "    border: 2px solid var(--fill-color);\n",
              "    border-color: transparent;\n",
              "    border-bottom-color: var(--fill-color);\n",
              "    animation:\n",
              "      spin 1s steps(1) infinite;\n",
              "  }\n",
              "\n",
              "  @keyframes spin {\n",
              "    0% {\n",
              "      border-color: transparent;\n",
              "      border-bottom-color: var(--fill-color);\n",
              "      border-left-color: var(--fill-color);\n",
              "    }\n",
              "    20% {\n",
              "      border-color: transparent;\n",
              "      border-left-color: var(--fill-color);\n",
              "      border-top-color: var(--fill-color);\n",
              "    }\n",
              "    30% {\n",
              "      border-color: transparent;\n",
              "      border-left-color: var(--fill-color);\n",
              "      border-top-color: var(--fill-color);\n",
              "      border-right-color: var(--fill-color);\n",
              "    }\n",
              "    40% {\n",
              "      border-color: transparent;\n",
              "      border-right-color: var(--fill-color);\n",
              "      border-top-color: var(--fill-color);\n",
              "    }\n",
              "    60% {\n",
              "      border-color: transparent;\n",
              "      border-right-color: var(--fill-color);\n",
              "    }\n",
              "    80% {\n",
              "      border-color: transparent;\n",
              "      border-right-color: var(--fill-color);\n",
              "      border-bottom-color: var(--fill-color);\n",
              "    }\n",
              "    90% {\n",
              "      border-color: transparent;\n",
              "      border-bottom-color: var(--fill-color);\n",
              "    }\n",
              "  }\n",
              "</style>\n",
              "\n",
              "  <script>\n",
              "    async function quickchart(key) {\n",
              "      const quickchartButtonEl =\n",
              "        document.querySelector('#' + key + ' button');\n",
              "      quickchartButtonEl.disabled = true;  // To prevent multiple clicks.\n",
              "      quickchartButtonEl.classList.add('colab-df-spinner');\n",
              "      try {\n",
              "        const charts = await google.colab.kernel.invokeFunction(\n",
              "            'suggestCharts', [key], {});\n",
              "      } catch (error) {\n",
              "        console.error('Error during call to suggestCharts:', error);\n",
              "      }\n",
              "      quickchartButtonEl.classList.remove('colab-df-spinner');\n",
              "      quickchartButtonEl.classList.add('colab-df-quickchart-complete');\n",
              "    }\n",
              "    (() => {\n",
              "      let quickchartButtonEl =\n",
              "        document.querySelector('#df-991fa09c-0395-4224-8aab-6e6929c9b46f button');\n",
              "      quickchartButtonEl.style.display =\n",
              "        google.colab.kernel.accessAllowed ? 'block' : 'none';\n",
              "    })();\n",
              "  </script>\n",
              "</div>\n",
              "    </div>\n",
              "  </div>\n"
            ],
            "text/plain": [
              "  label                                                sms\n",
              "0   ham  Go until jurong point, crazy.. Available only ...\n",
              "1   ham                      Ok lar... Joking wif u oni...\n",
              "2  spam  Free entry in 2 a wkly comp to win FA Cup fina...\n",
              "3   ham  U dun say so early hor... U c already then say...\n",
              "4   ham  Nah I don't think he goes to usf, he lives aro..."
            ]
          },
          "execution_count": 65,
          "metadata": {},
          "output_type": "execute_result"
        }
      ],
      "source": [
        " # see the first 5 data\n",
        "df1.head(5)"
      ]
    },
    {
      "cell_type": "code",
      "execution_count": null,
      "metadata": {
        "colab": {
          "base_uri": "https://localhost:8080/"
        },
        "id": "t8dqh_HokAag",
        "outputId": "c58c13ca-b6f7-49b5-f701-ec8bc8448c3c"
      },
      "outputs": [
        {
          "data": {
            "text/plain": [
              "label    0\n",
              "sms      0\n",
              "dtype: int64"
            ]
          },
          "execution_count": 66,
          "metadata": {},
          "output_type": "execute_result"
        }
      ],
      "source": [
        "#count the number of missing values\n",
        "df1.isna().sum()"
      ]
    },
    {
      "cell_type": "code",
      "execution_count": null,
      "metadata": {
        "colab": {
          "base_uri": "https://localhost:8080/"
        },
        "id": "n2GE6_SHNXbX",
        "outputId": "f2669306-64fe-4af5-9be7-2efb733b45a3"
      },
      "outputs": [
        {
          "name": "stdout",
          "output_type": "stream",
          "text": [
            "The total number of spam and not spam message in our dataset is\n",
            " label\n",
            "ham     4825\n",
            "spam     747\n",
            "Name: count, dtype: int64\n"
          ]
        }
      ],
      "source": [
        "#show counts of spam sms and not spam sms (ham)\n",
        "print('The total number of spam and not spam message in our dataset is\\n',df1['label'].value_counts())"
      ]
    },
    {
      "cell_type": "code",
      "execution_count": null,
      "metadata": {
        "colab": {
          "base_uri": "https://localhost:8080/"
        },
        "id": "Y_l8woHXNjay",
        "outputId": "3f404c3a-2b9f-497a-fbd1-5bb213d14313"
      },
      "outputs": [
        {
          "data": {
            "text/plain": [
              "(5572, 2)"
            ]
          },
          "execution_count": 68,
          "metadata": {},
          "output_type": "execute_result"
        }
      ],
      "source": [
        "#number of rows and columns in the DataFrame.\n",
        "df1.shape"
      ]
    },
    {
      "cell_type": "code",
      "execution_count": null,
      "metadata": {
        "colab": {
          "base_uri": "https://localhost:8080/"
        },
        "id": "FmjEM1NkOTRY",
        "outputId": "fc4405bc-56b8-4996-8867-63555a0bb165"
      },
      "outputs": [
        {
          "data": {
            "text/plain": [
              "403"
            ]
          },
          "execution_count": 69,
          "metadata": {},
          "output_type": "execute_result"
        }
      ],
      "source": [
        "#check duplicate value\n",
        "df1.duplicated().sum()"
      ]
    },
    {
      "cell_type": "code",
      "execution_count": null,
      "metadata": {
        "id": "xJHlTqZXO066"
      },
      "outputs": [],
      "source": [
        "#drop duplicate value\n",
        "df1=df1.drop_duplicates()"
      ]
    },
    {
      "cell_type": "code",
      "execution_count": null,
      "metadata": {
        "colab": {
          "base_uri": "https://localhost:8080/"
        },
        "id": "RzpxJUSWT2dA",
        "outputId": "c7d04cbd-7343-4e04-a613-04d4908003ae"
      },
      "outputs": [
        {
          "name": "stdout",
          "output_type": "stream",
          "text": [
            "The total number of spam and not spam message in our dataset is\n",
            " label\n",
            "ham     4516\n",
            "spam     653\n",
            "Name: count, dtype: int64\n"
          ]
        }
      ],
      "source": [
        "print('The total number of spam and not spam message in our dataset is\\n',df1['label'].value_counts())"
      ]
    },
    {
      "cell_type": "code",
      "execution_count": null,
      "metadata": {
        "colab": {
          "base_uri": "https://localhost:8080/",
          "height": 449
        },
        "id": "45F6Po8ocshT",
        "outputId": "acf2d4df-1dae-4a44-c59c-522a4f8304d5"
      },
      "outputs": [
        {
          "data": {
            "image/png": "[encoded data removed]",
            "text/plain": [
              "<Figure size 640x480 with 1 Axes>"
            ]
          },
          "metadata": {},
          "output_type": "display_data"
        }
      ],
      "source": [
        "# create a bar plot of the counts of each unique value in the 'label' column\n",
        "sns.countplot(x=df1['label'])\n",
        "plt.show()"
      ]
    },
    {
      "cell_type": "code",
      "execution_count": null,
      "metadata": {
        "colab": {
          "base_uri": "https://localhost:8080/",
          "height": 424
        },
        "id": "AHmoQJF1nNZi",
        "outputId": "de6e9661-8b3d-4b0a-ec4a-8412212a70ea"
      },
      "outputs": [
        {
          "data": {
            "application/vnd.google.colaboratory.intrinsic+json": {
              "summary": "{\n  \"name\": \"df1\",\n  \"rows\": 5169,\n  \"fields\": [\n    {\n      \"column\": \"label\",\n      \"properties\": {\n        \"dtype\": \"category\",\n        \"num_unique_values\": 2,\n        \"samples\": [\n          \"spam\",\n          \"ham\"\n        ],\n        \"semantic_type\": \"\",\n        \"description\": \"\"\n      }\n    },\n    {\n      \"column\": \"sms\",\n      \"properties\": {\n        \"dtype\": \"string\",\n        \"num_unique_values\": 5169,\n        \"samples\": [\n          \"Did u download the fring app?\",\n          \"Pass dis to all ur contacts n see wat u get! Red;i'm in luv wid u. Blue;u put a smile on my face. Purple;u r realy hot. Pink;u r so swt. Orange;i thnk i lyk u. Green;i realy wana go out wid u. Yelow;i wnt u bck. Black;i'm jealous of u. Brown;i miss you Nw plz giv me one color\"\n        ],\n        \"semantic_type\": \"\",\n        \"description\": \"\"\n      }\n    }\n  ]\n}",
              "type": "dataframe",
              "variable_name": "df1"
            },
            "text/html": [
              "\n",
              "  <div id=\"df-9ef94a69-f077-48b7-8c65-7e096f57076e\" class=\"colab-df-container\">\n",
              "    <div>\n",
              "<style scoped>\n",
              "    .dataframe tbody tr th:only-of-type {\n",
              "        vertical-align: middle;\n",
              "    }\n",
              "\n",
              "    .dataframe tbody tr th {\n",
              "        vertical-align: top;\n",
              "    }\n",
              "\n",
              "    .dataframe thead th {\n",
              "        text-align: right;\n",
              "    }\n",
              "</style>\n",
              "<table border=\"1\" class=\"dataframe\">\n",
              "  <thead>\n",
              "    <tr style=\"text-align: right;\">\n",
              "      <th></th>\n",
              "      <th>label</th>\n",
              "      <th>sms</th>\n",
              "    </tr>\n",
              "  </thead>\n",
              "  <tbody>\n",
              "    <tr>\n",
              "      <th>0</th>\n",
              "      <td>ham</td>\n",
              "      <td>Go until jurong point, crazy.. Available only ...</td>\n",
              "    </tr>\n",
              "    <tr>\n",
              "      <th>1</th>\n",
              "      <td>ham</td>\n",
              "      <td>Ok lar... Joking wif u oni...</td>\n",
              "    </tr>\n",
              "    <tr>\n",
              "      <th>2</th>\n",
              "      <td>spam</td>\n",
              "      <td>Free entry in 2 a wkly comp to win FA Cup fina...</td>\n",
              "    </tr>\n",
              "    <tr>\n",
              "      <th>3</th>\n",
              "      <td>ham</td>\n",
              "      <td>U dun say so early hor... U c already then say...</td>\n",
              "    </tr>\n",
              "    <tr>\n",
              "      <th>4</th>\n",
              "      <td>ham</td>\n",
              "      <td>Nah I don't think he goes to usf, he lives aro...</td>\n",
              "    </tr>\n",
              "    <tr>\n",
              "      <th>...</th>\n",
              "      <td>...</td>\n",
              "      <td>...</td>\n",
              "    </tr>\n",
              "    <tr>\n",
              "      <th>5567</th>\n",
              "      <td>spam</td>\n",
              "      <td>This is the 2nd time we have tried 2 contact u...</td>\n",
              "    </tr>\n",
              "    <tr>\n",
              "      <th>5568</th>\n",
              "      <td>ham</td>\n",
              "      <td>Will Ì_ b going to esplanade fr home?</td>\n",
              "    </tr>\n",
              "    <tr>\n",
              "      <th>5569</th>\n",
              "      <td>ham</td>\n",
              "      <td>Pity, * was in mood for that. So...any other s...</td>\n",
              "    </tr>\n",
              "    <tr>\n",
              "      <th>5570</th>\n",
              "      <td>ham</td>\n",
              "      <td>The guy did some bitching but I acted like i'd...</td>\n",
              "    </tr>\n",
              "    <tr>\n",
              "      <th>5571</th>\n",
              "      <td>ham</td>\n",
              "      <td>Rofl. Its true to its name</td>\n",
              "    </tr>\n",
              "  </tbody>\n",
              "</table>\n",
              "<p>5169 rows × 2 columns</p>\n",
              "</div>\n",
              "    <div class=\"colab-df-buttons\">\n",
              "\n",
              "  <div class=\"colab-df-container\">\n",
              "    <button class=\"colab-df-convert\" onclick=\"convertToInteractive('df-9ef94a69-f077-48b7-8c65-7e096f57076e')\"\n",
              "            title=\"Convert this dataframe to an interactive table.\"\n",
              "            style=\"display:none;\">\n",
              "\n",
              "  <svg xmlns=\"http://www.w3.org/2000/svg\" height=\"24px\" viewBox=\"0 -960 960 960\">\n",
              "    <path d=\"M120-120v-720h720v720H120Zm60-500h600v-160H180v160Zm220 220h160v-160H400v160Zm0 220h160v-160H400v160ZM180-400h160v-160H180v160Zm440 0h160v-160H620v160ZM180-180h160v-160H180v160Zm440 0h160v-160H620v160Z\"/>\n",
              "  </svg>\n",
              "    </button>\n",
              "\n",
              "  <style>\n",
              "    .colab-df-container {\n",
              "      display:flex;\n",
              "      gap: 12px;\n",
              "    }\n",
              "\n",
              "    .colab-df-convert {\n",
              "      background-color: #E8F0FE;\n",
              "      border: none;\n",
              "      border-radius: 50%;\n",
              "      cursor: pointer;\n",
              "      display: none;\n",
              "      fill: #1967D2;\n",
              "      height: 32px;\n",
              "      padding: 0 0 0 0;\n",
              "      width: 32px;\n",
              "    }\n",
              "\n",
              "    .colab-df-convert:hover {\n",
              "      background-color: #E2EBFA;\n",
              "      box-shadow: 0px 1px 2px rgba(60, 64, 67, 0.3), 0px 1px 3px 1px rgba(60, 64, 67, 0.15);\n",
              "      fill: #174EA6;\n",
              "    }\n",
              "\n",
              "    .colab-df-buttons div {\n",
              "      margin-bottom: 4px;\n",
              "    }\n",
              "\n",
              "    [theme=dark] .colab-df-convert {\n",
              "      background-color: #3B4455;\n",
              "      fill: #D2E3FC;\n",
              "    }\n",
              "\n",
              "    [theme=dark] .colab-df-convert:hover {\n",
              "      background-color: #434B5C;\n",
              "      box-shadow: 0px 1px 3px 1px rgba(0, 0, 0, 0.15);\n",
              "      filter: drop-shadow(0px 1px 2px rgba(0, 0, 0, 0.3));\n",
              "      fill: #FFFFFF;\n",
              "    }\n",
              "  </style>\n",
              "\n",
              "    <script>\n",
              "      const buttonEl =\n",
              "        document.querySelector('#df-9ef94a69-f077-48b7-8c65-7e096f57076e button.colab-df-convert');\n",
              "      buttonEl.style.display =\n",
              "        google.colab.kernel.accessAllowed ? 'block' : 'none';\n",
              "\n",
              "      async function convertToInteractive(key) {\n",
              "        const element = document.querySelector('#df-9ef94a69-f077-48b7-8c65-7e096f57076e');\n",
              "        const dataTable =\n",
              "          await google.colab.kernel.invokeFunction('convertToInteractive',\n",
              "                                                    [key], {});\n",
              "        if (!dataTable) return;\n",
              "\n",
              "        const docLinkHtml = 'Like what you see? Visit the ' +\n",
              "          '<a target=\"_blank\" href=https://colab.research.google.com/notebooks/data_table.ipynb>data table notebook</a>'\n",
              "          + ' to learn more about interactive tables.';\n",
              "        element.innerHTML = '';\n",
              "        dataTable['output_type'] = 'display_data';\n",
              "        await google.colab.output.renderOutput(dataTable, element);\n",
              "        const docLink = document.createElement('div');\n",
              "        docLink.innerHTML = docLinkHtml;\n",
              "        element.appendChild(docLink);\n",
              "      }\n",
              "    </script>\n",
              "  </div>\n",
              "\n",
              "\n",
              "<div id=\"df-245adcf1-89f4-4089-b735-0229572f5bda\">\n",
              "  <button class=\"colab-df-quickchart\" onclick=\"quickchart('df-245adcf1-89f4-4089-b735-0229572f5bda')\"\n",
              "            title=\"Suggest charts\"\n",
              "            style=\"display:none;\">\n",
              "\n",
              "<svg xmlns=\"http://www.w3.org/2000/svg\" height=\"24px\"viewBox=\"0 0 24 24\"\n",
              "     width=\"24px\">\n",
              "    <g>\n",
              "        <path d=\"M19 3H5c-1.1 0-2 .9-2 2v14c0 1.1.9 2 2 2h14c1.1 0 2-.9 2-2V5c0-1.1-.9-2-2-2zM9 17H7v-7h2v7zm4 0h-2V7h2v10zm4 0h-2v-4h2v4z\"/>\n",
              "    </g>\n",
              "</svg>\n",
              "  </button>\n",
              "\n",
              "<style>\n",
              "  .colab-df-quickchart {\n",
              "      --bg-color: #E8F0FE;\n",
              "      --fill-color: #1967D2;\n",
              "      --hover-bg-color: #E2EBFA;\n",
              "      --hover-fill-color: #174EA6;\n",
              "      --disabled-fill-color: #AAA;\n",
              "      --disabled-bg-color: #DDD;\n",
              "  }\n",
              "\n",
              "  [theme=dark] .colab-df-quickchart {\n",
              "      --bg-color: #3B4455;\n",
              "      --fill-color: #D2E3FC;\n",
              "      --hover-bg-color: #434B5C;\n",
              "      --hover-fill-color: #FFFFFF;\n",
              "      --disabled-bg-color: #3B4455;\n",
              "      --disabled-fill-color: #666;\n",
              "  }\n",
              "\n",
              "  .colab-df-quickchart {\n",
              "    background-color: var(--bg-color);\n",
              "    border: none;\n",
              "    border-radius: 50%;\n",
              "    cursor: pointer;\n",
              "    display: none;\n",
              "    fill: var(--fill-color);\n",
              "    height: 32px;\n",
              "    padding: 0;\n",
              "    width: 32px;\n",
              "  }\n",
              "\n",
              "  .colab-df-quickchart:hover {\n",
              "    background-color: var(--hover-bg-color);\n",
              "    box-shadow: 0 1px 2px rgba(60, 64, 67, 0.3), 0 1px 3px 1px rgba(60, 64, 67, 0.15);\n",
              "    fill: var(--button-hover-fill-color);\n",
              "  }\n",
              "\n",
              "  .colab-df-quickchart-complete:disabled,\n",
              "  .colab-df-quickchart-complete:disabled:hover {\n",
              "    background-color: var(--disabled-bg-color);\n",
              "    fill: var(--disabled-fill-color);\n",
              "    box-shadow: none;\n",
              "  }\n",
              "\n",
              "  .colab-df-spinner {\n",
              "    border: 2px solid var(--fill-color);\n",
              "    border-color: transparent;\n",
              "    border-bottom-color: var(--fill-color);\n",
              "    animation:\n",
              "      spin 1s steps(1) infinite;\n",
              "  }\n",
              "\n",
              "  @keyframes spin {\n",
              "    0% {\n",
              "      border-color: transparent;\n",
              "      border-bottom-color: var(--fill-color);\n",
              "      border-left-color: var(--fill-color);\n",
              "    }\n",
              "    20% {\n",
              "      border-color: transparent;\n",
              "      border-left-color: var(--fill-color);\n",
              "      border-top-color: var(--fill-color);\n",
              "    }\n",
              "    30% {\n",
              "      border-color: transparent;\n",
              "      border-left-color: var(--fill-color);\n",
              "      border-top-color: var(--fill-color);\n",
              "      border-right-color: var(--fill-color);\n",
              "    }\n",
              "    40% {\n",
              "      border-color: transparent;\n",
              "      border-right-color: var(--fill-color);\n",
              "      border-top-color: var(--fill-color);\n",
              "    }\n",
              "    60% {\n",
              "      border-color: transparent;\n",
              "      border-right-color: var(--fill-color);\n",
              "    }\n",
              "    80% {\n",
              "      border-color: transparent;\n",
              "      border-right-color: var(--fill-color);\n",
              "      border-bottom-color: var(--fill-color);\n",
              "    }\n",
              "    90% {\n",
              "      border-color: transparent;\n",
              "      border-bottom-color: var(--fill-color);\n",
              "    }\n",
              "  }\n",
              "</style>\n",
              "\n",
              "  <script>\n",
              "    async function quickchart(key) {\n",
              "      const quickchartButtonEl =\n",
              "        document.querySelector('#' + key + ' button');\n",
              "      quickchartButtonEl.disabled = true;  // To prevent multiple clicks.\n",
              "      quickchartButtonEl.classList.add('colab-df-spinner');\n",
              "      try {\n",
              "        const charts = await google.colab.kernel.invokeFunction(\n",
              "            'suggestCharts', [key], {});\n",
              "      } catch (error) {\n",
              "        console.error('Error during call to suggestCharts:', error);\n",
              "      }\n",
              "      quickchartButtonEl.classList.remove('colab-df-spinner');\n",
              "      quickchartButtonEl.classList.add('colab-df-quickchart-complete');\n",
              "    }\n",
              "    (() => {\n",
              "      let quickchartButtonEl =\n",
              "        document.querySelector('#df-245adcf1-89f4-4089-b735-0229572f5bda button');\n",
              "      quickchartButtonEl.style.display =\n",
              "        google.colab.kernel.accessAllowed ? 'block' : 'none';\n",
              "    })();\n",
              "  </script>\n",
              "</div>\n",
              "    </div>\n",
              "  </div>\n"
            ],
            "text/plain": [
              "     label                                                sms\n",
              "0      ham  Go until jurong point, crazy.. Available only ...\n",
              "1      ham                      Ok lar... Joking wif u oni...\n",
              "2     spam  Free entry in 2 a wkly comp to win FA Cup fina...\n",
              "3      ham  U dun say so early hor... U c already then say...\n",
              "4      ham  Nah I don't think he goes to usf, he lives aro...\n",
              "...    ...                                                ...\n",
              "5567  spam  This is the 2nd time we have tried 2 contact u...\n",
              "5568   ham              Will Ì_ b going to esplanade fr home?\n",
              "5569   ham  Pity, * was in mood for that. So...any other s...\n",
              "5570   ham  The guy did some bitching but I acted like i'd...\n",
              "5571   ham                         Rofl. Its true to its name\n",
              "\n",
              "[5169 rows x 2 columns]"
            ]
          },
          "execution_count": 73,
          "metadata": {},
          "output_type": "execute_result"
        }
      ],
      "source": [
        "df1"
      ]
    },
    {
      "cell_type": "markdown",
      "metadata": {
        "id": "LBuzN05Qk2TX"
      },
      "source": [
        "- Dataset from research"
      ]
    },
    {
      "cell_type": "code",
      "execution_count": null,
      "metadata": {
        "id": "92mVQd6fiYao"
      },
      "outputs": [],
      "source": [
        "#import file\n",
        "df2 = pd.read_csv(\"dataset_research.csv\",encoding = \"latin-1\")"
      ]
    },
    {
      "cell_type": "code",
      "execution_count": null,
      "metadata": {
        "id": "-bQMc8kIiVp0"
      },
      "outputs": [],
      "source": [
        "#combines file\n",
        "df = pd.concat([df1, df2], ignore_index=True)"
      ]
    },
    {
      "cell_type": "code",
      "execution_count": null,
      "metadata": {
        "colab": {
          "base_uri": "https://localhost:8080/",
          "height": 424
        },
        "id": "rVWAdwSwiZmO",
        "outputId": "c9fe383d-a9a7-4236-a941-0e26a662f6ae"
      },
      "outputs": [
        {
          "data": {
            "application/vnd.google.colaboratory.intrinsic+json": {
              "summary": "{\n  \"name\": \"df\",\n  \"rows\": 6284,\n  \"fields\": [\n    {\n      \"column\": \"label\",\n      \"properties\": {\n        \"dtype\": \"category\",\n        \"num_unique_values\": 2,\n        \"samples\": [\n          \"spam\",\n          \"ham\"\n        ],\n        \"semantic_type\": \"\",\n        \"description\": \"\"\n      }\n    },\n    {\n      \"column\": \"sms\",\n      \"properties\": {\n        \"dtype\": \"string\",\n        \"num_unique_values\": 5925,\n        \"samples\": [\n          \"Indians r poor but India is not a poor country. Says one of the swiss bank directors. He says that \\\\ &lt;#&gt;  lac crore\\\\\\\" of Indian money is deposited in swiss banks which can be used for 'taxless' budget for  &lt;#&gt;  yrs. Can give  &lt;#&gt;  crore jobs to all Indians. From any village to Delhi 4 lane roads. Forever free power suply to more than  &lt;#&gt;  social projects. Every citizen can get monthly  &lt;#&gt; /- for  &lt;#&gt;  yrs. No need of World Bank &amp; IMF loan. Think how our money is blocked by rich politicians. We have full rights against corrupt politicians. Itna forward karo ki pura INDIA padhe.g.m.\\\\\\\"\\\"\",\n          \"Enjoy the jamster videosound gold club with your credits for 2 new videosounds+2 logos+musicnews! get more fun from jamster.co.uk! 16+only Help? call: 09701213186 \"\n        ],\n        \"semantic_type\": \"\",\n        \"description\": \"\"\n      }\n    }\n  ]\n}",
              "type": "dataframe",
              "variable_name": "df"
            },
            "text/html": [
              "\n",
              "  <div id=\"df-28b03c98-32be-4be2-8c1f-7ea3e74d6ecb\" class=\"colab-df-container\">\n",
              "    <div>\n",
              "<style scoped>\n",
              "    .dataframe tbody tr th:only-of-type {\n",
              "        vertical-align: middle;\n",
              "    }\n",
              "\n",
              "    .dataframe tbody tr th {\n",
              "        vertical-align: top;\n",
              "    }\n",
              "\n",
              "    .dataframe thead th {\n",
              "        text-align: right;\n",
              "    }\n",
              "</style>\n",
              "<table border=\"1\" class=\"dataframe\">\n",
              "  <thead>\n",
              "    <tr style=\"text-align: right;\">\n",
              "      <th></th>\n",
              "      <th>label</th>\n",
              "      <th>sms</th>\n",
              "    </tr>\n",
              "  </thead>\n",
              "  <tbody>\n",
              "    <tr>\n",
              "      <th>0</th>\n",
              "      <td>ham</td>\n",
              "      <td>Go until jurong point, crazy.. Available only ...</td>\n",
              "    </tr>\n",
              "    <tr>\n",
              "      <th>1</th>\n",
              "      <td>ham</td>\n",
              "      <td>Ok lar... Joking wif u oni...</td>\n",
              "    </tr>\n",
              "    <tr>\n",
              "      <th>2</th>\n",
              "      <td>spam</td>\n",
              "      <td>Free entry in 2 a wkly comp to win FA Cup fina...</td>\n",
              "    </tr>\n",
              "    <tr>\n",
              "      <th>3</th>\n",
              "      <td>ham</td>\n",
              "      <td>U dun say so early hor... U c already then say...</td>\n",
              "    </tr>\n",
              "    <tr>\n",
              "      <th>4</th>\n",
              "      <td>ham</td>\n",
              "      <td>Nah I don't think he goes to usf, he lives aro...</td>\n",
              "    </tr>\n",
              "    <tr>\n",
              "      <th>...</th>\n",
              "      <td>...</td>\n",
              "      <td>...</td>\n",
              "    </tr>\n",
              "    <tr>\n",
              "      <th>6279</th>\n",
              "      <td>spam</td>\n",
              "      <td>You have won a Nokia 7250i. This is what you g...</td>\n",
              "    </tr>\n",
              "    <tr>\n",
              "      <th>6280</th>\n",
              "      <td>spam</td>\n",
              "      <td>Get ur 1st RINGTONE FREE NOW! Reply to this ms...</td>\n",
              "    </tr>\n",
              "    <tr>\n",
              "      <th>6281</th>\n",
              "      <td>spam</td>\n",
              "      <td>Ur cash-balance is currently 500 pounds - to m...</td>\n",
              "    </tr>\n",
              "    <tr>\n",
              "      <th>6282</th>\n",
              "      <td>spam</td>\n",
              "      <td>Records indicate you were involved in an accid...</td>\n",
              "    </tr>\n",
              "    <tr>\n",
              "      <th>6283</th>\n",
              "      <td>spam</td>\n",
              "      <td>call now 08707509020 Just 20p per min NTT Ltd...</td>\n",
              "    </tr>\n",
              "  </tbody>\n",
              "</table>\n",
              "<p>6284 rows × 2 columns</p>\n",
              "</div>\n",
              "    <div class=\"colab-df-buttons\">\n",
              "\n",
              "  <div class=\"colab-df-container\">\n",
              "    <button class=\"colab-df-convert\" onclick=\"convertToInteractive('df-28b03c98-32be-4be2-8c1f-7ea3e74d6ecb')\"\n",
              "            title=\"Convert this dataframe to an interactive table.\"\n",
              "            style=\"display:none;\">\n",
              "\n",
              "  <svg xmlns=\"http://www.w3.org/2000/svg\" height=\"24px\" viewBox=\"0 -960 960 960\">\n",
              "    <path d=\"M120-120v-720h720v720H120Zm60-500h600v-160H180v160Zm220 220h160v-160H400v160Zm0 220h160v-160H400v160ZM180-400h160v-160H180v160Zm440 0h160v-160H620v160ZM180-180h160v-160H180v160Zm440 0h160v-160H620v160Z\"/>\n",
              "  </svg>\n",
              "    </button>\n",
              "\n",
              "  <style>\n",
              "    .colab-df-container {\n",
              "      display:flex;\n",
              "      gap: 12px;\n",
              "    }\n",
              "\n",
              "    .colab-df-convert {\n",
              "      background-color: #E8F0FE;\n",
              "      border: none;\n",
              "      border-radius: 50%;\n",
              "      cursor: pointer;\n",
              "      display: none;\n",
              "      fill: #1967D2;\n",
              "      height: 32px;\n",
              "      padding: 0 0 0 0;\n",
              "      width: 32px;\n",
              "    }\n",
              "\n",
              "    .colab-df-convert:hover {\n",
              "      background-color: #E2EBFA;\n",
              "      box-shadow: 0px 1px 2px rgba(60, 64, 67, 0.3), 0px 1px 3px 1px rgba(60, 64, 67, 0.15);\n",
              "      fill: #174EA6;\n",
              "    }\n",
              "\n",
              "    .colab-df-buttons div {\n",
              "      margin-bottom: 4px;\n",
              "    }\n",
              "\n",
              "    [theme=dark] .colab-df-convert {\n",
              "      background-color: #3B4455;\n",
              "      fill: #D2E3FC;\n",
              "    }\n",
              "\n",
              "    [theme=dark] .colab-df-convert:hover {\n",
              "      background-color: #434B5C;\n",
              "      box-shadow: 0px 1px 3px 1px rgba(0, 0, 0, 0.15);\n",
              "      filter: drop-shadow(0px 1px 2px rgba(0, 0, 0, 0.3));\n",
              "      fill: #FFFFFF;\n",
              "    }\n",
              "  </style>\n",
              "\n",
              "    <script>\n",
              "      const buttonEl =\n",
              "        document.querySelector('#df-28b03c98-32be-4be2-8c1f-7ea3e74d6ecb button.colab-df-convert');\n",
              "      buttonEl.style.display =\n",
              "        google.colab.kernel.accessAllowed ? 'block' : 'none';\n",
              "\n",
              "      async function convertToInteractive(key) {\n",
              "        const element = document.querySelector('#df-28b03c98-32be-4be2-8c1f-7ea3e74d6ecb');\n",
              "        const dataTable =\n",
              "          await google.colab.kernel.invokeFunction('convertToInteractive',\n",
              "                                                    [key], {});\n",
              "        if (!dataTable) return;\n",
              "\n",
              "        const docLinkHtml = 'Like what you see? Visit the ' +\n",
              "          '<a target=\"_blank\" href=https://colab.research.google.com/notebooks/data_table.ipynb>data table notebook</a>'\n",
              "          + ' to learn more about interactive tables.';\n",
              "        element.innerHTML = '';\n",
              "        dataTable['output_type'] = 'display_data';\n",
              "        await google.colab.output.renderOutput(dataTable, element);\n",
              "        const docLink = document.createElement('div');\n",
              "        docLink.innerHTML = docLinkHtml;\n",
              "        element.appendChild(docLink);\n",
              "      }\n",
              "    </script>\n",
              "  </div>\n",
              "\n",
              "\n",
              "<div id=\"df-6e0fc380-43ef-4ea6-8e4d-5bff56373b81\">\n",
              "  <button class=\"colab-df-quickchart\" onclick=\"quickchart('df-6e0fc380-43ef-4ea6-8e4d-5bff56373b81')\"\n",
              "            title=\"Suggest charts\"\n",
              "            style=\"display:none;\">\n",
              "\n",
              "<svg xmlns=\"http://www.w3.org/2000/svg\" height=\"24px\"viewBox=\"0 0 24 24\"\n",
              "     width=\"24px\">\n",
              "    <g>\n",
              "        <path d=\"M19 3H5c-1.1 0-2 .9-2 2v14c0 1.1.9 2 2 2h14c1.1 0 2-.9 2-2V5c0-1.1-.9-2-2-2zM9 17H7v-7h2v7zm4 0h-2V7h2v10zm4 0h-2v-4h2v4z\"/>\n",
              "    </g>\n",
              "</svg>\n",
              "  </button>\n",
              "\n",
              "<style>\n",
              "  .colab-df-quickchart {\n",
              "      --bg-color: #E8F0FE;\n",
              "      --fill-color: #1967D2;\n",
              "      --hover-bg-color: #E2EBFA;\n",
              "      --hover-fill-color: #174EA6;\n",
              "      --disabled-fill-color: #AAA;\n",
              "      --disabled-bg-color: #DDD;\n",
              "  }\n",
              "\n",
              "  [theme=dark] .colab-df-quickchart {\n",
              "      --bg-color: #3B4455;\n",
              "      --fill-color: #D2E3FC;\n",
              "      --hover-bg-color: #434B5C;\n",
              "      --hover-fill-color: #FFFFFF;\n",
              "      --disabled-bg-color: #3B4455;\n",
              "      --disabled-fill-color: #666;\n",
              "  }\n",
              "\n",
              "  .colab-df-quickchart {\n",
              "    background-color: var(--bg-color);\n",
              "    border: none;\n",
              "    border-radius: 50%;\n",
              "    cursor: pointer;\n",
              "    display: none;\n",
              "    fill: var(--fill-color);\n",
              "    height: 32px;\n",
              "    padding: 0;\n",
              "    width: 32px;\n",
              "  }\n",
              "\n",
              "  .colab-df-quickchart:hover {\n",
              "    background-color: var(--hover-bg-color);\n",
              "    box-shadow: 0 1px 2px rgba(60, 64, 67, 0.3), 0 1px 3px 1px rgba(60, 64, 67, 0.15);\n",
              "    fill: var(--button-hover-fill-color);\n",
              "  }\n",
              "\n",
              "  .colab-df-quickchart-complete:disabled,\n",
              "  .colab-df-quickchart-complete:disabled:hover {\n",
              "    background-color: var(--disabled-bg-color);\n",
              "    fill: var(--disabled-fill-color);\n",
              "    box-shadow: none;\n",
              "  }\n",
              "\n",
              "  .colab-df-spinner {\n",
              "    border: 2px solid var(--fill-color);\n",
              "    border-color: transparent;\n",
              "    border-bottom-color: var(--fill-color);\n",
              "    animation:\n",
              "      spin 1s steps(1) infinite;\n",
              "  }\n",
              "\n",
              "  @keyframes spin {\n",
              "    0% {\n",
              "      border-color: transparent;\n",
              "      border-bottom-color: var(--fill-color);\n",
              "      border-left-color: var(--fill-color);\n",
              "    }\n",
              "    20% {\n",
              "      border-color: transparent;\n",
              "      border-left-color: var(--fill-color);\n",
              "      border-top-color: var(--fill-color);\n",
              "    }\n",
              "    30% {\n",
              "      border-color: transparent;\n",
              "      border-left-color: var(--fill-color);\n",
              "      border-top-color: var(--fill-color);\n",
              "      border-right-color: var(--fill-color);\n",
              "    }\n",
              "    40% {\n",
              "      border-color: transparent;\n",
              "      border-right-color: var(--fill-color);\n",
              "      border-top-color: var(--fill-color);\n",
              "    }\n",
              "    60% {\n",
              "      border-color: transparent;\n",
              "      border-right-color: var(--fill-color);\n",
              "    }\n",
              "    80% {\n",
              "      border-color: transparent;\n",
              "      border-right-color: var(--fill-color);\n",
              "      border-bottom-color: var(--fill-color);\n",
              "    }\n",
              "    90% {\n",
              "      border-color: transparent;\n",
              "      border-bottom-color: var(--fill-color);\n",
              "    }\n",
              "  }\n",
              "</style>\n",
              "\n",
              "  <script>\n",
              "    async function quickchart(key) {\n",
              "      const quickchartButtonEl =\n",
              "        document.querySelector('#' + key + ' button');\n",
              "      quickchartButtonEl.disabled = true;  // To prevent multiple clicks.\n",
              "      quickchartButtonEl.classList.add('colab-df-spinner');\n",
              "      try {\n",
              "        const charts = await google.colab.kernel.invokeFunction(\n",
              "            'suggestCharts', [key], {});\n",
              "      } catch (error) {\n",
              "        console.error('Error during call to suggestCharts:', error);\n",
              "      }\n",
              "      quickchartButtonEl.classList.remove('colab-df-spinner');\n",
              "      quickchartButtonEl.classList.add('colab-df-quickchart-complete');\n",
              "    }\n",
              "    (() => {\n",
              "      let quickchartButtonEl =\n",
              "        document.querySelector('#df-6e0fc380-43ef-4ea6-8e4d-5bff56373b81 button');\n",
              "      quickchartButtonEl.style.display =\n",
              "        google.colab.kernel.accessAllowed ? 'block' : 'none';\n",
              "    })();\n",
              "  </script>\n",
              "</div>\n",
              "    </div>\n",
              "  </div>\n"
            ],
            "text/plain": [
              "     label                                                sms\n",
              "0      ham  Go until jurong point, crazy.. Available only ...\n",
              "1      ham                      Ok lar... Joking wif u oni...\n",
              "2     spam  Free entry in 2 a wkly comp to win FA Cup fina...\n",
              "3      ham  U dun say so early hor... U c already then say...\n",
              "4      ham  Nah I don't think he goes to usf, he lives aro...\n",
              "...    ...                                                ...\n",
              "6279  spam  You have won a Nokia 7250i. This is what you g...\n",
              "6280  spam  Get ur 1st RINGTONE FREE NOW! Reply to this ms...\n",
              "6281  spam  Ur cash-balance is currently 500 pounds - to m...\n",
              "6282  spam  Records indicate you were involved in an accid...\n",
              "6283  spam   call now 08707509020 Just 20p per min NTT Ltd...\n",
              "\n",
              "[6284 rows x 2 columns]"
            ]
          },
          "execution_count": 76,
          "metadata": {},
          "output_type": "execute_result"
        }
      ],
      "source": [
        "df"
      ]
    },
    {
      "cell_type": "code",
      "execution_count": null,
      "metadata": {
        "colab": {
          "base_uri": "https://localhost:8080/"
        },
        "id": "gI8b78Ofk_CM",
        "outputId": "860ed323-4797-41e5-9faa-3073d5d6a236"
      },
      "outputs": [
        {
          "name": "stdout",
          "output_type": "stream",
          "text": [
            "The total number of spam and not spam message in our dataset is\n",
            " label\n",
            "ham     4516\n",
            "spam    1768\n",
            "Name: count, dtype: int64\n"
          ]
        }
      ],
      "source": [
        "print('The total number of spam and not spam message in our dataset is\\n',df['label'].value_counts())"
      ]
    },
    {
      "cell_type": "code",
      "execution_count": null,
      "metadata": {
        "colab": {
          "base_uri": "https://localhost:8080/"
        },
        "id": "uEVJ27ZaicvP",
        "outputId": "499b420e-8c04-4a06-a8d7-fed9381ce4e7"
      },
      "outputs": [
        {
          "data": {
            "text/plain": [
              "359"
            ]
          },
          "execution_count": 78,
          "metadata": {},
          "output_type": "execute_result"
        }
      ],
      "source": [
        "df.duplicated().sum()"
      ]
    },
    {
      "cell_type": "code",
      "execution_count": null,
      "metadata": {
        "id": "QwJDeenoifRT"
      },
      "outputs": [],
      "source": [
        "df=df.drop_duplicates()"
      ]
    },
    {
      "cell_type": "code",
      "execution_count": null,
      "metadata": {
        "colab": {
          "base_uri": "https://localhost:8080/"
        },
        "id": "ucUAxvljigjL",
        "outputId": "494d55b4-8fb8-42c3-95ae-5de2a28f83d0"
      },
      "outputs": [
        {
          "data": {
            "text/plain": [
              "0"
            ]
          },
          "execution_count": 80,
          "metadata": {},
          "output_type": "execute_result"
        }
      ],
      "source": [
        "df.duplicated().sum()"
      ]
    },
    {
      "cell_type": "code",
      "execution_count": null,
      "metadata": {
        "colab": {
          "base_uri": "https://localhost:8080/"
        },
        "id": "FlT_9q_uiiDF",
        "outputId": "7b8d7b36-f1bd-49f6-89b7-8a595b3e531f"
      },
      "outputs": [
        {
          "name": "stdout",
          "output_type": "stream",
          "text": [
            "The total number of spam and not spam message in our dataset is\n",
            " label\n",
            "ham     4516\n",
            "spam    1409\n",
            "Name: count, dtype: int64\n"
          ]
        }
      ],
      "source": [
        "print('The total number of spam and not spam message in our dataset is\\n',df['label'].value_counts())"
      ]
    },
    {
      "cell_type": "markdown",
      "metadata": {
        "id": "0WH7uCiYomuf"
      },
      "source": [
        "# Data Preprocessing"
      ]
    },
    {
      "cell_type": "code",
      "execution_count": null,
      "metadata": {
        "colab": {
          "base_uri": "https://localhost:8080/"
        },
        "id": "Vz04ov-pVvLb",
        "outputId": "37bcd41f-ed37-4e66-b941-13397133fd4c"
      },
      "outputs": [
        {
          "name": "stdout",
          "output_type": "stream",
          "text": [
            "Requirement already satisfied: nlpaug in /usr/local/lib/python3.10/dist-packages (1.1.11)\n",
            "Requirement already satisfied: numpy>=1.16.2 in /usr/local/lib/python3.10/dist-packages (from nlpaug) (1.25.2)\n",
            "Requirement already satisfied: pandas>=1.2.0 in /usr/local/lib/python3.10/dist-packages (from nlpaug) (2.0.3)\n",
            "Requirement already satisfied: requests>=2.22.0 in /usr/local/lib/python3.10/dist-packages (from nlpaug) (2.31.0)\n",
            "Requirement already satisfied: gdown>=4.0.0 in /usr/local/lib/python3.10/dist-packages (from nlpaug) (5.1.0)\n",
            "Requirement already satisfied: beautifulsoup4 in /usr/local/lib/python3.10/dist-packages (from gdown>=4.0.0->nlpaug) (4.12.3)\n",
            "Requirement already satisfied: filelock in /usr/local/lib/python3.10/dist-packages (from gdown>=4.0.0->nlpaug) (3.14.0)\n",
            "Requirement already satisfied: tqdm in /usr/local/lib/python3.10/dist-packages (from gdown>=4.0.0->nlpaug) (4.66.4)\n",
            "Requirement already satisfied: python-dateutil>=2.8.2 in /usr/local/lib/python3.10/dist-packages (from pandas>=1.2.0->nlpaug) (2.8.2)\n",
            "Requirement already satisfied: pytz>=2020.1 in /usr/local/lib/python3.10/dist-packages (from pandas>=1.2.0->nlpaug) (2023.4)\n",
            "Requirement already satisfied: tzdata>=2022.1 in /usr/local/lib/python3.10/dist-packages (from pandas>=1.2.0->nlpaug) (2024.1)\n",
            "Requirement already satisfied: charset-normalizer<4,>=2 in /usr/local/lib/python3.10/dist-packages (from requests>=2.22.0->nlpaug) (3.3.2)\n",
            "Requirement already satisfied: idna<4,>=2.5 in /usr/local/lib/python3.10/dist-packages (from requests>=2.22.0->nlpaug) (3.7)\n",
            "Requirement already satisfied: urllib3<3,>=1.21.1 in /usr/local/lib/python3.10/dist-packages (from requests>=2.22.0->nlpaug) (1.26.18)\n",
            "Requirement already satisfied: certifi>=2017.4.17 in /usr/local/lib/python3.10/dist-packages (from requests>=2.22.0->nlpaug) (2024.2.2)\n",
            "Requirement already satisfied: six>=1.5 in /usr/local/lib/python3.10/dist-packages (from python-dateutil>=2.8.2->pandas>=1.2.0->nlpaug) (1.16.0)\n",
            "Requirement already satisfied: soupsieve>1.2 in /usr/local/lib/python3.10/dist-packages (from beautifulsoup4->gdown>=4.0.0->nlpaug) (2.5)\n",
            "Requirement already satisfied: PySocks!=1.5.7,>=1.5.6 in /usr/local/lib/python3.10/dist-packages (from requests>=2.22.0->nlpaug) (1.7.1)\n"
          ]
        }
      ],
      "source": [
        "pip install nlpaug"
      ]
    },
    {
      "cell_type": "code",
      "execution_count": null,
      "metadata": {
        "colab": {
          "base_uri": "https://localhost:8080/"
        },
        "id": "QEKpgavuV299",
        "outputId": "afcf7f5d-adf8-4fa7-e0db-158d3581a7b2"
      },
      "outputs": [
        {
          "name": "stdout",
          "output_type": "stream",
          "text": [
            "Requirement already satisfied: contractions in /usr/local/lib/python3.10/dist-packages (0.1.73)\n",
            "Requirement already satisfied: textsearch>=0.0.21 in /usr/local/lib/python3.10/dist-packages (from contractions) (0.0.24)\n",
            "Requirement already satisfied: anyascii in /usr/local/lib/python3.10/dist-packages (from textsearch>=0.0.21->contractions) (0.3.2)\n",
            "Requirement already satisfied: pyahocorasick in /usr/local/lib/python3.10/dist-packages (from textsearch>=0.0.21->contractions) (2.1.0)\n"
          ]
        }
      ],
      "source": [
        "!pip install contractions"
      ]
    },
    {
      "cell_type": "code",
      "execution_count": null,
      "metadata": {
        "colab": {
          "base_uri": "https://localhost:8080/"
        },
        "id": "V-kty4qsOwuo",
        "outputId": "7f324247-2b6d-42c8-d65c-18f64f171272"
      },
      "outputs": [
        {
          "name": "stderr",
          "output_type": "stream",
          "text": [
            "[nltk_data] Downloading package stopwords to /root/nltk_data...\n",
            "[nltk_data]   Package stopwords is already up-to-date!\n",
            "[nltk_data] Downloading package punkt to /root/nltk_data...\n",
            "[nltk_data]   Package punkt is already up-to-date!\n",
            "[nltk_data] Downloading package averaged_perceptron_tagger to\n",
            "[nltk_data]     /root/nltk_data...\n",
            "[nltk_data]   Package averaged_perceptron_tagger is already up-to-\n",
            "[nltk_data]       date!\n",
            "[nltk_data] Downloading package wordnet to /root/nltk_data...\n",
            "[nltk_data]   Package wordnet is already up-to-date!\n"
          ]
        },
        {
          "data": {
            "text/plain": [
              "True"
            ]
          },
          "execution_count": 84,
          "metadata": {},
          "output_type": "execute_result"
        }
      ],
      "source": [
        "import nltk\n",
        "import re\n",
        "import nlpaug.augmenter.word as naw\n",
        "import contractions\n",
        "from nltk.tokenize import word_tokenize\n",
        "from nltk.corpus import stopwords\n",
        "from nltk.stem import WordNetLemmatizer\n",
        "from nltk.stem import SnowballStemmer\n",
        "from nltk.corpus import wordnet\n",
        "from sklearn.utils import resample\n",
        "\n",
        "nltk.download('stopwords')\n",
        "nltk.download('punkt')\n",
        "nltk.download('averaged_perceptron_tagger')\n",
        "nltk.download('wordnet')"
      ]
    },
    {
      "cell_type": "code",
      "execution_count": null,
      "metadata": {
        "colab": {
          "base_uri": "https://localhost:8080/"
        },
        "id": "Si2PZCi_Ut0K",
        "outputId": "1135f226-c235-418b-8e1f-583ad310897e"
      },
      "outputs": [
        {
          "name": "stderr",
          "output_type": "stream",
          "text": [
            "<ipython-input-85-b463ce2299f3>:1: SettingWithCopyWarning: \n",
            "A value is trying to be set on a copy of a slice from a DataFrame.\n",
            "Try using .loc[row_indexer,col_indexer] = value instead\n",
            "\n",
            "See the caveats in the documentation: https://pandas.pydata.org/pandas-docs/stable/user_guide/indexing.html#returning-a-view-versus-a-copy\n",
            "  df['label'] = df['label'].map( {'spam': 1, 'ham': 0})\n"
          ]
        }
      ],
      "source": [
        "df['label'] = df['label'].map( {'spam': 1, 'ham': 0})"
      ]
    },
    {
      "cell_type": "code",
      "execution_count": null,
      "metadata": {
        "colab": {
          "base_uri": "https://localhost:8080/",
          "height": 424
        },
        "id": "qZ_fBttimh5h",
        "outputId": "45aa015b-6968-499c-8ff3-8e5b08b92736"
      },
      "outputs": [
        {
          "data": {
            "application/vnd.google.colaboratory.intrinsic+json": {
              "summary": "{\n  \"name\": \"df\",\n  \"rows\": 5925,\n  \"fields\": [\n    {\n      \"column\": \"label\",\n      \"properties\": {\n        \"dtype\": \"number\",\n        \"std\": 0,\n        \"min\": 0,\n        \"max\": 1,\n        \"num_unique_values\": 2,\n        \"samples\": [\n          1,\n          0\n        ],\n        \"semantic_type\": \"\",\n        \"description\": \"\"\n      }\n    },\n    {\n      \"column\": \"sms\",\n      \"properties\": {\n        \"dtype\": \"string\",\n        \"num_unique_values\": 5925,\n        \"samples\": [\n          \"Indians r poor but India is not a poor country. Says one of the swiss bank directors. He says that \\\\ &lt;#&gt;  lac crore\\\\\\\" of Indian money is deposited in swiss banks which can be used for 'taxless' budget for  &lt;#&gt;  yrs. Can give  &lt;#&gt;  crore jobs to all Indians. From any village to Delhi 4 lane roads. Forever free power suply to more than  &lt;#&gt;  social projects. Every citizen can get monthly  &lt;#&gt; /- for  &lt;#&gt;  yrs. No need of World Bank &amp; IMF loan. Think how our money is blocked by rich politicians. We have full rights against corrupt politicians. Itna forward karo ki pura INDIA padhe.g.m.\\\\\\\"\\\"\",\n          \"Enjoy the jamster videosound gold club with your credits for 2 new videosounds+2 logos+musicnews! get more fun from jamster.co.uk! 16+only Help? call: 09701213186 \"\n        ],\n        \"semantic_type\": \"\",\n        \"description\": \"\"\n      }\n    }\n  ]\n}",
              "type": "dataframe",
              "variable_name": "df"
            },
            "text/html": [
              "\n",
              "  <div id=\"df-de73a489-6c40-410b-93b0-8df297989871\" class=\"colab-df-container\">\n",
              "    <div>\n",
              "<style scoped>\n",
              "    .dataframe tbody tr th:only-of-type {\n",
              "        vertical-align: middle;\n",
              "    }\n",
              "\n",
              "    .dataframe tbody tr th {\n",
              "        vertical-align: top;\n",
              "    }\n",
              "\n",
              "    .dataframe thead th {\n",
              "        text-align: right;\n",
              "    }\n",
              "</style>\n",
              "<table border=\"1\" class=\"dataframe\">\n",
              "  <thead>\n",
              "    <tr style=\"text-align: right;\">\n",
              "      <th></th>\n",
              "      <th>label</th>\n",
              "      <th>sms</th>\n",
              "    </tr>\n",
              "  </thead>\n",
              "  <tbody>\n",
              "    <tr>\n",
              "      <th>0</th>\n",
              "      <td>0</td>\n",
              "      <td>Go until jurong point, crazy.. Available only ...</td>\n",
              "    </tr>\n",
              "    <tr>\n",
              "      <th>1</th>\n",
              "      <td>0</td>\n",
              "      <td>Ok lar... Joking wif u oni...</td>\n",
              "    </tr>\n",
              "    <tr>\n",
              "      <th>2</th>\n",
              "      <td>1</td>\n",
              "      <td>Free entry in 2 a wkly comp to win FA Cup fina...</td>\n",
              "    </tr>\n",
              "    <tr>\n",
              "      <th>3</th>\n",
              "      <td>0</td>\n",
              "      <td>U dun say so early hor... U c already then say...</td>\n",
              "    </tr>\n",
              "    <tr>\n",
              "      <th>4</th>\n",
              "      <td>0</td>\n",
              "      <td>Nah I don't think he goes to usf, he lives aro...</td>\n",
              "    </tr>\n",
              "    <tr>\n",
              "      <th>...</th>\n",
              "      <td>...</td>\n",
              "      <td>...</td>\n",
              "    </tr>\n",
              "    <tr>\n",
              "      <th>6274</th>\n",
              "      <td>1</td>\n",
              "      <td>Your SAM registration has been received! Click...</td>\n",
              "    </tr>\n",
              "    <tr>\n",
              "      <th>6279</th>\n",
              "      <td>1</td>\n",
              "      <td>You have won a Nokia 7250i. This is what you g...</td>\n",
              "    </tr>\n",
              "    <tr>\n",
              "      <th>6280</th>\n",
              "      <td>1</td>\n",
              "      <td>Get ur 1st RINGTONE FREE NOW! Reply to this ms...</td>\n",
              "    </tr>\n",
              "    <tr>\n",
              "      <th>6282</th>\n",
              "      <td>1</td>\n",
              "      <td>Records indicate you were involved in an accid...</td>\n",
              "    </tr>\n",
              "    <tr>\n",
              "      <th>6283</th>\n",
              "      <td>1</td>\n",
              "      <td>call now 08707509020 Just 20p per min NTT Ltd...</td>\n",
              "    </tr>\n",
              "  </tbody>\n",
              "</table>\n",
              "<p>5925 rows × 2 columns</p>\n",
              "</div>\n",
              "    <div class=\"colab-df-buttons\">\n",
              "\n",
              "  <div class=\"colab-df-container\">\n",
              "    <button class=\"colab-df-convert\" onclick=\"convertToInteractive('df-de73a489-6c40-410b-93b0-8df297989871')\"\n",
              "            title=\"Convert this dataframe to an interactive table.\"\n",
              "            style=\"display:none;\">\n",
              "\n",
              "  <svg xmlns=\"http://www.w3.org/2000/svg\" height=\"24px\" viewBox=\"0 -960 960 960\">\n",
              "    <path d=\"M120-120v-720h720v720H120Zm60-500h600v-160H180v160Zm220 220h160v-160H400v160Zm0 220h160v-160H400v160ZM180-400h160v-160H180v160Zm440 0h160v-160H620v160ZM180-180h160v-160H180v160Zm440 0h160v-160H620v160Z\"/>\n",
              "  </svg>\n",
              "    </button>\n",
              "\n",
              "  <style>\n",
              "    .colab-df-container {\n",
              "      display:flex;\n",
              "      gap: 12px;\n",
              "    }\n",
              "\n",
              "    .colab-df-convert {\n",
              "      background-color: #E8F0FE;\n",
              "      border: none;\n",
              "      border-radius: 50%;\n",
              "      cursor: pointer;\n",
              "      display: none;\n",
              "      fill: #1967D2;\n",
              "      height: 32px;\n",
              "      padding: 0 0 0 0;\n",
              "      width: 32px;\n",
              "    }\n",
              "\n",
              "    .colab-df-convert:hover {\n",
              "      background-color: #E2EBFA;\n",
              "      box-shadow: 0px 1px 2px rgba(60, 64, 67, 0.3), 0px 1px 3px 1px rgba(60, 64, 67, 0.15);\n",
              "      fill: #174EA6;\n",
              "    }\n",
              "\n",
              "    .colab-df-buttons div {\n",
              "      margin-bottom: 4px;\n",
              "    }\n",
              "\n",
              "    [theme=dark] .colab-df-convert {\n",
              "      background-color: #3B4455;\n",
              "      fill: #D2E3FC;\n",
              "    }\n",
              "\n",
              "    [theme=dark] .colab-df-convert:hover {\n",
              "      background-color: #434B5C;\n",
              "      box-shadow: 0px 1px 3px 1px rgba(0, 0, 0, 0.15);\n",
              "      filter: drop-shadow(0px 1px 2px rgba(0, 0, 0, 0.3));\n",
              "      fill: #FFFFFF;\n",
              "    }\n",
              "  </style>\n",
              "\n",
              "    <script>\n",
              "      const buttonEl =\n",
              "        document.querySelector('#df-de73a489-6c40-410b-93b0-8df297989871 button.colab-df-convert');\n",
              "      buttonEl.style.display =\n",
              "        google.colab.kernel.accessAllowed ? 'block' : 'none';\n",
              "\n",
              "      async function convertToInteractive(key) {\n",
              "        const element = document.querySelector('#df-de73a489-6c40-410b-93b0-8df297989871');\n",
              "        const dataTable =\n",
              "          await google.colab.kernel.invokeFunction('convertToInteractive',\n",
              "                                                    [key], {});\n",
              "        if (!dataTable) return;\n",
              "\n",
              "        const docLinkHtml = 'Like what you see? Visit the ' +\n",
              "          '<a target=\"_blank\" href=https://colab.research.google.com/notebooks/data_table.ipynb>data table notebook</a>'\n",
              "          + ' to learn more about interactive tables.';\n",
              "        element.innerHTML = '';\n",
              "        dataTable['output_type'] = 'display_data';\n",
              "        await google.colab.output.renderOutput(dataTable, element);\n",
              "        const docLink = document.createElement('div');\n",
              "        docLink.innerHTML = docLinkHtml;\n",
              "        element.appendChild(docLink);\n",
              "      }\n",
              "    </script>\n",
              "  </div>\n",
              "\n",
              "\n",
              "<div id=\"df-f33fce15-ca6a-4e10-8f89-010fea54e95f\">\n",
              "  <button class=\"colab-df-quickchart\" onclick=\"quickchart('df-f33fce15-ca6a-4e10-8f89-010fea54e95f')\"\n",
              "            title=\"Suggest charts\"\n",
              "            style=\"display:none;\">\n",
              "\n",
              "<svg xmlns=\"http://www.w3.org/2000/svg\" height=\"24px\"viewBox=\"0 0 24 24\"\n",
              "     width=\"24px\">\n",
              "    <g>\n",
              "        <path d=\"M19 3H5c-1.1 0-2 .9-2 2v14c0 1.1.9 2 2 2h14c1.1 0 2-.9 2-2V5c0-1.1-.9-2-2-2zM9 17H7v-7h2v7zm4 0h-2V7h2v10zm4 0h-2v-4h2v4z\"/>\n",
              "    </g>\n",
              "</svg>\n",
              "  </button>\n",
              "\n",
              "<style>\n",
              "  .colab-df-quickchart {\n",
              "      --bg-color: #E8F0FE;\n",
              "      --fill-color: #1967D2;\n",
              "      --hover-bg-color: #E2EBFA;\n",
              "      --hover-fill-color: #174EA6;\n",
              "      --disabled-fill-color: #AAA;\n",
              "      --disabled-bg-color: #DDD;\n",
              "  }\n",
              "\n",
              "  [theme=dark] .colab-df-quickchart {\n",
              "      --bg-color: #3B4455;\n",
              "      --fill-color: #D2E3FC;\n",
              "      --hover-bg-color: #434B5C;\n",
              "      --hover-fill-color: #FFFFFF;\n",
              "      --disabled-bg-color: #3B4455;\n",
              "      --disabled-fill-color: #666;\n",
              "  }\n",
              "\n",
              "  .colab-df-quickchart {\n",
              "    background-color: var(--bg-color);\n",
              "    border: none;\n",
              "    border-radius: 50%;\n",
              "    cursor: pointer;\n",
              "    display: none;\n",
              "    fill: var(--fill-color);\n",
              "    height: 32px;\n",
              "    padding: 0;\n",
              "    width: 32px;\n",
              "  }\n",
              "\n",
              "  .colab-df-quickchart:hover {\n",
              "    background-color: var(--hover-bg-color);\n",
              "    box-shadow: 0 1px 2px rgba(60, 64, 67, 0.3), 0 1px 3px 1px rgba(60, 64, 67, 0.15);\n",
              "    fill: var(--button-hover-fill-color);\n",
              "  }\n",
              "\n",
              "  .colab-df-quickchart-complete:disabled,\n",
              "  .colab-df-quickchart-complete:disabled:hover {\n",
              "    background-color: var(--disabled-bg-color);\n",
              "    fill: var(--disabled-fill-color);\n",
              "    box-shadow: none;\n",
              "  }\n",
              "\n",
              "  .colab-df-spinner {\n",
              "    border: 2px solid var(--fill-color);\n",
              "    border-color: transparent;\n",
              "    border-bottom-color: var(--fill-color);\n",
              "    animation:\n",
              "      spin 1s steps(1) infinite;\n",
              "  }\n",
              "\n",
              "  @keyframes spin {\n",
              "    0% {\n",
              "      border-color: transparent;\n",
              "      border-bottom-color: var(--fill-color);\n",
              "      border-left-color: var(--fill-color);\n",
              "    }\n",
              "    20% {\n",
              "      border-color: transparent;\n",
              "      border-left-color: var(--fill-color);\n",
              "      border-top-color: var(--fill-color);\n",
              "    }\n",
              "    30% {\n",
              "      border-color: transparent;\n",
              "      border-left-color: var(--fill-color);\n",
              "      border-top-color: var(--fill-color);\n",
              "      border-right-color: var(--fill-color);\n",
              "    }\n",
              "    40% {\n",
              "      border-color: transparent;\n",
              "      border-right-color: var(--fill-color);\n",
              "      border-top-color: var(--fill-color);\n",
              "    }\n",
              "    60% {\n",
              "      border-color: transparent;\n",
              "      border-right-color: var(--fill-color);\n",
              "    }\n",
              "    80% {\n",
              "      border-color: transparent;\n",
              "      border-right-color: var(--fill-color);\n",
              "      border-bottom-color: var(--fill-color);\n",
              "    }\n",
              "    90% {\n",
              "      border-color: transparent;\n",
              "      border-bottom-color: var(--fill-color);\n",
              "    }\n",
              "  }\n",
              "</style>\n",
              "\n",
              "  <script>\n",
              "    async function quickchart(key) {\n",
              "      const quickchartButtonEl =\n",
              "        document.querySelector('#' + key + ' button');\n",
              "      quickchartButtonEl.disabled = true;  // To prevent multiple clicks.\n",
              "      quickchartButtonEl.classList.add('colab-df-spinner');\n",
              "      try {\n",
              "        const charts = await google.colab.kernel.invokeFunction(\n",
              "            'suggestCharts', [key], {});\n",
              "      } catch (error) {\n",
              "        console.error('Error during call to suggestCharts:', error);\n",
              "      }\n",
              "      quickchartButtonEl.classList.remove('colab-df-spinner');\n",
              "      quickchartButtonEl.classList.add('colab-df-quickchart-complete');\n",
              "    }\n",
              "    (() => {\n",
              "      let quickchartButtonEl =\n",
              "        document.querySelector('#df-f33fce15-ca6a-4e10-8f89-010fea54e95f button');\n",
              "      quickchartButtonEl.style.display =\n",
              "        google.colab.kernel.accessAllowed ? 'block' : 'none';\n",
              "    })();\n",
              "  </script>\n",
              "</div>\n",
              "    </div>\n",
              "  </div>\n"
            ],
            "text/plain": [
              "      label                                                sms\n",
              "0         0  Go until jurong point, crazy.. Available only ...\n",
              "1         0                      Ok lar... Joking wif u oni...\n",
              "2         1  Free entry in 2 a wkly comp to win FA Cup fina...\n",
              "3         0  U dun say so early hor... U c already then say...\n",
              "4         0  Nah I don't think he goes to usf, he lives aro...\n",
              "...     ...                                                ...\n",
              "6274      1  Your SAM registration has been received! Click...\n",
              "6279      1  You have won a Nokia 7250i. This is what you g...\n",
              "6280      1  Get ur 1st RINGTONE FREE NOW! Reply to this ms...\n",
              "6282      1  Records indicate you were involved in an accid...\n",
              "6283      1   call now 08707509020 Just 20p per min NTT Ltd...\n",
              "\n",
              "[5925 rows x 2 columns]"
            ]
          },
          "execution_count": 86,
          "metadata": {},
          "output_type": "execute_result"
        }
      ],
      "source": [
        "df"
      ]
    },
    {
      "cell_type": "code",
      "execution_count": null,
      "metadata": {
        "colab": {
          "base_uri": "https://localhost:8080/"
        },
        "id": "VfuL-ywDSi9H",
        "outputId": "4d403321-5c0e-4862-9233-12a720c78979"
      },
      "outputs": [
        {
          "name": "stderr",
          "output_type": "stream",
          "text": [
            "<ipython-input-87-659813654961>:2: SettingWithCopyWarning: \n",
            "A value is trying to be set on a copy of a slice from a DataFrame.\n",
            "Try using .loc[row_indexer,col_indexer] = value instead\n",
            "\n",
            "See the caveats in the documentation: https://pandas.pydata.org/pandas-docs/stable/user_guide/indexing.html#returning-a-view-versus-a-copy\n",
            "  df['change_sms'] = df['sms'].copy()\n",
            "<ipython-input-87-659813654961>:5: SettingWithCopyWarning: \n",
            "A value is trying to be set on a copy of a slice from a DataFrame.\n",
            "Try using .loc[row_indexer,col_indexer] = value instead\n",
            "\n",
            "See the caveats in the documentation: https://pandas.pydata.org/pandas-docs/stable/user_guide/indexing.html#returning-a-view-versus-a-copy\n",
            "  df['change_sms'] = df['change_sms'].str.strip()\n",
            "<ipython-input-87-659813654961>:8: SettingWithCopyWarning: \n",
            "A value is trying to be set on a copy of a slice from a DataFrame.\n",
            "Try using .loc[row_indexer,col_indexer] = value instead\n",
            "\n",
            "See the caveats in the documentation: https://pandas.pydata.org/pandas-docs/stable/user_guide/indexing.html#returning-a-view-versus-a-copy\n",
            "  df['change_sms'] = df['change_sms'].str.lower()\n",
            "<ipython-input-87-659813654961>:11: SettingWithCopyWarning: \n",
            "A value is trying to be set on a copy of a slice from a DataFrame.\n",
            "Try using .loc[row_indexer,col_indexer] = value instead\n",
            "\n",
            "See the caveats in the documentation: https://pandas.pydata.org/pandas-docs/stable/user_guide/indexing.html#returning-a-view-versus-a-copy\n",
            "  df['change_sms'] = df['change_sms'].apply(lambda x: contractions.fix(x))\n"
          ]
        }
      ],
      "source": [
        "# Copy the 'sms' column to the 'change_sms' column\n",
        "df['change_sms'] = df['sms'].copy()\n",
        "\n",
        "# Remove leading and trailing whitespaces from the 'change_sms' column\n",
        "df['change_sms'] = df['change_sms'].str.strip()\n",
        "\n",
        "# Convert all characters in the 'change_sms' column to lowercase\n",
        "df['change_sms'] = df['change_sms'].str.lower()\n",
        "\n",
        "# Expand contractions\n",
        "df['change_sms'] = df['change_sms'].apply(lambda x: contractions.fix(x))\n"
      ]
    },
    {
      "cell_type": "code",
      "execution_count": null,
      "metadata": {
        "colab": {
          "base_uri": "https://localhost:8080/",
          "height": 424
        },
        "id": "ZFCCGzdAKq8w",
        "outputId": "35fee650-865c-4df0-d603-49b332c8301e"
      },
      "outputs": [
        {
          "data": {
            "application/vnd.google.colaboratory.intrinsic+json": {
              "summary": "{\n  \"name\": \"df\",\n  \"rows\": 5925,\n  \"fields\": [\n    {\n      \"column\": \"label\",\n      \"properties\": {\n        \"dtype\": \"number\",\n        \"std\": 0,\n        \"min\": 0,\n        \"max\": 1,\n        \"num_unique_values\": 2,\n        \"samples\": [\n          1,\n          0\n        ],\n        \"semantic_type\": \"\",\n        \"description\": \"\"\n      }\n    },\n    {\n      \"column\": \"sms\",\n      \"properties\": {\n        \"dtype\": \"string\",\n        \"num_unique_values\": 5925,\n        \"samples\": [\n          \"Indians r poor but India is not a poor country. Says one of the swiss bank directors. He says that \\\\ &lt;#&gt;  lac crore\\\\\\\" of Indian money is deposited in swiss banks which can be used for 'taxless' budget for  &lt;#&gt;  yrs. Can give  &lt;#&gt;  crore jobs to all Indians. From any village to Delhi 4 lane roads. Forever free power suply to more than  &lt;#&gt;  social projects. Every citizen can get monthly  &lt;#&gt; /- for  &lt;#&gt;  yrs. No need of World Bank &amp; IMF loan. Think how our money is blocked by rich politicians. We have full rights against corrupt politicians. Itna forward karo ki pura INDIA padhe.g.m.\\\\\\\"\\\"\",\n          \"Enjoy the jamster videosound gold club with your credits for 2 new videosounds+2 logos+musicnews! get more fun from jamster.co.uk! 16+only Help? call: 09701213186 \"\n        ],\n        \"semantic_type\": \"\",\n        \"description\": \"\"\n      }\n    },\n    {\n      \"column\": \"change_sms\",\n      \"properties\": {\n        \"dtype\": \"string\",\n        \"num_unique_values\": 5784,\n        \"samples\": [\n          \"i am on the bus. love you\",\n          \"haha i heard that, text me when you are around\"\n        ],\n        \"semantic_type\": \"\",\n        \"description\": \"\"\n      }\n    }\n  ]\n}",
              "type": "dataframe",
              "variable_name": "df"
            },
            "text/html": [
              "\n",
              "  <div id=\"df-bfd82882-99ff-478d-a027-d3305ce90bbb\" class=\"colab-df-container\">\n",
              "    <div>\n",
              "<style scoped>\n",
              "    .dataframe tbody tr th:only-of-type {\n",
              "        vertical-align: middle;\n",
              "    }\n",
              "\n",
              "    .dataframe tbody tr th {\n",
              "        vertical-align: top;\n",
              "    }\n",
              "\n",
              "    .dataframe thead th {\n",
              "        text-align: right;\n",
              "    }\n",
              "</style>\n",
              "<table border=\"1\" class=\"dataframe\">\n",
              "  <thead>\n",
              "    <tr style=\"text-align: right;\">\n",
              "      <th></th>\n",
              "      <th>label</th>\n",
              "      <th>sms</th>\n",
              "      <th>change_sms</th>\n",
              "    </tr>\n",
              "  </thead>\n",
              "  <tbody>\n",
              "    <tr>\n",
              "      <th>0</th>\n",
              "      <td>0</td>\n",
              "      <td>Go until jurong point, crazy.. Available only ...</td>\n",
              "      <td>go until jurong point, crazy.. available only ...</td>\n",
              "    </tr>\n",
              "    <tr>\n",
              "      <th>1</th>\n",
              "      <td>0</td>\n",
              "      <td>Ok lar... Joking wif u oni...</td>\n",
              "      <td>ok lar... joking wif you oni...</td>\n",
              "    </tr>\n",
              "    <tr>\n",
              "      <th>2</th>\n",
              "      <td>1</td>\n",
              "      <td>Free entry in 2 a wkly comp to win FA Cup fina...</td>\n",
              "      <td>free entry in 2 a wkly comp to win fa cup fina...</td>\n",
              "    </tr>\n",
              "    <tr>\n",
              "      <th>3</th>\n",
              "      <td>0</td>\n",
              "      <td>U dun say so early hor... U c already then say...</td>\n",
              "      <td>you dun say so early hor... you c already then...</td>\n",
              "    </tr>\n",
              "    <tr>\n",
              "      <th>4</th>\n",
              "      <td>0</td>\n",
              "      <td>Nah I don't think he goes to usf, he lives aro...</td>\n",
              "      <td>nah i do not think he goes to usf, he lives ar...</td>\n",
              "    </tr>\n",
              "    <tr>\n",
              "      <th>...</th>\n",
              "      <td>...</td>\n",
              "      <td>...</td>\n",
              "      <td>...</td>\n",
              "    </tr>\n",
              "    <tr>\n",
              "      <th>6274</th>\n",
              "      <td>1</td>\n",
              "      <td>Your SAM registration has been received! Click...</td>\n",
              "      <td>your sam registration has been received! click...</td>\n",
              "    </tr>\n",
              "    <tr>\n",
              "      <th>6279</th>\n",
              "      <td>1</td>\n",
              "      <td>You have won a Nokia 7250i. This is what you g...</td>\n",
              "      <td>you have won a nokia 7250i. this is what you g...</td>\n",
              "    </tr>\n",
              "    <tr>\n",
              "      <th>6280</th>\n",
              "      <td>1</td>\n",
              "      <td>Get ur 1st RINGTONE FREE NOW! Reply to this ms...</td>\n",
              "      <td>get you are 1st ringtone free now! reply to th...</td>\n",
              "    </tr>\n",
              "    <tr>\n",
              "      <th>6282</th>\n",
              "      <td>1</td>\n",
              "      <td>Records indicate you were involved in an accid...</td>\n",
              "      <td>records indicate you were involved in an accid...</td>\n",
              "    </tr>\n",
              "    <tr>\n",
              "      <th>6283</th>\n",
              "      <td>1</td>\n",
              "      <td>call now 08707509020 Just 20p per min NTT Ltd...</td>\n",
              "      <td>call now 08707509020 just 20p per min ntt ltd,...</td>\n",
              "    </tr>\n",
              "  </tbody>\n",
              "</table>\n",
              "<p>5925 rows × 3 columns</p>\n",
              "</div>\n",
              "    <div class=\"colab-df-buttons\">\n",
              "\n",
              "  <div class=\"colab-df-container\">\n",
              "    <button class=\"colab-df-convert\" onclick=\"convertToInteractive('df-bfd82882-99ff-478d-a027-d3305ce90bbb')\"\n",
              "            title=\"Convert this dataframe to an interactive table.\"\n",
              "            style=\"display:none;\">\n",
              "\n",
              "  <svg xmlns=\"http://www.w3.org/2000/svg\" height=\"24px\" viewBox=\"0 -960 960 960\">\n",
              "    <path d=\"M120-120v-720h720v720H120Zm60-500h600v-160H180v160Zm220 220h160v-160H400v160Zm0 220h160v-160H400v160ZM180-400h160v-160H180v160Zm440 0h160v-160H620v160ZM180-180h160v-160H180v160Zm440 0h160v-160H620v160Z\"/>\n",
              "  </svg>\n",
              "    </button>\n",
              "\n",
              "  <style>\n",
              "    .colab-df-container {\n",
              "      display:flex;\n",
              "      gap: 12px;\n",
              "    }\n",
              "\n",
              "    .colab-df-convert {\n",
              "      background-color: #E8F0FE;\n",
              "      border: none;\n",
              "      border-radius: 50%;\n",
              "      cursor: pointer;\n",
              "      display: none;\n",
              "      fill: #1967D2;\n",
              "      height: 32px;\n",
              "      padding: 0 0 0 0;\n",
              "      width: 32px;\n",
              "    }\n",
              "\n",
              "    .colab-df-convert:hover {\n",
              "      background-color: #E2EBFA;\n",
              "      box-shadow: 0px 1px 2px rgba(60, 64, 67, 0.3), 0px 1px 3px 1px rgba(60, 64, 67, 0.15);\n",
              "      fill: #174EA6;\n",
              "    }\n",
              "\n",
              "    .colab-df-buttons div {\n",
              "      margin-bottom: 4px;\n",
              "    }\n",
              "\n",
              "    [theme=dark] .colab-df-convert {\n",
              "      background-color: #3B4455;\n",
              "      fill: #D2E3FC;\n",
              "    }\n",
              "\n",
              "    [theme=dark] .colab-df-convert:hover {\n",
              "      background-color: #434B5C;\n",
              "      box-shadow: 0px 1px 3px 1px rgba(0, 0, 0, 0.15);\n",
              "      filter: drop-shadow(0px 1px 2px rgba(0, 0, 0, 0.3));\n",
              "      fill: #FFFFFF;\n",
              "    }\n",
              "  </style>\n",
              "\n",
              "    <script>\n",
              "      const buttonEl =\n",
              "        document.querySelector('#df-bfd82882-99ff-478d-a027-d3305ce90bbb button.colab-df-convert');\n",
              "      buttonEl.style.display =\n",
              "        google.colab.kernel.accessAllowed ? 'block' : 'none';\n",
              "\n",
              "      async function convertToInteractive(key) {\n",
              "        const element = document.querySelector('#df-bfd82882-99ff-478d-a027-d3305ce90bbb');\n",
              "        const dataTable =\n",
              "          await google.colab.kernel.invokeFunction('convertToInteractive',\n",
              "                                                    [key], {});\n",
              "        if (!dataTable) return;\n",
              "\n",
              "        const docLinkHtml = 'Like what you see? Visit the ' +\n",
              "          '<a target=\"_blank\" href=https://colab.research.google.com/notebooks/data_table.ipynb>data table notebook</a>'\n",
              "          + ' to learn more about interactive tables.';\n",
              "        element.innerHTML = '';\n",
              "        dataTable['output_type'] = 'display_data';\n",
              "        await google.colab.output.renderOutput(dataTable, element);\n",
              "        const docLink = document.createElement('div');\n",
              "        docLink.innerHTML = docLinkHtml;\n",
              "        element.appendChild(docLink);\n",
              "      }\n",
              "    </script>\n",
              "  </div>\n",
              "\n",
              "\n",
              "<div id=\"df-3d0a8f6e-db5a-4f00-9968-ef7eacf912ac\">\n",
              "  <button class=\"colab-df-quickchart\" onclick=\"quickchart('df-3d0a8f6e-db5a-4f00-9968-ef7eacf912ac')\"\n",
              "            title=\"Suggest charts\"\n",
              "            style=\"display:none;\">\n",
              "\n",
              "<svg xmlns=\"http://www.w3.org/2000/svg\" height=\"24px\"viewBox=\"0 0 24 24\"\n",
              "     width=\"24px\">\n",
              "    <g>\n",
              "        <path d=\"M19 3H5c-1.1 0-2 .9-2 2v14c0 1.1.9 2 2 2h14c1.1 0 2-.9 2-2V5c0-1.1-.9-2-2-2zM9 17H7v-7h2v7zm4 0h-2V7h2v10zm4 0h-2v-4h2v4z\"/>\n",
              "    </g>\n",
              "</svg>\n",
              "  </button>\n",
              "\n",
              "<style>\n",
              "  .colab-df-quickchart {\n",
              "      --bg-color: #E8F0FE;\n",
              "      --fill-color: #1967D2;\n",
              "      --hover-bg-color: #E2EBFA;\n",
              "      --hover-fill-color: #174EA6;\n",
              "      --disabled-fill-color: #AAA;\n",
              "      --disabled-bg-color: #DDD;\n",
              "  }\n",
              "\n",
              "  [theme=dark] .colab-df-quickchart {\n",
              "      --bg-color: #3B4455;\n",
              "      --fill-color: #D2E3FC;\n",
              "      --hover-bg-color: #434B5C;\n",
              "      --hover-fill-color: #FFFFFF;\n",
              "      --disabled-bg-color: #3B4455;\n",
              "      --disabled-fill-color: #666;\n",
              "  }\n",
              "\n",
              "  .colab-df-quickchart {\n",
              "    background-color: var(--bg-color);\n",
              "    border: none;\n",
              "    border-radius: 50%;\n",
              "    cursor: pointer;\n",
              "    display: none;\n",
              "    fill: var(--fill-color);\n",
              "    height: 32px;\n",
              "    padding: 0;\n",
              "    width: 32px;\n",
              "  }\n",
              "\n",
              "  .colab-df-quickchart:hover {\n",
              "    background-color: var(--hover-bg-color);\n",
              "    box-shadow: 0 1px 2px rgba(60, 64, 67, 0.3), 0 1px 3px 1px rgba(60, 64, 67, 0.15);\n",
              "    fill: var(--button-hover-fill-color);\n",
              "  }\n",
              "\n",
              "  .colab-df-quickchart-complete:disabled,\n",
              "  .colab-df-quickchart-complete:disabled:hover {\n",
              "    background-color: var(--disabled-bg-color);\n",
              "    fill: var(--disabled-fill-color);\n",
              "    box-shadow: none;\n",
              "  }\n",
              "\n",
              "  .colab-df-spinner {\n",
              "    border: 2px solid var(--fill-color);\n",
              "    border-color: transparent;\n",
              "    border-bottom-color: var(--fill-color);\n",
              "    animation:\n",
              "      spin 1s steps(1) infinite;\n",
              "  }\n",
              "\n",
              "  @keyframes spin {\n",
              "    0% {\n",
              "      border-color: transparent;\n",
              "      border-bottom-color: var(--fill-color);\n",
              "      border-left-color: var(--fill-color);\n",
              "    }\n",
              "    20% {\n",
              "      border-color: transparent;\n",
              "      border-left-color: var(--fill-color);\n",
              "      border-top-color: var(--fill-color);\n",
              "    }\n",
              "    30% {\n",
              "      border-color: transparent;\n",
              "      border-left-color: var(--fill-color);\n",
              "      border-top-color: var(--fill-color);\n",
              "      border-right-color: var(--fill-color);\n",
              "    }\n",
              "    40% {\n",
              "      border-color: transparent;\n",
              "      border-right-color: var(--fill-color);\n",
              "      border-top-color: var(--fill-color);\n",
              "    }\n",
              "    60% {\n",
              "      border-color: transparent;\n",
              "      border-right-color: var(--fill-color);\n",
              "    }\n",
              "    80% {\n",
              "      border-color: transparent;\n",
              "      border-right-color: var(--fill-color);\n",
              "      border-bottom-color: var(--fill-color);\n",
              "    }\n",
              "    90% {\n",
              "      border-color: transparent;\n",
              "      border-bottom-color: var(--fill-color);\n",
              "    }\n",
              "  }\n",
              "</style>\n",
              "\n",
              "  <script>\n",
              "    async function quickchart(key) {\n",
              "      const quickchartButtonEl =\n",
              "        document.querySelector('#' + key + ' button');\n",
              "      quickchartButtonEl.disabled = true;  // To prevent multiple clicks.\n",
              "      quickchartButtonEl.classList.add('colab-df-spinner');\n",
              "      try {\n",
              "        const charts = await google.colab.kernel.invokeFunction(\n",
              "            'suggestCharts', [key], {});\n",
              "      } catch (error) {\n",
              "        console.error('Error during call to suggestCharts:', error);\n",
              "      }\n",
              "      quickchartButtonEl.classList.remove('colab-df-spinner');\n",
              "      quickchartButtonEl.classList.add('colab-df-quickchart-complete');\n",
              "    }\n",
              "    (() => {\n",
              "      let quickchartButtonEl =\n",
              "        document.querySelector('#df-3d0a8f6e-db5a-4f00-9968-ef7eacf912ac button');\n",
              "      quickchartButtonEl.style.display =\n",
              "        google.colab.kernel.accessAllowed ? 'block' : 'none';\n",
              "    })();\n",
              "  </script>\n",
              "</div>\n",
              "    </div>\n",
              "  </div>\n"
            ],
            "text/plain": [
              "      label                                                sms  \\\n",
              "0         0  Go until jurong point, crazy.. Available only ...   \n",
              "1         0                      Ok lar... Joking wif u oni...   \n",
              "2         1  Free entry in 2 a wkly comp to win FA Cup fina...   \n",
              "3         0  U dun say so early hor... U c already then say...   \n",
              "4         0  Nah I don't think he goes to usf, he lives aro...   \n",
              "...     ...                                                ...   \n",
              "6274      1  Your SAM registration has been received! Click...   \n",
              "6279      1  You have won a Nokia 7250i. This is what you g...   \n",
              "6280      1  Get ur 1st RINGTONE FREE NOW! Reply to this ms...   \n",
              "6282      1  Records indicate you were involved in an accid...   \n",
              "6283      1   call now 08707509020 Just 20p per min NTT Ltd...   \n",
              "\n",
              "                                             change_sms  \n",
              "0     go until jurong point, crazy.. available only ...  \n",
              "1                       ok lar... joking wif you oni...  \n",
              "2     free entry in 2 a wkly comp to win fa cup fina...  \n",
              "3     you dun say so early hor... you c already then...  \n",
              "4     nah i do not think he goes to usf, he lives ar...  \n",
              "...                                                 ...  \n",
              "6274  your sam registration has been received! click...  \n",
              "6279  you have won a nokia 7250i. this is what you g...  \n",
              "6280  get you are 1st ringtone free now! reply to th...  \n",
              "6282  records indicate you were involved in an accid...  \n",
              "6283  call now 08707509020 just 20p per min ntt ltd,...  \n",
              "\n",
              "[5925 rows x 3 columns]"
            ]
          },
          "execution_count": 88,
          "metadata": {},
          "output_type": "execute_result"
        }
      ],
      "source": [
        "df"
      ]
    },
    {
      "cell_type": "code",
      "execution_count": null,
      "metadata": {
        "colab": {
          "base_uri": "https://localhost:8080/"
        },
        "id": "ca_DnRwcmpBN",
        "outputId": "c1d76a65-3284-4df5-f6bc-fc7721b19adc"
      },
      "outputs": [
        {
          "name": "stderr",
          "output_type": "stream",
          "text": [
            "<ipython-input-89-50d0c943b1b2>:18: SettingWithCopyWarning: \n",
            "A value is trying to be set on a copy of a slice from a DataFrame.\n",
            "Try using .loc[row_indexer,col_indexer] = value instead\n",
            "\n",
            "See the caveats in the documentation: https://pandas.pydata.org/pandas-docs/stable/user_guide/indexing.html#returning-a-view-versus-a-copy\n",
            "  df['change_sms'] = df['change_sms'].apply(lambda x: change_word_eng(x))\n"
          ]
        }
      ],
      "source": [
        "def change_word_eng(sms):\n",
        "    regex = r\"(http(s)?:\\/\\/.)?(www\\.)?[-a-zA-Z0-9@:%._\\+~#=]{2,256}\\.[a-z]{2,6}\\b([-a-zA-Z0-9@:%_\\+.~#?&//=]*)\"\n",
        "    sms = re.sub(regex, ' link ', sms)\n",
        "    sms= re.sub(r'\\b[A-Za-z0-9._%+-]+@[A-Za-z0-9.-]+\\.[A-Z|a-z]{2,}\\b',' email ',sms)\n",
        "    sms = re.sub(r'\\b(?:\\d{3}[-\\.\\s]??\\d{3}[-\\.\\s]??\\d{4}|\\d{10})\\b', ' phonenumber ', sms)\n",
        "    sms = re.sub(r'\\b(?:\\d{3}[-\\.\\s]??\\d{7})\\b', ' phonenumber ', sms)\n",
        "    sms = re.sub(r'\\b(?:\\d{2}[-\\.\\s]??\\d{3}[-\\.\\s]??\\d{4}|\\d{9})\\b', ' phonenumber ', sms)\n",
        "    sms = re.sub(r'\\b\\d{10}\\b', ' phonenumber ', sms)\n",
        "    sms = re.sub(r'\\b\\d{9}\\b', ' phonenumber ', sms)\n",
        "    sms = re.sub(r'\\d+', ' number ', sms)\n",
        "    sms = re.sub(r'[£$฿]', ' moneysymbol ', sms)\n",
        "    sms = re.sub(r'[\\\"]', ' ', sms)\n",
        "    sms = re.sub(r'[^a-zA-Z\\s\\'\\\"]|^\\'|\\'$', '', sms)\n",
        "    return sms\n",
        "\n",
        "\n",
        "# Create a new column 'change_sms' by applying the function to 'sms' column\n",
        "df['change_sms'] = df['change_sms'].apply(lambda x: change_word_eng(x))\n",
        "\n"
      ]
    },
    {
      "cell_type": "code",
      "execution_count": null,
      "metadata": {
        "colab": {
          "base_uri": "https://localhost:8080/",
          "height": 424
        },
        "id": "ED9mj3Srmrzn",
        "outputId": "9ba612e9-7058-4413-9fca-7858848f5c2a"
      },
      "outputs": [
        {
          "data": {
            "application/vnd.google.colaboratory.intrinsic+json": {
              "summary": "{\n  \"name\": \"df\",\n  \"rows\": 5925,\n  \"fields\": [\n    {\n      \"column\": \"label\",\n      \"properties\": {\n        \"dtype\": \"number\",\n        \"std\": 0,\n        \"min\": 0,\n        \"max\": 1,\n        \"num_unique_values\": 2,\n        \"samples\": [\n          1,\n          0\n        ],\n        \"semantic_type\": \"\",\n        \"description\": \"\"\n      }\n    },\n    {\n      \"column\": \"sms\",\n      \"properties\": {\n        \"dtype\": \"string\",\n        \"num_unique_values\": 5925,\n        \"samples\": [\n          \"Indians r poor but India is not a poor country. Says one of the swiss bank directors. He says that \\\\ &lt;#&gt;  lac crore\\\\\\\" of Indian money is deposited in swiss banks which can be used for 'taxless' budget for  &lt;#&gt;  yrs. Can give  &lt;#&gt;  crore jobs to all Indians. From any village to Delhi 4 lane roads. Forever free power suply to more than  &lt;#&gt;  social projects. Every citizen can get monthly  &lt;#&gt; /- for  &lt;#&gt;  yrs. No need of World Bank &amp; IMF loan. Think how our money is blocked by rich politicians. We have full rights against corrupt politicians. Itna forward karo ki pura INDIA padhe.g.m.\\\\\\\"\\\"\",\n          \"Enjoy the jamster videosound gold club with your credits for 2 new videosounds+2 logos+musicnews! get more fun from jamster.co.uk! 16+only Help? call: 09701213186 \"\n        ],\n        \"semantic_type\": \"\",\n        \"description\": \"\"\n      }\n    },\n    {\n      \"column\": \"change_sms\",\n      \"properties\": {\n        \"dtype\": \"string\",\n        \"num_unique_values\": 5444,\n        \"samples\": [\n          \"teach me apps da when you come to college\",\n          \"water logging in desert geoenvironmental implications\"\n        ],\n        \"semantic_type\": \"\",\n        \"description\": \"\"\n      }\n    }\n  ]\n}",
              "type": "dataframe",
              "variable_name": "df"
            },
            "text/html": [
              "\n",
              "  <div id=\"df-730c33a7-73cc-4642-bd78-26afece82f4e\" class=\"colab-df-container\">\n",
              "    <div>\n",
              "<style scoped>\n",
              "    .dataframe tbody tr th:only-of-type {\n",
              "        vertical-align: middle;\n",
              "    }\n",
              "\n",
              "    .dataframe tbody tr th {\n",
              "        vertical-align: top;\n",
              "    }\n",
              "\n",
              "    .dataframe thead th {\n",
              "        text-align: right;\n",
              "    }\n",
              "</style>\n",
              "<table border=\"1\" class=\"dataframe\">\n",
              "  <thead>\n",
              "    <tr style=\"text-align: right;\">\n",
              "      <th></th>\n",
              "      <th>label</th>\n",
              "      <th>sms</th>\n",
              "      <th>change_sms</th>\n",
              "    </tr>\n",
              "  </thead>\n",
              "  <tbody>\n",
              "    <tr>\n",
              "      <th>0</th>\n",
              "      <td>0</td>\n",
              "      <td>Go until jurong point, crazy.. Available only ...</td>\n",
              "      <td>go until jurong point crazy available only in ...</td>\n",
              "    </tr>\n",
              "    <tr>\n",
              "      <th>1</th>\n",
              "      <td>0</td>\n",
              "      <td>Ok lar... Joking wif u oni...</td>\n",
              "      <td>ok lar joking wif you oni</td>\n",
              "    </tr>\n",
              "    <tr>\n",
              "      <th>2</th>\n",
              "      <td>1</td>\n",
              "      <td>Free entry in 2 a wkly comp to win FA Cup fina...</td>\n",
              "      <td>free entry in  number  a wkly comp to win fa c...</td>\n",
              "    </tr>\n",
              "    <tr>\n",
              "      <th>3</th>\n",
              "      <td>0</td>\n",
              "      <td>U dun say so early hor... U c already then say...</td>\n",
              "      <td>you dun say so early hor you c already then say</td>\n",
              "    </tr>\n",
              "    <tr>\n",
              "      <th>4</th>\n",
              "      <td>0</td>\n",
              "      <td>Nah I don't think he goes to usf, he lives aro...</td>\n",
              "      <td>nah i do not think he goes to usf he lives aro...</td>\n",
              "    </tr>\n",
              "    <tr>\n",
              "      <th>...</th>\n",
              "      <td>...</td>\n",
              "      <td>...</td>\n",
              "      <td>...</td>\n",
              "    </tr>\n",
              "    <tr>\n",
              "      <th>6274</th>\n",
              "      <td>1</td>\n",
              "      <td>Your SAM registration has been received! Click...</td>\n",
              "      <td>your sam registration has been received click ...</td>\n",
              "    </tr>\n",
              "    <tr>\n",
              "      <th>6279</th>\n",
              "      <td>1</td>\n",
              "      <td>You have won a Nokia 7250i. This is what you g...</td>\n",
              "      <td>you have won a nokia  number i this is what yo...</td>\n",
              "    </tr>\n",
              "    <tr>\n",
              "      <th>6280</th>\n",
              "      <td>1</td>\n",
              "      <td>Get ur 1st RINGTONE FREE NOW! Reply to this ms...</td>\n",
              "      <td>get you are  number st ringtone free now reply...</td>\n",
              "    </tr>\n",
              "    <tr>\n",
              "      <th>6282</th>\n",
              "      <td>1</td>\n",
              "      <td>Records indicate you were involved in an accid...</td>\n",
              "      <td>records indicate you were involved in an accid...</td>\n",
              "    </tr>\n",
              "    <tr>\n",
              "      <th>6283</th>\n",
              "      <td>1</td>\n",
              "      <td>call now 08707509020 Just 20p per min NTT Ltd...</td>\n",
              "      <td>call now  number  just  number p per min ntt l...</td>\n",
              "    </tr>\n",
              "  </tbody>\n",
              "</table>\n",
              "<p>5925 rows × 3 columns</p>\n",
              "</div>\n",
              "    <div class=\"colab-df-buttons\">\n",
              "\n",
              "  <div class=\"colab-df-container\">\n",
              "    <button class=\"colab-df-convert\" onclick=\"convertToInteractive('df-730c33a7-73cc-4642-bd78-26afece82f4e')\"\n",
              "            title=\"Convert this dataframe to an interactive table.\"\n",
              "            style=\"display:none;\">\n",
              "\n",
              "  <svg xmlns=\"http://www.w3.org/2000/svg\" height=\"24px\" viewBox=\"0 -960 960 960\">\n",
              "    <path d=\"M120-120v-720h720v720H120Zm60-500h600v-160H180v160Zm220 220h160v-160H400v160Zm0 220h160v-160H400v160ZM180-400h160v-160H180v160Zm440 0h160v-160H620v160ZM180-180h160v-160H180v160Zm440 0h160v-160H620v160Z\"/>\n",
              "  </svg>\n",
              "    </button>\n",
              "\n",
              "  <style>\n",
              "    .colab-df-container {\n",
              "      display:flex;\n",
              "      gap: 12px;\n",
              "    }\n",
              "\n",
              "    .colab-df-convert {\n",
              "      background-color: #E8F0FE;\n",
              "      border: none;\n",
              "      border-radius: 50%;\n",
              "      cursor: pointer;\n",
              "      display: none;\n",
              "      fill: #1967D2;\n",
              "      height: 32px;\n",
              "      padding: 0 0 0 0;\n",
              "      width: 32px;\n",
              "    }\n",
              "\n",
              "    .colab-df-convert:hover {\n",
              "      background-color: #E2EBFA;\n",
              "      box-shadow: 0px 1px 2px rgba(60, 64, 67, 0.3), 0px 1px 3px 1px rgba(60, 64, 67, 0.15);\n",
              "      fill: #174EA6;\n",
              "    }\n",
              "\n",
              "    .colab-df-buttons div {\n",
              "      margin-bottom: 4px;\n",
              "    }\n",
              "\n",
              "    [theme=dark] .colab-df-convert {\n",
              "      background-color: #3B4455;\n",
              "      fill: #D2E3FC;\n",
              "    }\n",
              "\n",
              "    [theme=dark] .colab-df-convert:hover {\n",
              "      background-color: #434B5C;\n",
              "      box-shadow: 0px 1px 3px 1px rgba(0, 0, 0, 0.15);\n",
              "      filter: drop-shadow(0px 1px 2px rgba(0, 0, 0, 0.3));\n",
              "      fill: #FFFFFF;\n",
              "    }\n",
              "  </style>\n",
              "\n",
              "    <script>\n",
              "      const buttonEl =\n",
              "        document.querySelector('#df-730c33a7-73cc-4642-bd78-26afece82f4e button.colab-df-convert');\n",
              "      buttonEl.style.display =\n",
              "        google.colab.kernel.accessAllowed ? 'block' : 'none';\n",
              "\n",
              "      async function convertToInteractive(key) {\n",
              "        const element = document.querySelector('#df-730c33a7-73cc-4642-bd78-26afece82f4e');\n",
              "        const dataTable =\n",
              "          await google.colab.kernel.invokeFunction('convertToInteractive',\n",
              "                                                    [key], {});\n",
              "        if (!dataTable) return;\n",
              "\n",
              "        const docLinkHtml = 'Like what you see? Visit the ' +\n",
              "          '<a target=\"_blank\" href=https://colab.research.google.com/notebooks/data_table.ipynb>data table notebook</a>'\n",
              "          + ' to learn more about interactive tables.';\n",
              "        element.innerHTML = '';\n",
              "        dataTable['output_type'] = 'display_data';\n",
              "        await google.colab.output.renderOutput(dataTable, element);\n",
              "        const docLink = document.createElement('div');\n",
              "        docLink.innerHTML = docLinkHtml;\n",
              "        element.appendChild(docLink);\n",
              "      }\n",
              "    </script>\n",
              "  </div>\n",
              "\n",
              "\n",
              "<div id=\"df-1f80e03e-7e8c-4f90-9f0b-256420f4891b\">\n",
              "  <button class=\"colab-df-quickchart\" onclick=\"quickchart('df-1f80e03e-7e8c-4f90-9f0b-256420f4891b')\"\n",
              "            title=\"Suggest charts\"\n",
              "            style=\"display:none;\">\n",
              "\n",
              "<svg xmlns=\"http://www.w3.org/2000/svg\" height=\"24px\"viewBox=\"0 0 24 24\"\n",
              "     width=\"24px\">\n",
              "    <g>\n",
              "        <path d=\"M19 3H5c-1.1 0-2 .9-2 2v14c0 1.1.9 2 2 2h14c1.1 0 2-.9 2-2V5c0-1.1-.9-2-2-2zM9 17H7v-7h2v7zm4 0h-2V7h2v10zm4 0h-2v-4h2v4z\"/>\n",
              "    </g>\n",
              "</svg>\n",
              "  </button>\n",
              "\n",
              "<style>\n",
              "  .colab-df-quickchart {\n",
              "      --bg-color: #E8F0FE;\n",
              "      --fill-color: #1967D2;\n",
              "      --hover-bg-color: #E2EBFA;\n",
              "      --hover-fill-color: #174EA6;\n",
              "      --disabled-fill-color: #AAA;\n",
              "      --disabled-bg-color: #DDD;\n",
              "  }\n",
              "\n",
              "  [theme=dark] .colab-df-quickchart {\n",
              "      --bg-color: #3B4455;\n",
              "      --fill-color: #D2E3FC;\n",
              "      --hover-bg-color: #434B5C;\n",
              "      --hover-fill-color: #FFFFFF;\n",
              "      --disabled-bg-color: #3B4455;\n",
              "      --disabled-fill-color: #666;\n",
              "  }\n",
              "\n",
              "  .colab-df-quickchart {\n",
              "    background-color: var(--bg-color);\n",
              "    border: none;\n",
              "    border-radius: 50%;\n",
              "    cursor: pointer;\n",
              "    display: none;\n",
              "    fill: var(--fill-color);\n",
              "    height: 32px;\n",
              "    padding: 0;\n",
              "    width: 32px;\n",
              "  }\n",
              "\n",
              "  .colab-df-quickchart:hover {\n",
              "    background-color: var(--hover-bg-color);\n",
              "    box-shadow: 0 1px 2px rgba(60, 64, 67, 0.3), 0 1px 3px 1px rgba(60, 64, 67, 0.15);\n",
              "    fill: var(--button-hover-fill-color);\n",
              "  }\n",
              "\n",
              "  .colab-df-quickchart-complete:disabled,\n",
              "  .colab-df-quickchart-complete:disabled:hover {\n",
              "    background-color: var(--disabled-bg-color);\n",
              "    fill: var(--disabled-fill-color);\n",
              "    box-shadow: none;\n",
              "  }\n",
              "\n",
              "  .colab-df-spinner {\n",
              "    border: 2px solid var(--fill-color);\n",
              "    border-color: transparent;\n",
              "    border-bottom-color: var(--fill-color);\n",
              "    animation:\n",
              "      spin 1s steps(1) infinite;\n",
              "  }\n",
              "\n",
              "  @keyframes spin {\n",
              "    0% {\n",
              "      border-color: transparent;\n",
              "      border-bottom-color: var(--fill-color);\n",
              "      border-left-color: var(--fill-color);\n",
              "    }\n",
              "    20% {\n",
              "      border-color: transparent;\n",
              "      border-left-color: var(--fill-color);\n",
              "      border-top-color: var(--fill-color);\n",
              "    }\n",
              "    30% {\n",
              "      border-color: transparent;\n",
              "      border-left-color: var(--fill-color);\n",
              "      border-top-color: var(--fill-color);\n",
              "      border-right-color: var(--fill-color);\n",
              "    }\n",
              "    40% {\n",
              "      border-color: transparent;\n",
              "      border-right-color: var(--fill-color);\n",
              "      border-top-color: var(--fill-color);\n",
              "    }\n",
              "    60% {\n",
              "      border-color: transparent;\n",
              "      border-right-color: var(--fill-color);\n",
              "    }\n",
              "    80% {\n",
              "      border-color: transparent;\n",
              "      border-right-color: var(--fill-color);\n",
              "      border-bottom-color: var(--fill-color);\n",
              "    }\n",
              "    90% {\n",
              "      border-color: transparent;\n",
              "      border-bottom-color: var(--fill-color);\n",
              "    }\n",
              "  }\n",
              "</style>\n",
              "\n",
              "  <script>\n",
              "    async function quickchart(key) {\n",
              "      const quickchartButtonEl =\n",
              "        document.querySelector('#' + key + ' button');\n",
              "      quickchartButtonEl.disabled = true;  // To prevent multiple clicks.\n",
              "      quickchartButtonEl.classList.add('colab-df-spinner');\n",
              "      try {\n",
              "        const charts = await google.colab.kernel.invokeFunction(\n",
              "            'suggestCharts', [key], {});\n",
              "      } catch (error) {\n",
              "        console.error('Error during call to suggestCharts:', error);\n",
              "      }\n",
              "      quickchartButtonEl.classList.remove('colab-df-spinner');\n",
              "      quickchartButtonEl.classList.add('colab-df-quickchart-complete');\n",
              "    }\n",
              "    (() => {\n",
              "      let quickchartButtonEl =\n",
              "        document.querySelector('#df-1f80e03e-7e8c-4f90-9f0b-256420f4891b button');\n",
              "      quickchartButtonEl.style.display =\n",
              "        google.colab.kernel.accessAllowed ? 'block' : 'none';\n",
              "    })();\n",
              "  </script>\n",
              "</div>\n",
              "    </div>\n",
              "  </div>\n"
            ],
            "text/plain": [
              "      label                                                sms  \\\n",
              "0         0  Go until jurong point, crazy.. Available only ...   \n",
              "1         0                      Ok lar... Joking wif u oni...   \n",
              "2         1  Free entry in 2 a wkly comp to win FA Cup fina...   \n",
              "3         0  U dun say so early hor... U c already then say...   \n",
              "4         0  Nah I don't think he goes to usf, he lives aro...   \n",
              "...     ...                                                ...   \n",
              "6274      1  Your SAM registration has been received! Click...   \n",
              "6279      1  You have won a Nokia 7250i. This is what you g...   \n",
              "6280      1  Get ur 1st RINGTONE FREE NOW! Reply to this ms...   \n",
              "6282      1  Records indicate you were involved in an accid...   \n",
              "6283      1   call now 08707509020 Just 20p per min NTT Ltd...   \n",
              "\n",
              "                                             change_sms  \n",
              "0     go until jurong point crazy available only in ...  \n",
              "1                             ok lar joking wif you oni  \n",
              "2     free entry in  number  a wkly comp to win fa c...  \n",
              "3       you dun say so early hor you c already then say  \n",
              "4     nah i do not think he goes to usf he lives aro...  \n",
              "...                                                 ...  \n",
              "6274  your sam registration has been received click ...  \n",
              "6279  you have won a nokia  number i this is what yo...  \n",
              "6280  get you are  number st ringtone free now reply...  \n",
              "6282  records indicate you were involved in an accid...  \n",
              "6283  call now  number  just  number p per min ntt l...  \n",
              "\n",
              "[5925 rows x 3 columns]"
            ]
          },
          "execution_count": 90,
          "metadata": {},
          "output_type": "execute_result"
        }
      ],
      "source": [
        "df"
      ]
    },
    {
      "cell_type": "code",
      "execution_count": null,
      "metadata": {
        "colab": {
          "base_uri": "https://localhost:8080/"
        },
        "id": "WPIuT37nmwTy",
        "outputId": "60367203-c8be-431f-a34f-5c2da6dabde8"
      },
      "outputs": [
        {
          "name": "stderr",
          "output_type": "stream",
          "text": [
            "<ipython-input-91-699dc787d415>:2: SettingWithCopyWarning: \n",
            "A value is trying to be set on a copy of a slice from a DataFrame.\n",
            "Try using .loc[row_indexer,col_indexer] = value instead\n",
            "\n",
            "See the caveats in the documentation: https://pandas.pydata.org/pandas-docs/stable/user_guide/indexing.html#returning-a-view-versus-a-copy\n",
            "  df['change_sms'] = df['change_sms'].apply(lambda x: re.sub(r'[^\\w\\d\\s]|_\\s*$', ' ', x))\n",
            "<ipython-input-91-699dc787d415>:5: SettingWithCopyWarning: \n",
            "A value is trying to be set on a copy of a slice from a DataFrame.\n",
            "Try using .loc[row_indexer,col_indexer] = value instead\n",
            "\n",
            "See the caveats in the documentation: https://pandas.pydata.org/pandas-docs/stable/user_guide/indexing.html#returning-a-view-versus-a-copy\n",
            "  df['change_sms'] = df['change_sms'].apply(lambda x: re.sub(r'\\s+', ' ', x))\n"
          ]
        }
      ],
      "source": [
        "# Remove punctuation\n",
        "df['change_sms'] = df['change_sms'].apply(lambda x: re.sub(r'[^\\w\\d\\s]|_\\s*$', ' ', x))\n",
        "\n",
        "# Remove whitespace between terms with single space\n",
        "df['change_sms'] = df['change_sms'].apply(lambda x: re.sub(r'\\s+', ' ', x))"
      ]
    },
    {
      "cell_type": "code",
      "execution_count": null,
      "metadata": {
        "id": "jbKu3MNim1bs"
      },
      "outputs": [],
      "source": [
        "#function for tokenize\n",
        "def tokenize(df , model) :\n",
        "  new_values = []\n",
        "  for i in df.index:\n",
        "    if model == \"nltk\":\n",
        "      s = word_tokenize(df['change_sms'][i])\n",
        "    new_values.append(s)\n",
        "  df[model] = new_values\n",
        "  return df"
      ]
    },
    {
      "cell_type": "code",
      "execution_count": null,
      "metadata": {
        "colab": {
          "base_uri": "https://localhost:8080/",
          "height": 528
        },
        "id": "_uNCtv2sm3Dk",
        "outputId": "ffb0635f-a2f2-4e32-809c-2f0b5c6e1beb"
      },
      "outputs": [
        {
          "name": "stderr",
          "output_type": "stream",
          "text": [
            "<ipython-input-92-b4ec36622400>:8: SettingWithCopyWarning: \n",
            "A value is trying to be set on a copy of a slice from a DataFrame.\n",
            "Try using .loc[row_indexer,col_indexer] = value instead\n",
            "\n",
            "See the caveats in the documentation: https://pandas.pydata.org/pandas-docs/stable/user_guide/indexing.html#returning-a-view-versus-a-copy\n",
            "  df[model] = new_values\n"
          ]
        },
        {
          "data": {
            "application/vnd.google.colaboratory.intrinsic+json": {
              "summary": "{\n  \"name\": \"df\",\n  \"rows\": 5925,\n  \"fields\": [\n    {\n      \"column\": \"label\",\n      \"properties\": {\n        \"dtype\": \"number\",\n        \"std\": 0,\n        \"min\": 0,\n        \"max\": 1,\n        \"num_unique_values\": 2,\n        \"samples\": [\n          1,\n          0\n        ],\n        \"semantic_type\": \"\",\n        \"description\": \"\"\n      }\n    },\n    {\n      \"column\": \"sms\",\n      \"properties\": {\n        \"dtype\": \"string\",\n        \"num_unique_values\": 5925,\n        \"samples\": [\n          \"Indians r poor but India is not a poor country. Says one of the swiss bank directors. He says that \\\\ &lt;#&gt;  lac crore\\\\\\\" of Indian money is deposited in swiss banks which can be used for 'taxless' budget for  &lt;#&gt;  yrs. Can give  &lt;#&gt;  crore jobs to all Indians. From any village to Delhi 4 lane roads. Forever free power suply to more than  &lt;#&gt;  social projects. Every citizen can get monthly  &lt;#&gt; /- for  &lt;#&gt;  yrs. No need of World Bank &amp; IMF loan. Think how our money is blocked by rich politicians. We have full rights against corrupt politicians. Itna forward karo ki pura INDIA padhe.g.m.\\\\\\\"\\\"\",\n          \"Enjoy the jamster videosound gold club with your credits for 2 new videosounds+2 logos+musicnews! get more fun from jamster.co.uk! 16+only Help? call: 09701213186 \"\n        ],\n        \"semantic_type\": \"\",\n        \"description\": \"\"\n      }\n    },\n    {\n      \"column\": \"change_sms\",\n      \"properties\": {\n        \"dtype\": \"string\",\n        \"num_unique_values\": 5433,\n        \"samples\": [\n          \"need to clear doubts before exams experienced tutors help is just a click away free helpdesk round the clock just logon to link or call number number \",\n          \"babes i think i got you are brolly i left it in english wil bring it in number mrw number you love franxx\"\n        ],\n        \"semantic_type\": \"\",\n        \"description\": \"\"\n      }\n    },\n    {\n      \"column\": \"nltk\",\n      \"properties\": {\n        \"dtype\": \"object\",\n        \"semantic_type\": \"\",\n        \"description\": \"\"\n      }\n    }\n  ]\n}",
              "type": "dataframe",
              "variable_name": "df"
            },
            "text/html": [
              "\n",
              "  <div id=\"df-a821d21e-5441-4858-bfa2-033f66428777\" class=\"colab-df-container\">\n",
              "    <div>\n",
              "<style scoped>\n",
              "    .dataframe tbody tr th:only-of-type {\n",
              "        vertical-align: middle;\n",
              "    }\n",
              "\n",
              "    .dataframe tbody tr th {\n",
              "        vertical-align: top;\n",
              "    }\n",
              "\n",
              "    .dataframe thead th {\n",
              "        text-align: right;\n",
              "    }\n",
              "</style>\n",
              "<table border=\"1\" class=\"dataframe\">\n",
              "  <thead>\n",
              "    <tr style=\"text-align: right;\">\n",
              "      <th></th>\n",
              "      <th>label</th>\n",
              "      <th>sms</th>\n",
              "      <th>change_sms</th>\n",
              "      <th>nltk</th>\n",
              "    </tr>\n",
              "  </thead>\n",
              "  <tbody>\n",
              "    <tr>\n",
              "      <th>0</th>\n",
              "      <td>0</td>\n",
              "      <td>Go until jurong point, crazy.. Available only ...</td>\n",
              "      <td>go until jurong point crazy available only in ...</td>\n",
              "      <td>[go, until, jurong, point, crazy, available, o...</td>\n",
              "    </tr>\n",
              "    <tr>\n",
              "      <th>1</th>\n",
              "      <td>0</td>\n",
              "      <td>Ok lar... Joking wif u oni...</td>\n",
              "      <td>ok lar joking wif you oni</td>\n",
              "      <td>[ok, lar, joking, wif, you, oni]</td>\n",
              "    </tr>\n",
              "    <tr>\n",
              "      <th>2</th>\n",
              "      <td>1</td>\n",
              "      <td>Free entry in 2 a wkly comp to win FA Cup fina...</td>\n",
              "      <td>free entry in number a wkly comp to win fa cup...</td>\n",
              "      <td>[free, entry, in, number, a, wkly, comp, to, w...</td>\n",
              "    </tr>\n",
              "    <tr>\n",
              "      <th>3</th>\n",
              "      <td>0</td>\n",
              "      <td>U dun say so early hor... U c already then say...</td>\n",
              "      <td>you dun say so early hor you c already then say</td>\n",
              "      <td>[you, dun, say, so, early, hor, you, c, alread...</td>\n",
              "    </tr>\n",
              "    <tr>\n",
              "      <th>4</th>\n",
              "      <td>0</td>\n",
              "      <td>Nah I don't think he goes to usf, he lives aro...</td>\n",
              "      <td>nah i do not think he goes to usf he lives aro...</td>\n",
              "      <td>[nah, i, do, not, think, he, goes, to, usf, he...</td>\n",
              "    </tr>\n",
              "    <tr>\n",
              "      <th>...</th>\n",
              "      <td>...</td>\n",
              "      <td>...</td>\n",
              "      <td>...</td>\n",
              "      <td>...</td>\n",
              "    </tr>\n",
              "    <tr>\n",
              "      <th>6274</th>\n",
              "      <td>1</td>\n",
              "      <td>Your SAM registration has been received! Click...</td>\n",
              "      <td>your sam registration has been received click ...</td>\n",
              "      <td>[your, sam, registration, has, been, received,...</td>\n",
              "    </tr>\n",
              "    <tr>\n",
              "      <th>6279</th>\n",
              "      <td>1</td>\n",
              "      <td>You have won a Nokia 7250i. This is what you g...</td>\n",
              "      <td>you have won a nokia number i this is what you...</td>\n",
              "      <td>[you, have, won, a, nokia, number, i, this, is...</td>\n",
              "    </tr>\n",
              "    <tr>\n",
              "      <th>6280</th>\n",
              "      <td>1</td>\n",
              "      <td>Get ur 1st RINGTONE FREE NOW! Reply to this ms...</td>\n",
              "      <td>get you are number st ringtone free now reply ...</td>\n",
              "      <td>[get, you, are, number, st, ringtone, free, no...</td>\n",
              "    </tr>\n",
              "    <tr>\n",
              "      <th>6282</th>\n",
              "      <td>1</td>\n",
              "      <td>Records indicate you were involved in an accid...</td>\n",
              "      <td>records indicate you were involved in an accid...</td>\n",
              "      <td>[records, indicate, you, were, involved, in, a...</td>\n",
              "    </tr>\n",
              "    <tr>\n",
              "      <th>6283</th>\n",
              "      <td>1</td>\n",
              "      <td>call now 08707509020 Just 20p per min NTT Ltd...</td>\n",
              "      <td>call now number just number p per min ntt ltd ...</td>\n",
              "      <td>[call, now, number, just, number, p, per, min,...</td>\n",
              "    </tr>\n",
              "  </tbody>\n",
              "</table>\n",
              "<p>5925 rows × 4 columns</p>\n",
              "</div>\n",
              "    <div class=\"colab-df-buttons\">\n",
              "\n",
              "  <div class=\"colab-df-container\">\n",
              "    <button class=\"colab-df-convert\" onclick=\"convertToInteractive('df-a821d21e-5441-4858-bfa2-033f66428777')\"\n",
              "            title=\"Convert this dataframe to an interactive table.\"\n",
              "            style=\"display:none;\">\n",
              "\n",
              "  <svg xmlns=\"http://www.w3.org/2000/svg\" height=\"24px\" viewBox=\"0 -960 960 960\">\n",
              "    <path d=\"M120-120v-720h720v720H120Zm60-500h600v-160H180v160Zm220 220h160v-160H400v160Zm0 220h160v-160H400v160ZM180-400h160v-160H180v160Zm440 0h160v-160H620v160ZM180-180h160v-160H180v160Zm440 0h160v-160H620v160Z\"/>\n",
              "  </svg>\n",
              "    </button>\n",
              "\n",
              "  <style>\n",
              "    .colab-df-container {\n",
              "      display:flex;\n",
              "      gap: 12px;\n",
              "    }\n",
              "\n",
              "    .colab-df-convert {\n",
              "      background-color: #E8F0FE;\n",
              "      border: none;\n",
              "      border-radius: 50%;\n",
              "      cursor: pointer;\n",
              "      display: none;\n",
              "      fill: #1967D2;\n",
              "      height: 32px;\n",
              "      padding: 0 0 0 0;\n",
              "      width: 32px;\n",
              "    }\n",
              "\n",
              "    .colab-df-convert:hover {\n",
              "      background-color: #E2EBFA;\n",
              "      box-shadow: 0px 1px 2px rgba(60, 64, 67, 0.3), 0px 1px 3px 1px rgba(60, 64, 67, 0.15);\n",
              "      fill: #174EA6;\n",
              "    }\n",
              "\n",
              "    .colab-df-buttons div {\n",
              "      margin-bottom: 4px;\n",
              "    }\n",
              "\n",
              "    [theme=dark] .colab-df-convert {\n",
              "      background-color: #3B4455;\n",
              "      fill: #D2E3FC;\n",
              "    }\n",
              "\n",
              "    [theme=dark] .colab-df-convert:hover {\n",
              "      background-color: #434B5C;\n",
              "      box-shadow: 0px 1px 3px 1px rgba(0, 0, 0, 0.15);\n",
              "      filter: drop-shadow(0px 1px 2px rgba(0, 0, 0, 0.3));\n",
              "      fill: #FFFFFF;\n",
              "    }\n",
              "  </style>\n",
              "\n",
              "    <script>\n",
              "      const buttonEl =\n",
              "        document.querySelector('#df-a821d21e-5441-4858-bfa2-033f66428777 button.colab-df-convert');\n",
              "      buttonEl.style.display =\n",
              "        google.colab.kernel.accessAllowed ? 'block' : 'none';\n",
              "\n",
              "      async function convertToInteractive(key) {\n",
              "        const element = document.querySelector('#df-a821d21e-5441-4858-bfa2-033f66428777');\n",
              "        const dataTable =\n",
              "          await google.colab.kernel.invokeFunction('convertToInteractive',\n",
              "                                                    [key], {});\n",
              "        if (!dataTable) return;\n",
              "\n",
              "        const docLinkHtml = 'Like what you see? Visit the ' +\n",
              "          '<a target=\"_blank\" href=https://colab.research.google.com/notebooks/data_table.ipynb>data table notebook</a>'\n",
              "          + ' to learn more about interactive tables.';\n",
              "        element.innerHTML = '';\n",
              "        dataTable['output_type'] = 'display_data';\n",
              "        await google.colab.output.renderOutput(dataTable, element);\n",
              "        const docLink = document.createElement('div');\n",
              "        docLink.innerHTML = docLinkHtml;\n",
              "        element.appendChild(docLink);\n",
              "      }\n",
              "    </script>\n",
              "  </div>\n",
              "\n",
              "\n",
              "<div id=\"df-3615ac3f-3017-4e63-8a50-340f085304e3\">\n",
              "  <button class=\"colab-df-quickchart\" onclick=\"quickchart('df-3615ac3f-3017-4e63-8a50-340f085304e3')\"\n",
              "            title=\"Suggest charts\"\n",
              "            style=\"display:none;\">\n",
              "\n",
              "<svg xmlns=\"http://www.w3.org/2000/svg\" height=\"24px\"viewBox=\"0 0 24 24\"\n",
              "     width=\"24px\">\n",
              "    <g>\n",
              "        <path d=\"M19 3H5c-1.1 0-2 .9-2 2v14c0 1.1.9 2 2 2h14c1.1 0 2-.9 2-2V5c0-1.1-.9-2-2-2zM9 17H7v-7h2v7zm4 0h-2V7h2v10zm4 0h-2v-4h2v4z\"/>\n",
              "    </g>\n",
              "</svg>\n",
              "  </button>\n",
              "\n",
              "<style>\n",
              "  .colab-df-quickchart {\n",
              "      --bg-color: #E8F0FE;\n",
              "      --fill-color: #1967D2;\n",
              "      --hover-bg-color: #E2EBFA;\n",
              "      --hover-fill-color: #174EA6;\n",
              "      --disabled-fill-color: #AAA;\n",
              "      --disabled-bg-color: #DDD;\n",
              "  }\n",
              "\n",
              "  [theme=dark] .colab-df-quickchart {\n",
              "      --bg-color: #3B4455;\n",
              "      --fill-color: #D2E3FC;\n",
              "      --hover-bg-color: #434B5C;\n",
              "      --hover-fill-color: #FFFFFF;\n",
              "      --disabled-bg-color: #3B4455;\n",
              "      --disabled-fill-color: #666;\n",
              "  }\n",
              "\n",
              "  .colab-df-quickchart {\n",
              "    background-color: var(--bg-color);\n",
              "    border: none;\n",
              "    border-radius: 50%;\n",
              "    cursor: pointer;\n",
              "    display: none;\n",
              "    fill: var(--fill-color);\n",
              "    height: 32px;\n",
              "    padding: 0;\n",
              "    width: 32px;\n",
              "  }\n",
              "\n",
              "  .colab-df-quickchart:hover {\n",
              "    background-color: var(--hover-bg-color);\n",
              "    box-shadow: 0 1px 2px rgba(60, 64, 67, 0.3), 0 1px 3px 1px rgba(60, 64, 67, 0.15);\n",
              "    fill: var(--button-hover-fill-color);\n",
              "  }\n",
              "\n",
              "  .colab-df-quickchart-complete:disabled,\n",
              "  .colab-df-quickchart-complete:disabled:hover {\n",
              "    background-color: var(--disabled-bg-color);\n",
              "    fill: var(--disabled-fill-color);\n",
              "    box-shadow: none;\n",
              "  }\n",
              "\n",
              "  .colab-df-spinner {\n",
              "    border: 2px solid var(--fill-color);\n",
              "    border-color: transparent;\n",
              "    border-bottom-color: var(--fill-color);\n",
              "    animation:\n",
              "      spin 1s steps(1) infinite;\n",
              "  }\n",
              "\n",
              "  @keyframes spin {\n",
              "    0% {\n",
              "      border-color: transparent;\n",
              "      border-bottom-color: var(--fill-color);\n",
              "      border-left-color: var(--fill-color);\n",
              "    }\n",
              "    20% {\n",
              "      border-color: transparent;\n",
              "      border-left-color: var(--fill-color);\n",
              "      border-top-color: var(--fill-color);\n",
              "    }\n",
              "    30% {\n",
              "      border-color: transparent;\n",
              "      border-left-color: var(--fill-color);\n",
              "      border-top-color: var(--fill-color);\n",
              "      border-right-color: var(--fill-color);\n",
              "    }\n",
              "    40% {\n",
              "      border-color: transparent;\n",
              "      border-right-color: var(--fill-color);\n",
              "      border-top-color: var(--fill-color);\n",
              "    }\n",
              "    60% {\n",
              "      border-color: transparent;\n",
              "      border-right-color: var(--fill-color);\n",
              "    }\n",
              "    80% {\n",
              "      border-color: transparent;\n",
              "      border-right-color: var(--fill-color);\n",
              "      border-bottom-color: var(--fill-color);\n",
              "    }\n",
              "    90% {\n",
              "      border-color: transparent;\n",
              "      border-bottom-color: var(--fill-color);\n",
              "    }\n",
              "  }\n",
              "</style>\n",
              "\n",
              "  <script>\n",
              "    async function quickchart(key) {\n",
              "      const quickchartButtonEl =\n",
              "        document.querySelector('#' + key + ' button');\n",
              "      quickchartButtonEl.disabled = true;  // To prevent multiple clicks.\n",
              "      quickchartButtonEl.classList.add('colab-df-spinner');\n",
              "      try {\n",
              "        const charts = await google.colab.kernel.invokeFunction(\n",
              "            'suggestCharts', [key], {});\n",
              "      } catch (error) {\n",
              "        console.error('Error during call to suggestCharts:', error);\n",
              "      }\n",
              "      quickchartButtonEl.classList.remove('colab-df-spinner');\n",
              "      quickchartButtonEl.classList.add('colab-df-quickchart-complete');\n",
              "    }\n",
              "    (() => {\n",
              "      let quickchartButtonEl =\n",
              "        document.querySelector('#df-3615ac3f-3017-4e63-8a50-340f085304e3 button');\n",
              "      quickchartButtonEl.style.display =\n",
              "        google.colab.kernel.accessAllowed ? 'block' : 'none';\n",
              "    })();\n",
              "  </script>\n",
              "</div>\n",
              "    </div>\n",
              "  </div>\n"
            ],
            "text/plain": [
              "      label                                                sms  \\\n",
              "0         0  Go until jurong point, crazy.. Available only ...   \n",
              "1         0                      Ok lar... Joking wif u oni...   \n",
              "2         1  Free entry in 2 a wkly comp to win FA Cup fina...   \n",
              "3         0  U dun say so early hor... U c already then say...   \n",
              "4         0  Nah I don't think he goes to usf, he lives aro...   \n",
              "...     ...                                                ...   \n",
              "6274      1  Your SAM registration has been received! Click...   \n",
              "6279      1  You have won a Nokia 7250i. This is what you g...   \n",
              "6280      1  Get ur 1st RINGTONE FREE NOW! Reply to this ms...   \n",
              "6282      1  Records indicate you were involved in an accid...   \n",
              "6283      1   call now 08707509020 Just 20p per min NTT Ltd...   \n",
              "\n",
              "                                             change_sms  \\\n",
              "0     go until jurong point crazy available only in ...   \n",
              "1                             ok lar joking wif you oni   \n",
              "2     free entry in number a wkly comp to win fa cup...   \n",
              "3       you dun say so early hor you c already then say   \n",
              "4     nah i do not think he goes to usf he lives aro...   \n",
              "...                                                 ...   \n",
              "6274  your sam registration has been received click ...   \n",
              "6279  you have won a nokia number i this is what you...   \n",
              "6280  get you are number st ringtone free now reply ...   \n",
              "6282  records indicate you were involved in an accid...   \n",
              "6283  call now number just number p per min ntt ltd ...   \n",
              "\n",
              "                                                   nltk  \n",
              "0     [go, until, jurong, point, crazy, available, o...  \n",
              "1                      [ok, lar, joking, wif, you, oni]  \n",
              "2     [free, entry, in, number, a, wkly, comp, to, w...  \n",
              "3     [you, dun, say, so, early, hor, you, c, alread...  \n",
              "4     [nah, i, do, not, think, he, goes, to, usf, he...  \n",
              "...                                                 ...  \n",
              "6274  [your, sam, registration, has, been, received,...  \n",
              "6279  [you, have, won, a, nokia, number, i, this, is...  \n",
              "6280  [get, you, are, number, st, ringtone, free, no...  \n",
              "6282  [records, indicate, you, were, involved, in, a...  \n",
              "6283  [call, now, number, just, number, p, per, min,...  \n",
              "\n",
              "[5925 rows x 4 columns]"
            ]
          },
          "execution_count": 93,
          "metadata": {},
          "output_type": "execute_result"
        }
      ],
      "source": [
        "#tokenize the text in a DataFrame using NLTK\n",
        "tokenize(df , \"nltk\")"
      ]
    },
    {
      "cell_type": "code",
      "execution_count": null,
      "metadata": {
        "id": "SQ9rRI31m5yy"
      },
      "outputs": [],
      "source": [
        "# Initialize the lemmatizer\n",
        "wl = WordNetLemmatizer()\n",
        "\n",
        "#function to map POS tags to WordNet POS tags\n",
        "def get_wordnet_pos(tag):\n",
        "    if tag.startswith('J'):\n",
        "        return wordnet.ADJ\n",
        "    elif tag.startswith('V') or tag in ['MD']:\n",
        "        return wordnet.VERB\n",
        "    elif tag.startswith('N'):\n",
        "        return wordnet.NOUN\n",
        "    elif tag.startswith('R'):\n",
        "        return wordnet.ADV\n",
        "    else:\n",
        "        return wordnet.NOUN\n",
        "\n",
        "#lemmatizer function\n",
        "def lemmatizer(df):\n",
        "    new_values = []\n",
        "    for i in df.index:\n",
        "        word_pos_tags = nltk.pos_tag(df['nltk'][i]) # Get position tags\n",
        "        a = [wl.lemmatize(tag[0], get_wordnet_pos(tag[1])) for idx, tag in enumerate(word_pos_tags)] # Map the position tag and lemmatize the word/token\n",
        "        new_values.append(a)\n",
        "    df['nltk'] = new_values\n",
        "    return df\n",
        "\n"
      ]
    },
    {
      "cell_type": "code",
      "execution_count": null,
      "metadata": {
        "colab": {
          "base_uri": "https://localhost:8080/"
        },
        "id": "XE6Xt-2Om8bR",
        "outputId": "37b8bc1c-8157-4a03-8db2-cdafbe9a0a55"
      },
      "outputs": [
        {
          "name": "stderr",
          "output_type": "stream",
          "text": [
            "<ipython-input-94-29701191be3c>:24: SettingWithCopyWarning: \n",
            "A value is trying to be set on a copy of a slice from a DataFrame.\n",
            "Try using .loc[row_indexer,col_indexer] = value instead\n",
            "\n",
            "See the caveats in the documentation: https://pandas.pydata.org/pandas-docs/stable/user_guide/indexing.html#returning-a-view-versus-a-copy\n",
            "  df['nltk'] = new_values\n",
            "<ipython-input-95-1a544be00279>:2: SettingWithCopyWarning: \n",
            "A value is trying to be set on a copy of a slice from a DataFrame.\n",
            "Try using .loc[row_indexer,col_indexer] = value instead\n",
            "\n",
            "See the caveats in the documentation: https://pandas.pydata.org/pandas-docs/stable/user_guide/indexing.html#returning-a-view-versus-a-copy\n",
            "  df['nltk'] = lemmatizer(df[['nltk']])\n",
            "<ipython-input-95-1a544be00279>:5: SettingWithCopyWarning: \n",
            "A value is trying to be set on a copy of a slice from a DataFrame.\n",
            "Try using .loc[row_indexer,col_indexer] = value instead\n",
            "\n",
            "See the caveats in the documentation: https://pandas.pydata.org/pandas-docs/stable/user_guide/indexing.html#returning-a-view-versus-a-copy\n",
            "  df['nltk'] = df['nltk'].apply(' '.join)\n"
          ]
        }
      ],
      "source": [
        "# Lemmatize the 'nltk' column using the lemmatizer function\n",
        "df['nltk'] = lemmatizer(df[['nltk']])\n",
        "\n",
        "# Join the lemmatized tokens back into a single string in each row of the 'nltk' column\n",
        "df['nltk'] = df['nltk'].apply(' '.join)"
      ]
    },
    {
      "cell_type": "code",
      "execution_count": null,
      "metadata": {
        "colab": {
          "base_uri": "https://localhost:8080/",
          "height": 424
        },
        "id": "bJHaxDcLnVfk",
        "outputId": "369c8a58-707e-4303-af17-5eb475e0bca4"
      },
      "outputs": [
        {
          "data": {
            "application/vnd.google.colaboratory.intrinsic+json": {
              "summary": "{\n  \"name\": \"df\",\n  \"rows\": 5925,\n  \"fields\": [\n    {\n      \"column\": \"label\",\n      \"properties\": {\n        \"dtype\": \"number\",\n        \"std\": 0,\n        \"min\": 0,\n        \"max\": 1,\n        \"num_unique_values\": 2,\n        \"samples\": [\n          1,\n          0\n        ],\n        \"semantic_type\": \"\",\n        \"description\": \"\"\n      }\n    },\n    {\n      \"column\": \"sms\",\n      \"properties\": {\n        \"dtype\": \"string\",\n        \"num_unique_values\": 5925,\n        \"samples\": [\n          \"Indians r poor but India is not a poor country. Says one of the swiss bank directors. He says that \\\\ &lt;#&gt;  lac crore\\\\\\\" of Indian money is deposited in swiss banks which can be used for 'taxless' budget for  &lt;#&gt;  yrs. Can give  &lt;#&gt;  crore jobs to all Indians. From any village to Delhi 4 lane roads. Forever free power suply to more than  &lt;#&gt;  social projects. Every citizen can get monthly  &lt;#&gt; /- for  &lt;#&gt;  yrs. No need of World Bank &amp; IMF loan. Think how our money is blocked by rich politicians. We have full rights against corrupt politicians. Itna forward karo ki pura INDIA padhe.g.m.\\\\\\\"\\\"\",\n          \"Enjoy the jamster videosound gold club with your credits for 2 new videosounds+2 logos+musicnews! get more fun from jamster.co.uk! 16+only Help? call: 09701213186 \"\n        ],\n        \"semantic_type\": \"\",\n        \"description\": \"\"\n      }\n    },\n    {\n      \"column\": \"change_sms\",\n      \"properties\": {\n        \"dtype\": \"string\",\n        \"num_unique_values\": 5433,\n        \"samples\": [\n          \"need to clear doubts before exams experienced tutors help is just a click away free helpdesk round the clock just logon to link or call number number \",\n          \"babes i think i got you are brolly i left it in english wil bring it in number mrw number you love franxx\"\n        ],\n        \"semantic_type\": \"\",\n        \"description\": \"\"\n      }\n    },\n    {\n      \"column\": \"nltk\",\n      \"properties\": {\n        \"dtype\": \"string\",\n        \"num_unique_values\": 5426,\n        \"samples\": [\n          \"hey you give them your photo when you register for drive ah tomorrow want to meet at yck\",\n          \"ringtone club gr number new polys direct to your mobile every week\"\n        ],\n        \"semantic_type\": \"\",\n        \"description\": \"\"\n      }\n    }\n  ]\n}",
              "type": "dataframe",
              "variable_name": "df"
            },
            "text/html": [
              "\n",
              "  <div id=\"df-4722312a-e012-4119-a732-8a9d494dacd2\" class=\"colab-df-container\">\n",
              "    <div>\n",
              "<style scoped>\n",
              "    .dataframe tbody tr th:only-of-type {\n",
              "        vertical-align: middle;\n",
              "    }\n",
              "\n",
              "    .dataframe tbody tr th {\n",
              "        vertical-align: top;\n",
              "    }\n",
              "\n",
              "    .dataframe thead th {\n",
              "        text-align: right;\n",
              "    }\n",
              "</style>\n",
              "<table border=\"1\" class=\"dataframe\">\n",
              "  <thead>\n",
              "    <tr style=\"text-align: right;\">\n",
              "      <th></th>\n",
              "      <th>label</th>\n",
              "      <th>sms</th>\n",
              "      <th>change_sms</th>\n",
              "      <th>nltk</th>\n",
              "    </tr>\n",
              "  </thead>\n",
              "  <tbody>\n",
              "    <tr>\n",
              "      <th>0</th>\n",
              "      <td>0</td>\n",
              "      <td>Go until jurong point, crazy.. Available only ...</td>\n",
              "      <td>go until jurong point crazy available only in ...</td>\n",
              "      <td>go until jurong point crazy available only in ...</td>\n",
              "    </tr>\n",
              "    <tr>\n",
              "      <th>1</th>\n",
              "      <td>0</td>\n",
              "      <td>Ok lar... Joking wif u oni...</td>\n",
              "      <td>ok lar joking wif you oni</td>\n",
              "      <td>ok lar joking wif you oni</td>\n",
              "    </tr>\n",
              "    <tr>\n",
              "      <th>2</th>\n",
              "      <td>1</td>\n",
              "      <td>Free entry in 2 a wkly comp to win FA Cup fina...</td>\n",
              "      <td>free entry in number a wkly comp to win fa cup...</td>\n",
              "      <td>free entry in number a wkly comp to win fa cup...</td>\n",
              "    </tr>\n",
              "    <tr>\n",
              "      <th>3</th>\n",
              "      <td>0</td>\n",
              "      <td>U dun say so early hor... U c already then say...</td>\n",
              "      <td>you dun say so early hor you c already then say</td>\n",
              "      <td>you dun say so early hor you c already then say</td>\n",
              "    </tr>\n",
              "    <tr>\n",
              "      <th>4</th>\n",
              "      <td>0</td>\n",
              "      <td>Nah I don't think he goes to usf, he lives aro...</td>\n",
              "      <td>nah i do not think he goes to usf he lives aro...</td>\n",
              "      <td>nah i do not think he go to usf he live around...</td>\n",
              "    </tr>\n",
              "    <tr>\n",
              "      <th>...</th>\n",
              "      <td>...</td>\n",
              "      <td>...</td>\n",
              "      <td>...</td>\n",
              "      <td>...</td>\n",
              "    </tr>\n",
              "    <tr>\n",
              "      <th>6274</th>\n",
              "      <td>1</td>\n",
              "      <td>Your SAM registration has been received! Click...</td>\n",
              "      <td>your sam registration has been received click ...</td>\n",
              "      <td>your sam registration have be receive click he...</td>\n",
              "    </tr>\n",
              "    <tr>\n",
              "      <th>6279</th>\n",
              "      <td>1</td>\n",
              "      <td>You have won a Nokia 7250i. This is what you g...</td>\n",
              "      <td>you have won a nokia number i this is what you...</td>\n",
              "      <td>you have win a nokia number i this be what you...</td>\n",
              "    </tr>\n",
              "    <tr>\n",
              "      <th>6280</th>\n",
              "      <td>1</td>\n",
              "      <td>Get ur 1st RINGTONE FREE NOW! Reply to this ms...</td>\n",
              "      <td>get you are number st ringtone free now reply ...</td>\n",
              "      <td>get you be number st ringtone free now reply t...</td>\n",
              "    </tr>\n",
              "    <tr>\n",
              "      <th>6282</th>\n",
              "      <td>1</td>\n",
              "      <td>Records indicate you were involved in an accid...</td>\n",
              "      <td>records indicate you were involved in an accid...</td>\n",
              "      <td>record indicate you be involve in an accident ...</td>\n",
              "    </tr>\n",
              "    <tr>\n",
              "      <th>6283</th>\n",
              "      <td>1</td>\n",
              "      <td>call now 08707509020 Just 20p per min NTT Ltd...</td>\n",
              "      <td>call now number just number p per min ntt ltd ...</td>\n",
              "      <td>call now number just number p per min ntt ltd ...</td>\n",
              "    </tr>\n",
              "  </tbody>\n",
              "</table>\n",
              "<p>5925 rows × 4 columns</p>\n",
              "</div>\n",
              "    <div class=\"colab-df-buttons\">\n",
              "\n",
              "  <div class=\"colab-df-container\">\n",
              "    <button class=\"colab-df-convert\" onclick=\"convertToInteractive('df-4722312a-e012-4119-a732-8a9d494dacd2')\"\n",
              "            title=\"Convert this dataframe to an interactive table.\"\n",
              "            style=\"display:none;\">\n",
              "\n",
              "  <svg xmlns=\"http://www.w3.org/2000/svg\" height=\"24px\" viewBox=\"0 -960 960 960\">\n",
              "    <path d=\"M120-120v-720h720v720H120Zm60-500h600v-160H180v160Zm220 220h160v-160H400v160Zm0 220h160v-160H400v160ZM180-400h160v-160H180v160Zm440 0h160v-160H620v160ZM180-180h160v-160H180v160Zm440 0h160v-160H620v160Z\"/>\n",
              "  </svg>\n",
              "    </button>\n",
              "\n",
              "  <style>\n",
              "    .colab-df-container {\n",
              "      display:flex;\n",
              "      gap: 12px;\n",
              "    }\n",
              "\n",
              "    .colab-df-convert {\n",
              "      background-color: #E8F0FE;\n",
              "      border: none;\n",
              "      border-radius: 50%;\n",
              "      cursor: pointer;\n",
              "      display: none;\n",
              "      fill: #1967D2;\n",
              "      height: 32px;\n",
              "      padding: 0 0 0 0;\n",
              "      width: 32px;\n",
              "    }\n",
              "\n",
              "    .colab-df-convert:hover {\n",
              "      background-color: #E2EBFA;\n",
              "      box-shadow: 0px 1px 2px rgba(60, 64, 67, 0.3), 0px 1px 3px 1px rgba(60, 64, 67, 0.15);\n",
              "      fill: #174EA6;\n",
              "    }\n",
              "\n",
              "    .colab-df-buttons div {\n",
              "      margin-bottom: 4px;\n",
              "    }\n",
              "\n",
              "    [theme=dark] .colab-df-convert {\n",
              "      background-color: #3B4455;\n",
              "      fill: #D2E3FC;\n",
              "    }\n",
              "\n",
              "    [theme=dark] .colab-df-convert:hover {\n",
              "      background-color: #434B5C;\n",
              "      box-shadow: 0px 1px 3px 1px rgba(0, 0, 0, 0.15);\n",
              "      filter: drop-shadow(0px 1px 2px rgba(0, 0, 0, 0.3));\n",
              "      fill: #FFFFFF;\n",
              "    }\n",
              "  </style>\n",
              "\n",
              "    <script>\n",
              "      const buttonEl =\n",
              "        document.querySelector('#df-4722312a-e012-4119-a732-8a9d494dacd2 button.colab-df-convert');\n",
              "      buttonEl.style.display =\n",
              "        google.colab.kernel.accessAllowed ? 'block' : 'none';\n",
              "\n",
              "      async function convertToInteractive(key) {\n",
              "        const element = document.querySelector('#df-4722312a-e012-4119-a732-8a9d494dacd2');\n",
              "        const dataTable =\n",
              "          await google.colab.kernel.invokeFunction('convertToInteractive',\n",
              "                                                    [key], {});\n",
              "        if (!dataTable) return;\n",
              "\n",
              "        const docLinkHtml = 'Like what you see? Visit the ' +\n",
              "          '<a target=\"_blank\" href=https://colab.research.google.com/notebooks/data_table.ipynb>data table notebook</a>'\n",
              "          + ' to learn more about interactive tables.';\n",
              "        element.innerHTML = '';\n",
              "        dataTable['output_type'] = 'display_data';\n",
              "        await google.colab.output.renderOutput(dataTable, element);\n",
              "        const docLink = document.createElement('div');\n",
              "        docLink.innerHTML = docLinkHtml;\n",
              "        element.appendChild(docLink);\n",
              "      }\n",
              "    </script>\n",
              "  </div>\n",
              "\n",
              "\n",
              "<div id=\"df-329496e5-ffc3-49b4-a7c5-5ae72820a6fd\">\n",
              "  <button class=\"colab-df-quickchart\" onclick=\"quickchart('df-329496e5-ffc3-49b4-a7c5-5ae72820a6fd')\"\n",
              "            title=\"Suggest charts\"\n",
              "            style=\"display:none;\">\n",
              "\n",
              "<svg xmlns=\"http://www.w3.org/2000/svg\" height=\"24px\"viewBox=\"0 0 24 24\"\n",
              "     width=\"24px\">\n",
              "    <g>\n",
              "        <path d=\"M19 3H5c-1.1 0-2 .9-2 2v14c0 1.1.9 2 2 2h14c1.1 0 2-.9 2-2V5c0-1.1-.9-2-2-2zM9 17H7v-7h2v7zm4 0h-2V7h2v10zm4 0h-2v-4h2v4z\"/>\n",
              "    </g>\n",
              "</svg>\n",
              "  </button>\n",
              "\n",
              "<style>\n",
              "  .colab-df-quickchart {\n",
              "      --bg-color: #E8F0FE;\n",
              "      --fill-color: #1967D2;\n",
              "      --hover-bg-color: #E2EBFA;\n",
              "      --hover-fill-color: #174EA6;\n",
              "      --disabled-fill-color: #AAA;\n",
              "      --disabled-bg-color: #DDD;\n",
              "  }\n",
              "\n",
              "  [theme=dark] .colab-df-quickchart {\n",
              "      --bg-color: #3B4455;\n",
              "      --fill-color: #D2E3FC;\n",
              "      --hover-bg-color: #434B5C;\n",
              "      --hover-fill-color: #FFFFFF;\n",
              "      --disabled-bg-color: #3B4455;\n",
              "      --disabled-fill-color: #666;\n",
              "  }\n",
              "\n",
              "  .colab-df-quickchart {\n",
              "    background-color: var(--bg-color);\n",
              "    border: none;\n",
              "    border-radius: 50%;\n",
              "    cursor: pointer;\n",
              "    display: none;\n",
              "    fill: var(--fill-color);\n",
              "    height: 32px;\n",
              "    padding: 0;\n",
              "    width: 32px;\n",
              "  }\n",
              "\n",
              "  .colab-df-quickchart:hover {\n",
              "    background-color: var(--hover-bg-color);\n",
              "    box-shadow: 0 1px 2px rgba(60, 64, 67, 0.3), 0 1px 3px 1px rgba(60, 64, 67, 0.15);\n",
              "    fill: var(--button-hover-fill-color);\n",
              "  }\n",
              "\n",
              "  .colab-df-quickchart-complete:disabled,\n",
              "  .colab-df-quickchart-complete:disabled:hover {\n",
              "    background-color: var(--disabled-bg-color);\n",
              "    fill: var(--disabled-fill-color);\n",
              "    box-shadow: none;\n",
              "  }\n",
              "\n",
              "  .colab-df-spinner {\n",
              "    border: 2px solid var(--fill-color);\n",
              "    border-color: transparent;\n",
              "    border-bottom-color: var(--fill-color);\n",
              "    animation:\n",
              "      spin 1s steps(1) infinite;\n",
              "  }\n",
              "\n",
              "  @keyframes spin {\n",
              "    0% {\n",
              "      border-color: transparent;\n",
              "      border-bottom-color: var(--fill-color);\n",
              "      border-left-color: var(--fill-color);\n",
              "    }\n",
              "    20% {\n",
              "      border-color: transparent;\n",
              "      border-left-color: var(--fill-color);\n",
              "      border-top-color: var(--fill-color);\n",
              "    }\n",
              "    30% {\n",
              "      border-color: transparent;\n",
              "      border-left-color: var(--fill-color);\n",
              "      border-top-color: var(--fill-color);\n",
              "      border-right-color: var(--fill-color);\n",
              "    }\n",
              "    40% {\n",
              "      border-color: transparent;\n",
              "      border-right-color: var(--fill-color);\n",
              "      border-top-color: var(--fill-color);\n",
              "    }\n",
              "    60% {\n",
              "      border-color: transparent;\n",
              "      border-right-color: var(--fill-color);\n",
              "    }\n",
              "    80% {\n",
              "      border-color: transparent;\n",
              "      border-right-color: var(--fill-color);\n",
              "      border-bottom-color: var(--fill-color);\n",
              "    }\n",
              "    90% {\n",
              "      border-color: transparent;\n",
              "      border-bottom-color: var(--fill-color);\n",
              "    }\n",
              "  }\n",
              "</style>\n",
              "\n",
              "  <script>\n",
              "    async function quickchart(key) {\n",
              "      const quickchartButtonEl =\n",
              "        document.querySelector('#' + key + ' button');\n",
              "      quickchartButtonEl.disabled = true;  // To prevent multiple clicks.\n",
              "      quickchartButtonEl.classList.add('colab-df-spinner');\n",
              "      try {\n",
              "        const charts = await google.colab.kernel.invokeFunction(\n",
              "            'suggestCharts', [key], {});\n",
              "      } catch (error) {\n",
              "        console.error('Error during call to suggestCharts:', error);\n",
              "      }\n",
              "      quickchartButtonEl.classList.remove('colab-df-spinner');\n",
              "      quickchartButtonEl.classList.add('colab-df-quickchart-complete');\n",
              "    }\n",
              "    (() => {\n",
              "      let quickchartButtonEl =\n",
              "        document.querySelector('#df-329496e5-ffc3-49b4-a7c5-5ae72820a6fd button');\n",
              "      quickchartButtonEl.style.display =\n",
              "        google.colab.kernel.accessAllowed ? 'block' : 'none';\n",
              "    })();\n",
              "  </script>\n",
              "</div>\n",
              "    </div>\n",
              "  </div>\n"
            ],
            "text/plain": [
              "      label                                                sms  \\\n",
              "0         0  Go until jurong point, crazy.. Available only ...   \n",
              "1         0                      Ok lar... Joking wif u oni...   \n",
              "2         1  Free entry in 2 a wkly comp to win FA Cup fina...   \n",
              "3         0  U dun say so early hor... U c already then say...   \n",
              "4         0  Nah I don't think he goes to usf, he lives aro...   \n",
              "...     ...                                                ...   \n",
              "6274      1  Your SAM registration has been received! Click...   \n",
              "6279      1  You have won a Nokia 7250i. This is what you g...   \n",
              "6280      1  Get ur 1st RINGTONE FREE NOW! Reply to this ms...   \n",
              "6282      1  Records indicate you were involved in an accid...   \n",
              "6283      1   call now 08707509020 Just 20p per min NTT Ltd...   \n",
              "\n",
              "                                             change_sms  \\\n",
              "0     go until jurong point crazy available only in ...   \n",
              "1                             ok lar joking wif you oni   \n",
              "2     free entry in number a wkly comp to win fa cup...   \n",
              "3       you dun say so early hor you c already then say   \n",
              "4     nah i do not think he goes to usf he lives aro...   \n",
              "...                                                 ...   \n",
              "6274  your sam registration has been received click ...   \n",
              "6279  you have won a nokia number i this is what you...   \n",
              "6280  get you are number st ringtone free now reply ...   \n",
              "6282  records indicate you were involved in an accid...   \n",
              "6283  call now number just number p per min ntt ltd ...   \n",
              "\n",
              "                                                   nltk  \n",
              "0     go until jurong point crazy available only in ...  \n",
              "1                             ok lar joking wif you oni  \n",
              "2     free entry in number a wkly comp to win fa cup...  \n",
              "3       you dun say so early hor you c already then say  \n",
              "4     nah i do not think he go to usf he live around...  \n",
              "...                                                 ...  \n",
              "6274  your sam registration have be receive click he...  \n",
              "6279  you have win a nokia number i this be what you...  \n",
              "6280  get you be number st ringtone free now reply t...  \n",
              "6282  record indicate you be involve in an accident ...  \n",
              "6283  call now number just number p per min ntt ltd ...  \n",
              "\n",
              "[5925 rows x 4 columns]"
            ]
          },
          "execution_count": 96,
          "metadata": {},
          "output_type": "execute_result"
        }
      ],
      "source": [
        "df"
      ]
    },
    {
      "cell_type": "code",
      "execution_count": null,
      "metadata": {
        "colab": {
          "base_uri": "https://localhost:8080/"
        },
        "id": "6CH-BNE2oIDB",
        "outputId": "fa309c71-00f9-40e6-d867-925bb17d5999"
      },
      "outputs": [
        {
          "name": "stderr",
          "output_type": "stream",
          "text": [
            "<ipython-input-97-725644f2dee2>:3: SettingWithCopyWarning: \n",
            "A value is trying to be set on a copy of a slice from a DataFrame.\n",
            "Try using .loc[row_indexer,col_indexer] = value instead\n",
            "\n",
            "See the caveats in the documentation: https://pandas.pydata.org/pandas-docs/stable/user_guide/indexing.html#returning-a-view-versus-a-copy\n",
            "  df['nltk'] = df['nltk'].apply(lambda x: ' '.join(['' if word.lower().strip() in stop_words else word for word in x.split()]))\n",
            "<ipython-input-97-725644f2dee2>:7: SettingWithCopyWarning: \n",
            "A value is trying to be set on a copy of a slice from a DataFrame.\n",
            "Try using .loc[row_indexer,col_indexer] = value instead\n",
            "\n",
            "See the caveats in the documentation: https://pandas.pydata.org/pandas-docs/stable/user_guide/indexing.html#returning-a-view-versus-a-copy\n",
            "  df['nltk'] = df['nltk'].apply(lambda x: ' '.join([ss.stem(term) for term in x.split()]))\n",
            "<ipython-input-97-725644f2dee2>:10: SettingWithCopyWarning: \n",
            "A value is trying to be set on a copy of a slice from a DataFrame.\n",
            "Try using .loc[row_indexer,col_indexer] = value instead\n",
            "\n",
            "See the caveats in the documentation: https://pandas.pydata.org/pandas-docs/stable/user_guide/indexing.html#returning-a-view-versus-a-copy\n",
            "  df['nltk'] = df['nltk'].apply(lambda x: ' '.join(word.strip() for word in x.split() if word.strip()))\n"
          ]
        }
      ],
      "source": [
        "# Stopwords\n",
        "stop_words = set(stopwords.words('english'))\n",
        "df['nltk'] = df['nltk'].apply(lambda x: ' '.join(['' if word.lower().strip() in stop_words else word for word in x.split()]))\n",
        "\n",
        "# Stemming\n",
        "ss = SnowballStemmer(\"english\")\n",
        "df['nltk'] = df['nltk'].apply(lambda x: ' '.join([ss.stem(term) for term in x.split()]))\n",
        "\n",
        "# Delete whitespace\n",
        "df['nltk'] = df['nltk'].apply(lambda x: ' '.join(word.strip() for word in x.split() if word.strip()))\n"
      ]
    },
    {
      "cell_type": "code",
      "execution_count": null,
      "metadata": {
        "colab": {
          "base_uri": "https://localhost:8080/"
        },
        "id": "9XkrQPuboLl7",
        "outputId": "a6c374cb-4406-4837-b4ee-2dcd85282ead"
      },
      "outputs": [
        {
          "data": {
            "text/plain": [
              "536"
            ]
          },
          "execution_count": 98,
          "metadata": {},
          "output_type": "execute_result"
        }
      ],
      "source": [
        "df['nltk'].duplicated().sum()"
      ]
    },
    {
      "cell_type": "code",
      "execution_count": null,
      "metadata": {
        "colab": {
          "base_uri": "https://localhost:8080/"
        },
        "id": "EGfHbIUjoO9B",
        "outputId": "298dc1a1-5767-4a76-8a46-cc592dea3467"
      },
      "outputs": [
        {
          "name": "stderr",
          "output_type": "stream",
          "text": [
            "<ipython-input-99-5a73740f885e>:1: SettingWithCopyWarning: \n",
            "A value is trying to be set on a copy of a slice from a DataFrame\n",
            "\n",
            "See the caveats in the documentation: https://pandas.pydata.org/pandas-docs/stable/user_guide/indexing.html#returning-a-view-versus-a-copy\n",
            "  df.drop_duplicates(subset=['nltk'], keep='first', inplace=True)\n"
          ]
        }
      ],
      "source": [
        "df.drop_duplicates(subset=['nltk'], keep='first', inplace=True)"
      ]
    },
    {
      "cell_type": "code",
      "execution_count": null,
      "metadata": {
        "colab": {
          "base_uri": "https://localhost:8080/"
        },
        "id": "pn4jOMkBoimn",
        "outputId": "7e5aee1c-1b82-4f3d-acd7-aca99c133902"
      },
      "outputs": [
        {
          "data": {
            "text/plain": [
              "0"
            ]
          },
          "execution_count": 100,
          "metadata": {},
          "output_type": "execute_result"
        }
      ],
      "source": [
        "df['nltk'].duplicated().sum()"
      ]
    },
    {
      "cell_type": "code",
      "execution_count": null,
      "metadata": {
        "colab": {
          "base_uri": "https://localhost:8080/",
          "height": 424
        },
        "id": "XTLm0gsVopjU",
        "outputId": "ef75e5c4-c1fa-4b45-ac5a-65613fdba04b"
      },
      "outputs": [
        {
          "data": {
            "application/vnd.google.colaboratory.intrinsic+json": {
              "summary": "{\n  \"name\": \"df\",\n  \"rows\": 5389,\n  \"fields\": [\n    {\n      \"column\": \"label\",\n      \"properties\": {\n        \"dtype\": \"number\",\n        \"std\": 0,\n        \"min\": 0,\n        \"max\": 1,\n        \"num_unique_values\": 2,\n        \"samples\": [\n          1,\n          0\n        ],\n        \"semantic_type\": \"\",\n        \"description\": \"\"\n      }\n    },\n    {\n      \"column\": \"sms\",\n      \"properties\": {\n        \"dtype\": \"string\",\n        \"num_unique_values\": 5389,\n        \"samples\": [\n          \"Update_Now - 12Mths Half Price Orange line rental: 400mins...Call MobileUpd8 on 08000839402 or call2optout=J5Q\",\n          \"The guy (kadeem) hasn't been selling since the break, I know one other guy but he's paranoid as fuck and doesn't like selling without me there and I can't be up there til late tonight\"\n        ],\n        \"semantic_type\": \"\",\n        \"description\": \"\"\n      }\n    },\n    {\n      \"column\": \"change_sms\",\n      \"properties\": {\n        \"dtype\": \"string\",\n        \"num_unique_values\": 5389,\n        \"samples\": [\n          \"updatenow number mths half price orange line rental link mobileupd number on number or call number optoutj number q\",\n          \"the guy kadeem has not been selling since the break i know one other guy but he is paranoid as fuck and does not like selling without me there and i cannot be up there til late tonight\"\n        ],\n        \"semantic_type\": \"\",\n        \"description\": \"\"\n      }\n    },\n    {\n      \"column\": \"nltk\",\n      \"properties\": {\n        \"dtype\": \"string\",\n        \"num_unique_values\": 5389,\n        \"samples\": [\n          \"updatenow number mths half price orang line rental link mobileupd number number call number optoutj number q\",\n          \"guy kadeem sell sinc break know one guy paranoid fuck like sell without til late tonight\"\n        ],\n        \"semantic_type\": \"\",\n        \"description\": \"\"\n      }\n    }\n  ]\n}",
              "type": "dataframe",
              "variable_name": "df"
            },
            "text/html": [
              "\n",
              "  <div id=\"df-901c1ddb-425d-4638-8605-7efda962ebe6\" class=\"colab-df-container\">\n",
              "    <div>\n",
              "<style scoped>\n",
              "    .dataframe tbody tr th:only-of-type {\n",
              "        vertical-align: middle;\n",
              "    }\n",
              "\n",
              "    .dataframe tbody tr th {\n",
              "        vertical-align: top;\n",
              "    }\n",
              "\n",
              "    .dataframe thead th {\n",
              "        text-align: right;\n",
              "    }\n",
              "</style>\n",
              "<table border=\"1\" class=\"dataframe\">\n",
              "  <thead>\n",
              "    <tr style=\"text-align: right;\">\n",
              "      <th></th>\n",
              "      <th>label</th>\n",
              "      <th>sms</th>\n",
              "      <th>change_sms</th>\n",
              "      <th>nltk</th>\n",
              "    </tr>\n",
              "  </thead>\n",
              "  <tbody>\n",
              "    <tr>\n",
              "      <th>0</th>\n",
              "      <td>0</td>\n",
              "      <td>Go until jurong point, crazy.. Available only ...</td>\n",
              "      <td>go until jurong point crazy available only in ...</td>\n",
              "      <td>go jurong point crazi avail bugi n great world...</td>\n",
              "    </tr>\n",
              "    <tr>\n",
              "      <th>1</th>\n",
              "      <td>0</td>\n",
              "      <td>Ok lar... Joking wif u oni...</td>\n",
              "      <td>ok lar joking wif you oni</td>\n",
              "      <td>ok lar joke wif oni</td>\n",
              "    </tr>\n",
              "    <tr>\n",
              "      <th>2</th>\n",
              "      <td>1</td>\n",
              "      <td>Free entry in 2 a wkly comp to win FA Cup fina...</td>\n",
              "      <td>free entry in number a wkly comp to win fa cup...</td>\n",
              "      <td>free entri number wkli comp win fa cup final t...</td>\n",
              "    </tr>\n",
              "    <tr>\n",
              "      <th>3</th>\n",
              "      <td>0</td>\n",
              "      <td>U dun say so early hor... U c already then say...</td>\n",
              "      <td>you dun say so early hor you c already then say</td>\n",
              "      <td>dun say earli hor c alreadi say</td>\n",
              "    </tr>\n",
              "    <tr>\n",
              "      <th>4</th>\n",
              "      <td>0</td>\n",
              "      <td>Nah I don't think he goes to usf, he lives aro...</td>\n",
              "      <td>nah i do not think he goes to usf he lives aro...</td>\n",
              "      <td>nah think go usf live around though</td>\n",
              "    </tr>\n",
              "    <tr>\n",
              "      <th>...</th>\n",
              "      <td>...</td>\n",
              "      <td>...</td>\n",
              "      <td>...</td>\n",
              "      <td>...</td>\n",
              "    </tr>\n",
              "    <tr>\n",
              "      <th>6273</th>\n",
              "      <td>1</td>\n",
              "      <td>Double Mins &amp; Double Txt &amp; 1/2 price Call Mobi...</td>\n",
              "      <td>double mins double txt number number price cal...</td>\n",
              "      <td>doubl min doubl txt number number price call m...</td>\n",
              "    </tr>\n",
              "    <tr>\n",
              "      <th>6274</th>\n",
              "      <td>1</td>\n",
              "      <td>Your SAM registration has been received! Click...</td>\n",
              "      <td>your sam registration has been received click ...</td>\n",
              "      <td>sam registr receiv click complet process http ...</td>\n",
              "    </tr>\n",
              "    <tr>\n",
              "      <th>6279</th>\n",
              "      <td>1</td>\n",
              "      <td>You have won a Nokia 7250i. This is what you g...</td>\n",
              "      <td>you have won a nokia number i this is what you...</td>\n",
              "      <td>win nokia number get win free auction take par...</td>\n",
              "    </tr>\n",
              "    <tr>\n",
              "      <th>6282</th>\n",
              "      <td>1</td>\n",
              "      <td>Records indicate you were involved in an accid...</td>\n",
              "      <td>records indicate you were involved in an accid...</td>\n",
              "      <td>record indic involv accid last number number y...</td>\n",
              "    </tr>\n",
              "    <tr>\n",
              "      <th>6283</th>\n",
              "      <td>1</td>\n",
              "      <td>call now 08707509020 Just 20p per min NTT Ltd...</td>\n",
              "      <td>call now number just number p per min ntt ltd ...</td>\n",
              "      <td>call number number p per min ntt ltd po box nu...</td>\n",
              "    </tr>\n",
              "  </tbody>\n",
              "</table>\n",
              "<p>5389 rows × 4 columns</p>\n",
              "</div>\n",
              "    <div class=\"colab-df-buttons\">\n",
              "\n",
              "  <div class=\"colab-df-container\">\n",
              "    <button class=\"colab-df-convert\" onclick=\"convertToInteractive('df-901c1ddb-425d-4638-8605-7efda962ebe6')\"\n",
              "            title=\"Convert this dataframe to an interactive table.\"\n",
              "            style=\"display:none;\">\n",
              "\n",
              "  <svg xmlns=\"http://www.w3.org/2000/svg\" height=\"24px\" viewBox=\"0 -960 960 960\">\n",
              "    <path d=\"M120-120v-720h720v720H120Zm60-500h600v-160H180v160Zm220 220h160v-160H400v160Zm0 220h160v-160H400v160ZM180-400h160v-160H180v160Zm440 0h160v-160H620v160ZM180-180h160v-160H180v160Zm440 0h160v-160H620v160Z\"/>\n",
              "  </svg>\n",
              "    </button>\n",
              "\n",
              "  <style>\n",
              "    .colab-df-container {\n",
              "      display:flex;\n",
              "      gap: 12px;\n",
              "    }\n",
              "\n",
              "    .colab-df-convert {\n",
              "      background-color: #E8F0FE;\n",
              "      border: none;\n",
              "      border-radius: 50%;\n",
              "      cursor: pointer;\n",
              "      display: none;\n",
              "      fill: #1967D2;\n",
              "      height: 32px;\n",
              "      padding: 0 0 0 0;\n",
              "      width: 32px;\n",
              "    }\n",
              "\n",
              "    .colab-df-convert:hover {\n",
              "      background-color: #E2EBFA;\n",
              "      box-shadow: 0px 1px 2px rgba(60, 64, 67, 0.3), 0px 1px 3px 1px rgba(60, 64, 67, 0.15);\n",
              "      fill: #174EA6;\n",
              "    }\n",
              "\n",
              "    .colab-df-buttons div {\n",
              "      margin-bottom: 4px;\n",
              "    }\n",
              "\n",
              "    [theme=dark] .colab-df-convert {\n",
              "      background-color: #3B4455;\n",
              "      fill: #D2E3FC;\n",
              "    }\n",
              "\n",
              "    [theme=dark] .colab-df-convert:hover {\n",
              "      background-color: #434B5C;\n",
              "      box-shadow: 0px 1px 3px 1px rgba(0, 0, 0, 0.15);\n",
              "      filter: drop-shadow(0px 1px 2px rgba(0, 0, 0, 0.3));\n",
              "      fill: #FFFFFF;\n",
              "    }\n",
              "  </style>\n",
              "\n",
              "    <script>\n",
              "      const buttonEl =\n",
              "        document.querySelector('#df-901c1ddb-425d-4638-8605-7efda962ebe6 button.colab-df-convert');\n",
              "      buttonEl.style.display =\n",
              "        google.colab.kernel.accessAllowed ? 'block' : 'none';\n",
              "\n",
              "      async function convertToInteractive(key) {\n",
              "        const element = document.querySelector('#df-901c1ddb-425d-4638-8605-7efda962ebe6');\n",
              "        const dataTable =\n",
              "          await google.colab.kernel.invokeFunction('convertToInteractive',\n",
              "                                                    [key], {});\n",
              "        if (!dataTable) return;\n",
              "\n",
              "        const docLinkHtml = 'Like what you see? Visit the ' +\n",
              "          '<a target=\"_blank\" href=https://colab.research.google.com/notebooks/data_table.ipynb>data table notebook</a>'\n",
              "          + ' to learn more about interactive tables.';\n",
              "        element.innerHTML = '';\n",
              "        dataTable['output_type'] = 'display_data';\n",
              "        await google.colab.output.renderOutput(dataTable, element);\n",
              "        const docLink = document.createElement('div');\n",
              "        docLink.innerHTML = docLinkHtml;\n",
              "        element.appendChild(docLink);\n",
              "      }\n",
              "    </script>\n",
              "  </div>\n",
              "\n",
              "\n",
              "<div id=\"df-3338a70e-20fb-45d6-a069-ce8595f62337\">\n",
              "  <button class=\"colab-df-quickchart\" onclick=\"quickchart('df-3338a70e-20fb-45d6-a069-ce8595f62337')\"\n",
              "            title=\"Suggest charts\"\n",
              "            style=\"display:none;\">\n",
              "\n",
              "<svg xmlns=\"http://www.w3.org/2000/svg\" height=\"24px\"viewBox=\"0 0 24 24\"\n",
              "     width=\"24px\">\n",
              "    <g>\n",
              "        <path d=\"M19 3H5c-1.1 0-2 .9-2 2v14c0 1.1.9 2 2 2h14c1.1 0 2-.9 2-2V5c0-1.1-.9-2-2-2zM9 17H7v-7h2v7zm4 0h-2V7h2v10zm4 0h-2v-4h2v4z\"/>\n",
              "    </g>\n",
              "</svg>\n",
              "  </button>\n",
              "\n",
              "<style>\n",
              "  .colab-df-quickchart {\n",
              "      --bg-color: #E8F0FE;\n",
              "      --fill-color: #1967D2;\n",
              "      --hover-bg-color: #E2EBFA;\n",
              "      --hover-fill-color: #174EA6;\n",
              "      --disabled-fill-color: #AAA;\n",
              "      --disabled-bg-color: #DDD;\n",
              "  }\n",
              "\n",
              "  [theme=dark] .colab-df-quickchart {\n",
              "      --bg-color: #3B4455;\n",
              "      --fill-color: #D2E3FC;\n",
              "      --hover-bg-color: #434B5C;\n",
              "      --hover-fill-color: #FFFFFF;\n",
              "      --disabled-bg-color: #3B4455;\n",
              "      --disabled-fill-color: #666;\n",
              "  }\n",
              "\n",
              "  .colab-df-quickchart {\n",
              "    background-color: var(--bg-color);\n",
              "    border: none;\n",
              "    border-radius: 50%;\n",
              "    cursor: pointer;\n",
              "    display: none;\n",
              "    fill: var(--fill-color);\n",
              "    height: 32px;\n",
              "    padding: 0;\n",
              "    width: 32px;\n",
              "  }\n",
              "\n",
              "  .colab-df-quickchart:hover {\n",
              "    background-color: var(--hover-bg-color);\n",
              "    box-shadow: 0 1px 2px rgba(60, 64, 67, 0.3), 0 1px 3px 1px rgba(60, 64, 67, 0.15);\n",
              "    fill: var(--button-hover-fill-color);\n",
              "  }\n",
              "\n",
              "  .colab-df-quickchart-complete:disabled,\n",
              "  .colab-df-quickchart-complete:disabled:hover {\n",
              "    background-color: var(--disabled-bg-color);\n",
              "    fill: var(--disabled-fill-color);\n",
              "    box-shadow: none;\n",
              "  }\n",
              "\n",
              "  .colab-df-spinner {\n",
              "    border: 2px solid var(--fill-color);\n",
              "    border-color: transparent;\n",
              "    border-bottom-color: var(--fill-color);\n",
              "    animation:\n",
              "      spin 1s steps(1) infinite;\n",
              "  }\n",
              "\n",
              "  @keyframes spin {\n",
              "    0% {\n",
              "      border-color: transparent;\n",
              "      border-bottom-color: var(--fill-color);\n",
              "      border-left-color: var(--fill-color);\n",
              "    }\n",
              "    20% {\n",
              "      border-color: transparent;\n",
              "      border-left-color: var(--fill-color);\n",
              "      border-top-color: var(--fill-color);\n",
              "    }\n",
              "    30% {\n",
              "      border-color: transparent;\n",
              "      border-left-color: var(--fill-color);\n",
              "      border-top-color: var(--fill-color);\n",
              "      border-right-color: var(--fill-color);\n",
              "    }\n",
              "    40% {\n",
              "      border-color: transparent;\n",
              "      border-right-color: var(--fill-color);\n",
              "      border-top-color: var(--fill-color);\n",
              "    }\n",
              "    60% {\n",
              "      border-color: transparent;\n",
              "      border-right-color: var(--fill-color);\n",
              "    }\n",
              "    80% {\n",
              "      border-color: transparent;\n",
              "      border-right-color: var(--fill-color);\n",
              "      border-bottom-color: var(--fill-color);\n",
              "    }\n",
              "    90% {\n",
              "      border-color: transparent;\n",
              "      border-bottom-color: var(--fill-color);\n",
              "    }\n",
              "  }\n",
              "</style>\n",
              "\n",
              "  <script>\n",
              "    async function quickchart(key) {\n",
              "      const quickchartButtonEl =\n",
              "        document.querySelector('#' + key + ' button');\n",
              "      quickchartButtonEl.disabled = true;  // To prevent multiple clicks.\n",
              "      quickchartButtonEl.classList.add('colab-df-spinner');\n",
              "      try {\n",
              "        const charts = await google.colab.kernel.invokeFunction(\n",
              "            'suggestCharts', [key], {});\n",
              "      } catch (error) {\n",
              "        console.error('Error during call to suggestCharts:', error);\n",
              "      }\n",
              "      quickchartButtonEl.classList.remove('colab-df-spinner');\n",
              "      quickchartButtonEl.classList.add('colab-df-quickchart-complete');\n",
              "    }\n",
              "    (() => {\n",
              "      let quickchartButtonEl =\n",
              "        document.querySelector('#df-3338a70e-20fb-45d6-a069-ce8595f62337 button');\n",
              "      quickchartButtonEl.style.display =\n",
              "        google.colab.kernel.accessAllowed ? 'block' : 'none';\n",
              "    })();\n",
              "  </script>\n",
              "</div>\n",
              "    </div>\n",
              "  </div>\n"
            ],
            "text/plain": [
              "      label                                                sms  \\\n",
              "0         0  Go until jurong point, crazy.. Available only ...   \n",
              "1         0                      Ok lar... Joking wif u oni...   \n",
              "2         1  Free entry in 2 a wkly comp to win FA Cup fina...   \n",
              "3         0  U dun say so early hor... U c already then say...   \n",
              "4         0  Nah I don't think he goes to usf, he lives aro...   \n",
              "...     ...                                                ...   \n",
              "6273      1  Double Mins & Double Txt & 1/2 price Call Mobi...   \n",
              "6274      1  Your SAM registration has been received! Click...   \n",
              "6279      1  You have won a Nokia 7250i. This is what you g...   \n",
              "6282      1  Records indicate you were involved in an accid...   \n",
              "6283      1   call now 08707509020 Just 20p per min NTT Ltd...   \n",
              "\n",
              "                                             change_sms  \\\n",
              "0     go until jurong point crazy available only in ...   \n",
              "1                             ok lar joking wif you oni   \n",
              "2     free entry in number a wkly comp to win fa cup...   \n",
              "3       you dun say so early hor you c already then say   \n",
              "4     nah i do not think he goes to usf he lives aro...   \n",
              "...                                                 ...   \n",
              "6273  double mins double txt number number price cal...   \n",
              "6274  your sam registration has been received click ...   \n",
              "6279  you have won a nokia number i this is what you...   \n",
              "6282  records indicate you were involved in an accid...   \n",
              "6283  call now number just number p per min ntt ltd ...   \n",
              "\n",
              "                                                   nltk  \n",
              "0     go jurong point crazi avail bugi n great world...  \n",
              "1                                   ok lar joke wif oni  \n",
              "2     free entri number wkli comp win fa cup final t...  \n",
              "3                       dun say earli hor c alreadi say  \n",
              "4                   nah think go usf live around though  \n",
              "...                                                 ...  \n",
              "6273  doubl min doubl txt number number price call m...  \n",
              "6274  sam registr receiv click complet process http ...  \n",
              "6279  win nokia number get win free auction take par...  \n",
              "6282  record indic involv accid last number number y...  \n",
              "6283  call number number p per min ntt ltd po box nu...  \n",
              "\n",
              "[5389 rows x 4 columns]"
            ]
          },
          "execution_count": 101,
          "metadata": {},
          "output_type": "execute_result"
        }
      ],
      "source": [
        "df"
      ]
    },
    {
      "cell_type": "markdown",
      "metadata": {
        "id": "hcU-WhUuoto2"
      },
      "source": [
        "- Data Augmentation"
      ]
    },
    {
      "cell_type": "code",
      "execution_count": null,
      "metadata": {
        "colab": {
          "base_uri": "https://localhost:8080/"
        },
        "id": "aNco_48ue3wk",
        "outputId": "85a3711c-1d66-4c4d-8d2a-3b540d5d4a5a"
      },
      "outputs": [
        {
          "name": "stdout",
          "output_type": "stream",
          "text": [
            "Requirement already satisfied: textattack in /usr/local/lib/python3.10/dist-packages (0.3.10)\n",
            "Requirement already satisfied: bert-score>=0.3.5 in /usr/local/lib/python3.10/dist-packages (from textattack) (0.3.13)\n",
            "Requirement already satisfied: editdistance in /usr/local/lib/python3.10/dist-packages (from textattack) (0.6.2)\n",
            "Requirement already satisfied: flair in /usr/local/lib/python3.10/dist-packages (from textattack) (0.13.1)\n",
            "Requirement already satisfied: filelock in /usr/local/lib/python3.10/dist-packages (from textattack) (3.14.0)\n",
            "Requirement already satisfied: language-tool-python in /usr/local/lib/python3.10/dist-packages (from textattack) (2.8)\n",
            "Requirement already satisfied: lemminflect in /usr/local/lib/python3.10/dist-packages (from textattack) (0.2.3)\n",
            "Requirement already satisfied: lru-dict in /usr/local/lib/python3.10/dist-packages (from textattack) (1.3.0)\n",
            "Requirement already satisfied: datasets>=2.4.0 in /usr/local/lib/python3.10/dist-packages (from textattack) (2.19.1)\n",
            "Requirement already satisfied: nltk in /usr/local/lib/python3.10/dist-packages (from textattack) (3.8.1)\n",
            "Requirement already satisfied: numpy>=1.21.0 in /usr/local/lib/python3.10/dist-packages (from textattack) (1.25.2)\n",
            "Requirement already satisfied: pandas>=1.0.1 in /usr/local/lib/python3.10/dist-packages (from textattack) (2.0.3)\n",
            "Requirement already satisfied: scipy>=1.4.1 in /usr/local/lib/python3.10/dist-packages (from textattack) (1.11.4)\n",
            "Requirement already satisfied: torch!=1.8,>=1.7.0 in /usr/local/lib/python3.10/dist-packages (from textattack) (2.2.1+cu121)\n",
            "Requirement already satisfied: transformers>=4.30.0 in /usr/local/lib/python3.10/dist-packages (from textattack) (4.40.2)\n",
            "Requirement already satisfied: terminaltables in /usr/local/lib/python3.10/dist-packages (from textattack) (3.1.10)\n",
            "Requirement already satisfied: tqdm in /usr/local/lib/python3.10/dist-packages (from textattack) (4.66.4)\n",
            "Requirement already satisfied: word2number in /usr/local/lib/python3.10/dist-packages (from textattack) (1.1)\n",
            "Requirement already satisfied: num2words in /usr/local/lib/python3.10/dist-packages (from textattack) (0.5.13)\n",
            "Requirement already satisfied: more-itertools in /usr/local/lib/python3.10/dist-packages (from textattack) (10.1.0)\n",
            "Requirement already satisfied: pinyin>=0.4.0 in /usr/local/lib/python3.10/dist-packages (from textattack) (0.4.0)\n",
            "Requirement already satisfied: jieba in /usr/local/lib/python3.10/dist-packages (from textattack) (0.42.1)\n",
            "Requirement already satisfied: OpenHowNet in /usr/local/lib/python3.10/dist-packages (from textattack) (2.0)\n",
            "Requirement already satisfied: requests in /usr/local/lib/python3.10/dist-packages (from bert-score>=0.3.5->textattack) (2.31.0)\n",
            "Requirement already satisfied: matplotlib in /usr/local/lib/python3.10/dist-packages (from bert-score>=0.3.5->textattack) (3.7.1)\n",
            "Requirement already satisfied: packaging>=20.9 in /usr/local/lib/python3.10/dist-packages (from bert-score>=0.3.5->textattack) (24.0)\n",
            "Requirement already satisfied: pyarrow>=12.0.0 in /usr/local/lib/python3.10/dist-packages (from datasets>=2.4.0->textattack) (14.0.2)\n",
            "Requirement already satisfied: pyarrow-hotfix in /usr/local/lib/python3.10/dist-packages (from datasets>=2.4.0->textattack) (0.6)\n",
            "Requirement already satisfied: dill<0.3.9,>=0.3.0 in /usr/local/lib/python3.10/dist-packages (from datasets>=2.4.0->textattack) (0.3.8)\n",
            "Requirement already satisfied: xxhash in /usr/local/lib/python3.10/dist-packages (from datasets>=2.4.0->textattack) (3.4.1)\n",
            "Requirement already satisfied: multiprocess in /usr/local/lib/python3.10/dist-packages (from datasets>=2.4.0->textattack) (0.70.16)\n",
            "Requirement already satisfied: fsspec[http]<=2024.3.1,>=2023.1.0 in /usr/local/lib/python3.10/dist-packages (from datasets>=2.4.0->textattack) (2023.6.0)\n",
            "Requirement already satisfied: aiohttp in /usr/local/lib/python3.10/dist-packages (from datasets>=2.4.0->textattack) (3.9.5)\n",
            "Requirement already satisfied: huggingface-hub>=0.21.2 in /usr/local/lib/python3.10/dist-packages (from datasets>=2.4.0->textattack) (0.23.0)\n",
            "Requirement already satisfied: pyyaml>=5.1 in /usr/local/lib/python3.10/dist-packages (from datasets>=2.4.0->textattack) (6.0.1)\n",
            "Requirement already satisfied: python-dateutil>=2.8.2 in /usr/local/lib/python3.10/dist-packages (from pandas>=1.0.1->textattack) (2.8.2)\n",
            "Requirement already satisfied: pytz>=2020.1 in /usr/local/lib/python3.10/dist-packages (from pandas>=1.0.1->textattack) (2023.4)\n",
            "Requirement already satisfied: tzdata>=2022.1 in /usr/local/lib/python3.10/dist-packages (from pandas>=1.0.1->textattack) (2024.1)\n",
            "Requirement already satisfied: typing-extensions>=4.8.0 in /usr/local/lib/python3.10/dist-packages (from torch!=1.8,>=1.7.0->textattack) (4.11.0)\n",
            "Requirement already satisfied: sympy in /usr/local/lib/python3.10/dist-packages (from torch!=1.8,>=1.7.0->textattack) (1.12)\n",
            "Requirement already satisfied: networkx in /usr/local/lib/python3.10/dist-packages (from torch!=1.8,>=1.7.0->textattack) (3.3)\n",
            "Requirement already satisfied: jinja2 in /usr/local/lib/python3.10/dist-packages (from torch!=1.8,>=1.7.0->textattack) (3.1.4)\n",
            "Requirement already satisfied: nvidia-cuda-nvrtc-cu12==12.1.105 in /usr/local/lib/python3.10/dist-packages (from torch!=1.8,>=1.7.0->textattack) (12.1.105)\n",
            "Requirement already satisfied: nvidia-cuda-runtime-cu12==12.1.105 in /usr/local/lib/python3.10/dist-packages (from torch!=1.8,>=1.7.0->textattack) (12.1.105)\n",
            "Requirement already satisfied: nvidia-cuda-cupti-cu12==12.1.105 in /usr/local/lib/python3.10/dist-packages (from torch!=1.8,>=1.7.0->textattack) (12.1.105)\n",
            "Requirement already satisfied: nvidia-cudnn-cu12==8.9.2.26 in /usr/local/lib/python3.10/dist-packages (from torch!=1.8,>=1.7.0->textattack) (8.9.2.26)\n",
            "Requirement already satisfied: nvidia-cublas-cu12==12.1.3.1 in /usr/local/lib/python3.10/dist-packages (from torch!=1.8,>=1.7.0->textattack) (12.1.3.1)\n",
            "Requirement already satisfied: nvidia-cufft-cu12==11.0.2.54 in /usr/local/lib/python3.10/dist-packages (from torch!=1.8,>=1.7.0->textattack) (11.0.2.54)\n",
            "Requirement already satisfied: nvidia-curand-cu12==10.3.2.106 in /usr/local/lib/python3.10/dist-packages (from torch!=1.8,>=1.7.0->textattack) (10.3.2.106)\n",
            "Requirement already satisfied: nvidia-cusolver-cu12==11.4.5.107 in /usr/local/lib/python3.10/dist-packages (from torch!=1.8,>=1.7.0->textattack) (11.4.5.107)\n",
            "Requirement already satisfied: nvidia-cusparse-cu12==12.1.0.106 in /usr/local/lib/python3.10/dist-packages (from torch!=1.8,>=1.7.0->textattack) (12.1.0.106)\n",
            "Requirement already satisfied: nvidia-nccl-cu12==2.19.3 in /usr/local/lib/python3.10/dist-packages (from torch!=1.8,>=1.7.0->textattack) (2.19.3)\n",
            "Requirement already satisfied: nvidia-nvtx-cu12==12.1.105 in /usr/local/lib/python3.10/dist-packages (from torch!=1.8,>=1.7.0->textattack) (12.1.105)\n",
            "Requirement already satisfied: triton==2.2.0 in /usr/local/lib/python3.10/dist-packages (from torch!=1.8,>=1.7.0->textattack) (2.2.0)\n",
            "Requirement already satisfied: nvidia-nvjitlink-cu12 in /usr/local/lib/python3.10/dist-packages (from nvidia-cusolver-cu12==11.4.5.107->torch!=1.8,>=1.7.0->textattack) (12.4.127)\n",
            "Requirement already satisfied: regex!=2019.12.17 in /usr/local/lib/python3.10/dist-packages (from transformers>=4.30.0->textattack) (2023.12.25)\n",
            "Requirement already satisfied: tokenizers<0.20,>=0.19 in /usr/local/lib/python3.10/dist-packages (from transformers>=4.30.0->textattack) (0.19.1)\n",
            "Requirement already satisfied: safetensors>=0.4.1 in /usr/local/lib/python3.10/dist-packages (from transformers>=4.30.0->textattack) (0.4.3)\n",
            "Requirement already satisfied: boto3>=1.20.27 in /usr/local/lib/python3.10/dist-packages (from flair->textattack) (1.34.103)\n",
            "Requirement already satisfied: bpemb>=0.3.2 in /usr/local/lib/python3.10/dist-packages (from flair->textattack) (0.3.5)\n",
            "Requirement already satisfied: conllu>=4.0 in /usr/local/lib/python3.10/dist-packages (from flair->textattack) (4.5.3)\n",
            "Requirement already satisfied: deprecated>=1.2.13 in /usr/local/lib/python3.10/dist-packages (from flair->textattack) (1.2.14)\n",
            "Requirement already satisfied: ftfy>=6.1.0 in /usr/local/lib/python3.10/dist-packages (from flair->textattack) (6.2.0)\n",
            "Requirement already satisfied: gdown>=4.4.0 in /usr/local/lib/python3.10/dist-packages (from flair->textattack) (5.1.0)\n",
            "Requirement already satisfied: gensim>=4.2.0 in /usr/local/lib/python3.10/dist-packages (from flair->textattack) (4.3.2)\n",
            "Requirement already satisfied: janome>=0.4.2 in /usr/local/lib/python3.10/dist-packages (from flair->textattack) (0.5.0)\n",
            "Requirement already satisfied: langdetect>=1.0.9 in /usr/local/lib/python3.10/dist-packages (from flair->textattack) (1.0.9)\n",
            "Requirement already satisfied: lxml>=4.8.0 in /usr/local/lib/python3.10/dist-packages (from flair->textattack) (4.9.4)\n",
            "Requirement already satisfied: mpld3>=0.3 in /usr/local/lib/python3.10/dist-packages (from flair->textattack) (0.5.10)\n",
            "Requirement already satisfied: pptree>=3.1 in /usr/local/lib/python3.10/dist-packages (from flair->textattack) (3.1)\n",
            "Requirement already satisfied: pytorch-revgrad>=0.2.0 in /usr/local/lib/python3.10/dist-packages (from flair->textattack) (0.2.0)\n",
            "Requirement already satisfied: scikit-learn>=1.0.2 in /usr/local/lib/python3.10/dist-packages (from flair->textattack) (1.2.2)\n",
            "Requirement already satisfied: segtok>=1.5.11 in /usr/local/lib/python3.10/dist-packages (from flair->textattack) (1.5.11)\n",
            "Requirement already satisfied: sqlitedict>=2.0.0 in /usr/local/lib/python3.10/dist-packages (from flair->textattack) (2.1.0)\n",
            "Requirement already satisfied: tabulate>=0.8.10 in /usr/local/lib/python3.10/dist-packages (from flair->textattack) (0.9.0)\n",
            "Requirement already satisfied: transformer-smaller-training-vocab>=0.2.3 in /usr/local/lib/python3.10/dist-packages (from flair->textattack) (0.4.0)\n",
            "Requirement already satisfied: urllib3<2.0.0,>=1.0.0 in /usr/local/lib/python3.10/dist-packages (from flair->textattack) (1.26.18)\n",
            "Requirement already satisfied: wikipedia-api>=0.5.7 in /usr/local/lib/python3.10/dist-packages (from flair->textattack) (0.6.0)\n",
            "Requirement already satisfied: semver<4.0.0,>=3.0.0 in /usr/local/lib/python3.10/dist-packages (from flair->textattack) (3.0.2)\n",
            "Requirement already satisfied: pip in /usr/local/lib/python3.10/dist-packages (from language-tool-python->textattack) (23.1.2)\n",
            "Requirement already satisfied: wheel in /usr/local/lib/python3.10/dist-packages (from language-tool-python->textattack) (0.43.0)\n",
            "Requirement already satisfied: click in /usr/local/lib/python3.10/dist-packages (from nltk->textattack) (8.1.7)\n",
            "Requirement already satisfied: joblib in /usr/local/lib/python3.10/dist-packages (from nltk->textattack) (1.4.2)\n",
            "Requirement already satisfied: docopt>=0.6.2 in /usr/local/lib/python3.10/dist-packages (from num2words->textattack) (0.6.2)\n",
            "Requirement already satisfied: anytree in /usr/local/lib/python3.10/dist-packages (from OpenHowNet->textattack) (2.12.1)\n",
            "Requirement already satisfied: setuptools in /usr/local/lib/python3.10/dist-packages (from OpenHowNet->textattack) (67.7.2)\n",
            "Requirement already satisfied: botocore<1.35.0,>=1.34.103 in /usr/local/lib/python3.10/dist-packages (from boto3>=1.20.27->flair->textattack) (1.34.103)\n",
            "Requirement already satisfied: jmespath<2.0.0,>=0.7.1 in /usr/local/lib/python3.10/dist-packages (from boto3>=1.20.27->flair->textattack) (1.0.1)\n",
            "Requirement already satisfied: s3transfer<0.11.0,>=0.10.0 in /usr/local/lib/python3.10/dist-packages (from boto3>=1.20.27->flair->textattack) (0.10.1)\n",
            "Requirement already satisfied: sentencepiece in /usr/local/lib/python3.10/dist-packages (from bpemb>=0.3.2->flair->textattack) (0.1.99)\n",
            "Requirement already satisfied: wrapt<2,>=1.10 in /usr/local/lib/python3.10/dist-packages (from deprecated>=1.2.13->flair->textattack) (1.14.1)\n",
            "Requirement already satisfied: aiosignal>=1.1.2 in /usr/local/lib/python3.10/dist-packages (from aiohttp->datasets>=2.4.0->textattack) (1.3.1)\n",
            "Requirement already satisfied: attrs>=17.3.0 in /usr/local/lib/python3.10/dist-packages (from aiohttp->datasets>=2.4.0->textattack) (23.2.0)\n",
            "Requirement already satisfied: frozenlist>=1.1.1 in /usr/local/lib/python3.10/dist-packages (from aiohttp->datasets>=2.4.0->textattack) (1.4.1)\n",
            "Requirement already satisfied: multidict<7.0,>=4.5 in /usr/local/lib/python3.10/dist-packages (from aiohttp->datasets>=2.4.0->textattack) (6.0.5)\n",
            "Requirement already satisfied: yarl<2.0,>=1.0 in /usr/local/lib/python3.10/dist-packages (from aiohttp->datasets>=2.4.0->textattack) (1.9.4)\n",
            "Requirement already satisfied: async-timeout<5.0,>=4.0 in /usr/local/lib/python3.10/dist-packages (from aiohttp->datasets>=2.4.0->textattack) (4.0.3)\n",
            "Requirement already satisfied: wcwidth<0.3.0,>=0.2.12 in /usr/local/lib/python3.10/dist-packages (from ftfy>=6.1.0->flair->textattack) (0.2.13)\n",
            "Requirement already satisfied: beautifulsoup4 in /usr/local/lib/python3.10/dist-packages (from gdown>=4.4.0->flair->textattack) (4.12.3)\n",
            "Requirement already satisfied: smart-open>=1.8.1 in /usr/local/lib/python3.10/dist-packages (from gensim>=4.2.0->flair->textattack) (6.4.0)\n",
            "Requirement already satisfied: six in /usr/local/lib/python3.10/dist-packages (from langdetect>=1.0.9->flair->textattack) (1.16.0)\n",
            "Requirement already satisfied: contourpy>=1.0.1 in /usr/local/lib/python3.10/dist-packages (from matplotlib->bert-score>=0.3.5->textattack) (1.2.1)\n",
            "Requirement already satisfied: cycler>=0.10 in /usr/local/lib/python3.10/dist-packages (from matplotlib->bert-score>=0.3.5->textattack) (0.12.1)\n",
            "Requirement already satisfied: fonttools>=4.22.0 in /usr/local/lib/python3.10/dist-packages (from matplotlib->bert-score>=0.3.5->textattack) (4.51.0)\n",
            "Requirement already satisfied: kiwisolver>=1.0.1 in /usr/local/lib/python3.10/dist-packages (from matplotlib->bert-score>=0.3.5->textattack) (1.4.5)\n",
            "Requirement already satisfied: pillow>=6.2.0 in /usr/local/lib/python3.10/dist-packages (from matplotlib->bert-score>=0.3.5->textattack) (9.4.0)\n",
            "Requirement already satisfied: pyparsing>=2.3.1 in /usr/local/lib/python3.10/dist-packages (from matplotlib->bert-score>=0.3.5->textattack) (3.1.2)\n",
            "Requirement already satisfied: charset-normalizer<4,>=2 in /usr/local/lib/python3.10/dist-packages (from requests->bert-score>=0.3.5->textattack) (3.3.2)\n",
            "Requirement already satisfied: idna<4,>=2.5 in /usr/local/lib/python3.10/dist-packages (from requests->bert-score>=0.3.5->textattack) (3.7)\n",
            "Requirement already satisfied: certifi>=2017.4.17 in /usr/local/lib/python3.10/dist-packages (from requests->bert-score>=0.3.5->textattack) (2024.2.2)\n",
            "Requirement already satisfied: threadpoolctl>=2.0.0 in /usr/local/lib/python3.10/dist-packages (from scikit-learn>=1.0.2->flair->textattack) (3.5.0)\n",
            "Requirement already satisfied: protobuf in /usr/local/lib/python3.10/dist-packages (from transformers>=4.30.0->textattack) (3.20.3)\n",
            "Requirement already satisfied: MarkupSafe>=2.0 in /usr/local/lib/python3.10/dist-packages (from jinja2->torch!=1.8,>=1.7.0->textattack) (2.1.5)\n",
            "Requirement already satisfied: mpmath>=0.19 in /usr/local/lib/python3.10/dist-packages (from sympy->torch!=1.8,>=1.7.0->textattack) (1.3.0)\n",
            "Requirement already satisfied: accelerate>=0.21.0 in /usr/local/lib/python3.10/dist-packages (from transformers>=4.30.0->textattack) (0.30.1)\n",
            "Requirement already satisfied: soupsieve>1.2 in /usr/local/lib/python3.10/dist-packages (from beautifulsoup4->gdown>=4.4.0->flair->textattack) (2.5)\n",
            "Requirement already satisfied: PySocks!=1.5.7,>=1.5.6 in /usr/local/lib/python3.10/dist-packages (from requests->bert-score>=0.3.5->textattack) (1.7.1)\n",
            "Requirement already satisfied: psutil in /usr/local/lib/python3.10/dist-packages (from accelerate>=0.21.0->transformers>=4.30.0->textattack) (5.9.5)\n"
          ]
        }
      ],
      "source": [
        "pip install textattack"
      ]
    },
    {
      "cell_type": "code",
      "execution_count": null,
      "metadata": {
        "id": "pgKk0_tffBZ_"
      },
      "outputs": [],
      "source": [
        "\n",
        "from textattack.augmentation import WordNetAugmenter\n",
        "from textattack.augmentation import EmbeddingAugmenter\n",
        "from sklearn.utils import shuffle"
      ]
    },
    {
      "cell_type": "code",
      "execution_count": null,
      "metadata": {
        "colab": {
          "base_uri": "https://localhost:8080/"
        },
        "id": "CWG_oj6KgLEr",
        "outputId": "69a9c28d-3a24-4159-fc0b-9507c2257359"
      },
      "outputs": [
        {
          "name": "stderr",
          "output_type": "stream",
          "text": [
            "[nltk_data] Downloading package omw-1.4 to /root/nltk_data...\n",
            "[nltk_data]   Package omw-1.4 is already up-to-date!\n"
          ]
        }
      ],
      "source": [
        "# Separate spam and ham messages\n",
        "spam_messages = df[df['label'] == 1]['nltk']\n",
        "ham_messages = df[df['label'] == 0]['nltk']\n",
        "\n",
        "# Upsample the spam class using text augmentation with synonym replacement\n",
        "aug = WordNetAugmenter()\n",
        "\n",
        "num_to_generate = len(ham_messages) - len(spam_messages)\n",
        "\n",
        "generated_messages = set()  # Archive newly created messages to check for duplicates\n",
        "\n",
        "for original_message in spam_messages:\n",
        "    while len(generated_messages) < num_to_generate:\n",
        "        # Apply synonym replacement augmentation\n",
        "        augmented_message = aug.augment(original_message)\n",
        "\n",
        "        # Make sure not replaced\n",
        "        augmented_message = re.sub(r'\\blink\\b', 'link', str(augmented_message))\n",
        "        augmented_message = re.sub(r'\\bphonenumber\\b', 'phonenumber', str(augmented_message))\n",
        "        augmented_message = re.sub(r'\\bnumber\\b', 'number', str(augmented_message))\n",
        "        augmented_message = re.sub(r'\\bemail\\b', 'email', str(augmented_message))\n",
        "        augmented_message = re.sub(r'\\bmoneysymbol\\b', 'moneysymbol', str(augmented_message))\n",
        "        # Remove square brackets, single quotes, and double quotes\n",
        "        augmented_message = re.sub(r'[\\[\\]\\'\"]', '', augmented_message)\n",
        "\n",
        "        if augmented_message not in generated_messages and augmented_message not in spam_messages:\n",
        "            generated_messages.add(augmented_message)\n",
        "\n",
        "# Create a new DataFrame with the original spam messages and the augmented ones\n",
        "augmented_df = pd.DataFrame({'nltk': list(generated_messages), 'label': 1})\n"
      ]
    },
    {
      "cell_type": "code",
      "execution_count": null,
      "metadata": {
        "colab": {
          "base_uri": "https://localhost:8080/",
          "height": 424
        },
        "id": "uRug9eyWfM5o",
        "outputId": "4a5c5997-84a9-4518-deba-95d5e2c56990"
      },
      "outputs": [
        {
          "data": {
            "application/vnd.google.colaboratory.intrinsic+json": {
              "summary": "{\n  \"name\": \"augmented_df\",\n  \"rows\": 3549,\n  \"fields\": [\n    {\n      \"column\": \"nltk\",\n      \"properties\": {\n        \"dtype\": \"string\",\n        \"num_unique_values\": 3549,\n        \"samples\": [\n          \"free entri number wkli comp win fa cup final tkts numerate st May number text fa number receiv entri questionstd txt ratetc appli number number\",\n          \"free entri number wkli comp win fa transfuse final tkts number st whitethorn number text fa number receiv entri questionstd txt ratetc appli number number\",\n          \"costless entri number wkli comp win fa cup final tkts number st may number text fa numerate receiv entri questionstd txt ratetc appli number number\"\n        ],\n        \"semantic_type\": \"\",\n        \"description\": \"\"\n      }\n    },\n    {\n      \"column\": \"label\",\n      \"properties\": {\n        \"dtype\": \"number\",\n        \"std\": 0,\n        \"min\": 1,\n        \"max\": 1,\n        \"num_unique_values\": 1,\n        \"samples\": [\n          1\n        ],\n        \"semantic_type\": \"\",\n        \"description\": \"\"\n      }\n    }\n  ]\n}",
              "type": "dataframe",
              "variable_name": "augmented_df"
            },
            "text/html": [
              "\n",
              "  <div id=\"df-967212fc-a4f8-44c7-850b-afbe93727042\" class=\"colab-df-container\">\n",
              "    <div>\n",
              "<style scoped>\n",
              "    .dataframe tbody tr th:only-of-type {\n",
              "        vertical-align: middle;\n",
              "    }\n",
              "\n",
              "    .dataframe tbody tr th {\n",
              "        vertical-align: top;\n",
              "    }\n",
              "\n",
              "    .dataframe thead th {\n",
              "        text-align: right;\n",
              "    }\n",
              "</style>\n",
              "<table border=\"1\" class=\"dataframe\">\n",
              "  <thead>\n",
              "    <tr style=\"text-align: right;\">\n",
              "      <th></th>\n",
              "      <th>nltk</th>\n",
              "      <th>label</th>\n",
              "    </tr>\n",
              "  </thead>\n",
              "  <tbody>\n",
              "    <tr>\n",
              "      <th>0</th>\n",
              "      <td>free entri enumerate wkli comp win fa cup fina...</td>\n",
              "      <td>1</td>\n",
              "    </tr>\n",
              "    <tr>\n",
              "      <th>1</th>\n",
              "      <td>destitute entri number wkli comp win fa cup fi...</td>\n",
              "      <td>1</td>\n",
              "    </tr>\n",
              "    <tr>\n",
              "      <th>2</th>\n",
              "      <td>absolve entri routine wkli comp win fa cup fin...</td>\n",
              "      <td>1</td>\n",
              "    </tr>\n",
              "    <tr>\n",
              "      <th>3</th>\n",
              "      <td>free entri number wkli comp win fa cup final t...</td>\n",
              "      <td>1</td>\n",
              "    </tr>\n",
              "    <tr>\n",
              "      <th>4</th>\n",
              "      <td>absolve entri number wkli comp win fa cup fina...</td>\n",
              "      <td>1</td>\n",
              "    </tr>\n",
              "    <tr>\n",
              "      <th>...</th>\n",
              "      <td>...</td>\n",
              "      <td>...</td>\n",
              "    </tr>\n",
              "    <tr>\n",
              "      <th>3544</th>\n",
              "      <td>resign entri number wkli comp win fa cup final...</td>\n",
              "      <td>1</td>\n",
              "    </tr>\n",
              "    <tr>\n",
              "      <th>3545</th>\n",
              "      <td>free entri number wkli comp gain fa cup final ...</td>\n",
              "      <td>1</td>\n",
              "    </tr>\n",
              "    <tr>\n",
              "      <th>3546</th>\n",
              "      <td>devoid entri number wkli comp win fa cup concl...</td>\n",
              "      <td>1</td>\n",
              "    </tr>\n",
              "    <tr>\n",
              "      <th>3547</th>\n",
              "      <td>free entri number wkli comp gain fa cup final ...</td>\n",
              "      <td>1</td>\n",
              "    </tr>\n",
              "    <tr>\n",
              "      <th>3548</th>\n",
              "      <td>unfreeze entri number wkli comp win fa cup fin...</td>\n",
              "      <td>1</td>\n",
              "    </tr>\n",
              "  </tbody>\n",
              "</table>\n",
              "<p>3549 rows × 2 columns</p>\n",
              "</div>\n",
              "    <div class=\"colab-df-buttons\">\n",
              "\n",
              "  <div class=\"colab-df-container\">\n",
              "    <button class=\"colab-df-convert\" onclick=\"convertToInteractive('df-967212fc-a4f8-44c7-850b-afbe93727042')\"\n",
              "            title=\"Convert this dataframe to an interactive table.\"\n",
              "            style=\"display:none;\">\n",
              "\n",
              "  <svg xmlns=\"http://www.w3.org/2000/svg\" height=\"24px\" viewBox=\"0 -960 960 960\">\n",
              "    <path d=\"M120-120v-720h720v720H120Zm60-500h600v-160H180v160Zm220 220h160v-160H400v160Zm0 220h160v-160H400v160ZM180-400h160v-160H180v160Zm440 0h160v-160H620v160ZM180-180h160v-160H180v160Zm440 0h160v-160H620v160Z\"/>\n",
              "  </svg>\n",
              "    </button>\n",
              "\n",
              "  <style>\n",
              "    .colab-df-container {\n",
              "      display:flex;\n",
              "      gap: 12px;\n",
              "    }\n",
              "\n",
              "    .colab-df-convert {\n",
              "      background-color: #E8F0FE;\n",
              "      border: none;\n",
              "      border-radius: 50%;\n",
              "      cursor: pointer;\n",
              "      display: none;\n",
              "      fill: #1967D2;\n",
              "      height: 32px;\n",
              "      padding: 0 0 0 0;\n",
              "      width: 32px;\n",
              "    }\n",
              "\n",
              "    .colab-df-convert:hover {\n",
              "      background-color: #E2EBFA;\n",
              "      box-shadow: 0px 1px 2px rgba(60, 64, 67, 0.3), 0px 1px 3px 1px rgba(60, 64, 67, 0.15);\n",
              "      fill: #174EA6;\n",
              "    }\n",
              "\n",
              "    .colab-df-buttons div {\n",
              "      margin-bottom: 4px;\n",
              "    }\n",
              "\n",
              "    [theme=dark] .colab-df-convert {\n",
              "      background-color: #3B4455;\n",
              "      fill: #D2E3FC;\n",
              "    }\n",
              "\n",
              "    [theme=dark] .colab-df-convert:hover {\n",
              "      background-color: #434B5C;\n",
              "      box-shadow: 0px 1px 3px 1px rgba(0, 0, 0, 0.15);\n",
              "      filter: drop-shadow(0px 1px 2px rgba(0, 0, 0, 0.3));\n",
              "      fill: #FFFFFF;\n",
              "    }\n",
              "  </style>\n",
              "\n",
              "    <script>\n",
              "      const buttonEl =\n",
              "        document.querySelector('#df-967212fc-a4f8-44c7-850b-afbe93727042 button.colab-df-convert');\n",
              "      buttonEl.style.display =\n",
              "        google.colab.kernel.accessAllowed ? 'block' : 'none';\n",
              "\n",
              "      async function convertToInteractive(key) {\n",
              "        const element = document.querySelector('#df-967212fc-a4f8-44c7-850b-afbe93727042');\n",
              "        const dataTable =\n",
              "          await google.colab.kernel.invokeFunction('convertToInteractive',\n",
              "                                                    [key], {});\n",
              "        if (!dataTable) return;\n",
              "\n",
              "        const docLinkHtml = 'Like what you see? Visit the ' +\n",
              "          '<a target=\"_blank\" href=https://colab.research.google.com/notebooks/data_table.ipynb>data table notebook</a>'\n",
              "          + ' to learn more about interactive tables.';\n",
              "        element.innerHTML = '';\n",
              "        dataTable['output_type'] = 'display_data';\n",
              "        await google.colab.output.renderOutput(dataTable, element);\n",
              "        const docLink = document.createElement('div');\n",
              "        docLink.innerHTML = docLinkHtml;\n",
              "        element.appendChild(docLink);\n",
              "      }\n",
              "    </script>\n",
              "  </div>\n",
              "\n",
              "\n",
              "<div id=\"df-7a135dff-8f99-4fa9-991c-2434c0accc37\">\n",
              "  <button class=\"colab-df-quickchart\" onclick=\"quickchart('df-7a135dff-8f99-4fa9-991c-2434c0accc37')\"\n",
              "            title=\"Suggest charts\"\n",
              "            style=\"display:none;\">\n",
              "\n",
              "<svg xmlns=\"http://www.w3.org/2000/svg\" height=\"24px\"viewBox=\"0 0 24 24\"\n",
              "     width=\"24px\">\n",
              "    <g>\n",
              "        <path d=\"M19 3H5c-1.1 0-2 .9-2 2v14c0 1.1.9 2 2 2h14c1.1 0 2-.9 2-2V5c0-1.1-.9-2-2-2zM9 17H7v-7h2v7zm4 0h-2V7h2v10zm4 0h-2v-4h2v4z\"/>\n",
              "    </g>\n",
              "</svg>\n",
              "  </button>\n",
              "\n",
              "<style>\n",
              "  .colab-df-quickchart {\n",
              "      --bg-color: #E8F0FE;\n",
              "      --fill-color: #1967D2;\n",
              "      --hover-bg-color: #E2EBFA;\n",
              "      --hover-fill-color: #174EA6;\n",
              "      --disabled-fill-color: #AAA;\n",
              "      --disabled-bg-color: #DDD;\n",
              "  }\n",
              "\n",
              "  [theme=dark] .colab-df-quickchart {\n",
              "      --bg-color: #3B4455;\n",
              "      --fill-color: #D2E3FC;\n",
              "      --hover-bg-color: #434B5C;\n",
              "      --hover-fill-color: #FFFFFF;\n",
              "      --disabled-bg-color: #3B4455;\n",
              "      --disabled-fill-color: #666;\n",
              "  }\n",
              "\n",
              "  .colab-df-quickchart {\n",
              "    background-color: var(--bg-color);\n",
              "    border: none;\n",
              "    border-radius: 50%;\n",
              "    cursor: pointer;\n",
              "    display: none;\n",
              "    fill: var(--fill-color);\n",
              "    height: 32px;\n",
              "    padding: 0;\n",
              "    width: 32px;\n",
              "  }\n",
              "\n",
              "  .colab-df-quickchart:hover {\n",
              "    background-color: var(--hover-bg-color);\n",
              "    box-shadow: 0 1px 2px rgba(60, 64, 67, 0.3), 0 1px 3px 1px rgba(60, 64, 67, 0.15);\n",
              "    fill: var(--button-hover-fill-color);\n",
              "  }\n",
              "\n",
              "  .colab-df-quickchart-complete:disabled,\n",
              "  .colab-df-quickchart-complete:disabled:hover {\n",
              "    background-color: var(--disabled-bg-color);\n",
              "    fill: var(--disabled-fill-color);\n",
              "    box-shadow: none;\n",
              "  }\n",
              "\n",
              "  .colab-df-spinner {\n",
              "    border: 2px solid var(--fill-color);\n",
              "    border-color: transparent;\n",
              "    border-bottom-color: var(--fill-color);\n",
              "    animation:\n",
              "      spin 1s steps(1) infinite;\n",
              "  }\n",
              "\n",
              "  @keyframes spin {\n",
              "    0% {\n",
              "      border-color: transparent;\n",
              "      border-bottom-color: var(--fill-color);\n",
              "      border-left-color: var(--fill-color);\n",
              "    }\n",
              "    20% {\n",
              "      border-color: transparent;\n",
              "      border-left-color: var(--fill-color);\n",
              "      border-top-color: var(--fill-color);\n",
              "    }\n",
              "    30% {\n",
              "      border-color: transparent;\n",
              "      border-left-color: var(--fill-color);\n",
              "      border-top-color: var(--fill-color);\n",
              "      border-right-color: var(--fill-color);\n",
              "    }\n",
              "    40% {\n",
              "      border-color: transparent;\n",
              "      border-right-color: var(--fill-color);\n",
              "      border-top-color: var(--fill-color);\n",
              "    }\n",
              "    60% {\n",
              "      border-color: transparent;\n",
              "      border-right-color: var(--fill-color);\n",
              "    }\n",
              "    80% {\n",
              "      border-color: transparent;\n",
              "      border-right-color: var(--fill-color);\n",
              "      border-bottom-color: var(--fill-color);\n",
              "    }\n",
              "    90% {\n",
              "      border-color: transparent;\n",
              "      border-bottom-color: var(--fill-color);\n",
              "    }\n",
              "  }\n",
              "</style>\n",
              "\n",
              "  <script>\n",
              "    async function quickchart(key) {\n",
              "      const quickchartButtonEl =\n",
              "        document.querySelector('#' + key + ' button');\n",
              "      quickchartButtonEl.disabled = true;  // To prevent multiple clicks.\n",
              "      quickchartButtonEl.classList.add('colab-df-spinner');\n",
              "      try {\n",
              "        const charts = await google.colab.kernel.invokeFunction(\n",
              "            'suggestCharts', [key], {});\n",
              "      } catch (error) {\n",
              "        console.error('Error during call to suggestCharts:', error);\n",
              "      }\n",
              "      quickchartButtonEl.classList.remove('colab-df-spinner');\n",
              "      quickchartButtonEl.classList.add('colab-df-quickchart-complete');\n",
              "    }\n",
              "    (() => {\n",
              "      let quickchartButtonEl =\n",
              "        document.querySelector('#df-7a135dff-8f99-4fa9-991c-2434c0accc37 button');\n",
              "      quickchartButtonEl.style.display =\n",
              "        google.colab.kernel.accessAllowed ? 'block' : 'none';\n",
              "    })();\n",
              "  </script>\n",
              "</div>\n",
              "    </div>\n",
              "  </div>\n"
            ],
            "text/plain": [
              "                                                   nltk  label\n",
              "0     free entri enumerate wkli comp win fa cup fina...      1\n",
              "1     destitute entri number wkli comp win fa cup fi...      1\n",
              "2     absolve entri routine wkli comp win fa cup fin...      1\n",
              "3     free entri number wkli comp win fa cup final t...      1\n",
              "4     absolve entri number wkli comp win fa cup fina...      1\n",
              "...                                                 ...    ...\n",
              "3544  resign entri number wkli comp win fa cup final...      1\n",
              "3545  free entri number wkli comp gain fa cup final ...      1\n",
              "3546  devoid entri number wkli comp win fa cup concl...      1\n",
              "3547  free entri number wkli comp gain fa cup final ...      1\n",
              "3548  unfreeze entri number wkli comp win fa cup fin...      1\n",
              "\n",
              "[3549 rows x 2 columns]"
            ]
          },
          "execution_count": 105,
          "metadata": {},
          "output_type": "execute_result"
        }
      ],
      "source": [
        "augmented_df"
      ]
    },
    {
      "cell_type": "code",
      "execution_count": null,
      "metadata": {
        "colab": {
          "base_uri": "https://localhost:8080/"
        },
        "id": "0xH6UYBRufxI",
        "outputId": "4ef398e9-4002-4bd5-f26e-3358822de81e"
      },
      "outputs": [
        {
          "data": {
            "text/plain": [
              "0"
            ]
          },
          "execution_count": 106,
          "metadata": {},
          "output_type": "execute_result"
        }
      ],
      "source": [
        "augmented_df['nltk'].duplicated().sum()"
      ]
    },
    {
      "cell_type": "code",
      "execution_count": null,
      "metadata": {
        "id": "GDIJYNo8molH"
      },
      "outputs": [],
      "source": [
        "# Concatenate the original DataFrame and the augmented DataFrame\n",
        "df = pd.concat([df, augmented_df], ignore_index=True)"
      ]
    },
    {
      "cell_type": "code",
      "execution_count": null,
      "metadata": {
        "colab": {
          "base_uri": "https://localhost:8080/",
          "height": 424
        },
        "id": "lNY_mmD1uh5g",
        "outputId": "4d7db30e-b8cd-4fde-e4d3-5a04b621f315"
      },
      "outputs": [
        {
          "data": {
            "application/vnd.google.colaboratory.intrinsic+json": {
              "summary": "{\n  \"name\": \"df\",\n  \"rows\": 8938,\n  \"fields\": [\n    {\n      \"column\": \"label\",\n      \"properties\": {\n        \"dtype\": \"number\",\n        \"std\": 0,\n        \"min\": 0,\n        \"max\": 1,\n        \"num_unique_values\": 2,\n        \"samples\": [\n          1,\n          0\n        ],\n        \"semantic_type\": \"\",\n        \"description\": \"\"\n      }\n    },\n    {\n      \"column\": \"sms\",\n      \"properties\": {\n        \"dtype\": \"string\",\n        \"num_unique_values\": 5389,\n        \"samples\": [\n          \"Update_Now - 12Mths Half Price Orange line rental: 400mins...Call MobileUpd8 on 08000839402 or call2optout=J5Q\",\n          \"The guy (kadeem) hasn't been selling since the break, I know one other guy but he's paranoid as fuck and doesn't like selling without me there and I can't be up there til late tonight\"\n        ],\n        \"semantic_type\": \"\",\n        \"description\": \"\"\n      }\n    },\n    {\n      \"column\": \"change_sms\",\n      \"properties\": {\n        \"dtype\": \"string\",\n        \"num_unique_values\": 5389,\n        \"samples\": [\n          \"updatenow number mths half price orange line rental link mobileupd number on number or call number optoutj number q\",\n          \"the guy kadeem has not been selling since the break i know one other guy but he is paranoid as fuck and does not like selling without me there and i cannot be up there til late tonight\"\n        ],\n        \"semantic_type\": \"\",\n        \"description\": \"\"\n      }\n    },\n    {\n      \"column\": \"nltk\",\n      \"properties\": {\n        \"dtype\": \"string\",\n        \"num_unique_values\": 8938,\n        \"samples\": [\n          \"free entri number wkli comp win fa cup final tkts numerate st may number text fa number receiv entri questionstd txt ratetc appli number numeral\",\n          \"oh wow gay firmwar updat help\"\n        ],\n        \"semantic_type\": \"\",\n        \"description\": \"\"\n      }\n    }\n  ]\n}",
              "type": "dataframe",
              "variable_name": "df"
            },
            "text/html": [
              "\n",
              "  <div id=\"df-d3edc125-7599-4a0d-bb7f-e943732e66b0\" class=\"colab-df-container\">\n",
              "    <div>\n",
              "<style scoped>\n",
              "    .dataframe tbody tr th:only-of-type {\n",
              "        vertical-align: middle;\n",
              "    }\n",
              "\n",
              "    .dataframe tbody tr th {\n",
              "        vertical-align: top;\n",
              "    }\n",
              "\n",
              "    .dataframe thead th {\n",
              "        text-align: right;\n",
              "    }\n",
              "</style>\n",
              "<table border=\"1\" class=\"dataframe\">\n",
              "  <thead>\n",
              "    <tr style=\"text-align: right;\">\n",
              "      <th></th>\n",
              "      <th>label</th>\n",
              "      <th>sms</th>\n",
              "      <th>change_sms</th>\n",
              "      <th>nltk</th>\n",
              "    </tr>\n",
              "  </thead>\n",
              "  <tbody>\n",
              "    <tr>\n",
              "      <th>0</th>\n",
              "      <td>0</td>\n",
              "      <td>Go until jurong point, crazy.. Available only ...</td>\n",
              "      <td>go until jurong point crazy available only in ...</td>\n",
              "      <td>go jurong point crazi avail bugi n great world...</td>\n",
              "    </tr>\n",
              "    <tr>\n",
              "      <th>1</th>\n",
              "      <td>0</td>\n",
              "      <td>Ok lar... Joking wif u oni...</td>\n",
              "      <td>ok lar joking wif you oni</td>\n",
              "      <td>ok lar joke wif oni</td>\n",
              "    </tr>\n",
              "    <tr>\n",
              "      <th>2</th>\n",
              "      <td>1</td>\n",
              "      <td>Free entry in 2 a wkly comp to win FA Cup fina...</td>\n",
              "      <td>free entry in number a wkly comp to win fa cup...</td>\n",
              "      <td>free entri number wkli comp win fa cup final t...</td>\n",
              "    </tr>\n",
              "    <tr>\n",
              "      <th>3</th>\n",
              "      <td>0</td>\n",
              "      <td>U dun say so early hor... U c already then say...</td>\n",
              "      <td>you dun say so early hor you c already then say</td>\n",
              "      <td>dun say earli hor c alreadi say</td>\n",
              "    </tr>\n",
              "    <tr>\n",
              "      <th>4</th>\n",
              "      <td>0</td>\n",
              "      <td>Nah I don't think he goes to usf, he lives aro...</td>\n",
              "      <td>nah i do not think he goes to usf he lives aro...</td>\n",
              "      <td>nah think go usf live around though</td>\n",
              "    </tr>\n",
              "    <tr>\n",
              "      <th>...</th>\n",
              "      <td>...</td>\n",
              "      <td>...</td>\n",
              "      <td>...</td>\n",
              "      <td>...</td>\n",
              "    </tr>\n",
              "    <tr>\n",
              "      <th>8933</th>\n",
              "      <td>1</td>\n",
              "      <td>NaN</td>\n",
              "      <td>NaN</td>\n",
              "      <td>resign entri number wkli comp win fa cup final...</td>\n",
              "    </tr>\n",
              "    <tr>\n",
              "      <th>8934</th>\n",
              "      <td>1</td>\n",
              "      <td>NaN</td>\n",
              "      <td>NaN</td>\n",
              "      <td>free entri number wkli comp gain fa cup final ...</td>\n",
              "    </tr>\n",
              "    <tr>\n",
              "      <th>8935</th>\n",
              "      <td>1</td>\n",
              "      <td>NaN</td>\n",
              "      <td>NaN</td>\n",
              "      <td>devoid entri number wkli comp win fa cup concl...</td>\n",
              "    </tr>\n",
              "    <tr>\n",
              "      <th>8936</th>\n",
              "      <td>1</td>\n",
              "      <td>NaN</td>\n",
              "      <td>NaN</td>\n",
              "      <td>free entri number wkli comp gain fa cup final ...</td>\n",
              "    </tr>\n",
              "    <tr>\n",
              "      <th>8937</th>\n",
              "      <td>1</td>\n",
              "      <td>NaN</td>\n",
              "      <td>NaN</td>\n",
              "      <td>unfreeze entri number wkli comp win fa cup fin...</td>\n",
              "    </tr>\n",
              "  </tbody>\n",
              "</table>\n",
              "<p>8938 rows × 4 columns</p>\n",
              "</div>\n",
              "    <div class=\"colab-df-buttons\">\n",
              "\n",
              "  <div class=\"colab-df-container\">\n",
              "    <button class=\"colab-df-convert\" onclick=\"convertToInteractive('df-d3edc125-7599-4a0d-bb7f-e943732e66b0')\"\n",
              "            title=\"Convert this dataframe to an interactive table.\"\n",
              "            style=\"display:none;\">\n",
              "\n",
              "  <svg xmlns=\"http://www.w3.org/2000/svg\" height=\"24px\" viewBox=\"0 -960 960 960\">\n",
              "    <path d=\"M120-120v-720h720v720H120Zm60-500h600v-160H180v160Zm220 220h160v-160H400v160Zm0 220h160v-160H400v160ZM180-400h160v-160H180v160Zm440 0h160v-160H620v160ZM180-180h160v-160H180v160Zm440 0h160v-160H620v160Z\"/>\n",
              "  </svg>\n",
              "    </button>\n",
              "\n",
              "  <style>\n",
              "    .colab-df-container {\n",
              "      display:flex;\n",
              "      gap: 12px;\n",
              "    }\n",
              "\n",
              "    .colab-df-convert {\n",
              "      background-color: #E8F0FE;\n",
              "      border: none;\n",
              "      border-radius: 50%;\n",
              "      cursor: pointer;\n",
              "      display: none;\n",
              "      fill: #1967D2;\n",
              "      height: 32px;\n",
              "      padding: 0 0 0 0;\n",
              "      width: 32px;\n",
              "    }\n",
              "\n",
              "    .colab-df-convert:hover {\n",
              "      background-color: #E2EBFA;\n",
              "      box-shadow: 0px 1px 2px rgba(60, 64, 67, 0.3), 0px 1px 3px 1px rgba(60, 64, 67, 0.15);\n",
              "      fill: #174EA6;\n",
              "    }\n",
              "\n",
              "    .colab-df-buttons div {\n",
              "      margin-bottom: 4px;\n",
              "    }\n",
              "\n",
              "    [theme=dark] .colab-df-convert {\n",
              "      background-color: #3B4455;\n",
              "      fill: #D2E3FC;\n",
              "    }\n",
              "\n",
              "    [theme=dark] .colab-df-convert:hover {\n",
              "      background-color: #434B5C;\n",
              "      box-shadow: 0px 1px 3px 1px rgba(0, 0, 0, 0.15);\n",
              "      filter: drop-shadow(0px 1px 2px rgba(0, 0, 0, 0.3));\n",
              "      fill: #FFFFFF;\n",
              "    }\n",
              "  </style>\n",
              "\n",
              "    <script>\n",
              "      const buttonEl =\n",
              "        document.querySelector('#df-d3edc125-7599-4a0d-bb7f-e943732e66b0 button.colab-df-convert');\n",
              "      buttonEl.style.display =\n",
              "        google.colab.kernel.accessAllowed ? 'block' : 'none';\n",
              "\n",
              "      async function convertToInteractive(key) {\n",
              "        const element = document.querySelector('#df-d3edc125-7599-4a0d-bb7f-e943732e66b0');\n",
              "        const dataTable =\n",
              "          await google.colab.kernel.invokeFunction('convertToInteractive',\n",
              "                                                    [key], {});\n",
              "        if (!dataTable) return;\n",
              "\n",
              "        const docLinkHtml = 'Like what you see? Visit the ' +\n",
              "          '<a target=\"_blank\" href=https://colab.research.google.com/notebooks/data_table.ipynb>data table notebook</a>'\n",
              "          + ' to learn more about interactive tables.';\n",
              "        element.innerHTML = '';\n",
              "        dataTable['output_type'] = 'display_data';\n",
              "        await google.colab.output.renderOutput(dataTable, element);\n",
              "        const docLink = document.createElement('div');\n",
              "        docLink.innerHTML = docLinkHtml;\n",
              "        element.appendChild(docLink);\n",
              "      }\n",
              "    </script>\n",
              "  </div>\n",
              "\n",
              "\n",
              "<div id=\"df-a849ca87-afc5-46e6-ab07-03c978c8accc\">\n",
              "  <button class=\"colab-df-quickchart\" onclick=\"quickchart('df-a849ca87-afc5-46e6-ab07-03c978c8accc')\"\n",
              "            title=\"Suggest charts\"\n",
              "            style=\"display:none;\">\n",
              "\n",
              "<svg xmlns=\"http://www.w3.org/2000/svg\" height=\"24px\"viewBox=\"0 0 24 24\"\n",
              "     width=\"24px\">\n",
              "    <g>\n",
              "        <path d=\"M19 3H5c-1.1 0-2 .9-2 2v14c0 1.1.9 2 2 2h14c1.1 0 2-.9 2-2V5c0-1.1-.9-2-2-2zM9 17H7v-7h2v7zm4 0h-2V7h2v10zm4 0h-2v-4h2v4z\"/>\n",
              "    </g>\n",
              "</svg>\n",
              "  </button>\n",
              "\n",
              "<style>\n",
              "  .colab-df-quickchart {\n",
              "      --bg-color: #E8F0FE;\n",
              "      --fill-color: #1967D2;\n",
              "      --hover-bg-color: #E2EBFA;\n",
              "      --hover-fill-color: #174EA6;\n",
              "      --disabled-fill-color: #AAA;\n",
              "      --disabled-bg-color: #DDD;\n",
              "  }\n",
              "\n",
              "  [theme=dark] .colab-df-quickchart {\n",
              "      --bg-color: #3B4455;\n",
              "      --fill-color: #D2E3FC;\n",
              "      --hover-bg-color: #434B5C;\n",
              "      --hover-fill-color: #FFFFFF;\n",
              "      --disabled-bg-color: #3B4455;\n",
              "      --disabled-fill-color: #666;\n",
              "  }\n",
              "\n",
              "  .colab-df-quickchart {\n",
              "    background-color: var(--bg-color);\n",
              "    border: none;\n",
              "    border-radius: 50%;\n",
              "    cursor: pointer;\n",
              "    display: none;\n",
              "    fill: var(--fill-color);\n",
              "    height: 32px;\n",
              "    padding: 0;\n",
              "    width: 32px;\n",
              "  }\n",
              "\n",
              "  .colab-df-quickchart:hover {\n",
              "    background-color: var(--hover-bg-color);\n",
              "    box-shadow: 0 1px 2px rgba(60, 64, 67, 0.3), 0 1px 3px 1px rgba(60, 64, 67, 0.15);\n",
              "    fill: var(--button-hover-fill-color);\n",
              "  }\n",
              "\n",
              "  .colab-df-quickchart-complete:disabled,\n",
              "  .colab-df-quickchart-complete:disabled:hover {\n",
              "    background-color: var(--disabled-bg-color);\n",
              "    fill: var(--disabled-fill-color);\n",
              "    box-shadow: none;\n",
              "  }\n",
              "\n",
              "  .colab-df-spinner {\n",
              "    border: 2px solid var(--fill-color);\n",
              "    border-color: transparent;\n",
              "    border-bottom-color: var(--fill-color);\n",
              "    animation:\n",
              "      spin 1s steps(1) infinite;\n",
              "  }\n",
              "\n",
              "  @keyframes spin {\n",
              "    0% {\n",
              "      border-color: transparent;\n",
              "      border-bottom-color: var(--fill-color);\n",
              "      border-left-color: var(--fill-color);\n",
              "    }\n",
              "    20% {\n",
              "      border-color: transparent;\n",
              "      border-left-color: var(--fill-color);\n",
              "      border-top-color: var(--fill-color);\n",
              "    }\n",
              "    30% {\n",
              "      border-color: transparent;\n",
              "      border-left-color: var(--fill-color);\n",
              "      border-top-color: var(--fill-color);\n",
              "      border-right-color: var(--fill-color);\n",
              "    }\n",
              "    40% {\n",
              "      border-color: transparent;\n",
              "      border-right-color: var(--fill-color);\n",
              "      border-top-color: var(--fill-color);\n",
              "    }\n",
              "    60% {\n",
              "      border-color: transparent;\n",
              "      border-right-color: var(--fill-color);\n",
              "    }\n",
              "    80% {\n",
              "      border-color: transparent;\n",
              "      border-right-color: var(--fill-color);\n",
              "      border-bottom-color: var(--fill-color);\n",
              "    }\n",
              "    90% {\n",
              "      border-color: transparent;\n",
              "      border-bottom-color: var(--fill-color);\n",
              "    }\n",
              "  }\n",
              "</style>\n",
              "\n",
              "  <script>\n",
              "    async function quickchart(key) {\n",
              "      const quickchartButtonEl =\n",
              "        document.querySelector('#' + key + ' button');\n",
              "      quickchartButtonEl.disabled = true;  // To prevent multiple clicks.\n",
              "      quickchartButtonEl.classList.add('colab-df-spinner');\n",
              "      try {\n",
              "        const charts = await google.colab.kernel.invokeFunction(\n",
              "            'suggestCharts', [key], {});\n",
              "      } catch (error) {\n",
              "        console.error('Error during call to suggestCharts:', error);\n",
              "      }\n",
              "      quickchartButtonEl.classList.remove('colab-df-spinner');\n",
              "      quickchartButtonEl.classList.add('colab-df-quickchart-complete');\n",
              "    }\n",
              "    (() => {\n",
              "      let quickchartButtonEl =\n",
              "        document.querySelector('#df-a849ca87-afc5-46e6-ab07-03c978c8accc button');\n",
              "      quickchartButtonEl.style.display =\n",
              "        google.colab.kernel.accessAllowed ? 'block' : 'none';\n",
              "    })();\n",
              "  </script>\n",
              "</div>\n",
              "    </div>\n",
              "  </div>\n"
            ],
            "text/plain": [
              "      label                                                sms  \\\n",
              "0         0  Go until jurong point, crazy.. Available only ...   \n",
              "1         0                      Ok lar... Joking wif u oni...   \n",
              "2         1  Free entry in 2 a wkly comp to win FA Cup fina...   \n",
              "3         0  U dun say so early hor... U c already then say...   \n",
              "4         0  Nah I don't think he goes to usf, he lives aro...   \n",
              "...     ...                                                ...   \n",
              "8933      1                                                NaN   \n",
              "8934      1                                                NaN   \n",
              "8935      1                                                NaN   \n",
              "8936      1                                                NaN   \n",
              "8937      1                                                NaN   \n",
              "\n",
              "                                             change_sms  \\\n",
              "0     go until jurong point crazy available only in ...   \n",
              "1                             ok lar joking wif you oni   \n",
              "2     free entry in number a wkly comp to win fa cup...   \n",
              "3       you dun say so early hor you c already then say   \n",
              "4     nah i do not think he goes to usf he lives aro...   \n",
              "...                                                 ...   \n",
              "8933                                                NaN   \n",
              "8934                                                NaN   \n",
              "8935                                                NaN   \n",
              "8936                                                NaN   \n",
              "8937                                                NaN   \n",
              "\n",
              "                                                   nltk  \n",
              "0     go jurong point crazi avail bugi n great world...  \n",
              "1                                   ok lar joke wif oni  \n",
              "2     free entri number wkli comp win fa cup final t...  \n",
              "3                       dun say earli hor c alreadi say  \n",
              "4                   nah think go usf live around though  \n",
              "...                                                 ...  \n",
              "8933  resign entri number wkli comp win fa cup final...  \n",
              "8934  free entri number wkli comp gain fa cup final ...  \n",
              "8935  devoid entri number wkli comp win fa cup concl...  \n",
              "8936  free entri number wkli comp gain fa cup final ...  \n",
              "8937  unfreeze entri number wkli comp win fa cup fin...  \n",
              "\n",
              "[8938 rows x 4 columns]"
            ]
          },
          "execution_count": 108,
          "metadata": {},
          "output_type": "execute_result"
        }
      ],
      "source": [
        "df"
      ]
    },
    {
      "cell_type": "code",
      "execution_count": null,
      "metadata": {
        "id": "ogHIx4agumWB"
      },
      "outputs": [],
      "source": [
        "# Shuffle the DataFrame\n",
        "balanced_df = df.sample(frac=1, random_state=42).reset_index(drop=True)"
      ]
    },
    {
      "cell_type": "code",
      "execution_count": null,
      "metadata": {
        "colab": {
          "base_uri": "https://localhost:8080/",
          "height": 424
        },
        "id": "oTqtvdTsuoQj",
        "outputId": "a03cb8db-96a9-4345-8b07-7a370dfc26d3"
      },
      "outputs": [
        {
          "data": {
            "application/vnd.google.colaboratory.intrinsic+json": {
              "summary": "{\n  \"name\": \"balanced_df\",\n  \"rows\": 8938,\n  \"fields\": [\n    {\n      \"column\": \"label\",\n      \"properties\": {\n        \"dtype\": \"number\",\n        \"std\": 0,\n        \"min\": 0,\n        \"max\": 1,\n        \"num_unique_values\": 2,\n        \"samples\": [\n          0,\n          1\n        ],\n        \"semantic_type\": \"\",\n        \"description\": \"\"\n      }\n    },\n    {\n      \"column\": \"sms\",\n      \"properties\": {\n        \"dtype\": \"string\",\n        \"num_unique_values\": 5389,\n        \"samples\": [\n          \"Dont let studying stress you out. L8r.\",\n          \"You best watch what you say cause I get drunk as a motherfucker\"\n        ],\n        \"semantic_type\": \"\",\n        \"description\": \"\"\n      }\n    },\n    {\n      \"column\": \"change_sms\",\n      \"properties\": {\n        \"dtype\": \"string\",\n        \"num_unique_values\": 5389,\n        \"samples\": [\n          \"do not let studying stress you out l number r\",\n          \"you best watch what you say because i get drunk as a motherfucker\"\n        ],\n        \"semantic_type\": \"\",\n        \"description\": \"\"\n      }\n    },\n    {\n      \"column\": \"nltk\",\n      \"properties\": {\n        \"dtype\": \"string\",\n        \"num_unique_values\": 8938,\n        \"samples\": [\n          \"glad see repli\",\n          \"free entri number wkli comp winnings fa cup concluding tkts number st may number text fa number receiv entri questionstd txt ratetc appli number number\"\n        ],\n        \"semantic_type\": \"\",\n        \"description\": \"\"\n      }\n    }\n  ]\n}",
              "type": "dataframe",
              "variable_name": "balanced_df"
            },
            "text/html": [
              "\n",
              "  <div id=\"df-41424118-bba8-4434-8033-be198626da22\" class=\"colab-df-container\">\n",
              "    <div>\n",
              "<style scoped>\n",
              "    .dataframe tbody tr th:only-of-type {\n",
              "        vertical-align: middle;\n",
              "    }\n",
              "\n",
              "    .dataframe tbody tr th {\n",
              "        vertical-align: top;\n",
              "    }\n",
              "\n",
              "    .dataframe thead th {\n",
              "        text-align: right;\n",
              "    }\n",
              "</style>\n",
              "<table border=\"1\" class=\"dataframe\">\n",
              "  <thead>\n",
              "    <tr style=\"text-align: right;\">\n",
              "      <th></th>\n",
              "      <th>label</th>\n",
              "      <th>sms</th>\n",
              "      <th>change_sms</th>\n",
              "      <th>nltk</th>\n",
              "    </tr>\n",
              "  </thead>\n",
              "  <tbody>\n",
              "    <tr>\n",
              "      <th>0</th>\n",
              "      <td>1</td>\n",
              "      <td>NaN</td>\n",
              "      <td>NaN</td>\n",
              "      <td>free entri number wkli comp win fa cup final t...</td>\n",
              "    </tr>\n",
              "    <tr>\n",
              "      <th>1</th>\n",
              "      <td>0</td>\n",
              "      <td>Oh wow thats gay. Will firmware update help</td>\n",
              "      <td>oh wow that is gay will firmware update help</td>\n",
              "      <td>oh wow gay firmwar updat help</td>\n",
              "    </tr>\n",
              "    <tr>\n",
              "      <th>2</th>\n",
              "      <td>1</td>\n",
              "      <td>NaN</td>\n",
              "      <td>NaN</td>\n",
              "      <td>complimentary entri number wkli comp win fa cu...</td>\n",
              "    </tr>\n",
              "    <tr>\n",
              "      <th>3</th>\n",
              "      <td>1</td>\n",
              "      <td>NaN</td>\n",
              "      <td>NaN</td>\n",
              "      <td>free entri number wkli comp win fa cup last tk...</td>\n",
              "    </tr>\n",
              "    <tr>\n",
              "      <th>4</th>\n",
              "      <td>1</td>\n",
              "      <td>NaN</td>\n",
              "      <td>NaN</td>\n",
              "      <td>absolve entri number wkli comp win fa cup fina...</td>\n",
              "    </tr>\n",
              "    <tr>\n",
              "      <th>...</th>\n",
              "      <td>...</td>\n",
              "      <td>...</td>\n",
              "      <td>...</td>\n",
              "      <td>...</td>\n",
              "    </tr>\n",
              "    <tr>\n",
              "      <th>8933</th>\n",
              "      <td>1</td>\n",
              "      <td>NaN</td>\n",
              "      <td>NaN</td>\n",
              "      <td>detached entri number wkli comp win fa cup fin...</td>\n",
              "    </tr>\n",
              "    <tr>\n",
              "      <th>8934</th>\n",
              "      <td>1</td>\n",
              "      <td>You won't believe it but it's true. It's Incre...</td>\n",
              "      <td>you will not believe it but it is true it is i...</td>\n",
              "      <td>believ true incred txts repli g learn truli am...</td>\n",
              "    </tr>\n",
              "    <tr>\n",
              "      <th>8935</th>\n",
              "      <td>1</td>\n",
              "      <td>NaN</td>\n",
              "      <td>NaN</td>\n",
              "      <td>destitute entri number wkli comp win fa cup fi...</td>\n",
              "    </tr>\n",
              "    <tr>\n",
              "      <th>8936</th>\n",
              "      <td>0</td>\n",
              "      <td>see, i knew giving you a break a few times wou...</td>\n",
              "      <td>see i knew giving you a break a few times woul...</td>\n",
              "      <td>see knew give break time woul lead alway want ...</td>\n",
              "    </tr>\n",
              "    <tr>\n",
              "      <th>8937</th>\n",
              "      <td>1</td>\n",
              "      <td>NaN</td>\n",
              "      <td>NaN</td>\n",
              "      <td>free entri numerate wkli comp win fa cup final...</td>\n",
              "    </tr>\n",
              "  </tbody>\n",
              "</table>\n",
              "<p>8938 rows × 4 columns</p>\n",
              "</div>\n",
              "    <div class=\"colab-df-buttons\">\n",
              "\n",
              "  <div class=\"colab-df-container\">\n",
              "    <button class=\"colab-df-convert\" onclick=\"convertToInteractive('df-41424118-bba8-4434-8033-be198626da22')\"\n",
              "            title=\"Convert this dataframe to an interactive table.\"\n",
              "            style=\"display:none;\">\n",
              "\n",
              "  <svg xmlns=\"http://www.w3.org/2000/svg\" height=\"24px\" viewBox=\"0 -960 960 960\">\n",
              "    <path d=\"M120-120v-720h720v720H120Zm60-500h600v-160H180v160Zm220 220h160v-160H400v160Zm0 220h160v-160H400v160ZM180-400h160v-160H180v160Zm440 0h160v-160H620v160ZM180-180h160v-160H180v160Zm440 0h160v-160H620v160Z\"/>\n",
              "  </svg>\n",
              "    </button>\n",
              "\n",
              "  <style>\n",
              "    .colab-df-container {\n",
              "      display:flex;\n",
              "      gap: 12px;\n",
              "    }\n",
              "\n",
              "    .colab-df-convert {\n",
              "      background-color: #E8F0FE;\n",
              "      border: none;\n",
              "      border-radius: 50%;\n",
              "      cursor: pointer;\n",
              "      display: none;\n",
              "      fill: #1967D2;\n",
              "      height: 32px;\n",
              "      padding: 0 0 0 0;\n",
              "      width: 32px;\n",
              "    }\n",
              "\n",
              "    .colab-df-convert:hover {\n",
              "      background-color: #E2EBFA;\n",
              "      box-shadow: 0px 1px 2px rgba(60, 64, 67, 0.3), 0px 1px 3px 1px rgba(60, 64, 67, 0.15);\n",
              "      fill: #174EA6;\n",
              "    }\n",
              "\n",
              "    .colab-df-buttons div {\n",
              "      margin-bottom: 4px;\n",
              "    }\n",
              "\n",
              "    [theme=dark] .colab-df-convert {\n",
              "      background-color: #3B4455;\n",
              "      fill: #D2E3FC;\n",
              "    }\n",
              "\n",
              "    [theme=dark] .colab-df-convert:hover {\n",
              "      background-color: #434B5C;\n",
              "      box-shadow: 0px 1px 3px 1px rgba(0, 0, 0, 0.15);\n",
              "      filter: drop-shadow(0px 1px 2px rgba(0, 0, 0, 0.3));\n",
              "      fill: #FFFFFF;\n",
              "    }\n",
              "  </style>\n",
              "\n",
              "    <script>\n",
              "      const buttonEl =\n",
              "        document.querySelector('#df-41424118-bba8-4434-8033-be198626da22 button.colab-df-convert');\n",
              "      buttonEl.style.display =\n",
              "        google.colab.kernel.accessAllowed ? 'block' : 'none';\n",
              "\n",
              "      async function convertToInteractive(key) {\n",
              "        const element = document.querySelector('#df-41424118-bba8-4434-8033-be198626da22');\n",
              "        const dataTable =\n",
              "          await google.colab.kernel.invokeFunction('convertToInteractive',\n",
              "                                                    [key], {});\n",
              "        if (!dataTable) return;\n",
              "\n",
              "        const docLinkHtml = 'Like what you see? Visit the ' +\n",
              "          '<a target=\"_blank\" href=https://colab.research.google.com/notebooks/data_table.ipynb>data table notebook</a>'\n",
              "          + ' to learn more about interactive tables.';\n",
              "        element.innerHTML = '';\n",
              "        dataTable['output_type'] = 'display_data';\n",
              "        await google.colab.output.renderOutput(dataTable, element);\n",
              "        const docLink = document.createElement('div');\n",
              "        docLink.innerHTML = docLinkHtml;\n",
              "        element.appendChild(docLink);\n",
              "      }\n",
              "    </script>\n",
              "  </div>\n",
              "\n",
              "\n",
              "<div id=\"df-175e579b-ade1-46ee-a7f0-11be9fd99691\">\n",
              "  <button class=\"colab-df-quickchart\" onclick=\"quickchart('df-175e579b-ade1-46ee-a7f0-11be9fd99691')\"\n",
              "            title=\"Suggest charts\"\n",
              "            style=\"display:none;\">\n",
              "\n",
              "<svg xmlns=\"http://www.w3.org/2000/svg\" height=\"24px\"viewBox=\"0 0 24 24\"\n",
              "     width=\"24px\">\n",
              "    <g>\n",
              "        <path d=\"M19 3H5c-1.1 0-2 .9-2 2v14c0 1.1.9 2 2 2h14c1.1 0 2-.9 2-2V5c0-1.1-.9-2-2-2zM9 17H7v-7h2v7zm4 0h-2V7h2v10zm4 0h-2v-4h2v4z\"/>\n",
              "    </g>\n",
              "</svg>\n",
              "  </button>\n",
              "\n",
              "<style>\n",
              "  .colab-df-quickchart {\n",
              "      --bg-color: #E8F0FE;\n",
              "      --fill-color: #1967D2;\n",
              "      --hover-bg-color: #E2EBFA;\n",
              "      --hover-fill-color: #174EA6;\n",
              "      --disabled-fill-color: #AAA;\n",
              "      --disabled-bg-color: #DDD;\n",
              "  }\n",
              "\n",
              "  [theme=dark] .colab-df-quickchart {\n",
              "      --bg-color: #3B4455;\n",
              "      --fill-color: #D2E3FC;\n",
              "      --hover-bg-color: #434B5C;\n",
              "      --hover-fill-color: #FFFFFF;\n",
              "      --disabled-bg-color: #3B4455;\n",
              "      --disabled-fill-color: #666;\n",
              "  }\n",
              "\n",
              "  .colab-df-quickchart {\n",
              "    background-color: var(--bg-color);\n",
              "    border: none;\n",
              "    border-radius: 50%;\n",
              "    cursor: pointer;\n",
              "    display: none;\n",
              "    fill: var(--fill-color);\n",
              "    height: 32px;\n",
              "    padding: 0;\n",
              "    width: 32px;\n",
              "  }\n",
              "\n",
              "  .colab-df-quickchart:hover {\n",
              "    background-color: var(--hover-bg-color);\n",
              "    box-shadow: 0 1px 2px rgba(60, 64, 67, 0.3), 0 1px 3px 1px rgba(60, 64, 67, 0.15);\n",
              "    fill: var(--button-hover-fill-color);\n",
              "  }\n",
              "\n",
              "  .colab-df-quickchart-complete:disabled,\n",
              "  .colab-df-quickchart-complete:disabled:hover {\n",
              "    background-color: var(--disabled-bg-color);\n",
              "    fill: var(--disabled-fill-color);\n",
              "    box-shadow: none;\n",
              "  }\n",
              "\n",
              "  .colab-df-spinner {\n",
              "    border: 2px solid var(--fill-color);\n",
              "    border-color: transparent;\n",
              "    border-bottom-color: var(--fill-color);\n",
              "    animation:\n",
              "      spin 1s steps(1) infinite;\n",
              "  }\n",
              "\n",
              "  @keyframes spin {\n",
              "    0% {\n",
              "      border-color: transparent;\n",
              "      border-bottom-color: var(--fill-color);\n",
              "      border-left-color: var(--fill-color);\n",
              "    }\n",
              "    20% {\n",
              "      border-color: transparent;\n",
              "      border-left-color: var(--fill-color);\n",
              "      border-top-color: var(--fill-color);\n",
              "    }\n",
              "    30% {\n",
              "      border-color: transparent;\n",
              "      border-left-color: var(--fill-color);\n",
              "      border-top-color: var(--fill-color);\n",
              "      border-right-color: var(--fill-color);\n",
              "    }\n",
              "    40% {\n",
              "      border-color: transparent;\n",
              "      border-right-color: var(--fill-color);\n",
              "      border-top-color: var(--fill-color);\n",
              "    }\n",
              "    60% {\n",
              "      border-color: transparent;\n",
              "      border-right-color: var(--fill-color);\n",
              "    }\n",
              "    80% {\n",
              "      border-color: transparent;\n",
              "      border-right-color: var(--fill-color);\n",
              "      border-bottom-color: var(--fill-color);\n",
              "    }\n",
              "    90% {\n",
              "      border-color: transparent;\n",
              "      border-bottom-color: var(--fill-color);\n",
              "    }\n",
              "  }\n",
              "</style>\n",
              "\n",
              "  <script>\n",
              "    async function quickchart(key) {\n",
              "      const quickchartButtonEl =\n",
              "        document.querySelector('#' + key + ' button');\n",
              "      quickchartButtonEl.disabled = true;  // To prevent multiple clicks.\n",
              "      quickchartButtonEl.classList.add('colab-df-spinner');\n",
              "      try {\n",
              "        const charts = await google.colab.kernel.invokeFunction(\n",
              "            'suggestCharts', [key], {});\n",
              "      } catch (error) {\n",
              "        console.error('Error during call to suggestCharts:', error);\n",
              "      }\n",
              "      quickchartButtonEl.classList.remove('colab-df-spinner');\n",
              "      quickchartButtonEl.classList.add('colab-df-quickchart-complete');\n",
              "    }\n",
              "    (() => {\n",
              "      let quickchartButtonEl =\n",
              "        document.querySelector('#df-175e579b-ade1-46ee-a7f0-11be9fd99691 button');\n",
              "      quickchartButtonEl.style.display =\n",
              "        google.colab.kernel.accessAllowed ? 'block' : 'none';\n",
              "    })();\n",
              "  </script>\n",
              "</div>\n",
              "    </div>\n",
              "  </div>\n"
            ],
            "text/plain": [
              "      label                                                sms  \\\n",
              "0         1                                                NaN   \n",
              "1         0        Oh wow thats gay. Will firmware update help   \n",
              "2         1                                                NaN   \n",
              "3         1                                                NaN   \n",
              "4         1                                                NaN   \n",
              "...     ...                                                ...   \n",
              "8933      1                                                NaN   \n",
              "8934      1  You won't believe it but it's true. It's Incre...   \n",
              "8935      1                                                NaN   \n",
              "8936      0  see, i knew giving you a break a few times wou...   \n",
              "8937      1                                                NaN   \n",
              "\n",
              "                                             change_sms  \\\n",
              "0                                                   NaN   \n",
              "1          oh wow that is gay will firmware update help   \n",
              "2                                                   NaN   \n",
              "3                                                   NaN   \n",
              "4                                                   NaN   \n",
              "...                                                 ...   \n",
              "8933                                                NaN   \n",
              "8934  you will not believe it but it is true it is i...   \n",
              "8935                                                NaN   \n",
              "8936  see i knew giving you a break a few times woul...   \n",
              "8937                                                NaN   \n",
              "\n",
              "                                                   nltk  \n",
              "0     free entri number wkli comp win fa cup final t...  \n",
              "1                         oh wow gay firmwar updat help  \n",
              "2     complimentary entri number wkli comp win fa cu...  \n",
              "3     free entri number wkli comp win fa cup last tk...  \n",
              "4     absolve entri number wkli comp win fa cup fina...  \n",
              "...                                                 ...  \n",
              "8933  detached entri number wkli comp win fa cup fin...  \n",
              "8934  believ true incred txts repli g learn truli am...  \n",
              "8935  destitute entri number wkli comp win fa cup fi...  \n",
              "8936  see knew give break time woul lead alway want ...  \n",
              "8937  free entri numerate wkli comp win fa cup final...  \n",
              "\n",
              "[8938 rows x 4 columns]"
            ]
          },
          "execution_count": 110,
          "metadata": {},
          "output_type": "execute_result"
        }
      ],
      "source": [
        "balanced_df"
      ]
    },
    {
      "cell_type": "code",
      "execution_count": null,
      "metadata": {
        "colab": {
          "base_uri": "https://localhost:8080/"
        },
        "id": "tgBm0asWus2v",
        "outputId": "a4055111-6bae-4b9f-941b-88b44741e60b"
      },
      "outputs": [
        {
          "data": {
            "text/plain": [
              "label\n",
              "1    4469\n",
              "0    4469\n",
              "Name: count, dtype: int64"
            ]
          },
          "execution_count": 111,
          "metadata": {},
          "output_type": "execute_result"
        }
      ],
      "source": [
        "balanced_df['label'].value_counts()"
      ]
    },
    {
      "cell_type": "code",
      "execution_count": null,
      "metadata": {
        "colab": {
          "base_uri": "https://localhost:8080/"
        },
        "id": "EEN3-72auwdH",
        "outputId": "117703ac-0d3b-4997-9808-64f66342ee28"
      },
      "outputs": [
        {
          "data": {
            "text/plain": [
              "0"
            ]
          },
          "execution_count": 112,
          "metadata": {},
          "output_type": "execute_result"
        }
      ],
      "source": [
        "balanced_df['nltk'].duplicated().sum()"
      ]
    },
    {
      "cell_type": "code",
      "execution_count": null,
      "metadata": {
        "colab": {
          "base_uri": "https://localhost:8080/"
        },
        "id": "1HRrWf-LvASq",
        "outputId": "3441e730-2ab3-47ce-ad2f-d0f7d4941c78"
      },
      "outputs": [
        {
          "name": "stdout",
          "output_type": "stream",
          "text": [
            "Empty DataFrame\n",
            "Columns: [label, sms, change_sms, nltk]\n",
            "Index: []\n"
          ]
        }
      ],
      "source": [
        "duplicated_rows = balanced_df.loc[balanced_df['nltk'].duplicated(), :]\n",
        "print(duplicated_rows)\n"
      ]
    },
    {
      "cell_type": "code",
      "execution_count": null,
      "metadata": {
        "id": "n6zOMjMgfTve"
      },
      "outputs": [],
      "source": [
        "# remove duplicated messages\n",
        "balanced_df.drop_duplicates(subset=['nltk'], inplace=True)\n"
      ]
    },
    {
      "cell_type": "code",
      "execution_count": null,
      "metadata": {
        "colab": {
          "base_uri": "https://localhost:8080/"
        },
        "id": "efsAZuuTfiCI",
        "outputId": "fda60183-92f8-4bbf-f531-3d2b95dcb26a"
      },
      "outputs": [
        {
          "name": "stdout",
          "output_type": "stream",
          "text": [
            "sms:  oh wow gay firmwar updat help\n",
            "\n",
            "count:  6\n",
            "nltk:  ['oh', 'wow', 'gay', 'firmwar', 'updat', 'help']\n"
          ]
        }
      ],
      "source": [
        "# Select the row index for processing\n",
        "n = 1\n",
        "\n",
        "# Split the text into words\n",
        "words = balanced_df['nltk'][n].split()\n",
        "\n",
        "# Count the number of words\n",
        "word_count = len(words)\n",
        "\n",
        "# Print the original text, word count, and the list of words\n",
        "print(\"sms: \", balanced_df['nltk'][n])\n",
        "print(\"\\ncount: \", word_count)\n",
        "print(\"nltk: \", words)\n"
      ]
    },
    {
      "cell_type": "code",
      "execution_count": null,
      "metadata": {
        "colab": {
          "base_uri": "https://localhost:8080/"
        },
        "id": "u1tNV7TAfl5i",
        "outputId": "a80b5f85-a383-4e95-8159-321e874ef53f"
      },
      "outputs": [
        {
          "name": "stdout",
          "output_type": "stream",
          "text": [
            "Text in the row with the maximum number of words:\n",
            "love start attractioni feel need everi time around link first thing come thoughtsi would start day end link everi time link everi breath link life happen around link life name heri would cri link give happi take sorrowsi readi fight anyon heri love crazi thing link proov anyon girl beauti ladi whole planeti alway sing prais link start make chicken curri end maki link beauti link get everi morn thank god day mei would like say link tell later\n",
            "Number of words in the row with the maximum number of words: 79\n"
          ]
        }
      ],
      "source": [
        "# Calculate the number of words in each text\n",
        "balanced_df['num_words'] = balanced_df['nltk'].apply(lambda x: len(x.split()))\n",
        "\n",
        "# Find the row with the maximum number of words\n",
        "max_words_row = balanced_df.loc[balanced_df['num_words'].idxmax()]\n",
        "\n",
        "# Print the text in the row with the maximum number of words\n",
        "print(\"Text in the row with the maximum number of words:\")\n",
        "print(max_words_row['nltk'])\n",
        "\n",
        "# Print the number of words in the row with the maximum number of words\n",
        "print(\"Number of words in the row with the maximum number of words:\", max_words_row['num_words'])\n",
        "\n",
        "# Store the maximum number of words for further use\n",
        "max_len = max_words_row['num_words']"
      ]
    },
    {
      "cell_type": "code",
      "execution_count": null,
      "metadata": {
        "colab": {
          "base_uri": "https://localhost:8080/"
        },
        "id": "w8yNT_XQfoU-",
        "outputId": "c7f0740e-d9ec-4b03-ad04-be754210819c"
      },
      "outputs": [
        {
          "name": "stdout",
          "output_type": "stream",
          "text": [
            "79\n"
          ]
        }
      ],
      "source": [
        "print(max_len)"
      ]
    },
    {
      "cell_type": "code",
      "execution_count": null,
      "metadata": {
        "colab": {
          "base_uri": "https://localhost:8080/",
          "height": 424
        },
        "id": "F_hOXhXmf0gR",
        "outputId": "baebd7ab-2df2-4abf-e8fd-5c0560a8e7ad"
      },
      "outputs": [
        {
          "data": {
            "application/vnd.google.colaboratory.intrinsic+json": {
              "summary": "{\n  \"name\": \"balanced_df\",\n  \"rows\": 8938,\n  \"fields\": [\n    {\n      \"column\": \"label\",\n      \"properties\": {\n        \"dtype\": \"number\",\n        \"std\": 0,\n        \"min\": 0,\n        \"max\": 1,\n        \"num_unique_values\": 2,\n        \"samples\": [\n          0,\n          1\n        ],\n        \"semantic_type\": \"\",\n        \"description\": \"\"\n      }\n    },\n    {\n      \"column\": \"sms\",\n      \"properties\": {\n        \"dtype\": \"string\",\n        \"num_unique_values\": 5389,\n        \"samples\": [\n          \"Dont let studying stress you out. L8r.\",\n          \"You best watch what you say cause I get drunk as a motherfucker\"\n        ],\n        \"semantic_type\": \"\",\n        \"description\": \"\"\n      }\n    },\n    {\n      \"column\": \"change_sms\",\n      \"properties\": {\n        \"dtype\": \"string\",\n        \"num_unique_values\": 5389,\n        \"samples\": [\n          \"do not let studying stress you out l number r\",\n          \"you best watch what you say because i get drunk as a motherfucker\"\n        ],\n        \"semantic_type\": \"\",\n        \"description\": \"\"\n      }\n    },\n    {\n      \"column\": \"nltk\",\n      \"properties\": {\n        \"dtype\": \"string\",\n        \"num_unique_values\": 8938,\n        \"samples\": [\n          \"glad see repli\",\n          \"free entri number wkli comp winnings fa cup concluding tkts number st may number text fa number receiv entri questionstd txt ratetc appli number number\"\n        ],\n        \"semantic_type\": \"\",\n        \"description\": \"\"\n      }\n    },\n    {\n      \"column\": \"num_words\",\n      \"properties\": {\n        \"dtype\": \"number\",\n        \"std\": 9,\n        \"min\": 0,\n        \"max\": 79,\n        \"num_unique_values\": 48,\n        \"samples\": [\n          23,\n          58\n        ],\n        \"semantic_type\": \"\",\n        \"description\": \"\"\n      }\n    }\n  ]\n}",
              "type": "dataframe",
              "variable_name": "balanced_df"
            },
            "text/html": [
              "\n",
              "  <div id=\"df-ed12dde8-c255-468b-86b9-435e28121ee1\" class=\"colab-df-container\">\n",
              "    <div>\n",
              "<style scoped>\n",
              "    .dataframe tbody tr th:only-of-type {\n",
              "        vertical-align: middle;\n",
              "    }\n",
              "\n",
              "    .dataframe tbody tr th {\n",
              "        vertical-align: top;\n",
              "    }\n",
              "\n",
              "    .dataframe thead th {\n",
              "        text-align: right;\n",
              "    }\n",
              "</style>\n",
              "<table border=\"1\" class=\"dataframe\">\n",
              "  <thead>\n",
              "    <tr style=\"text-align: right;\">\n",
              "      <th></th>\n",
              "      <th>label</th>\n",
              "      <th>sms</th>\n",
              "      <th>change_sms</th>\n",
              "      <th>nltk</th>\n",
              "      <th>num_words</th>\n",
              "    </tr>\n",
              "  </thead>\n",
              "  <tbody>\n",
              "    <tr>\n",
              "      <th>0</th>\n",
              "      <td>1</td>\n",
              "      <td>NaN</td>\n",
              "      <td>NaN</td>\n",
              "      <td>free entri number wkli comp win fa cup final t...</td>\n",
              "      <td>25</td>\n",
              "    </tr>\n",
              "    <tr>\n",
              "      <th>1</th>\n",
              "      <td>0</td>\n",
              "      <td>Oh wow thats gay. Will firmware update help</td>\n",
              "      <td>oh wow that is gay will firmware update help</td>\n",
              "      <td>oh wow gay firmwar updat help</td>\n",
              "      <td>6</td>\n",
              "    </tr>\n",
              "    <tr>\n",
              "      <th>2</th>\n",
              "      <td>1</td>\n",
              "      <td>NaN</td>\n",
              "      <td>NaN</td>\n",
              "      <td>complimentary entri number wkli comp win fa cu...</td>\n",
              "      <td>25</td>\n",
              "    </tr>\n",
              "    <tr>\n",
              "      <th>3</th>\n",
              "      <td>1</td>\n",
              "      <td>NaN</td>\n",
              "      <td>NaN</td>\n",
              "      <td>free entri number wkli comp win fa cup last tk...</td>\n",
              "      <td>25</td>\n",
              "    </tr>\n",
              "    <tr>\n",
              "      <th>4</th>\n",
              "      <td>1</td>\n",
              "      <td>NaN</td>\n",
              "      <td>NaN</td>\n",
              "      <td>absolve entri number wkli comp win fa cup fina...</td>\n",
              "      <td>25</td>\n",
              "    </tr>\n",
              "    <tr>\n",
              "      <th>...</th>\n",
              "      <td>...</td>\n",
              "      <td>...</td>\n",
              "      <td>...</td>\n",
              "      <td>...</td>\n",
              "      <td>...</td>\n",
              "    </tr>\n",
              "    <tr>\n",
              "      <th>8933</th>\n",
              "      <td>1</td>\n",
              "      <td>NaN</td>\n",
              "      <td>NaN</td>\n",
              "      <td>detached entri number wkli comp win fa cup fin...</td>\n",
              "      <td>25</td>\n",
              "    </tr>\n",
              "    <tr>\n",
              "      <th>8934</th>\n",
              "      <td>1</td>\n",
              "      <td>You won't believe it but it's true. It's Incre...</td>\n",
              "      <td>you will not believe it but it is true it is i...</td>\n",
              "      <td>believ true incred txts repli g learn truli am...</td>\n",
              "      <td>12</td>\n",
              "    </tr>\n",
              "    <tr>\n",
              "      <th>8935</th>\n",
              "      <td>1</td>\n",
              "      <td>NaN</td>\n",
              "      <td>NaN</td>\n",
              "      <td>destitute entri number wkli comp win fa cup fi...</td>\n",
              "      <td>25</td>\n",
              "    </tr>\n",
              "    <tr>\n",
              "      <th>8936</th>\n",
              "      <td>0</td>\n",
              "      <td>see, i knew giving you a break a few times wou...</td>\n",
              "      <td>see i knew giving you a break a few times woul...</td>\n",
              "      <td>see knew give break time woul lead alway want ...</td>\n",
              "      <td>32</td>\n",
              "    </tr>\n",
              "    <tr>\n",
              "      <th>8937</th>\n",
              "      <td>1</td>\n",
              "      <td>NaN</td>\n",
              "      <td>NaN</td>\n",
              "      <td>free entri numerate wkli comp win fa cup final...</td>\n",
              "      <td>25</td>\n",
              "    </tr>\n",
              "  </tbody>\n",
              "</table>\n",
              "<p>8938 rows × 5 columns</p>\n",
              "</div>\n",
              "    <div class=\"colab-df-buttons\">\n",
              "\n",
              "  <div class=\"colab-df-container\">\n",
              "    <button class=\"colab-df-convert\" onclick=\"convertToInteractive('df-ed12dde8-c255-468b-86b9-435e28121ee1')\"\n",
              "            title=\"Convert this dataframe to an interactive table.\"\n",
              "            style=\"display:none;\">\n",
              "\n",
              "  <svg xmlns=\"http://www.w3.org/2000/svg\" height=\"24px\" viewBox=\"0 -960 960 960\">\n",
              "    <path d=\"M120-120v-720h720v720H120Zm60-500h600v-160H180v160Zm220 220h160v-160H400v160Zm0 220h160v-160H400v160ZM180-400h160v-160H180v160Zm440 0h160v-160H620v160ZM180-180h160v-160H180v160Zm440 0h160v-160H620v160Z\"/>\n",
              "  </svg>\n",
              "    </button>\n",
              "\n",
              "  <style>\n",
              "    .colab-df-container {\n",
              "      display:flex;\n",
              "      gap: 12px;\n",
              "    }\n",
              "\n",
              "    .colab-df-convert {\n",
              "      background-color: #E8F0FE;\n",
              "      border: none;\n",
              "      border-radius: 50%;\n",
              "      cursor: pointer;\n",
              "      display: none;\n",
              "      fill: #1967D2;\n",
              "      height: 32px;\n",
              "      padding: 0 0 0 0;\n",
              "      width: 32px;\n",
              "    }\n",
              "\n",
              "    .colab-df-convert:hover {\n",
              "      background-color: #E2EBFA;\n",
              "      box-shadow: 0px 1px 2px rgba(60, 64, 67, 0.3), 0px 1px 3px 1px rgba(60, 64, 67, 0.15);\n",
              "      fill: #174EA6;\n",
              "    }\n",
              "\n",
              "    .colab-df-buttons div {\n",
              "      margin-bottom: 4px;\n",
              "    }\n",
              "\n",
              "    [theme=dark] .colab-df-convert {\n",
              "      background-color: #3B4455;\n",
              "      fill: #D2E3FC;\n",
              "    }\n",
              "\n",
              "    [theme=dark] .colab-df-convert:hover {\n",
              "      background-color: #434B5C;\n",
              "      box-shadow: 0px 1px 3px 1px rgba(0, 0, 0, 0.15);\n",
              "      filter: drop-shadow(0px 1px 2px rgba(0, 0, 0, 0.3));\n",
              "      fill: #FFFFFF;\n",
              "    }\n",
              "  </style>\n",
              "\n",
              "    <script>\n",
              "      const buttonEl =\n",
              "        document.querySelector('#df-ed12dde8-c255-468b-86b9-435e28121ee1 button.colab-df-convert');\n",
              "      buttonEl.style.display =\n",
              "        google.colab.kernel.accessAllowed ? 'block' : 'none';\n",
              "\n",
              "      async function convertToInteractive(key) {\n",
              "        const element = document.querySelector('#df-ed12dde8-c255-468b-86b9-435e28121ee1');\n",
              "        const dataTable =\n",
              "          await google.colab.kernel.invokeFunction('convertToInteractive',\n",
              "                                                    [key], {});\n",
              "        if (!dataTable) return;\n",
              "\n",
              "        const docLinkHtml = 'Like what you see? Visit the ' +\n",
              "          '<a target=\"_blank\" href=https://colab.research.google.com/notebooks/data_table.ipynb>data table notebook</a>'\n",
              "          + ' to learn more about interactive tables.';\n",
              "        element.innerHTML = '';\n",
              "        dataTable['output_type'] = 'display_data';\n",
              "        await google.colab.output.renderOutput(dataTable, element);\n",
              "        const docLink = document.createElement('div');\n",
              "        docLink.innerHTML = docLinkHtml;\n",
              "        element.appendChild(docLink);\n",
              "      }\n",
              "    </script>\n",
              "  </div>\n",
              "\n",
              "\n",
              "<div id=\"df-4a3c0296-ff3a-45ec-9a2c-6fa189ecc124\">\n",
              "  <button class=\"colab-df-quickchart\" onclick=\"quickchart('df-4a3c0296-ff3a-45ec-9a2c-6fa189ecc124')\"\n",
              "            title=\"Suggest charts\"\n",
              "            style=\"display:none;\">\n",
              "\n",
              "<svg xmlns=\"http://www.w3.org/2000/svg\" height=\"24px\"viewBox=\"0 0 24 24\"\n",
              "     width=\"24px\">\n",
              "    <g>\n",
              "        <path d=\"M19 3H5c-1.1 0-2 .9-2 2v14c0 1.1.9 2 2 2h14c1.1 0 2-.9 2-2V5c0-1.1-.9-2-2-2zM9 17H7v-7h2v7zm4 0h-2V7h2v10zm4 0h-2v-4h2v4z\"/>\n",
              "    </g>\n",
              "</svg>\n",
              "  </button>\n",
              "\n",
              "<style>\n",
              "  .colab-df-quickchart {\n",
              "      --bg-color: #E8F0FE;\n",
              "      --fill-color: #1967D2;\n",
              "      --hover-bg-color: #E2EBFA;\n",
              "      --hover-fill-color: #174EA6;\n",
              "      --disabled-fill-color: #AAA;\n",
              "      --disabled-bg-color: #DDD;\n",
              "  }\n",
              "\n",
              "  [theme=dark] .colab-df-quickchart {\n",
              "      --bg-color: #3B4455;\n",
              "      --fill-color: #D2E3FC;\n",
              "      --hover-bg-color: #434B5C;\n",
              "      --hover-fill-color: #FFFFFF;\n",
              "      --disabled-bg-color: #3B4455;\n",
              "      --disabled-fill-color: #666;\n",
              "  }\n",
              "\n",
              "  .colab-df-quickchart {\n",
              "    background-color: var(--bg-color);\n",
              "    border: none;\n",
              "    border-radius: 50%;\n",
              "    cursor: pointer;\n",
              "    display: none;\n",
              "    fill: var(--fill-color);\n",
              "    height: 32px;\n",
              "    padding: 0;\n",
              "    width: 32px;\n",
              "  }\n",
              "\n",
              "  .colab-df-quickchart:hover {\n",
              "    background-color: var(--hover-bg-color);\n",
              "    box-shadow: 0 1px 2px rgba(60, 64, 67, 0.3), 0 1px 3px 1px rgba(60, 64, 67, 0.15);\n",
              "    fill: var(--button-hover-fill-color);\n",
              "  }\n",
              "\n",
              "  .colab-df-quickchart-complete:disabled,\n",
              "  .colab-df-quickchart-complete:disabled:hover {\n",
              "    background-color: var(--disabled-bg-color);\n",
              "    fill: var(--disabled-fill-color);\n",
              "    box-shadow: none;\n",
              "  }\n",
              "\n",
              "  .colab-df-spinner {\n",
              "    border: 2px solid var(--fill-color);\n",
              "    border-color: transparent;\n",
              "    border-bottom-color: var(--fill-color);\n",
              "    animation:\n",
              "      spin 1s steps(1) infinite;\n",
              "  }\n",
              "\n",
              "  @keyframes spin {\n",
              "    0% {\n",
              "      border-color: transparent;\n",
              "      border-bottom-color: var(--fill-color);\n",
              "      border-left-color: var(--fill-color);\n",
              "    }\n",
              "    20% {\n",
              "      border-color: transparent;\n",
              "      border-left-color: var(--fill-color);\n",
              "      border-top-color: var(--fill-color);\n",
              "    }\n",
              "    30% {\n",
              "      border-color: transparent;\n",
              "      border-left-color: var(--fill-color);\n",
              "      border-top-color: var(--fill-color);\n",
              "      border-right-color: var(--fill-color);\n",
              "    }\n",
              "    40% {\n",
              "      border-color: transparent;\n",
              "      border-right-color: var(--fill-color);\n",
              "      border-top-color: var(--fill-color);\n",
              "    }\n",
              "    60% {\n",
              "      border-color: transparent;\n",
              "      border-right-color: var(--fill-color);\n",
              "    }\n",
              "    80% {\n",
              "      border-color: transparent;\n",
              "      border-right-color: var(--fill-color);\n",
              "      border-bottom-color: var(--fill-color);\n",
              "    }\n",
              "    90% {\n",
              "      border-color: transparent;\n",
              "      border-bottom-color: var(--fill-color);\n",
              "    }\n",
              "  }\n",
              "</style>\n",
              "\n",
              "  <script>\n",
              "    async function quickchart(key) {\n",
              "      const quickchartButtonEl =\n",
              "        document.querySelector('#' + key + ' button');\n",
              "      quickchartButtonEl.disabled = true;  // To prevent multiple clicks.\n",
              "      quickchartButtonEl.classList.add('colab-df-spinner');\n",
              "      try {\n",
              "        const charts = await google.colab.kernel.invokeFunction(\n",
              "            'suggestCharts', [key], {});\n",
              "      } catch (error) {\n",
              "        console.error('Error during call to suggestCharts:', error);\n",
              "      }\n",
              "      quickchartButtonEl.classList.remove('colab-df-spinner');\n",
              "      quickchartButtonEl.classList.add('colab-df-quickchart-complete');\n",
              "    }\n",
              "    (() => {\n",
              "      let quickchartButtonEl =\n",
              "        document.querySelector('#df-4a3c0296-ff3a-45ec-9a2c-6fa189ecc124 button');\n",
              "      quickchartButtonEl.style.display =\n",
              "        google.colab.kernel.accessAllowed ? 'block' : 'none';\n",
              "    })();\n",
              "  </script>\n",
              "</div>\n",
              "    </div>\n",
              "  </div>\n"
            ],
            "text/plain": [
              "      label                                                sms  \\\n",
              "0         1                                                NaN   \n",
              "1         0        Oh wow thats gay. Will firmware update help   \n",
              "2         1                                                NaN   \n",
              "3         1                                                NaN   \n",
              "4         1                                                NaN   \n",
              "...     ...                                                ...   \n",
              "8933      1                                                NaN   \n",
              "8934      1  You won't believe it but it's true. It's Incre...   \n",
              "8935      1                                                NaN   \n",
              "8936      0  see, i knew giving you a break a few times wou...   \n",
              "8937      1                                                NaN   \n",
              "\n",
              "                                             change_sms  \\\n",
              "0                                                   NaN   \n",
              "1          oh wow that is gay will firmware update help   \n",
              "2                                                   NaN   \n",
              "3                                                   NaN   \n",
              "4                                                   NaN   \n",
              "...                                                 ...   \n",
              "8933                                                NaN   \n",
              "8934  you will not believe it but it is true it is i...   \n",
              "8935                                                NaN   \n",
              "8936  see i knew giving you a break a few times woul...   \n",
              "8937                                                NaN   \n",
              "\n",
              "                                                   nltk  num_words  \n",
              "0     free entri number wkli comp win fa cup final t...         25  \n",
              "1                         oh wow gay firmwar updat help          6  \n",
              "2     complimentary entri number wkli comp win fa cu...         25  \n",
              "3     free entri number wkli comp win fa cup last tk...         25  \n",
              "4     absolve entri number wkli comp win fa cup fina...         25  \n",
              "...                                                 ...        ...  \n",
              "8933  detached entri number wkli comp win fa cup fin...         25  \n",
              "8934  believ true incred txts repli g learn truli am...         12  \n",
              "8935  destitute entri number wkli comp win fa cup fi...         25  \n",
              "8936  see knew give break time woul lead alway want ...         32  \n",
              "8937  free entri numerate wkli comp win fa cup final...         25  \n",
              "\n",
              "[8938 rows x 5 columns]"
            ]
          },
          "execution_count": 118,
          "metadata": {},
          "output_type": "execute_result"
        }
      ],
      "source": [
        "balanced_df"
      ]
    },
    {
      "cell_type": "markdown",
      "metadata": {
        "id": "THG2nH89v1TB"
      },
      "source": [
        "- Import file of final dataset"
      ]
    },
    {
      "cell_type": "code",
      "execution_count": null,
      "metadata": {
        "id": "woLWfBctvr4p"
      },
      "outputs": [],
      "source": [
        "# balanced_df.to_csv('ta_finaldata.csv', index=False, encoding='utf-8-sig')"
      ]
    },
    {
      "cell_type": "code",
      "execution_count": null,
      "metadata": {
        "id": "h-URrkyRvuiN"
      },
      "outputs": [],
      "source": [
        "# Load file\n",
        "final_df_path = \"ta_finaldata.csv\"\n",
        "final_df = pd.read_csv(final_df_path)"
      ]
    },
    {
      "cell_type": "code",
      "execution_count": null,
      "metadata": {
        "id": "RL8_udywwl_R"
      },
      "outputs": [],
      "source": [
        "import _utils as fn\n",
        "import tensorflow as tf\n",
        "from sklearn.model_selection import train_test_split\n",
        "from keras.layers import Embedding, Dense,Dropout,Flatten,Bidirectional, LSTM, SimpleRNN, Conv1D, MaxPooling1D,GlobalMaxPooling1D\n",
        "from keras.layers import GRU\n",
        "from keras.models import Sequential\n",
        "from keras.preprocessing.text import Tokenizer\n",
        "from keras.preprocessing.sequence import pad_sequences\n",
        "from keras.callbacks import EarlyStopping"
      ]
    },
    {
      "cell_type": "code",
      "execution_count": null,
      "metadata": {
        "colab": {
          "base_uri": "https://localhost:8080/",
          "height": 36
        },
        "id": "QkpJp-1Zrebe",
        "outputId": "66dc9378-ee06-4a91-9c57-428296d9168e"
      },
      "outputs": [
        {
          "data": {
            "application/vnd.google.colaboratory.intrinsic+json": {
              "type": "string"
            },
            "text/plain": [
              "'oh wow gay firmwar updat help'"
            ]
          },
          "execution_count": 122,
          "metadata": {},
          "output_type": "execute_result"
        }
      ],
      "source": [
        "final_df['nltk'][1]"
      ]
    },
    {
      "cell_type": "markdown",
      "metadata": {
        "id": "-Z0dVPCswFy8"
      },
      "source": [
        "- Word Embedding โดยใช้โมเดล Word2Vec"
      ]
    },
    {
      "cell_type": "code",
      "execution_count": null,
      "metadata": {
        "colab": {
          "base_uri": "https://localhost:8080/"
        },
        "id": "ml2qBoAiyKAb",
        "outputId": "58fd535c-c206-460a-9348-55e731c57a4f"
      },
      "outputs": [
        {
          "name": "stdout",
          "output_type": "stream",
          "text": [
            "max_len:  79\n"
          ]
        }
      ],
      "source": [
        "print(\"max_len: \", max_len)"
      ]
    },
    {
      "cell_type": "code",
      "execution_count": null,
      "metadata": {
        "colab": {
          "base_uri": "https://localhost:8080/"
        },
        "id": "R7Z-V5OaAg2Q",
        "outputId": "145de9fe-f016-4123-81b1-29f88116fc3e"
      },
      "outputs": [
        {
          "name": "stdout",
          "output_type": "stream",
          "text": [
            "Requirement already satisfied: gensim in /usr/local/lib/python3.10/dist-packages (4.3.2)\n",
            "Requirement already satisfied: numpy>=1.18.5 in /usr/local/lib/python3.10/dist-packages (from gensim) (1.25.2)\n",
            "Requirement already satisfied: scipy>=1.7.0 in /usr/local/lib/python3.10/dist-packages (from gensim) (1.11.4)\n",
            "Requirement already satisfied: smart-open>=1.8.1 in /usr/local/lib/python3.10/dist-packages (from gensim) (6.4.0)\n"
          ]
        }
      ],
      "source": [
        "pip install gensim"
      ]
    },
    {
      "cell_type": "code",
      "execution_count": null,
      "metadata": {
        "id": "QZF_Ail_Lp7j"
      },
      "outputs": [],
      "source": [
        "#Splitting the data into dependent and independent variables i.e, features and the target columns\n",
        "X = final_df['nltk']\n",
        "Y =  final_df['label']\n",
        "\n",
        "#Splitting the data such that 20% will be used for testing and the remaining 82% will be used for training.\n",
        "X_train, X_test, Y_train, Y_test = train_test_split(X, Y, test_size = 0.2, random_state = 42)\n"
      ]
    },
    {
      "cell_type": "code",
      "execution_count": null,
      "metadata": {
        "colab": {
          "base_uri": "https://localhost:8080/"
        },
        "id": "igK-ekif86uA",
        "outputId": "964e6adb-3a11-4b10-b80d-21c32cdd4482"
      },
      "outputs": [
        {
          "data": {
            "text/plain": [
              "(7150, 7150, 1788, 1788)"
            ]
          },
          "execution_count": 126,
          "metadata": {},
          "output_type": "execute_result"
        }
      ],
      "source": [
        "len(X_train),len(Y_train),len(X_test),len(Y_test)"
      ]
    },
    {
      "cell_type": "code",
      "execution_count": null,
      "metadata": {
        "colab": {
          "base_uri": "https://localhost:8080/"
        },
        "id": "w5qy8-oPKll1",
        "outputId": "1b31586c-d8ab-450c-bfcc-278659913bb9"
      },
      "outputs": [
        {
          "name": "stdout",
          "output_type": "stream",
          "text": [
            "CPU times: user 24 ms, sys: 4.98 ms, total: 29 ms\n",
            "Wall time: 96.1 ms\n"
          ]
        }
      ],
      "source": [
        "%%time\n",
        "documents = []\n",
        "for text in X_train:\n",
        "    if isinstance(text, str):\n",
        "        documents.append(text.split())\n",
        "    else:\n",
        "        # Handle cases where the element is not a string (e.g., NaN or other non-string types)\n",
        "        documents.append([])\n"
      ]
    },
    {
      "cell_type": "code",
      "execution_count": null,
      "metadata": {
        "colab": {
          "base_uri": "https://localhost:8080/"
        },
        "id": "9dKJKlKyLe7n",
        "outputId": "56d37279-ec3e-40c2-f847-4f7faddb102a"
      },
      "outputs": [
        {
          "data": {
            "text/plain": [
              "7150"
            ]
          },
          "execution_count": 128,
          "metadata": {},
          "output_type": "execute_result"
        }
      ],
      "source": [
        "len(documents)"
      ]
    },
    {
      "cell_type": "code",
      "execution_count": null,
      "metadata": {
        "id": "s7E_DQ2tMC6L"
      },
      "outputs": [],
      "source": [
        "corpus = final_df['nltk'].tolist()\n",
        "\n",
        "# Tokenizing the corpus\n",
        "tokenized_corpus = []\n",
        "for text in corpus:\n",
        "    if isinstance(text, str):\n",
        "        tokenized_corpus.append(word_tokenize(text))\n",
        "    else:\n",
        "        # Handle NaN or non-string values\n",
        "        tokenized_corpus.append([])\n"
      ]
    },
    {
      "cell_type": "code",
      "execution_count": null,
      "metadata": {
        "id": "cnsvA2ZTMb1X"
      },
      "outputs": [],
      "source": [
        "import gensim\n",
        "# Adjust these parameters based on your specific needs\n",
        "embedding_dim = max_len\n",
        "window_size = 3\n",
        "min_count = 5\n",
        "workers = 8\n",
        "w2v_model = gensim.models.Word2Vec(sentences=tokenized_corpus,vector_size=embedding_dim, window=window_size, min_count=min_count, workers=workers)\n",
        "# min_count (int, optional) – Ignores all words with total frequency lower than this.\n",
        "# workers (int, optional) – Use these many worker threads to train the model (=faster training with multicore machines).\n",
        "# window (int, optional) – Maximum distance between the current and predicted word within a sentence.\n",
        "# vector_size (int, optional) – Dimensionality of the word vectors."
      ]
    },
    {
      "cell_type": "code",
      "execution_count": null,
      "metadata": {
        "colab": {
          "base_uri": "https://localhost:8080/"
        },
        "id": "rXilDhLLgEF9",
        "outputId": "921a2e3d-b450-4e92-ed97-46923d964441"
      },
      "outputs": [
        {
          "name": "stderr",
          "output_type": "stream",
          "text": [
            "WARNING:gensim.models.keyedvectors:sorting after vectors have been allocated is expensive & error-prone\n"
          ]
        }
      ],
      "source": [
        "# Build vocabulary from a dictionary of word frequencies.\n",
        "w2v_model.build_vocab(documents)"
      ]
    },
    {
      "cell_type": "code",
      "execution_count": null,
      "metadata": {
        "colab": {
          "base_uri": "https://localhost:8080/"
        },
        "id": "2qHzfKuqzxw3",
        "outputId": "54a326e2-253c-4b42-947d-969e7fb0c3a7"
      },
      "outputs": [
        {
          "name": "stdout",
          "output_type": "stream",
          "text": [
            "Vocabulary size: 1293\n"
          ]
        }
      ],
      "source": [
        "# Get the vocabulary from the Word2Vec model\n",
        "words = list(w2v_model.wv.key_to_index.keys())\n",
        "\n",
        "# Calculate the vocabulary size\n",
        "vocab_size = len(words)\n",
        "\n",
        "# Print the vocabulary size\n",
        "print(\"Vocabulary size:\", vocab_size)"
      ]
    },
    {
      "cell_type": "code",
      "execution_count": null,
      "metadata": {
        "colab": {
          "base_uri": "https://localhost:8080/"
        },
        "id": "Hjb4JiwzlSUr",
        "outputId": "3ab8e61b-3063-4152-b099-9b59a5fe9d8e"
      },
      "outputs": [
        {
          "name": "stderr",
          "output_type": "stream",
          "text": [
            "WARNING:gensim.models.word2vec:Effective 'alpha' higher than previous training cycles\n"
          ]
        },
        {
          "name": "stdout",
          "output_type": "stream",
          "text": [
            "CPU times: user 5.19 s, sys: 98.7 ms, total: 5.29 s\n",
            "Wall time: 6.85 s\n"
          ]
        },
        {
          "data": {
            "text/plain": [
              "(1485974, 3586656)"
            ]
          },
          "execution_count": 133,
          "metadata": {},
          "output_type": "execute_result"
        }
      ],
      "source": [
        "%%time\n",
        "w2v_model.train(documents,total_examples=len(documents),epochs=32)"
      ]
    },
    {
      "cell_type": "code",
      "execution_count": null,
      "metadata": {
        "id": "XrdazeNgXLqO"
      },
      "outputs": [],
      "source": [
        "X_train = [str(text) if pd.notnull(text) else '' for text in X_train]\n",
        "\n",
        "# Creating a Tokenizer and fitting it on the cleaned text\n",
        "tokenizer = Tokenizer()\n",
        "tokenizer.fit_on_texts(X_train)\n",
        "\n",
        "# Defining special tokens and updating the tokenizer's word index\n",
        "special_vocab = {'<PAD>': 0, '<START>': 1, '<UNKNOWN>': 2, '<UNUSED>': 3}\n",
        "tokenizer.word_index = {**special_vocab, **{word: index + 3 for word, index in tokenizer.word_index.items()}}\n"
      ]
    },
    {
      "cell_type": "code",
      "execution_count": null,
      "metadata": {
        "colab": {
          "base_uri": "https://localhost:8080/"
        },
        "id": "FX__0uc0DoHH",
        "outputId": "e9700a8f-7ad1-4506-ba1b-434cc460e9fb"
      },
      "outputs": [
        {
          "data": {
            "text/plain": [
              "{'<PAD>': 0,\n",
              " '<START>': 1,\n",
              " '<UNKNOWN>': 2,\n",
              " '<UNUSED>': 3,\n",
              " 'number': 4,\n",
              " 'entri': 5,\n",
              " 'fa': 6,\n",
              " 'txt': 7,\n",
              " 'text': 8,\n",
              " 'st': 9,\n",
              " 'receiv': 10,\n",
              " 'appli': 11,\n",
              " 'wkli': 12,\n",
              " 'tkts': 13,\n",
              " 'questionstd': 14,\n",
              " 'ratetc': 15,\n",
              " 'may': 16,\n",
              " 'comp': 17,\n",
              " 'cup': 18,\n",
              " 'final': 19,\n",
              " 'win': 20,\n",
              " 'free': 21,\n",
              " 'get': 22,\n",
              " 'come': 23,\n",
              " 'link': 24,\n",
              " 'call': 25,\n",
              " 'go': 26,\n",
              " 'bit': 27,\n",
              " 'act': 28,\n",
              " 'amount': 29,\n",
              " 'count': 30,\n",
              " 'turn': 31,\n",
              " 'total': 32,\n",
              " 'enumerate': 33,\n",
              " 'list': 34,\n",
              " 'numerate': 35,\n",
              " 'figure': 36,\n",
              " 'numeral': 37,\n",
              " 'issue': 38,\n",
              " 'routine': 39,\n",
              " 'moneysymbol': 40,\n",
              " 'know': 41,\n",
              " 'want': 42,\n",
              " 'like': 43,\n",
              " 'ltgt': 44,\n",
              " 'send': 45,\n",
              " 'love': 46,\n",
              " 'day': 47,\n",
              " 'ok': 48,\n",
              " 'time': 49,\n",
              " 'good': 50,\n",
              " 'tell': 51,\n",
              " 'think': 52,\n",
              " 'say': 53,\n",
              " 'see': 54,\n",
              " 'one': 55,\n",
              " 'week': 56,\n",
              " 'need': 57,\n",
              " 'make': 58,\n",
              " 'home': 59,\n",
              " 'today': 60,\n",
              " 'mobil': 61,\n",
              " 'messag': 62,\n",
              " 'take': 63,\n",
              " 'lor': 64,\n",
              " 'repli': 65,\n",
              " 'back': 66,\n",
              " 'stop': 67,\n",
              " 'r': 68,\n",
              " 'pleas': 69,\n",
              " 'still': 70,\n",
              " 'new': 71,\n",
              " 'phone': 72,\n",
              " 'n': 73,\n",
              " 'last': 74,\n",
              " 'hi': 75,\n",
              " 'well': 76,\n",
              " 'da': 77,\n",
              " 'sorri': 78,\n",
              " 'ask': 79,\n",
              " 'claim': 80,\n",
              " 'miss': 81,\n",
              " 'give': 82,\n",
              " 'leav': 83,\n",
              " 'dear': 84,\n",
              " 'meet': 85,\n",
              " 'wait': 86,\n",
              " 'work': 87,\n",
              " 'great': 88,\n",
              " 'thing': 89,\n",
              " 'tomorrow': 90,\n",
              " 'u': 91,\n",
              " 'oh': 92,\n",
              " 'thank': 93,\n",
              " 'night': 94,\n",
              " 'would': 95,\n",
              " 'happi': 96,\n",
              " 'hope': 97,\n",
              " 'tri': 98,\n",
              " 'much': 99,\n",
              " 'hey': 100,\n",
              " 'wat': 101,\n",
              " 'p': 102,\n",
              " 'later': 103,\n",
              " 'min': 104,\n",
              " 'let': 105,\n",
              " 'find': 106,\n",
              " 'late': 107,\n",
              " 'c': 108,\n",
              " 'friend': 109,\n",
              " 'prize': 110,\n",
              " 'alreadi': 111,\n",
              " 'even': 112,\n",
              " 'way': 113,\n",
              " 'right': 114,\n",
              " 'feel': 115,\n",
              " 'custom': 116,\n",
              " 'nokia': 117,\n",
              " 'e': 118,\n",
              " 'contact': 119,\n",
              " 'k': 120,\n",
              " 'keep': 121,\n",
              " 'phonenumb': 122,\n",
              " 'pls': 123,\n",
              " 'yeah': 124,\n",
              " 'babe': 125,\n",
              " 'realli': 126,\n",
              " 'pick': 127,\n",
              " 'life': 128,\n",
              " 'yes': 129,\n",
              " 'year': 130,\n",
              " 'care': 131,\n",
              " 'buy': 132,\n",
              " 'b': 133,\n",
              " 'tone': 134,\n",
              " 'sleep': 135,\n",
              " 'soon': 136,\n",
              " 'sure': 137,\n",
              " 'finish': 138,\n",
              " 'cash': 139,\n",
              " 'servic': 140,\n",
              " 'succeed': 141,\n",
              " 'anyth': 142,\n",
              " 'chat': 143,\n",
              " 'ill': 144,\n",
              " 'everi': 145,\n",
              " 'lol': 146,\n",
              " 'help': 147,\n",
              " 'morn': 148,\n",
              " 'also': 149,\n",
              " 'cupful': 150,\n",
              " 'urgent': 151,\n",
              " 'use': 152,\n",
              " 'gain': 153,\n",
              " 'start': 154,\n",
              " 'watch': 155,\n",
              " 'someth': 156,\n",
              " 'next': 157,\n",
              " 'tonight': 158,\n",
              " 'show': 159,\n",
              " 'award': 160,\n",
              " 'net': 161,\n",
              " 'acquire': 162,\n",
              " 'comprehensive': 163,\n",
              " 'end': 164,\n",
              " 'devoid': 165,\n",
              " 'offer': 166,\n",
              " 'schoolbook': 167,\n",
              " 'shop': 168,\n",
              " 'transfuse': 169,\n",
              " 'look': 170,\n",
              " 'textbook': 171,\n",
              " 'live': 172,\n",
              " 'detached': 173,\n",
              " 'could': 174,\n",
              " 'concluding': 175,\n",
              " 'talk': 176,\n",
              " 'guy': 177,\n",
              " 'month': 178,\n",
              " 'v': 179,\n",
              " 'wan': 180,\n",
              " 'unblock': 181,\n",
              " 'amp': 182,\n",
              " 'someon': 183,\n",
              " 'complimentary': 184,\n",
              " 'pay': 185,\n",
              " 'justify': 186,\n",
              " 'disembarrass': 187,\n",
              " 'whitethorn': 188,\n",
              " 'per': 189,\n",
              " 'account': 190,\n",
              " 'mean': 191,\n",
              " 'co': 192,\n",
              " 'box': 193,\n",
              " 'costless': 194,\n",
              " 'place': 195,\n",
              " 'yet': 196,\n",
              " 'name': 197,\n",
              " 'terminal': 198,\n",
              " 'x': 199,\n",
              " 'wish': 200,\n",
              " 'gratuitous': 201,\n",
              " 'discharge': 202,\n",
              " 'first': 203,\n",
              " 'collect': 204,\n",
              " 'winnings': 205,\n",
              " 'class': 206,\n",
              " 'ya': 207,\n",
              " 'pm': 208,\n",
              " 'hour': 209,\n",
              " 'dun': 210,\n",
              " 'rid': 211,\n",
              " 'smile': 212,\n",
              " 'fine': 213,\n",
              " 'eat': 214,\n",
              " 'peopl': 215,\n",
              " 'w': 216,\n",
              " 'plan': 217,\n",
              " 'mani': 218,\n",
              " 'profits': 219,\n",
              " 'reach': 220,\n",
              " 'exempt': 221,\n",
              " 'liberate': 222,\n",
              " 'money': 223,\n",
              " 'absolve': 224,\n",
              " 'minut': 225,\n",
              " 'thk': 226,\n",
              " 'advance': 227,\n",
              " 'spare': 228,\n",
              " 'nice': 229,\n",
              " 'resign': 230,\n",
              " 'stuff': 231,\n",
              " 'around': 232,\n",
              " 'happen': 233,\n",
              " 'hear': 234,\n",
              " 'draw': 235,\n",
              " 'loose': 236,\n",
              " 'relinquish': 237,\n",
              " 'word': 238,\n",
              " 'unfreeze': 239,\n",
              " 'release': 240,\n",
              " 'destitute': 241,\n",
              " 'cool': 242,\n",
              " 'unloose': 243,\n",
              " 'hello': 244,\n",
              " 'innocent': 245,\n",
              " 'play': 246,\n",
              " 'best': 247,\n",
              " 'readi': 248,\n",
              " 'mayb': 249,\n",
              " 'person': 250,\n",
              " 'gratis': 251,\n",
              " 'weekend': 252,\n",
              " 'fuck': 253,\n",
              " 'haha': 254,\n",
              " 'girl': 255,\n",
              " 'forget': 256,\n",
              " 'dislodge': 257,\n",
              " 'job': 258,\n",
              " 'relieve': 259,\n",
              " 'guarante': 260,\n",
              " 'unloosen': 261,\n",
              " 'barren': 262,\n",
              " 'never': 263,\n",
              " 'tc': 264,\n",
              " 'yo': 265,\n",
              " 'gud': 266,\n",
              " 'enjoy': 267,\n",
              " 'fun': 268,\n",
              " 'disengage': 269,\n",
              " 'special': 270,\n",
              " 'voucher': 271,\n",
              " 'lot': 272,\n",
              " 'chanc': 273,\n",
              " 'car': 274,\n",
              " 'bad': 275,\n",
              " 'problem': 276,\n",
              " 'guess': 277,\n",
              " 'yup': 278,\n",
              " 'game': 279,\n",
              " 'hr': 280,\n",
              " 'long': 281,\n",
              " 'check': 282,\n",
              " 'big': 283,\n",
              " 'though': 284,\n",
              " 'mind': 285,\n",
              " 'hous': 286,\n",
              " 'cost': 287,\n",
              " 'pic': 288,\n",
              " 'dat': 289,\n",
              " 'lar': 290,\n",
              " 'book': 291,\n",
              " 'anoth': 292,\n",
              " 'lunch': 293,\n",
              " 'ppm': 294,\n",
              " 'drive': 295,\n",
              " 'bring': 296,\n",
              " 'join': 297,\n",
              " 'probabl': 298,\n",
              " 'network': 299,\n",
              " 'alway': 300,\n",
              " 'wake': 301,\n",
              " 'real': 302,\n",
              " 'date': 303,\n",
              " 'jus': 304,\n",
              " 'card': 305,\n",
              " 'charg': 306,\n",
              " 'quit': 307,\n",
              " 'kiss': 308,\n",
              " 'speak': 309,\n",
              " 'noth': 310,\n",
              " 'g': 311,\n",
              " 'bed': 312,\n",
              " 'line': 313,\n",
              " 'put': 314,\n",
              " 'shit': 315,\n",
              " 'stay': 316,\n",
              " 'xxx': 317,\n",
              " 'rememb': 318,\n",
              " 'liberal': 319,\n",
              " 'room': 320,\n",
              " 'holiday': 321,\n",
              " 'dinner': 322,\n",
              " 'chang': 323,\n",
              " 'might': 324,\n",
              " 'worri': 325,\n",
              " 'th': 326,\n",
              " 'pobox': 327,\n",
              " 'boy': 328,\n",
              " 'sir': 329,\n",
              " 'wonder': 330,\n",
              " 'earli': 331,\n",
              " 'inform': 332,\n",
              " 'half': 333,\n",
              " 'code': 334,\n",
              " 'updat': 335,\n",
              " 'aight': 336,\n",
              " 'detail': 337,\n",
              " 'sm': 338,\n",
              " 'face': 339,\n",
              " 'orang': 340,\n",
              " 'rate': 341,\n",
              " 'anyway': 342,\n",
              " 'princess': 343,\n",
              " 'bus': 344,\n",
              " 'hurt': 345,\n",
              " 'video': 346,\n",
              " 'yr': 347,\n",
              " 'littl': 348,\n",
              " 'offic': 349,\n",
              " 'po': 350,\n",
              " 'god': 351,\n",
              " 'test': 352,\n",
              " 'camera': 353,\n",
              " 'select': 354,\n",
              " 'pound': 355,\n",
              " 'colour': 356,\n",
              " 'pa': 357,\n",
              " 'onlin': 358,\n",
              " 'liao': 359,\n",
              " 'everyth': 360,\n",
              " 'wk': 361,\n",
              " 'landlin': 362,\n",
              " 'lose': 363,\n",
              " 'point': 364,\n",
              " 'nite': 365,\n",
              " 'actual': 366,\n",
              " 'leh': 367,\n",
              " 'town': 368,\n",
              " 'abl': 369,\n",
              " 'man': 370,\n",
              " 'thanx': 371,\n",
              " 'heart': 372,\n",
              " 'doubl': 373,\n",
              " 'question': 374,\n",
              " 'answer': 375,\n",
              " 'sexi': 376,\n",
              " 'den': 377,\n",
              " 'sweet': 378,\n",
              " 'run': 379,\n",
              " 'mob': 380,\n",
              " 'gift': 381,\n",
              " 'sinc': 382,\n",
              " 'kind': 383,\n",
              " 'afternoon': 384,\n",
              " 'tv': 385,\n",
              " 'ah': 386,\n",
              " 'dad': 387,\n",
              " 'drop': 388,\n",
              " 'els': 389,\n",
              " 'bath': 390,\n",
              " 'price': 391,\n",
              " 'haf': 392,\n",
              " 'two': 393,\n",
              " 'uk': 394,\n",
              " 'walk': 395,\n",
              " 'bank': 396,\n",
              " 'age': 397,\n",
              " 'wif': 398,\n",
              " 'rington': 399,\n",
              " 'babi': 400,\n",
              " 'world': 401,\n",
              " 'dis': 402,\n",
              " 'poli': 403,\n",
              " 'ever': 404,\n",
              " 'top': 405,\n",
              " 'sit': 406,\n",
              " 'mate': 407,\n",
              " 'credit': 408,\n",
              " 'part': 409,\n",
              " 'bonus': 410,\n",
              " 'sound': 411,\n",
              " 'lesson': 412,\n",
              " 'pain': 413,\n",
              " 'ard': 414,\n",
              " 'download': 415,\n",
              " 'attempt': 416,\n",
              " 'nd': 417,\n",
              " 'okay': 418,\n",
              " 'school': 419,\n",
              " 'hot': 420,\n",
              " 'email': 421,\n",
              " 'pmin': 422,\n",
              " 'head': 423,\n",
              " 'follow': 424,\n",
              " 'drink': 425,\n",
              " 'shall': 426,\n",
              " 'hair': 427,\n",
              " 'order': 428,\n",
              " 'set': 429,\n",
              " 'post': 430,\n",
              " 'lei': 431,\n",
              " 'import': 432,\n",
              " 'xx': 433,\n",
              " 'studi': 434,\n",
              " 'away': 435,\n",
              " 'break': 436,\n",
              " 'movi': 437,\n",
              " 'complet': 438,\n",
              " 'busi': 439,\n",
              " 'hold': 440,\n",
              " 'till': 441,\n",
              " 'due': 442,\n",
              " 'without': 443,\n",
              " 'must': 444,\n",
              " 'wot': 445,\n",
              " 'sch': 446,\n",
              " 'dog': 447,\n",
              " 'dream': 448,\n",
              " 'hav': 449,\n",
              " 'smoke': 450,\n",
              " 'lucki': 451,\n",
              " 'second': 452,\n",
              " 'id': 453,\n",
              " 'mom': 454,\n",
              " 'valid': 455,\n",
              " 'goin': 456,\n",
              " 'address': 457,\n",
              " 'full': 458,\n",
              " 'food': 459,\n",
              " 'enter': 460,\n",
              " 'birthday': 461,\n",
              " 'easi': 462,\n",
              " 'await': 463,\n",
              " 'sad': 464,\n",
              " 'juz': 465,\n",
              " 'cos': 466,\n",
              " 'open': 467,\n",
              " 'content': 468,\n",
              " 'choos': 469,\n",
              " 'brother': 470,\n",
              " 'trip': 471,\n",
              " 'tot': 472,\n",
              " 'si': 473,\n",
              " 'compani': 474,\n",
              " 'rs': 475,\n",
              " 'neva': 476,\n",
              " 'either': 477,\n",
              " 'music': 478,\n",
              " 'tscs': 479,\n",
              " 'believ': 480,\n",
              " 'togeth': 481,\n",
              " 'deliveri': 482,\n",
              " 'aft': 483,\n",
              " 'train': 484,\n",
              " 'famili': 485,\n",
              " 'wen': 486,\n",
              " 'bt': 487,\n",
              " 'gr': 488,\n",
              " 'bore': 489,\n",
              " 'dude': 490,\n",
              " 'read': 491,\n",
              " 'winner': 492,\n",
              " 'current': 493,\n",
              " 'log': 494,\n",
              " 'enough': 495,\n",
              " 'player': 496,\n",
              " 'atm': 497,\n",
              " 'huh': 498,\n",
              " 'sell': 499,\n",
              " 'til': 500,\n",
              " 'click': 501,\n",
              " 'expir': 502,\n",
              " 'news': 503,\n",
              " 'spend': 504,\n",
              " 'colleg': 505,\n",
              " 'alright': 506,\n",
              " 'ltd': 507,\n",
              " 'saw': 508,\n",
              " 'everyon': 509,\n",
              " 'mail': 510,\n",
              " 'j': 511,\n",
              " 'nt': 512,\n",
              " 'plus': 513,\n",
              " 'exam': 514,\n",
              " 'awesom': 515,\n",
              " 'anytim': 516,\n",
              " 'visit': 517,\n",
              " 'avail': 518,\n",
              " 'decid': 519,\n",
              " 'yesterday': 520,\n",
              " 'move': 521,\n",
              " 'paytm': 522,\n",
              " 'opt': 523,\n",
              " 'valu': 524,\n",
              " 'worth': 525,\n",
              " 'india': 526,\n",
              " 'bill': 527,\n",
              " 'alon': 528,\n",
              " 'invit': 529,\n",
              " 'beauti': 530,\n",
              " 'differ': 531,\n",
              " 'direct': 532,\n",
              " 'land': 533,\n",
              " 'search': 534,\n",
              " 'listen': 535,\n",
              " 'true': 536,\n",
              " 'crazi': 537,\n",
              " 'caller': 538,\n",
              " 'wit': 539,\n",
              " 'simpl': 540,\n",
              " 'laugh': 541,\n",
              " 'camcord': 542,\n",
              " 'parti': 543,\n",
              " 'boytoy': 544,\n",
              " 'mobileupd': 545,\n",
              " 'mu': 546,\n",
              " 'noe': 547,\n",
              " 'oso': 548,\n",
              " 'rite': 549,\n",
              " 'fanci': 550,\n",
              " 'plz': 551,\n",
              " 'ltdecimalgt': 552,\n",
              " 'gd': 553,\n",
              " 'system': 554,\n",
              " 'activ': 555,\n",
              " 'wid': 556,\n",
              " 'congratul': 557,\n",
              " 'within': 558,\n",
              " 'ring': 559,\n",
              " 'frnd': 560,\n",
              " 'unsubscrib': 561,\n",
              " 'old': 562,\n",
              " 'wife': 563,\n",
              " 'whatev': 564,\n",
              " 'de': 565,\n",
              " 'match': 566,\n",
              " 'save': 567,\n",
              " 'pmessag': 568,\n",
              " 'area': 569,\n",
              " 'fone': 570,\n",
              " 'mum': 571,\n",
              " 'eve': 572,\n",
              " 'wil': 573,\n",
              " 'msg': 574,\n",
              " 'pub': 575,\n",
              " 'far': 576,\n",
              " 'close': 577,\n",
              " 'sat': 578,\n",
              " 'remind': 579,\n",
              " 'valentin': 580,\n",
              " 'fast': 581,\n",
              " 'friday': 582,\n",
              " 'hand': 583,\n",
              " 'seem': 584,\n",
              " 'xmas': 585,\n",
              " 'fri': 586,\n",
              " 'reason': 587,\n",
              " 'support': 588,\n",
              " 'possibl': 589,\n",
              " 'privat': 590,\n",
              " 'cut': 591,\n",
              " 'add': 592,\n",
              " 'smth': 593,\n",
              " 'cum': 594,\n",
              " 'sea': 595,\n",
              " 'freemsg': 596,\n",
              " 'uncl': 597,\n",
              " 'cours': 598,\n",
              " 'sun': 599,\n",
              " 'touch': 600,\n",
              " 'club': 601,\n",
              " 'hit': 602,\n",
              " 'store': 603,\n",
              " 'sort': 604,\n",
              " 'ha': 605,\n",
              " 'nope': 606,\n",
              " 'die': 607,\n",
              " 'info': 608,\n",
              " 'hop': 609,\n",
              " 'film': 610,\n",
              " 'congrat': 611,\n",
              " 'ticket': 612,\n",
              " 'f': 613,\n",
              " 'side': 614,\n",
              " 'welcom': 615,\n",
              " 'parent': 616,\n",
              " 'sex': 617,\n",
              " 'friendship': 618,\n",
              " 'hungri': 619,\n",
              " 'secret': 620,\n",
              " 'carlo': 621,\n",
              " 'snow': 622,\n",
              " 'pretti': 623,\n",
              " 'joke': 624,\n",
              " 'record': 625,\n",
              " 'suppos': 626,\n",
              " 'shower': 627,\n",
              " 'statement': 628,\n",
              " 'thought': 629,\n",
              " 'eh': 630,\n",
              " 'rain': 631,\n",
              " 'oredi': 632,\n",
              " 'mr': 633,\n",
              " 'deal': 634,\n",
              " 'sister': 635,\n",
              " 'mths': 636,\n",
              " 'song': 637,\n",
              " 'wq': 638,\n",
              " 'promis': 639,\n",
              " 'optout': 640,\n",
              " 'issu': 641,\n",
              " 'anyon': 642,\n",
              " 'hl': 643,\n",
              " 'tomo': 644,\n",
              " 'eg': 645,\n",
              " 'interest': 646,\n",
              " 'deliv': 647,\n",
              " 'project': 648,\n",
              " 'least': 649,\n",
              " 'treat': 650,\n",
              " 'mine': 651,\n",
              " 'light': 652,\n",
              " 'safe': 653,\n",
              " 'txts': 654,\n",
              " 'motorola': 655,\n",
              " 'forward': 656,\n",
              " 'park': 657,\n",
              " 'recent': 658,\n",
              " 'gym': 659,\n",
              " 'tel': 660,\n",
              " 'upgrad': 661,\n",
              " 'comput': 662,\n",
              " 'team': 663,\n",
              " 'outsid': 664,\n",
              " 'l': 665,\n",
              " 'confirm': 666,\n",
              " 'sae': 667,\n",
              " 'term': 668,\n",
              " 'grin': 669,\n",
              " 'short': 670,\n",
              " 'knw': 671,\n",
              " 'almost': 672,\n",
              " 'photo': 673,\n",
              " 'road': 674,\n",
              " 'fr': 675,\n",
              " 'goodmorn': 676,\n",
              " 'appl': 677,\n",
              " 'via': 678,\n",
              " 'catch': 679,\n",
              " 'txting': 680,\n",
              " 'darren': 681,\n",
              " 'fren': 682,\n",
              " 'usual': 683,\n",
              " 'cheap': 684,\n",
              " 'clear': 685,\n",
              " 'hard': 686,\n",
              " 'connect': 687,\n",
              " 'access': 688,\n",
              " 'etc': 689,\n",
              " 'im': 690,\n",
              " 'hospit': 691,\n",
              " 'case': 692,\n",
              " 'swing': 693,\n",
              " 'dont': 694,\n",
              " 'singl': 695,\n",
              " 'chikku': 696,\n",
              " 'coupl': 697,\n",
              " 'ipod': 698,\n",
              " 'figur': 699,\n",
              " 'clean': 700,\n",
              " 'bout': 701,\n",
              " 'rental': 702,\n",
              " 'ish': 703,\n",
              " 'ugh': 704,\n",
              " 'sometim': 705,\n",
              " 'soni': 706,\n",
              " 'idea': 707,\n",
              " 'mah': 708,\n",
              " 'scream': 709,\n",
              " 'quiz': 710,\n",
              " 'understand': 711,\n",
              " 'ph': 712,\n",
              " 'door': 713,\n",
              " 'rent': 714,\n",
              " 'subscrib': 715,\n",
              " 'app': 716,\n",
              " 'return': 717,\n",
              " 'christma': 718,\n",
              " 'surpris': 719,\n",
              " 'summer': 720,\n",
              " 'identifi': 721,\n",
              " 'moment': 722,\n",
              " 'drug': 723,\n",
              " 'across': 724,\n",
              " 'remov': 725,\n",
              " 'expect': 726,\n",
              " 'load': 727,\n",
              " 'rock': 728,\n",
              " 'gal': 729,\n",
              " 'discount': 730,\n",
              " 'member': 731,\n",
              " 'sub': 732,\n",
              " 'coz': 733,\n",
              " 'fl': 734,\n",
              " 'payment': 735,\n",
              " 'mm': 736,\n",
              " 'luck': 737,\n",
              " 'difficult': 738,\n",
              " 'regard': 739,\n",
              " 'oki': 740,\n",
              " 'kid': 741,\n",
              " 'doctor': 742,\n",
              " 'stori': 743,\n",
              " 'na': 744,\n",
              " 'loan': 745,\n",
              " 'chennai': 746,\n",
              " 'reward': 747,\n",
              " 'paper': 748,\n",
              " 'wow': 749,\n",
              " 'yar': 750,\n",
              " 'england': 751,\n",
              " 'fantast': 752,\n",
              " 'water': 753,\n",
              " 'forev': 754,\n",
              " 'notic': 755,\n",
              " 'near': 756,\n",
              " 'wana': 757,\n",
              " 'fill': 758,\n",
              " 'pas': 759,\n",
              " 'cd': 760,\n",
              " 'internet': 761,\n",
              " 'cancel': 762,\n",
              " 'horni': 763,\n",
              " 'pete': 764,\n",
              " 'process': 765,\n",
              " 'basic': 766,\n",
              " 'secur': 767,\n",
              " 'saturday': 768,\n",
              " 'unredeem': 769,\n",
              " 'poor': 770,\n",
              " 'din': 771,\n",
              " 'darlin': 772,\n",
              " 'gas': 773,\n",
              " 'request': 774,\n",
              " 'gbp': 775,\n",
              " 'prob': 776,\n",
              " 'meh': 777,\n",
              " 'abiola': 778,\n",
              " 'shes': 779,\n",
              " 'bb': 780,\n",
              " 'semest': 781,\n",
              " 'regist': 782,\n",
              " 'extra': 783,\n",
              " 'small': 784,\n",
              " 'savamob': 785,\n",
              " 'warm': 786,\n",
              " 'learn': 787,\n",
              " 'frnds': 788,\n",
              " 'stand': 789,\n",
              " 'offici': 790,\n",
              " 'eye': 791,\n",
              " 'flirt': 792,\n",
              " 'refund': 793,\n",
              " 'sport': 794,\n",
              " 'euro': 795,\n",
              " 'write': 796,\n",
              " 'angri': 797,\n",
              " 'jay': 798,\n",
              " 'rest': 799,\n",
              " 'fix': 800,\n",
              " 'kate': 801,\n",
              " 'marri': 802,\n",
              " 'serious': 803,\n",
              " 'bid': 804,\n",
              " 'norm': 805,\n",
              " 'unlimit': 806,\n",
              " 'hmv': 807,\n",
              " 'flag': 808,\n",
              " 'slow': 809,\n",
              " 'throw': 810,\n",
              " 'cover': 811,\n",
              " 'fact': 812,\n",
              " 'user': 813,\n",
              " 'respond': 814,\n",
              " 'slave': 815,\n",
              " 'tire': 816,\n",
              " 'crave': 817,\n",
              " 'becom': 818,\n",
              " 'reveal': 819,\n",
              " 'sick': 820,\n",
              " 'hurri': 821,\n",
              " 'la': 822,\n",
              " 'march': 823,\n",
              " 'key': 824,\n",
              " 'somewher': 825,\n",
              " 'mark': 826,\n",
              " 'somebodi': 827,\n",
              " 'tht': 828,\n",
              " 'disturb': 829,\n",
              " 'sunshin': 830,\n",
              " 'dvd': 831,\n",
              " 'noida': 832,\n",
              " 'correct': 833,\n",
              " 'hee': 834,\n",
              " 'login': 835,\n",
              " 'quick': 836,\n",
              " 'local': 837,\n",
              " 'tax': 838,\n",
              " 'success': 839,\n",
              " 'digit': 840,\n",
              " 'complimentari': 841,\n",
              " 'hp': 842,\n",
              " 'whole': 843,\n",
              " 'transfer': 844,\n",
              " 'station': 845,\n",
              " 'travel': 846,\n",
              " 'truth': 847,\n",
              " 'gay': 848,\n",
              " 'nah': 849,\n",
              " 'hmmm': 850,\n",
              " 'normal': 851,\n",
              " 'al': 852,\n",
              " 'oper': 853,\n",
              " 'anymor': 854,\n",
              " 'wine': 855,\n",
              " 'ten': 856,\n",
              " 'present': 857,\n",
              " 'laptop': 858,\n",
              " 'xy': 859,\n",
              " 'sms': 860,\n",
              " 'futur': 861,\n",
              " 'fantasi': 862,\n",
              " 'john': 863,\n",
              " 'cheer': 864,\n",
              " 'rpli': 865,\n",
              " 'ago': 866,\n",
              " 'type': 867,\n",
              " 'wc': 868,\n",
              " 'ladi': 869,\n",
              " 'share': 870,\n",
              " 'glad': 871,\n",
              " 'file': 872,\n",
              " 'comin': 873,\n",
              " 'er': 874,\n",
              " 'especi': 875,\n",
              " 'auction': 876,\n",
              " 'ki': 877,\n",
              " 'ntt': 878,\n",
              " 'teas': 879,\n",
              " 'voic': 880,\n",
              " 'facebook': 881,\n",
              " 'custcar': 882,\n",
              " 'oop': 883,\n",
              " 'page': 884,\n",
              " 'monday': 885,\n",
              " 'ni': 886,\n",
              " 'entitl': 887,\n",
              " 'sec': 888,\n",
              " 'ptone': 889,\n",
              " 'daddi': 890,\n",
              " 'spree': 891,\n",
              " 'howev': 892,\n",
              " 'round': 893,\n",
              " 'fat': 894,\n",
              " 'hiya': 895,\n",
              " 'goto': 896,\n",
              " 'tampa': 897,\n",
              " 'cashbal': 898,\n",
              " 'maxim': 899,\n",
              " 'cashin': 900,\n",
              " 'cc': 901,\n",
              " 'unless': 902,\n",
              " 'medic': 903,\n",
              " 'hotel': 904,\n",
              " 'power': 905,\n",
              " 'doin': 906,\n",
              " 'kick': 907,\n",
              " 'felt': 908,\n",
              " 'wednesday': 909,\n",
              " 'pictur': 910,\n",
              " 'onto': 911,\n",
              " 'vodafon': 912,\n",
              " 'tonit': 913,\n",
              " 'vl': 914,\n",
              " 'bluetooth': 915,\n",
              " 'group': 916,\n",
              " 'wear': 917,\n",
              " 'space': 918,\n",
              " 'tuesday': 919,\n",
              " 'il': 920,\n",
              " 'q': 921,\n",
              " 'yep': 922,\n",
              " 'block': 923,\n",
              " 'opinion': 924,\n",
              " 'roommat': 925,\n",
              " 'possess': 926,\n",
              " 'awak': 927,\n",
              " 'instead': 928,\n",
              " 'experi': 929,\n",
              " 'other': 930,\n",
              " 'step': 931,\n",
              " 'airtel': 932,\n",
              " 'arrang': 933,\n",
              " 'holder': 934,\n",
              " 'sim': 935,\n",
              " 'dollar': 936,\n",
              " 'chariti': 937,\n",
              " 'wun': 938,\n",
              " 'wrong': 939,\n",
              " 'bag': 940,\n",
              " 'pleasur': 941,\n",
              " 'bak': 942,\n",
              " 'pass': 943,\n",
              " 'suck': 944,\n",
              " 'admir': 945,\n",
              " 'appreci': 946,\n",
              " 'wast': 947,\n",
              " 'greet': 948,\n",
              " 'joy': 949,\n",
              " 'bold': 950,\n",
              " 'omg': 951,\n",
              " 'mon': 952,\n",
              " 'sam': 953,\n",
              " 'http': 954,\n",
              " 'deep': 955,\n",
              " 'mo': 956,\n",
              " 'weed': 957,\n",
              " 'copi': 958,\n",
              " 'murder': 959,\n",
              " 'depend': 960,\n",
              " 'definit': 961,\n",
              " 'sign': 962,\n",
              " 'alert': 963,\n",
              " 'pray': 964,\n",
              " 'bother': 965,\n",
              " 'excus': 966,\n",
              " 'muz': 967,\n",
              " 'star': 968,\n",
              " 'mrng': 969,\n",
              " 'umma': 970,\n",
              " 'result': 971,\n",
              " 'weak': 972,\n",
              " 'max': 973,\n",
              " 'lift': 974,\n",
              " 'immedi': 975,\n",
              " 'high': 976,\n",
              " 'flight': 977,\n",
              " 'hmm': 978,\n",
              " 'stupid': 979,\n",
              " 'kb': 980,\n",
              " 'attend': 981,\n",
              " 'manag': 982,\n",
              " 'dnt': 983,\n",
              " 'men': 984,\n",
              " 'wed': 985,\n",
              " 'track': 986,\n",
              " 'letter': 987,\n",
              " 'nyt': 988,\n",
              " 'orchard': 989,\n",
              " 'noon': 990,\n",
              " 'inc': 991,\n",
              " 'teach': 992,\n",
              " 'lover': 993,\n",
              " 'previous': 994,\n",
              " 'gettin': 995,\n",
              " 'lazi': 996,\n",
              " 'style': 997,\n",
              " 'reactiv': 998,\n",
              " 'less': 999,\n",
              " ...}"
            ]
          },
          "execution_count": 135,
          "metadata": {},
          "output_type": "execute_result"
        }
      ],
      "source": [
        "tokenizer.word_index"
      ]
    },
    {
      "cell_type": "code",
      "execution_count": null,
      "metadata": {
        "colab": {
          "base_uri": "https://localhost:8080/"
        },
        "id": "YRuC4IYzFlhq",
        "outputId": "6417624b-8495-46d6-a1d5-3b59b490f4c2"
      },
      "outputs": [
        {
          "name": "stdout",
          "output_type": "stream",
          "text": [
            "Total words 6044\n"
          ]
        }
      ],
      "source": [
        "vocab_size = len(tokenizer.word_index) + 1\n",
        "print(\"Total words\", vocab_size)"
      ]
    },
    {
      "cell_type": "code",
      "execution_count": null,
      "metadata": {
        "id": "yKA3OjlWGbNn"
      },
      "outputs": [],
      "source": [
        "X_train = [[1] + [tokenizer.word_index.get(word, 2) for word in sentence.split()] for sentence in X_train]\n",
        "X_test = [[1] + [tokenizer.word_index.get(word, 2) for word in sentence.split()] for sentence in X_test]"
      ]
    },
    {
      "cell_type": "code",
      "execution_count": null,
      "metadata": {
        "id": "Aj1mWxxaGgqE"
      },
      "outputs": [],
      "source": [
        "# Pad sequences in X_train and X_test directly\n",
        "x_train = pad_sequences(X_train, maxlen=max_len)\n",
        "x_test = pad_sequences(X_test, maxlen=max_len)"
      ]
    },
    {
      "cell_type": "code",
      "execution_count": null,
      "metadata": {
        "colab": {
          "base_uri": "https://localhost:8080/"
        },
        "id": "LQiX7l93M5qt",
        "outputId": "1d4c91db-39e4-4dbd-b9e6-7203967f8220"
      },
      "outputs": [
        {
          "data": {
            "text/plain": [
              "array([[   0,    0,    0, ...,  138,   74,  514],\n",
              "       [   0,    0,    0, ...,  232,   44,  114],\n",
              "       [   0,    0,    0, ...,   11,    4,    4],\n",
              "       ...,\n",
              "       [   0,    0,    0, ...,   72, 1523,  652],\n",
              "       [   0,    0,    0, ...,   11,    4,    4],\n",
              "       [   0,    0,    0, ...,   47, 1854,  718]], dtype=int32)"
            ]
          },
          "execution_count": 139,
          "metadata": {},
          "output_type": "execute_result"
        }
      ],
      "source": [
        "x_train"
      ]
    },
    {
      "cell_type": "code",
      "execution_count": null,
      "metadata": {
        "colab": {
          "base_uri": "https://localhost:8080/"
        },
        "id": "2ORtWzM5Gkyo",
        "outputId": "78f43cac-d54f-4357-aeef-be7c566b87d2"
      },
      "outputs": [
        {
          "data": {
            "text/plain": [
              "(7150, 7150, 1788, 1788)"
            ]
          },
          "execution_count": 140,
          "metadata": {},
          "output_type": "execute_result"
        }
      ],
      "source": [
        "len(x_train),len(Y_train),len(x_test),len(Y_test)"
      ]
    },
    {
      "cell_type": "code",
      "execution_count": null,
      "metadata": {
        "colab": {
          "base_uri": "https://localhost:8080/"
        },
        "id": "5nvvyvYDG3EB",
        "outputId": "1d76370f-ebf3-43e7-d5f4-df19ddd3915b"
      },
      "outputs": [
        {
          "name": "stdout",
          "output_type": "stream",
          "text": [
            "[[0. 0. 0. ... 0. 0. 0.]\n",
            " [0. 0. 0. ... 0. 0. 0.]\n",
            " [0. 0. 0. ... 0. 0. 0.]\n",
            " ...\n",
            " [0. 0. 0. ... 0. 0. 0.]\n",
            " [0. 0. 0. ... 0. 0. 0.]\n",
            " [0. 0. 0. ... 0. 0. 0.]]\n",
            "(6044, 79)\n"
          ]
        }
      ],
      "source": [
        "# Build Embedding Layer\n",
        "embedding_matrix = np.zeros((vocab_size, max_len))\n",
        "print(embedding_matrix)\n",
        "for word, i in tokenizer.word_index.items():\n",
        "    if word in w2v_model.wv:\n",
        "        embedding_matrix[i] = w2v_model.wv[word]\n",
        "print(embedding_matrix.shape)"
      ]
    },
    {
      "cell_type": "code",
      "execution_count": null,
      "metadata": {
        "colab": {
          "base_uri": "https://localhost:8080/"
        },
        "id": "8U7bUGHzG5t5",
        "outputId": "b7515ee6-8ac0-48ee-ef72-ed1d11c3ac04"
      },
      "outputs": [
        {
          "data": {
            "text/plain": [
              "array([[0., 0., 0., ..., 0., 0., 0.],\n",
              "       [0., 0., 0., ..., 0., 0., 0.],\n",
              "       [0., 0., 0., ..., 0., 0., 0.],\n",
              "       ...,\n",
              "       [0., 0., 0., ..., 0., 0., 0.],\n",
              "       [0., 0., 0., ..., 0., 0., 0.],\n",
              "       [0., 0., 0., ..., 0., 0., 0.]])"
            ]
          },
          "execution_count": 142,
          "metadata": {},
          "output_type": "execute_result"
        }
      ],
      "source": [
        "embedding_matrix"
      ]
    },
    {
      "cell_type": "code",
      "execution_count": null,
      "metadata": {
        "id": "4rRW0RBvG-Je"
      },
      "outputs": [],
      "source": [
        "# Get all the words in the model\n",
        "word_index = tokenizer.word_index\n",
        "vocab = [word for word, idx in word_index.items()]\n",
        "\n",
        "# Create a file text_classification_vocab.txt\n",
        "with open('ta_w2v_text_classification_vocab.txt', 'w') as f:\n",
        "    for i, word in enumerate(vocab):\n",
        "        f.write(f\"{word} {i}\\n\")\n"
      ]
    },
    {
      "cell_type": "markdown",
      "metadata": {
        "id": "5CQ-b_gFyL3i"
      },
      "source": [
        "- Data for test"
      ]
    },
    {
      "cell_type": "code",
      "execution_count": null,
      "metadata": {
        "id": "v0Xy3o75yN9c"
      },
      "outputs": [],
      "source": [
        "# Load file\n",
        "\n",
        "data_test = pd.read_csv('dataeng_text.csv')\n"
      ]
    },
    {
      "cell_type": "code",
      "execution_count": null,
      "metadata": {
        "colab": {
          "base_uri": "https://localhost:8080/"
        },
        "id": "6iE79rpqyQk0",
        "outputId": "37c21abc-4da1-43ac-869e-e06fd365d441"
      },
      "outputs": [
        {
          "name": "stderr",
          "output_type": "stream",
          "text": [
            "<ipython-input-94-29701191be3c>:24: SettingWithCopyWarning: \n",
            "A value is trying to be set on a copy of a slice from a DataFrame.\n",
            "Try using .loc[row_indexer,col_indexer] = value instead\n",
            "\n",
            "See the caveats in the documentation: https://pandas.pydata.org/pandas-docs/stable/user_guide/indexing.html#returning-a-view-versus-a-copy\n",
            "  df['nltk'] = new_values\n"
          ]
        }
      ],
      "source": [
        "# Copy the 'sms' column to the 'change_sms' column\n",
        "data_test['change_sms'] = data_test['sms'].copy()\n",
        "# Remove leading and trailing whitespaces from the 'change_sms' column\n",
        "data_test['change_sms'] = data_test['change_sms'].str.strip()\n",
        "# Convert all characters in the 'change_sms' column to lowercase\n",
        "data_test['change_sms'] = data_test['change_sms'].str.lower()\n",
        "# Expand contractions\n",
        "data_test['change_sms'] = data_test['change_sms'].apply(lambda x: contractions.fix(x))\n",
        "# Create a new column 'change_sms' by applying the function to 'sms' column\n",
        "data_test['change_sms'] = data_test['change_sms'].apply(lambda x: change_word_eng(x))\n",
        "# Remove punctuation\n",
        "data_test['change_sms'] = data_test['change_sms'].apply(lambda x: re.sub(r'[^\\w\\d\\s]|_\\s*$', ' ', x))\n",
        "# Remove whitespace between terms with single space\n",
        "data_test['change_sms'] = data_test['change_sms'].apply(lambda x: re.sub(r'\\s+', ' ', x))\n",
        "#tokenize the text in a DataFrame using NLTK\n",
        "tokenize(data_test , \"nltk\")\n",
        "# Lemmatize the 'nltk' column using the lemmatizer function\n",
        "data_test['nltk'] = lemmatizer(data_test[['nltk']])\n",
        "# Join the lemmatized tokens back into a single string in each row of the 'nltk' column\n",
        "data_test['nltk'] = data_test['nltk'].apply(' '.join)\n",
        "# Stopwords\n",
        "stop_words = set(stopwords.words('english'))\n",
        "data_test['nltk'] =data_test['nltk'].apply(lambda x: ' '.join(['' if word.lower().strip() in stop_words else word for word in x.split()]))\n",
        "# Stemming\n",
        "ss = SnowballStemmer(\"english\")\n",
        "data_test['nltk'] = data_test['nltk'].apply(lambda x: ' '.join([ss.stem(term) for term in x.split()]))\n",
        "# Delete whitespace\n",
        "data_test['nltk'] = data_test['nltk'].apply(lambda x: ' '.join(word.strip() for word in x.split() if word.strip()))\n",
        "\n"
      ]
    },
    {
      "cell_type": "code",
      "execution_count": null,
      "metadata": {
        "colab": {
          "base_uri": "https://localhost:8080/",
          "height": 363
        },
        "id": "Cdq6XjOrySYF",
        "outputId": "e6cd9eb1-f05a-4dde-8e56-1df258756bdd"
      },
      "outputs": [
        {
          "data": {
            "application/vnd.google.colaboratory.intrinsic+json": {
              "summary": "{\n  \"name\": \"data_test\",\n  \"rows\": 10,\n  \"fields\": [\n    {\n      \"column\": \"Unnamed: 0\",\n      \"properties\": {\n        \"dtype\": \"number\",\n        \"std\": 3,\n        \"min\": 0,\n        \"max\": 9,\n        \"num_unique_values\": 10,\n        \"samples\": [\n          8,\n          1,\n          5\n        ],\n        \"semantic_type\": \"\",\n        \"description\": \"\"\n      }\n    },\n    {\n      \"column\": \"sms\",\n      \"properties\": {\n        \"dtype\": \"string\",\n        \"num_unique_values\": 9,\n        \"samples\": [\n          \"We\\u2019ve detected suspicious activity on your Google account. Follow this link to reset your password: [link].\",\n          \"Since many people eagerly await Memorial Day sales to shop for summer clothing, The Normal Brand invited customers to check out their latest arrivals ahead of the long holiday weekend. Their message came at the perfect time for anyone considering buying a new outfit for the annual barbecues and outdoor gatherings coming up.\",\n          \"You received 3.41 Bitcoin (BTC). To confirm your transaction, visit [link] NOW\"\n        ],\n        \"semantic_type\": \"\",\n        \"description\": \"\"\n      }\n    },\n    {\n      \"column\": \"label\",\n      \"properties\": {\n        \"dtype\": \"number\",\n        \"std\": 0,\n        \"min\": 0,\n        \"max\": 1,\n        \"num_unique_values\": 2,\n        \"samples\": [\n          1,\n          0\n        ],\n        \"semantic_type\": \"\",\n        \"description\": \"\"\n      }\n    },\n    {\n      \"column\": \"change_sms\",\n      \"properties\": {\n        \"dtype\": \"string\",\n        \"num_unique_values\": 9,\n        \"samples\": [\n          \"we have detected suspicious activity on your google account follow this link to reset your password link\",\n          \"since many people eagerly await memorial day sales to shop for summer clothing the normal brand invited customers to check out their latest arrivals ahead of the long holiday weekend their message came at the perfect time for anyone considering buying a new outfit for the annual barbecues and outdoor gatherings coming up\"\n        ],\n        \"semantic_type\": \"\",\n        \"description\": \"\"\n      }\n    },\n    {\n      \"column\": \"nltk\",\n      \"properties\": {\n        \"dtype\": \"string\",\n        \"num_unique_values\": 9,\n        \"samples\": [\n          \"detect suspici activ googl account follow link reset password link\",\n          \"sinc mani peopl eager await memori day sale shop summer cloth normal brand invit custom check late arriv ahead long holiday weekend messag come perfect time anyon consid buy new outfit annual barbecu outdoor gather come\"\n        ],\n        \"semantic_type\": \"\",\n        \"description\": \"\"\n      }\n    }\n  ]\n}",
              "type": "dataframe",
              "variable_name": "data_test"
            },
            "text/html": [
              "\n",
              "  <div id=\"df-1da3ce46-08d1-4237-b583-18b9adc90a18\" class=\"colab-df-container\">\n",
              "    <div>\n",
              "<style scoped>\n",
              "    .dataframe tbody tr th:only-of-type {\n",
              "        vertical-align: middle;\n",
              "    }\n",
              "\n",
              "    .dataframe tbody tr th {\n",
              "        vertical-align: top;\n",
              "    }\n",
              "\n",
              "    .dataframe thead th {\n",
              "        text-align: right;\n",
              "    }\n",
              "</style>\n",
              "<table border=\"1\" class=\"dataframe\">\n",
              "  <thead>\n",
              "    <tr style=\"text-align: right;\">\n",
              "      <th></th>\n",
              "      <th>Unnamed: 0</th>\n",
              "      <th>sms</th>\n",
              "      <th>label</th>\n",
              "      <th>change_sms</th>\n",
              "      <th>nltk</th>\n",
              "    </tr>\n",
              "  </thead>\n",
              "  <tbody>\n",
              "    <tr>\n",
              "      <th>0</th>\n",
              "      <td>0</td>\n",
              "      <td>Beachwaver used their browse and cart abandonm...</td>\n",
              "      <td>0</td>\n",
              "      <td>beachwaver used their browse and cart abandonm...</td>\n",
              "      <td>beachwav use brows cart abandon remind boost e...</td>\n",
              "    </tr>\n",
              "    <tr>\n",
              "      <th>1</th>\n",
              "      <td>1</td>\n",
              "      <td>Since many people eagerly await Memorial Day s...</td>\n",
              "      <td>0</td>\n",
              "      <td>since many people eagerly await memorial day s...</td>\n",
              "      <td>sinc mani peopl eager await memori day sale sh...</td>\n",
              "    </tr>\n",
              "    <tr>\n",
              "      <th>2</th>\n",
              "      <td>2</td>\n",
              "      <td>Purity Coffee gave their audience a special Mo...</td>\n",
              "      <td>0</td>\n",
              "      <td>purity coffee gave their audience a special mo...</td>\n",
              "      <td>puriti coffe give audienc special mother day t...</td>\n",
              "    </tr>\n",
              "    <tr>\n",
              "      <th>3</th>\n",
              "      <td>3</td>\n",
              "      <td>To make the most of increased website traffic ...</td>\n",
              "      <td>0</td>\n",
              "      <td>to make the most of increased website traffic ...</td>\n",
              "      <td>make increas websit traffic around memori day ...</td>\n",
              "    </tr>\n",
              "    <tr>\n",
              "      <th>4</th>\n",
              "      <td>4</td>\n",
              "      <td>Thank you for being a valued customer! As a to...</td>\n",
              "      <td>0</td>\n",
              "      <td>thank you for being a valued customer as a tok...</td>\n",
              "      <td>thank valu custom token appreci offer discount...</td>\n",
              "    </tr>\n",
              "    <tr>\n",
              "      <th>5</th>\n",
              "      <td>5</td>\n",
              "      <td>You received 3.41 Bitcoin (BTC). To confirm yo...</td>\n",
              "      <td>1</td>\n",
              "      <td>you received number number bitcoin btc to conf...</td>\n",
              "      <td>receiv number number bitcoin btc confirm trans...</td>\n",
              "    </tr>\n",
              "    <tr>\n",
              "      <th>6</th>\n",
              "      <td>6</td>\n",
              "      <td>Hi, this is Cynde from HR. We have a couple qu...</td>\n",
              "      <td>1</td>\n",
              "      <td>hi this is cynde from hr we have a couple ques...</td>\n",
              "      <td>hi cynd hr coupl question regard applic pleas ...</td>\n",
              "    </tr>\n",
              "    <tr>\n",
              "      <th>7</th>\n",
              "      <td>7</td>\n",
              "      <td>We’ve detected suspicious activity on your Goo...</td>\n",
              "      <td>1</td>\n",
              "      <td>we have detected suspicious activity on your g...</td>\n",
              "      <td>detect suspici activ googl account follow link...</td>\n",
              "    </tr>\n",
              "    <tr>\n",
              "      <th>8</th>\n",
              "      <td>8</td>\n",
              "      <td>Your niece has been arrested and needs $7,500</td>\n",
              "      <td>1</td>\n",
              "      <td>your niece has been arrested and needs moneysy...</td>\n",
              "      <td>niec arrest need moneysymbol number number</td>\n",
              "    </tr>\n",
              "    <tr>\n",
              "      <th>9</th>\n",
              "      <td>9</td>\n",
              "      <td>Thank you for being a valued customer! As a to...</td>\n",
              "      <td>1</td>\n",
              "      <td>thank you for being a valued customer as a tok...</td>\n",
              "      <td>thank valu custom token appreci offer discount...</td>\n",
              "    </tr>\n",
              "  </tbody>\n",
              "</table>\n",
              "</div>\n",
              "    <div class=\"colab-df-buttons\">\n",
              "\n",
              "  <div class=\"colab-df-container\">\n",
              "    <button class=\"colab-df-convert\" onclick=\"convertToInteractive('df-1da3ce46-08d1-4237-b583-18b9adc90a18')\"\n",
              "            title=\"Convert this dataframe to an interactive table.\"\n",
              "            style=\"display:none;\">\n",
              "\n",
              "  <svg xmlns=\"http://www.w3.org/2000/svg\" height=\"24px\" viewBox=\"0 -960 960 960\">\n",
              "    <path d=\"M120-120v-720h720v720H120Zm60-500h600v-160H180v160Zm220 220h160v-160H400v160Zm0 220h160v-160H400v160ZM180-400h160v-160H180v160Zm440 0h160v-160H620v160ZM180-180h160v-160H180v160Zm440 0h160v-160H620v160Z\"/>\n",
              "  </svg>\n",
              "    </button>\n",
              "\n",
              "  <style>\n",
              "    .colab-df-container {\n",
              "      display:flex;\n",
              "      gap: 12px;\n",
              "    }\n",
              "\n",
              "    .colab-df-convert {\n",
              "      background-color: #E8F0FE;\n",
              "      border: none;\n",
              "      border-radius: 50%;\n",
              "      cursor: pointer;\n",
              "      display: none;\n",
              "      fill: #1967D2;\n",
              "      height: 32px;\n",
              "      padding: 0 0 0 0;\n",
              "      width: 32px;\n",
              "    }\n",
              "\n",
              "    .colab-df-convert:hover {\n",
              "      background-color: #E2EBFA;\n",
              "      box-shadow: 0px 1px 2px rgba(60, 64, 67, 0.3), 0px 1px 3px 1px rgba(60, 64, 67, 0.15);\n",
              "      fill: #174EA6;\n",
              "    }\n",
              "\n",
              "    .colab-df-buttons div {\n",
              "      margin-bottom: 4px;\n",
              "    }\n",
              "\n",
              "    [theme=dark] .colab-df-convert {\n",
              "      background-color: #3B4455;\n",
              "      fill: #D2E3FC;\n",
              "    }\n",
              "\n",
              "    [theme=dark] .colab-df-convert:hover {\n",
              "      background-color: #434B5C;\n",
              "      box-shadow: 0px 1px 3px 1px rgba(0, 0, 0, 0.15);\n",
              "      filter: drop-shadow(0px 1px 2px rgba(0, 0, 0, 0.3));\n",
              "      fill: #FFFFFF;\n",
              "    }\n",
              "  </style>\n",
              "\n",
              "    <script>\n",
              "      const buttonEl =\n",
              "        document.querySelector('#df-1da3ce46-08d1-4237-b583-18b9adc90a18 button.colab-df-convert');\n",
              "      buttonEl.style.display =\n",
              "        google.colab.kernel.accessAllowed ? 'block' : 'none';\n",
              "\n",
              "      async function convertToInteractive(key) {\n",
              "        const element = document.querySelector('#df-1da3ce46-08d1-4237-b583-18b9adc90a18');\n",
              "        const dataTable =\n",
              "          await google.colab.kernel.invokeFunction('convertToInteractive',\n",
              "                                                    [key], {});\n",
              "        if (!dataTable) return;\n",
              "\n",
              "        const docLinkHtml = 'Like what you see? Visit the ' +\n",
              "          '<a target=\"_blank\" href=https://colab.research.google.com/notebooks/data_table.ipynb>data table notebook</a>'\n",
              "          + ' to learn more about interactive tables.';\n",
              "        element.innerHTML = '';\n",
              "        dataTable['output_type'] = 'display_data';\n",
              "        await google.colab.output.renderOutput(dataTable, element);\n",
              "        const docLink = document.createElement('div');\n",
              "        docLink.innerHTML = docLinkHtml;\n",
              "        element.appendChild(docLink);\n",
              "      }\n",
              "    </script>\n",
              "  </div>\n",
              "\n",
              "\n",
              "<div id=\"df-648756ab-e6b2-4e2b-81a6-46025865cd41\">\n",
              "  <button class=\"colab-df-quickchart\" onclick=\"quickchart('df-648756ab-e6b2-4e2b-81a6-46025865cd41')\"\n",
              "            title=\"Suggest charts\"\n",
              "            style=\"display:none;\">\n",
              "\n",
              "<svg xmlns=\"http://www.w3.org/2000/svg\" height=\"24px\"viewBox=\"0 0 24 24\"\n",
              "     width=\"24px\">\n",
              "    <g>\n",
              "        <path d=\"M19 3H5c-1.1 0-2 .9-2 2v14c0 1.1.9 2 2 2h14c1.1 0 2-.9 2-2V5c0-1.1-.9-2-2-2zM9 17H7v-7h2v7zm4 0h-2V7h2v10zm4 0h-2v-4h2v4z\"/>\n",
              "    </g>\n",
              "</svg>\n",
              "  </button>\n",
              "\n",
              "<style>\n",
              "  .colab-df-quickchart {\n",
              "      --bg-color: #E8F0FE;\n",
              "      --fill-color: #1967D2;\n",
              "      --hover-bg-color: #E2EBFA;\n",
              "      --hover-fill-color: #174EA6;\n",
              "      --disabled-fill-color: #AAA;\n",
              "      --disabled-bg-color: #DDD;\n",
              "  }\n",
              "\n",
              "  [theme=dark] .colab-df-quickchart {\n",
              "      --bg-color: #3B4455;\n",
              "      --fill-color: #D2E3FC;\n",
              "      --hover-bg-color: #434B5C;\n",
              "      --hover-fill-color: #FFFFFF;\n",
              "      --disabled-bg-color: #3B4455;\n",
              "      --disabled-fill-color: #666;\n",
              "  }\n",
              "\n",
              "  .colab-df-quickchart {\n",
              "    background-color: var(--bg-color);\n",
              "    border: none;\n",
              "    border-radius: 50%;\n",
              "    cursor: pointer;\n",
              "    display: none;\n",
              "    fill: var(--fill-color);\n",
              "    height: 32px;\n",
              "    padding: 0;\n",
              "    width: 32px;\n",
              "  }\n",
              "\n",
              "  .colab-df-quickchart:hover {\n",
              "    background-color: var(--hover-bg-color);\n",
              "    box-shadow: 0 1px 2px rgba(60, 64, 67, 0.3), 0 1px 3px 1px rgba(60, 64, 67, 0.15);\n",
              "    fill: var(--button-hover-fill-color);\n",
              "  }\n",
              "\n",
              "  .colab-df-quickchart-complete:disabled,\n",
              "  .colab-df-quickchart-complete:disabled:hover {\n",
              "    background-color: var(--disabled-bg-color);\n",
              "    fill: var(--disabled-fill-color);\n",
              "    box-shadow: none;\n",
              "  }\n",
              "\n",
              "  .colab-df-spinner {\n",
              "    border: 2px solid var(--fill-color);\n",
              "    border-color: transparent;\n",
              "    border-bottom-color: var(--fill-color);\n",
              "    animation:\n",
              "      spin 1s steps(1) infinite;\n",
              "  }\n",
              "\n",
              "  @keyframes spin {\n",
              "    0% {\n",
              "      border-color: transparent;\n",
              "      border-bottom-color: var(--fill-color);\n",
              "      border-left-color: var(--fill-color);\n",
              "    }\n",
              "    20% {\n",
              "      border-color: transparent;\n",
              "      border-left-color: var(--fill-color);\n",
              "      border-top-color: var(--fill-color);\n",
              "    }\n",
              "    30% {\n",
              "      border-color: transparent;\n",
              "      border-left-color: var(--fill-color);\n",
              "      border-top-color: var(--fill-color);\n",
              "      border-right-color: var(--fill-color);\n",
              "    }\n",
              "    40% {\n",
              "      border-color: transparent;\n",
              "      border-right-color: var(--fill-color);\n",
              "      border-top-color: var(--fill-color);\n",
              "    }\n",
              "    60% {\n",
              "      border-color: transparent;\n",
              "      border-right-color: var(--fill-color);\n",
              "    }\n",
              "    80% {\n",
              "      border-color: transparent;\n",
              "      border-right-color: var(--fill-color);\n",
              "      border-bottom-color: var(--fill-color);\n",
              "    }\n",
              "    90% {\n",
              "      border-color: transparent;\n",
              "      border-bottom-color: var(--fill-color);\n",
              "    }\n",
              "  }\n",
              "</style>\n",
              "\n",
              "  <script>\n",
              "    async function quickchart(key) {\n",
              "      const quickchartButtonEl =\n",
              "        document.querySelector('#' + key + ' button');\n",
              "      quickchartButtonEl.disabled = true;  // To prevent multiple clicks.\n",
              "      quickchartButtonEl.classList.add('colab-df-spinner');\n",
              "      try {\n",
              "        const charts = await google.colab.kernel.invokeFunction(\n",
              "            'suggestCharts', [key], {});\n",
              "      } catch (error) {\n",
              "        console.error('Error during call to suggestCharts:', error);\n",
              "      }\n",
              "      quickchartButtonEl.classList.remove('colab-df-spinner');\n",
              "      quickchartButtonEl.classList.add('colab-df-quickchart-complete');\n",
              "    }\n",
              "    (() => {\n",
              "      let quickchartButtonEl =\n",
              "        document.querySelector('#df-648756ab-e6b2-4e2b-81a6-46025865cd41 button');\n",
              "      quickchartButtonEl.style.display =\n",
              "        google.colab.kernel.accessAllowed ? 'block' : 'none';\n",
              "    })();\n",
              "  </script>\n",
              "</div>\n",
              "    </div>\n",
              "  </div>\n"
            ],
            "text/plain": [
              "   Unnamed: 0                                                sms  label  \\\n",
              "0           0  Beachwaver used their browse and cart abandonm...      0   \n",
              "1           1  Since many people eagerly await Memorial Day s...      0   \n",
              "2           2  Purity Coffee gave their audience a special Mo...      0   \n",
              "3           3  To make the most of increased website traffic ...      0   \n",
              "4           4  Thank you for being a valued customer! As a to...      0   \n",
              "5           5  You received 3.41 Bitcoin (BTC). To confirm yo...      1   \n",
              "6           6  Hi, this is Cynde from HR. We have a couple qu...      1   \n",
              "7           7  We’ve detected suspicious activity on your Goo...      1   \n",
              "8           8      Your niece has been arrested and needs $7,500      1   \n",
              "9           9  Thank you for being a valued customer! As a to...      1   \n",
              "\n",
              "                                          change_sms  \\\n",
              "0  beachwaver used their browse and cart abandonm...   \n",
              "1  since many people eagerly await memorial day s...   \n",
              "2  purity coffee gave their audience a special mo...   \n",
              "3  to make the most of increased website traffic ...   \n",
              "4  thank you for being a valued customer as a tok...   \n",
              "5  you received number number bitcoin btc to conf...   \n",
              "6  hi this is cynde from hr we have a couple ques...   \n",
              "7  we have detected suspicious activity on your g...   \n",
              "8  your niece has been arrested and needs moneysy...   \n",
              "9  thank you for being a valued customer as a tok...   \n",
              "\n",
              "                                                nltk  \n",
              "0  beachwav use brows cart abandon remind boost e...  \n",
              "1  sinc mani peopl eager await memori day sale sh...  \n",
              "2  puriti coffe give audienc special mother day t...  \n",
              "3  make increas websit traffic around memori day ...  \n",
              "4  thank valu custom token appreci offer discount...  \n",
              "5  receiv number number bitcoin btc confirm trans...  \n",
              "6  hi cynd hr coupl question regard applic pleas ...  \n",
              "7  detect suspici activ googl account follow link...  \n",
              "8         niec arrest need moneysymbol number number  \n",
              "9  thank valu custom token appreci offer discount...  "
            ]
          },
          "execution_count": 146,
          "metadata": {},
          "output_type": "execute_result"
        }
      ],
      "source": [
        "data_test"
      ]
    },
    {
      "cell_type": "code",
      "execution_count": null,
      "metadata": {
        "id": "lVuoacXEyWhM"
      },
      "outputs": [],
      "source": [
        "# Convert text data in X_train to sequences of integers and pad them to maxlen\n",
        "datatest = [[1] + [tokenizer.word_index.get(word, 2) for word in sentence.split()] for sentence in data_test['nltk']]\n",
        "datatest = pad_sequences(datatest , maxlen=max_len)\n",
        "labeltest = data_test['label'].values"
      ]
    },
    {
      "cell_type": "markdown",
      "metadata": {
        "id": "o6ZoajZ9yYvE"
      },
      "source": [
        "- Early stopping of model"
      ]
    },
    {
      "cell_type": "code",
      "execution_count": null,
      "metadata": {
        "id": "MWX2l7M1fVFk"
      },
      "outputs": [],
      "source": [
        "# Train the model with early stopping\n",
        "callbacks = [\n",
        "    EarlyStopping(monitor='val_loss', patience=3,verbose=1,restore_best_weights=True, )\n",
        "]\n"
      ]
    },
    {
      "cell_type": "markdown",
      "metadata": {
        "id": "2MxDsMcb4hH_"
      },
      "source": [
        "# LSTM"
      ]
    },
    {
      "cell_type": "markdown",
      "metadata": {
        "id": "lAlB96hrLPVc"
      },
      "source": [
        "- Model Training"
      ]
    },
    {
      "cell_type": "code",
      "execution_count": null,
      "metadata": {
        "colab": {
          "base_uri": "https://localhost:8080/"
        },
        "id": "1vaaUVtJ7-IC",
        "outputId": "69a4d2aa-1c01-4fa8-fb1e-63b0e27c9a01"
      },
      "outputs": [
        {
          "name": "stdout",
          "output_type": "stream",
          "text": [
            "Model: \"sequential\"\n",
            "_________________________________________________________________\n",
            " Layer (type)                Output Shape              Param #   \n",
            "=================================================================\n",
            " embedding (Embedding)       (None, 79, 79)            477476    \n",
            "                                                                 \n",
            " lstm (LSTM)                 (None, 79, 32)            14336     \n",
            "                                                                 \n",
            " dropout (Dropout)           (None, 79, 32)            0         \n",
            "                                                                 \n",
            " lstm_1 (LSTM)               (None, 32)                8320      \n",
            "                                                                 \n",
            " dropout_1 (Dropout)         (None, 32)                0         \n",
            "                                                                 \n",
            " dense (Dense)               (None, 32)                1056      \n",
            "                                                                 \n",
            " dropout_2 (Dropout)         (None, 32)                0         \n",
            "                                                                 \n",
            " dense_1 (Dense)             (None, 1)                 33        \n",
            "                                                                 \n",
            "=================================================================\n",
            "Total params: 501221 (1.91 MB)\n",
            "Trainable params: 23745 (92.75 KB)\n",
            "Non-trainable params: 477476 (1.82 MB)\n",
            "_________________________________________________________________\n"
          ]
        }
      ],
      "source": [
        "lstm_w2v = Sequential()\n",
        "lstm_w2v.add(Embedding(input_dim=vocab_size, output_dim=embedding_dim, input_length=max_len, weights=[embedding_matrix], trainable=False))\n",
        "lstm_w2v.add(LSTM(32, return_sequences=True))\n",
        "lstm_w2v.add(Dropout(0.5))\n",
        "lstm_w2v.add(LSTM(32))\n",
        "lstm_w2v.add(Dropout(0.5))\n",
        "lstm_w2v.add(Dense(32, activation='relu'))\n",
        "lstm_w2v.add(Dropout(0.5))\n",
        "lstm_w2v.add(Dense(1, activation='sigmoid'))\n",
        "\n",
        "lstm_w2v.compile(optimizer='adam', loss='binary_crossentropy', metrics=['acc'])\n",
        "lstm_w2v.summary()\n"
      ]
    },
    {
      "cell_type": "code",
      "execution_count": null,
      "metadata": {
        "colab": {
          "base_uri": "https://localhost:8080/"
        },
        "id": "b3SukBFk9Ox0",
        "outputId": "609d9ab4-ffb1-4398-824d-9db3e1cb77e6"
      },
      "outputs": [
        {
          "name": "stdout",
          "output_type": "stream",
          "text": [
            "Epoch 1/20\n",
            "224/224 [==============================] - 80s 254ms/step - loss: 0.1323 - acc: 0.9713 - val_loss: 0.0434 - val_acc: 0.9871\n",
            "Epoch 2/20\n",
            "224/224 [==============================] - 46s 204ms/step - loss: 0.0533 - acc: 0.9859 - val_loss: 0.0469 - val_acc: 0.9871\n",
            "Epoch 3/20\n",
            "224/224 [==============================] - 32s 142ms/step - loss: 0.0492 - acc: 0.9867 - val_loss: 0.0426 - val_acc: 0.9860\n",
            "Epoch 4/20\n",
            "224/224 [==============================] - 29s 132ms/step - loss: 0.0461 - acc: 0.9878 - val_loss: 0.0389 - val_acc: 0.9860\n",
            "Epoch 5/20\n",
            "224/224 [==============================] - 30s 133ms/step - loss: 0.0420 - acc: 0.9890 - val_loss: 0.0417 - val_acc: 0.9877\n",
            "Epoch 6/20\n",
            "224/224 [==============================] - 31s 138ms/step - loss: 0.0419 - acc: 0.9873 - val_loss: 0.0323 - val_acc: 0.9888\n",
            "Epoch 7/20\n",
            "224/224 [==============================] - 28s 127ms/step - loss: 0.0356 - acc: 0.9899 - val_loss: 0.0338 - val_acc: 0.9894\n",
            "Epoch 8/20\n",
            "224/224 [==============================] - 31s 140ms/step - loss: 0.0345 - acc: 0.9909 - val_loss: 0.0346 - val_acc: 0.9871\n",
            "Epoch 9/20\n",
            "224/224 [==============================] - ETA: 0s - loss: 0.0336 - acc: 0.9902Restoring model weights from the end of the best epoch: 6.\n",
            "224/224 [==============================] - 31s 136ms/step - loss: 0.0336 - acc: 0.9902 - val_loss: 0.0360 - val_acc: 0.9877\n",
            "Epoch 9: early stopping\n"
          ]
        }
      ],
      "source": [
        "# Train the model\n",
        "history_lstm_w2v = lstm_w2v.fit(x_train, Y_train, epochs=20, batch_size=32, validation_data=(x_test, Y_test), callbacks=callbacks)"
      ]
    },
    {
      "cell_type": "markdown",
      "metadata": {
        "id": "w-tuNWxTLb-E"
      },
      "source": [
        "- Model Evaluation"
      ]
    },
    {
      "cell_type": "code",
      "execution_count": null,
      "metadata": {
        "colab": {
          "base_uri": "https://localhost:8080/"
        },
        "id": "-jys0FTZy7T1",
        "outputId": "4d1a2f31-5896-4274-e962-5778ce7983e8"
      },
      "outputs": [
        {
          "name": "stdout",
          "output_type": "stream",
          "text": [
            "56/56 [==============================] - 1s 22ms/step - loss: 0.0323 - acc: 0.9888\n",
            "Test accuracy: 98.88%\n",
            "Test loss: 3.23%\n"
          ]
        }
      ],
      "source": [
        "# Evaluate the model on the test set\n",
        "test_loss, test_acc = lstm_w2v.evaluate(x_test, Y_test)\n",
        "print(f'Test accuracy: {test_acc * 100:.2f}%')\n",
        "print(f'Test loss: {test_loss * 100:.2f}%')"
      ]
    },
    {
      "cell_type": "code",
      "execution_count": null,
      "metadata": {
        "colab": {
          "base_uri": "https://localhost:8080/"
        },
        "id": "lGhb4V-Py-Ih",
        "outputId": "1b07f2f1-403b-4c77-b35b-0f6d5cd6f356"
      },
      "outputs": [
        {
          "name": "stdout",
          "output_type": "stream",
          "text": [
            "56/56 [==============================] - 3s 46ms/step - loss: 0.0323 - acc: 0.9888\n",
            "56/56 [==============================] - 3s 44ms/step\n",
            "Confusion Matrix:\n",
            "[[911   9]\n",
            " [ 11 857]]\n",
            "Classification Report:\n",
            "              precision    recall  f1-score   support\n",
            "\n",
            "           0       0.99      0.99      0.99       920\n",
            "           1       0.99      0.99      0.99       868\n",
            "\n",
            "    accuracy                           0.99      1788\n",
            "   macro avg       0.99      0.99      0.99      1788\n",
            "weighted avg       0.99      0.99      0.99      1788\n",
            "\n"
          ]
        }
      ],
      "source": [
        "from sklearn.metrics import confusion_matrix, classification_report\n",
        "# Evaluate the LSTM model on the test data\n",
        "lstm_w2v.evaluate(x_test, Y_test)\n",
        "\n",
        "y_pred1 = lstm_w2v.predict(x_test)\n",
        "y_pred_binary1 = (y_pred1 > 0.5).astype(int)\n",
        "\n",
        "\n",
        "conf_matrix1 = confusion_matrix(Y_test, y_pred_binary1)\n",
        "print(\"Confusion Matrix:\")\n",
        "print(conf_matrix1)\n",
        "\n",
        "classification_rep1 = classification_report(Y_test, y_pred_binary1)\n",
        "print(\"Classification Report:\")\n",
        "print(classification_rep1)"
      ]
    },
    {
      "cell_type": "code",
      "execution_count": null,
      "metadata": {
        "colab": {
          "base_uri": "https://localhost:8080/",
          "height": 445
        },
        "id": "SSWEeaxezBYD",
        "outputId": "02e27983-a954-41bc-c8e9-927e9118dfe7"
      },
      "outputs": [
        {
          "name": "stdout",
          "output_type": "stream",
          "text": [
            "Last train accuracy: 0.9902098178863525\n",
            "Last validation accuracy: 0.9876957535743713\n"
          ]
        },
        {
          "data": {
            "image/png": "[encoded data removed]",
            "text/plain": [
              "<Figure size 1500x400 with 2 Axes>"
            ]
          },
          "metadata": {},
          "output_type": "display_data"
        }
      ],
      "source": [
        "#show graph loss and accuracy\n",
        "fn.show_result(history_lstm_w2v)"
      ]
    },
    {
      "cell_type": "code",
      "execution_count": null,
      "metadata": {
        "colab": {
          "base_uri": "https://localhost:8080/"
        },
        "id": "OODS0bbnzFgw",
        "outputId": "64233288-7cd8-40d1-fdf3-50f718482451"
      },
      "outputs": [
        {
          "data": {
            "text/plain": [
              "<KerasTensor: shape=(None, 79) dtype=float32 (created by layer 'embedding_input')>"
            ]
          },
          "execution_count": 154,
          "metadata": {},
          "output_type": "execute_result"
        }
      ],
      "source": [
        "lstm_w2v.inputs[0]"
      ]
    },
    {
      "cell_type": "code",
      "execution_count": null,
      "metadata": {
        "colab": {
          "base_uri": "https://localhost:8080/"
        },
        "id": "wbH88Y-czHGO",
        "outputId": "6cff29e6-ab9c-47c2-be47-df854163019a"
      },
      "outputs": [
        {
          "data": {
            "text/plain": [
              "<KerasTensor: shape=(None, 1) dtype=float32 (created by layer 'dense_1')>"
            ]
          },
          "execution_count": 155,
          "metadata": {},
          "output_type": "execute_result"
        }
      ],
      "source": [
        "lstm_w2v.outputs[0]"
      ]
    },
    {
      "cell_type": "markdown",
      "metadata": {
        "id": "0nSEO6aBLj4H"
      },
      "source": [
        "- Convert tflite model"
      ]
    },
    {
      "cell_type": "code",
      "execution_count": null,
      "metadata": {
        "id": "kvHy_kAtzIwE"
      },
      "outputs": [],
      "source": [
        "run_model = tf.function(lambda x: lstm_w2v(x))\n",
        "# This is important, let's fix the input size.\n",
        "BATCH_SIZE = 1\n",
        "STEPS =max_len\n",
        "\n",
        "concrete_func = run_model.get_concrete_function(\n",
        "    tf.TensorSpec([BATCH_SIZE,STEPS], lstm_w2v.inputs[0].dtype))\n",
        "\n",
        "\n",
        "# model directory.\n",
        "MODEL_DIR = \"keras_lstm\"\n",
        "lstm_w2v.save(MODEL_DIR, save_format=\"tf\", signatures=concrete_func)\n",
        "\n",
        "converter = tf.lite.TFLiteConverter.from_saved_model(MODEL_DIR)\n",
        "tflite_model = converter.convert()\n",
        "# Save the TensorFlow Lite model to a file\n",
        "file = open('ta_lstm_w2v.tflite', 'wb')\n",
        "file.write(tflite_model)\n",
        "file.close()\n",
        "\n"
      ]
    },
    {
      "cell_type": "code",
      "execution_count": null,
      "metadata": {
        "colab": {
          "base_uri": "https://localhost:8080/"
        },
        "id": "k3MLJZr_0RIW",
        "outputId": "c81058de-b08f-4371-ee32-393076d8faf8"
      },
      "outputs": [
        {
          "name": "stdout",
          "output_type": "stream",
          "text": [
            "Input details: [{'name': 'serving_default_x:0', 'index': 0, 'shape': array([ 1, 79], dtype=int32), 'shape_signature': array([ 1, 79], dtype=int32), 'dtype': <class 'numpy.float32'>, 'quantization': (0.0, 0), 'quantization_parameters': {'scales': array([], dtype=float32), 'zero_points': array([], dtype=int32), 'quantized_dimension': 0}, 'sparsity_parameters': {}}]\n",
            "Output details: [{'name': 'StatefulPartitionedCall:0', 'index': 44, 'shape': array([1, 1], dtype=int32), 'shape_signature': array([1, 1], dtype=int32), 'dtype': <class 'numpy.float32'>, 'quantization': (0.0, 0), 'quantization_parameters': {'scales': array([], dtype=float32), 'zero_points': array([], dtype=int32), 'quantized_dimension': 0}, 'sparsity_parameters': {}}]\n"
          ]
        }
      ],
      "source": [
        "# Load the TensorFlow Lite model\n",
        "interpreter = tf.lite.Interpreter(model_path='ta_lstm_w2v.tflite')\n",
        "interpreter.allocate_tensors()\n",
        "\n",
        "# Get input and output details\n",
        "input_details = interpreter.get_input_details()\n",
        "output_details = interpreter.get_output_details()\n",
        "\n",
        "print(\"Input details:\", input_details)\n",
        "print(\"Output details:\", output_details)"
      ]
    },
    {
      "cell_type": "markdown",
      "metadata": {
        "id": "JwN2LJSx0YHr"
      },
      "source": [
        "- Check the saved Tflite model to see if it works efficiently"
      ]
    },
    {
      "cell_type": "code",
      "execution_count": null,
      "metadata": {
        "colab": {
          "base_uri": "https://localhost:8080/"
        },
        "id": "wInQyju20cOF",
        "outputId": "e5961ad9-e5c8-47c2-ef01-b4c6502935ce"
      },
      "outputs": [
        {
          "name": "stdout",
          "output_type": "stream",
          "text": [
            "Accuracy : 0.5\n"
          ]
        }
      ],
      "source": [
        "# Load the TensorFlow Lite model\n",
        "interpreter = tf.lite.Interpreter(model_path='ta_lstm_w2v.tflite')\n",
        "interpreter.allocate_tensors()\n",
        "\n",
        "# Get input and output tensors\n",
        "input_details = interpreter.get_input_details()\n",
        "output_details = interpreter.get_output_details()\n",
        "\n",
        "\n",
        "from sklearn.metrics import accuracy_score\n",
        "\n",
        "# Initialize an empty list to store the predictions\n",
        "predictions = []\n",
        "\n",
        "# Iterate over each sample in the test dataset\n",
        "for i in range(len(datatest)):\n",
        "    # Get the input sequence for the current sample and convert it to FLOAT32\n",
        "    input_sequence_float32 = datatest[i].reshape(1, -1).astype(np.float32)\n",
        "\n",
        "    # Perform inference\n",
        "    interpreter.set_tensor(input_details[0]['index'], input_sequence_float32)\n",
        "    interpreter.invoke()\n",
        "\n",
        "    # Get the output\n",
        "    output_data = interpreter.get_tensor(output_details[0]['index'])\n",
        "\n",
        "    # Convert output to binary prediction\n",
        "    binary_prediction = (output_data > 0.5).astype(int)\n",
        "\n",
        "    # Append the prediction to the list\n",
        "    predictions.append(binary_prediction[0])\n",
        "\n",
        "# accuracy for test data\n",
        "accuracy1 = accuracy_score(labeltest, predictions)\n",
        "\n",
        "# Print the accuracy for test data\n",
        "print(\"Accuracy :\", accuracy1)\n"
      ]
    },
    {
      "cell_type": "code",
      "execution_count": null,
      "metadata": {
        "colab": {
          "base_uri": "https://localhost:8080/"
        },
        "id": "_aey-MEs0kBJ",
        "outputId": "04901136-f471-4e08-ffd9-be3274f522aa"
      },
      "outputs": [
        {
          "name": "stdout",
          "output_type": "stream",
          "text": [
            "Text: beachwav use brows cart abandon remind boost engag revenu memori day sale strateg updat messag highlight final day get number entir site simpl yet effect chang emphas limitedtim natur offer creat great sens urgenc custom shop immedi take advantag deal expir\n",
            "True Label: 0\n",
            "Predicted Label: [1]\n",
            "\n",
            "Text: sinc mani peopl eager await memori day sale shop summer cloth normal brand invit custom check late arriv ahead long holiday weekend messag come perfect time anyon consid buy new outfit annual barbecu outdoor gather come\n",
            "True Label: 0\n",
            "Predicted Label: [1]\n",
            "\n",
            "Text: puriti coffe give audienc special mother day treat number sitewid plus free ship brand first announc sale sm earli may ensur peopl plenti time order continu promot midnight mother day send mix email sms remind send throughout sale period keep engag convers high\n",
            "True Label: 0\n",
            "Predicted Label: [0]\n",
            "\n",
            "Text: make increas websit traffic around memori day dw home launch custom signup unit teas upcom offer captur new subscrib incentiv optin promis alert sm audienc first deal drop also creat special welcom journey new subscrib confirm earli access secur\n",
            "True Label: 0\n",
            "Predicted Label: [1]\n",
            "\n",
            "Text: thank valu custom token appreci offer discountoff visit store locat use code promo code onlin websit appreci loyalti\n",
            "True Label: 0\n",
            "Predicted Label: [1]\n",
            "\n",
            "Text: receiv number number bitcoin btc confirm transact visit link\n",
            "True Label: 1\n",
            "Predicted Label: [1]\n",
            "\n",
            "Text: hi cynd hr coupl question regard applic pleas call number schedul interview\n",
            "True Label: 1\n",
            "Predicted Label: [1]\n",
            "\n",
            "Text: detect suspici activ googl account follow link reset password link\n",
            "True Label: 1\n",
            "Predicted Label: [1]\n",
            "\n",
            "Text: niec arrest need moneysymbol number number\n",
            "True Label: 1\n",
            "Predicted Label: [0]\n",
            "\n",
            "Text: thank valu custom token appreci offer discountoff visit store locat use code promo code onlin websit appreci loyalti\n",
            "True Label: 1\n",
            "Predicted Label: [1]\n",
            "\n"
          ]
        }
      ],
      "source": [
        "# Display the predictions for each text\n",
        "for i in range(len(data_test)):\n",
        "    print(\"Text:\", data_test['nltk'][i])\n",
        "    print(\"True Label:\", labeltest[i])\n",
        "    print(\"Predicted Label:\", predictions[i])\n",
        "    print()\n"
      ]
    },
    {
      "cell_type": "markdown",
      "metadata": {
        "id": "GfDrJOYUKymf"
      },
      "source": [
        "# RNN\n"
      ]
    },
    {
      "cell_type": "markdown",
      "metadata": {
        "id": "B7KoVwdFLwHr"
      },
      "source": [
        "- Model Training"
      ]
    },
    {
      "cell_type": "code",
      "execution_count": null,
      "metadata": {
        "colab": {
          "base_uri": "https://localhost:8080/"
        },
        "id": "aDcO2bCLzZRA",
        "outputId": "d060c519-be5d-4446-e55d-5cfbc1fda4be"
      },
      "outputs": [
        {
          "name": "stdout",
          "output_type": "stream",
          "text": [
            "Model: \"sequential_1\"\n",
            "_________________________________________________________________\n",
            " Layer (type)                Output Shape              Param #   \n",
            "=================================================================\n",
            " embedding_1 (Embedding)     (None, 79, 79)            477476    \n",
            "                                                                 \n",
            " simple_rnn (SimpleRNN)      (None, 79, 32)            3584      \n",
            "                                                                 \n",
            " dropout_3 (Dropout)         (None, 79, 32)            0         \n",
            "                                                                 \n",
            " simple_rnn_1 (SimpleRNN)    (None, 32)                2080      \n",
            "                                                                 \n",
            " dropout_4 (Dropout)         (None, 32)                0         \n",
            "                                                                 \n",
            " dense_2 (Dense)             (None, 32)                1056      \n",
            "                                                                 \n",
            " dropout_5 (Dropout)         (None, 32)                0         \n",
            "                                                                 \n",
            " dense_3 (Dense)             (None, 1)                 33        \n",
            "                                                                 \n",
            "=================================================================\n",
            "Total params: 484229 (1.85 MB)\n",
            "Trainable params: 6753 (26.38 KB)\n",
            "Non-trainable params: 477476 (1.82 MB)\n",
            "_________________________________________________________________\n"
          ]
        }
      ],
      "source": [
        "rnn_w2v = Sequential()\n",
        "rnn_w2v.add(Embedding(input_dim=vocab_size, output_dim=embedding_dim, input_length=max_len, weights=[embedding_matrix], trainable=False))\n",
        "rnn_w2v.add(SimpleRNN(32, return_sequences=True))\n",
        "rnn_w2v.add(Dropout(0.5))\n",
        "rnn_w2v.add(SimpleRNN(32))\n",
        "rnn_w2v.add(Dropout(0.5))\n",
        "rnn_w2v.add(Dense(32, activation='relu'))\n",
        "rnn_w2v.add(Dropout(0.5))\n",
        "rnn_w2v.add(Dense(units=1, activation='sigmoid'))\n",
        "rnn_w2v.compile(optimizer='adam', loss='binary_crossentropy', metrics=['acc'])\n",
        "rnn_w2v.summary()\n"
      ]
    },
    {
      "cell_type": "code",
      "execution_count": null,
      "metadata": {
        "colab": {
          "base_uri": "https://localhost:8080/"
        },
        "id": "83GQWArjzlOC",
        "outputId": "c900278f-6ff1-471a-a598-7815b56936f5"
      },
      "outputs": [
        {
          "name": "stdout",
          "output_type": "stream",
          "text": [
            "Epoch 1/20\n",
            "224/224 [==============================] - 13s 41ms/step - loss: 0.1953 - acc: 0.9253 - val_loss: 0.0727 - val_acc: 0.9821\n",
            "Epoch 2/20\n",
            "224/224 [==============================] - 11s 47ms/step - loss: 0.0820 - acc: 0.9820 - val_loss: 0.0615 - val_acc: 0.9866\n",
            "Epoch 3/20\n",
            "224/224 [==============================] - 10s 45ms/step - loss: 0.0626 - acc: 0.9852 - val_loss: 0.0549 - val_acc: 0.9871\n",
            "Epoch 4/20\n",
            "224/224 [==============================] - 8s 37ms/step - loss: 0.0605 - acc: 0.9839 - val_loss: 0.0428 - val_acc: 0.9849\n",
            "Epoch 5/20\n",
            "224/224 [==============================] - 13s 57ms/step - loss: 0.0623 - acc: 0.9839 - val_loss: 0.0526 - val_acc: 0.9866\n",
            "Epoch 6/20\n",
            "224/224 [==============================] - 12s 52ms/step - loss: 0.0718 - acc: 0.9818 - val_loss: 0.0771 - val_acc: 0.9804\n",
            "Epoch 7/20\n",
            "224/224 [==============================] - ETA: 0s - loss: 0.0666 - acc: 0.9841Restoring model weights from the end of the best epoch: 4.\n",
            "224/224 [==============================] - 21s 95ms/step - loss: 0.0666 - acc: 0.9841 - val_loss: 0.0597 - val_acc: 0.9866\n",
            "Epoch 7: early stopping\n"
          ]
        }
      ],
      "source": [
        "# Train the models\n",
        "history_rnn_w2v = rnn_w2v.fit(x_train, Y_train, epochs=20, batch_size=32, validation_data=(x_test, Y_test), callbacks=[callbacks])"
      ]
    },
    {
      "cell_type": "markdown",
      "metadata": {},
      "source": [
        "- Model Evaluation"
      ]
    },
    {
      "cell_type": "code",
      "execution_count": null,
      "metadata": {
        "colab": {
          "base_uri": "https://localhost:8080/"
        },
        "id": "Tut8FRK21CrQ",
        "outputId": "5e795001-0152-4873-d0f7-4d3aa7b197b4"
      },
      "outputs": [
        {
          "name": "stdout",
          "output_type": "stream",
          "text": [
            "56/56 [==============================] - 1s 12ms/step - loss: 0.0428 - acc: 0.9849\n",
            "Test accuracy: 98.49%\n",
            "Test loss: 4.28%\n"
          ]
        }
      ],
      "source": [
        "# Evaluate the model on the test set\n",
        "test_loss, test_acc = rnn_w2v.evaluate(x_test, Y_test)\n",
        "print(f'Test accuracy: {test_acc * 100:.2f}%')\n",
        "print(f'Test loss: {test_loss * 100:.2f}%')"
      ]
    },
    {
      "cell_type": "code",
      "execution_count": null,
      "metadata": {
        "colab": {
          "base_uri": "https://localhost:8080/"
        },
        "id": "2gdpzzJjVmat",
        "outputId": "5222a7f8-7023-40c1-9ddd-f84ec50ab287"
      },
      "outputs": [
        {
          "name": "stdout",
          "output_type": "stream",
          "text": [
            "56/56 [==============================] - 1s 11ms/step - loss: 0.0428 - acc: 0.9849\n",
            "56/56 [==============================] - 1s 13ms/step\n",
            "Confusion Matrix:\n",
            "[[909  11]\n",
            " [ 16 852]]\n",
            "Classification Report:\n",
            "              precision    recall  f1-score   support\n",
            "\n",
            "           0       0.98      0.99      0.99       920\n",
            "           1       0.99      0.98      0.98       868\n",
            "\n",
            "    accuracy                           0.98      1788\n",
            "   macro avg       0.98      0.98      0.98      1788\n",
            "weighted avg       0.98      0.98      0.98      1788\n",
            "\n"
          ]
        }
      ],
      "source": [
        "from sklearn.metrics import confusion_matrix, classification_report\n",
        "rnn_w2v.evaluate(x_test,Y_test)\n",
        "\n",
        "y_pred2 = rnn_w2v.predict(x_test)\n",
        "y_pred_binary2 = (y_pred2 > 0.5).astype(int)\n",
        "\n",
        "conf_matrix2 = confusion_matrix(Y_test, y_pred_binary2)\n",
        "print(\"Confusion Matrix:\")\n",
        "print(conf_matrix2)\n",
        "\n",
        "classification_rep2 = classification_report(Y_test, y_pred_binary2)\n",
        "print(\"Classification Report:\")\n",
        "print(classification_rep2)"
      ]
    },
    {
      "cell_type": "code",
      "execution_count": null,
      "metadata": {
        "colab": {
          "base_uri": "https://localhost:8080/",
          "height": 445
        },
        "id": "QcAkrI4o1Gu1",
        "outputId": "ae9e6f4f-171c-42f9-a5c5-6bfc96aba4c7"
      },
      "outputs": [
        {
          "name": "stdout",
          "output_type": "stream",
          "text": [
            "Last train accuracy: 0.9840559363365173\n",
            "Last validation accuracy: 0.9865771532058716\n"
          ]
        },
        {
          "data": {
            "image/png": "[encoded data removed]",
            "text/plain": [
              "<Figure size 1500x400 with 2 Axes>"
            ]
          },
          "metadata": {},
          "output_type": "display_data"
        }
      ],
      "source": [
        "#show graph loss and accuracy\n",
        "fn.show_result(history_rnn_w2v)"
      ]
    },
    {
      "cell_type": "code",
      "execution_count": null,
      "metadata": {
        "colab": {
          "base_uri": "https://localhost:8080/"
        },
        "id": "TAiea1vEspHr",
        "outputId": "24ba4f67-ade4-4b8e-d9fa-ff15158d048b"
      },
      "outputs": [
        {
          "data": {
            "text/plain": [
              "<KerasTensor: shape=(None, 79) dtype=float32 (created by layer 'embedding_1_input')>"
            ]
          },
          "execution_count": 165,
          "metadata": {},
          "output_type": "execute_result"
        }
      ],
      "source": [
        "rnn_w2v.inputs[0]"
      ]
    },
    {
      "cell_type": "code",
      "execution_count": null,
      "metadata": {
        "colab": {
          "base_uri": "https://localhost:8080/"
        },
        "id": "BiBFsXSSsrn1",
        "outputId": "2879d10c-6840-4cc6-b42a-dcbcef1ef0f5"
      },
      "outputs": [
        {
          "data": {
            "text/plain": [
              "<KerasTensor: shape=(None, 1) dtype=float32 (created by layer 'dense_3')>"
            ]
          },
          "execution_count": 166,
          "metadata": {},
          "output_type": "execute_result"
        }
      ],
      "source": [
        "rnn_w2v.outputs[0]"
      ]
    },
    {
      "cell_type": "markdown",
      "metadata": {
        "id": "13Ondx5aMCMz"
      },
      "source": [
        "- Convert tflite model"
      ]
    },
    {
      "cell_type": "code",
      "execution_count": null,
      "metadata": {
        "id": "25i7n3re0QTG"
      },
      "outputs": [],
      "source": [
        "run_model = tf.function(lambda x: rnn_w2v(x))\n",
        "# This is important, let's fix the input size.\n",
        "BATCH_SIZE = 1\n",
        "STEPS =max_len\n",
        "\n",
        "concrete_func = run_model.get_concrete_function(\n",
        "    tf.TensorSpec([BATCH_SIZE,STEPS], rnn_w2v.inputs[0].dtype))\n",
        "\n",
        "\n",
        "# model directory.\n",
        "MODEL_DIR = \"keras_rnn\"\n",
        "rnn_w2v.save(MODEL_DIR, save_format=\"tf\", signatures=concrete_func)\n",
        "\n",
        "converter = tf.lite.TFLiteConverter.from_saved_model(MODEL_DIR)\n",
        "tflite_model = converter.convert()\n",
        "# Save the TensorFlow Lite model to a file\n",
        "file = open('ta_rnn_w2v.tflite', 'wb')\n",
        "file.write(tflite_model)\n",
        "file.close()\n",
        "\n"
      ]
    },
    {
      "cell_type": "code",
      "execution_count": null,
      "metadata": {
        "colab": {
          "base_uri": "https://localhost:8080/"
        },
        "id": "D4mW6ws4t-sH",
        "outputId": "ca623191-7a69-4f79-adbb-f69777bf0c8d"
      },
      "outputs": [
        {
          "name": "stdout",
          "output_type": "stream",
          "text": [
            "Input details: [{'name': 'serving_default_x:0', 'index': 0, 'shape': array([ 1, 79], dtype=int32), 'shape_signature': array([ 1, 79], dtype=int32), 'dtype': <class 'numpy.float32'>, 'quantization': (0.0, 0), 'quantization_parameters': {'scales': array([], dtype=float32), 'zero_points': array([], dtype=int32), 'quantized_dimension': 0}, 'sparsity_parameters': {}}]\n",
            "Output details: [{'name': 'StatefulPartitionedCall:0', 'index': 31, 'shape': array([1, 1], dtype=int32), 'shape_signature': array([1, 1], dtype=int32), 'dtype': <class 'numpy.float32'>, 'quantization': (0.0, 0), 'quantization_parameters': {'scales': array([], dtype=float32), 'zero_points': array([], dtype=int32), 'quantized_dimension': 0}, 'sparsity_parameters': {}}]\n"
          ]
        }
      ],
      "source": [
        "# Load the TensorFlow Lite model\n",
        "interpreter = tf.lite.Interpreter(model_path='ta_rnn_w2v.tflite')\n",
        "interpreter.allocate_tensors()\n",
        "\n",
        "# Get input and output details\n",
        "input_details = interpreter.get_input_details()\n",
        "output_details = interpreter.get_output_details()\n",
        "\n",
        "print(\"Input details:\", input_details)\n",
        "print(\"Output details:\", output_details)"
      ]
    },
    {
      "cell_type": "markdown",
      "metadata": {
        "id": "bQtlxNz2uDVE"
      },
      "source": [
        "- Check the saved Tflite model to see if it works efficiently"
      ]
    },
    {
      "cell_type": "code",
      "execution_count": null,
      "metadata": {
        "colab": {
          "base_uri": "https://localhost:8080/"
        },
        "id": "kge-QdQMuFjP",
        "outputId": "553168c9-b560-4b34-e0b1-d5c59fa84f4e"
      },
      "outputs": [
        {
          "name": "stdout",
          "output_type": "stream",
          "text": [
            "Accuracy : 0.4\n"
          ]
        }
      ],
      "source": [
        "# Load the TensorFlow Lite model\n",
        "interpreter = tf.lite.Interpreter(model_path='ta_rnn_w2v.tflite')\n",
        "interpreter.allocate_tensors()\n",
        "\n",
        "# Get input and output tensors\n",
        "input_details = interpreter.get_input_details()\n",
        "output_details = interpreter.get_output_details()\n",
        "\n",
        "\n",
        "from sklearn.metrics import accuracy_score\n",
        "\n",
        "# Initialize an empty list to store the predictions\n",
        "predictions = []\n",
        "\n",
        "# Iterate over each sample in the test dataset\n",
        "for i in range(len(datatest)):\n",
        "    # Get the input sequence for the current sample and convert it to FLOAT32\n",
        "    input_sequence_float32 = datatest[i].reshape(1, -1).astype(np.float32)\n",
        "\n",
        "    # Perform inference\n",
        "    interpreter.set_tensor(input_details[0]['index'], input_sequence_float32)\n",
        "    interpreter.invoke()\n",
        "\n",
        "    # Get the output\n",
        "    output_data = interpreter.get_tensor(output_details[0]['index'])\n",
        "\n",
        "    # Convert output to binary prediction\n",
        "    binary_prediction = (output_data > 0.5).astype(int)\n",
        "\n",
        "    # Append the prediction to the list\n",
        "    predictions.append(binary_prediction[0])\n",
        "\n",
        "# accuracy for test data\n",
        "accuracy2 = accuracy_score(labeltest, predictions)\n",
        "\n",
        "# Print the accuracy for test data\n",
        "print(\"Accuracy :\", accuracy2)\n"
      ]
    },
    {
      "cell_type": "code",
      "execution_count": null,
      "metadata": {
        "colab": {
          "base_uri": "https://localhost:8080/"
        },
        "id": "3e_IdjWWuff6",
        "outputId": "5b701828-17cd-4f43-bf97-3c2dd5c420dc"
      },
      "outputs": [
        {
          "name": "stdout",
          "output_type": "stream",
          "text": [
            "Text: beachwav use brows cart abandon remind boost engag revenu memori day sale strateg updat messag highlight final day get number entir site simpl yet effect chang emphas limitedtim natur offer creat great sens urgenc custom shop immedi take advantag deal expir\n",
            "True Label: 0\n",
            "Predicted Label: [1]\n",
            "\n",
            "Text: sinc mani peopl eager await memori day sale shop summer cloth normal brand invit custom check late arriv ahead long holiday weekend messag come perfect time anyon consid buy new outfit annual barbecu outdoor gather come\n",
            "True Label: 0\n",
            "Predicted Label: [0]\n",
            "\n",
            "Text: puriti coffe give audienc special mother day treat number sitewid plus free ship brand first announc sale sm earli may ensur peopl plenti time order continu promot midnight mother day send mix email sms remind send throughout sale period keep engag convers high\n",
            "True Label: 0\n",
            "Predicted Label: [1]\n",
            "\n",
            "Text: make increas websit traffic around memori day dw home launch custom signup unit teas upcom offer captur new subscrib incentiv optin promis alert sm audienc first deal drop also creat special welcom journey new subscrib confirm earli access secur\n",
            "True Label: 0\n",
            "Predicted Label: [1]\n",
            "\n",
            "Text: thank valu custom token appreci offer discountoff visit store locat use code promo code onlin websit appreci loyalti\n",
            "True Label: 0\n",
            "Predicted Label: [1]\n",
            "\n",
            "Text: receiv number number bitcoin btc confirm transact visit link\n",
            "True Label: 1\n",
            "Predicted Label: [0]\n",
            "\n",
            "Text: hi cynd hr coupl question regard applic pleas call number schedul interview\n",
            "True Label: 1\n",
            "Predicted Label: [0]\n",
            "\n",
            "Text: detect suspici activ googl account follow link reset password link\n",
            "True Label: 1\n",
            "Predicted Label: [1]\n",
            "\n",
            "Text: niec arrest need moneysymbol number number\n",
            "True Label: 1\n",
            "Predicted Label: [1]\n",
            "\n",
            "Text: thank valu custom token appreci offer discountoff visit store locat use code promo code onlin websit appreci loyalti\n",
            "True Label: 1\n",
            "Predicted Label: [1]\n",
            "\n"
          ]
        }
      ],
      "source": [
        "# Display the predictions for each text\n",
        "for i in range(len(datatest)):\n",
        "    print(\"Text:\", data_test['nltk'][i])\n",
        "    print(\"True Label:\", labeltest[i])\n",
        "    print(\"Predicted Label:\", predictions[i])\n",
        "    print()\n"
      ]
    },
    {
      "cell_type": "markdown",
      "metadata": {
        "id": "tYiTC8fNq8lz"
      },
      "source": [
        "# BiLSTM"
      ]
    },
    {
      "cell_type": "markdown",
      "metadata": {
        "id": "B7IOmz_iM-YN"
      },
      "source": [
        "- Model Training"
      ]
    },
    {
      "cell_type": "code",
      "execution_count": null,
      "metadata": {
        "colab": {
          "base_uri": "https://localhost:8080/"
        },
        "id": "Wd_YCXx-q-gz",
        "outputId": "89431eb3-b04b-44a8-a714-47c1f2d0b3ff"
      },
      "outputs": [
        {
          "name": "stdout",
          "output_type": "stream",
          "text": [
            "Model: \"sequential_2\"\n",
            "_________________________________________________________________\n",
            " Layer (type)                Output Shape              Param #   \n",
            "=================================================================\n",
            " embedding_2 (Embedding)     (None, 79, 79)            477476    \n",
            "                                                                 \n",
            " bidirectional (Bidirection  (None, 79, 64)            28672     \n",
            " al)                                                             \n",
            "                                                                 \n",
            " dropout_6 (Dropout)         (None, 79, 64)            0         \n",
            "                                                                 \n",
            " bidirectional_1 (Bidirecti  (None, 64)                24832     \n",
            " onal)                                                           \n",
            "                                                                 \n",
            " dropout_7 (Dropout)         (None, 64)                0         \n",
            "                                                                 \n",
            " dense_4 (Dense)             (None, 32)                2080      \n",
            "                                                                 \n",
            " dropout_8 (Dropout)         (None, 32)                0         \n",
            "                                                                 \n",
            " dense_5 (Dense)             (None, 1)                 33        \n",
            "                                                                 \n",
            "=================================================================\n",
            "Total params: 533093 (2.03 MB)\n",
            "Trainable params: 55617 (217.25 KB)\n",
            "Non-trainable params: 477476 (1.82 MB)\n",
            "_________________________________________________________________\n"
          ]
        }
      ],
      "source": [
        "bilstm_w2v = Sequential()\n",
        "bilstm_w2v.add(Embedding(input_dim=vocab_size, output_dim=embedding_dim, input_length=max_len, weights=[embedding_matrix], trainable=False))\n",
        "bilstm_w2v.add(Bidirectional(LSTM(32, return_sequences=True)))\n",
        "bilstm_w2v.add(Dropout(0.5))\n",
        "bilstm_w2v.add(Bidirectional(LSTM(32)))\n",
        "bilstm_w2v.add(Dropout(0.5))\n",
        "bilstm_w2v.add(Dense(32, activation='relu'))\n",
        "bilstm_w2v.add(Dropout(0.5))\n",
        "bilstm_w2v.add(Dense(1, activation='sigmoid'))\n",
        "\n",
        "bilstm_w2v.compile(optimizer='adam', loss='binary_crossentropy', metrics=['acc'])\n",
        "bilstm_w2v.summary()"
      ]
    },
    {
      "cell_type": "code",
      "execution_count": null,
      "metadata": {
        "colab": {
          "base_uri": "https://localhost:8080/"
        },
        "id": "2Z-U3JgqrHwy",
        "outputId": "ff62238e-62de-40f1-db7b-a5b582ea5217"
      },
      "outputs": [
        {
          "name": "stdout",
          "output_type": "stream",
          "text": [
            "Epoch 1/20\n",
            "224/224 [==============================] - 45s 162ms/step - loss: 0.1341 - acc: 0.9660 - val_loss: 0.0494 - val_acc: 0.9866\n",
            "Epoch 2/20\n",
            "224/224 [==============================] - 31s 139ms/step - loss: 0.0535 - acc: 0.9870 - val_loss: 0.0433 - val_acc: 0.9866\n",
            "Epoch 3/20\n",
            "224/224 [==============================] - 30s 136ms/step - loss: 0.0497 - acc: 0.9877 - val_loss: 0.0489 - val_acc: 0.9877\n",
            "Epoch 4/20\n",
            "224/224 [==============================] - 34s 153ms/step - loss: 0.0496 - acc: 0.9887 - val_loss: 0.0411 - val_acc: 0.9871\n",
            "Epoch 5/20\n",
            "224/224 [==============================] - 31s 140ms/step - loss: 0.0394 - acc: 0.9892 - val_loss: 0.0394 - val_acc: 0.9866\n",
            "Epoch 6/20\n",
            "224/224 [==============================] - 31s 138ms/step - loss: 0.0415 - acc: 0.9890 - val_loss: 0.0700 - val_acc: 0.9843\n",
            "Epoch 7/20\n",
            "224/224 [==============================] - 31s 137ms/step - loss: 0.0389 - acc: 0.9901 - val_loss: 0.0311 - val_acc: 0.9899\n",
            "Epoch 8/20\n",
            "224/224 [==============================] - 33s 149ms/step - loss: 0.0377 - acc: 0.9912 - val_loss: 0.0423 - val_acc: 0.9871\n",
            "Epoch 9/20\n",
            "224/224 [==============================] - 31s 137ms/step - loss: 0.0344 - acc: 0.9913 - val_loss: 0.0319 - val_acc: 0.9883\n",
            "Epoch 10/20\n",
            "224/224 [==============================] - ETA: 0s - loss: 0.0314 - acc: 0.9919Restoring model weights from the end of the best epoch: 7.\n",
            "224/224 [==============================] - 37s 166ms/step - loss: 0.0314 - acc: 0.9919 - val_loss: 0.0315 - val_acc: 0.9905\n",
            "Epoch 10: early stopping\n"
          ]
        }
      ],
      "source": [
        "history_bilstm_w2v = bilstm_w2v.fit(x_train, Y_train, epochs=20, batch_size=32, validation_data=(x_test, Y_test), callbacks=callbacks)"
      ]
    },
    {
      "cell_type": "markdown",
      "metadata": {
        "id": "NyC3t8R8NvrR"
      },
      "source": [
        "- Model Evaluation"
      ]
    },
    {
      "cell_type": "code",
      "execution_count": null,
      "metadata": {
        "colab": {
          "base_uri": "https://localhost:8080/"
        },
        "id": "U3wX7TVk5Bl3",
        "outputId": "14975c81-a4f2-4aca-c0cc-a192258f3528"
      },
      "outputs": [
        {
          "name": "stdout",
          "output_type": "stream",
          "text": [
            "56/56 [==============================] - 2s 30ms/step - loss: 0.0311 - acc: 0.9899\n",
            "Test accuracy: 98.99%\n",
            "Test loss: 3.11%\n"
          ]
        }
      ],
      "source": [
        "# Evaluate the model on the test set\n",
        "test_loss, test_acc = bilstm_w2v.evaluate(x_test, Y_test)\n",
        "print(f'Test accuracy: {test_acc * 100:.2f}%')\n",
        "print(f'Test loss: {test_loss * 100:.2f}%')"
      ]
    },
    {
      "cell_type": "code",
      "execution_count": null,
      "metadata": {
        "colab": {
          "base_uri": "https://localhost:8080/"
        },
        "id": "f6w0zkdGVrcu",
        "outputId": "c37b937f-d47b-4794-dd52-7f600ed665e8"
      },
      "outputs": [
        {
          "name": "stdout",
          "output_type": "stream",
          "text": [
            "56/56 [==============================] - 2s 31ms/step - loss: 0.0311 - acc: 0.9899\n",
            "56/56 [==============================] - 4s 35ms/step\n",
            "Confusion Matrix:\n",
            "[[912   8]\n",
            " [ 10 858]]\n",
            "Classification Report:\n",
            "              precision    recall  f1-score   support\n",
            "\n",
            "           0       0.99      0.99      0.99       920\n",
            "           1       0.99      0.99      0.99       868\n",
            "\n",
            "    accuracy                           0.99      1788\n",
            "   macro avg       0.99      0.99      0.99      1788\n",
            "weighted avg       0.99      0.99      0.99      1788\n",
            "\n"
          ]
        }
      ],
      "source": [
        "from sklearn.metrics import confusion_matrix, classification_report\n",
        "bilstm_w2v.evaluate(x_test, Y_test)\n",
        "\n",
        "y_pred3 = bilstm_w2v.predict(x_test)\n",
        "y_pred_binary3 = (y_pred3> 0.5).astype(int)\n",
        "\n",
        "conf_matrix3 = confusion_matrix(Y_test, y_pred_binary3)\n",
        "print(\"Confusion Matrix:\")\n",
        "print(conf_matrix3)\n",
        "\n",
        "classification_rep3 = classification_report(Y_test, y_pred_binary3)\n",
        "print(\"Classification Report:\")\n",
        "print(classification_rep3)"
      ]
    },
    {
      "cell_type": "code",
      "execution_count": null,
      "metadata": {
        "colab": {
          "base_uri": "https://localhost:8080/",
          "height": 445
        },
        "id": "XwMrSbWArfwh",
        "outputId": "23fcf9b2-fc3c-4053-9d80-63b18abc8778"
      },
      "outputs": [
        {
          "name": "stdout",
          "output_type": "stream",
          "text": [
            "Last train accuracy: 0.9918881058692932\n",
            "Last validation accuracy: 0.9904921650886536\n"
          ]
        },
        {
          "data": {
            "image/png": "[encoded data removed]",
            "text/plain": [
              "<Figure size 1500x400 with 2 Axes>"
            ]
          },
          "metadata": {},
          "output_type": "display_data"
        }
      ],
      "source": [
        "#show graph loss and accuracy\n",
        "fn.show_result(history_bilstm_w2v)"
      ]
    },
    {
      "cell_type": "code",
      "execution_count": null,
      "metadata": {
        "colab": {
          "base_uri": "https://localhost:8080/"
        },
        "id": "phaajLO3u-eX",
        "outputId": "09d551f2-40c4-48e0-9850-3f02086efabd"
      },
      "outputs": [
        {
          "data": {
            "text/plain": [
              "<KerasTensor: shape=(None, 79) dtype=float32 (created by layer 'embedding_2_input')>"
            ]
          },
          "execution_count": 176,
          "metadata": {},
          "output_type": "execute_result"
        }
      ],
      "source": [
        "bilstm_w2v.inputs[0]"
      ]
    },
    {
      "cell_type": "code",
      "execution_count": null,
      "metadata": {
        "colab": {
          "base_uri": "https://localhost:8080/"
        },
        "id": "7XnqV7wLvAVW",
        "outputId": "f9354148-4982-4764-e784-995b8a60786d"
      },
      "outputs": [
        {
          "data": {
            "text/plain": [
              "<KerasTensor: shape=(None, 1) dtype=float32 (created by layer 'dense_5')>"
            ]
          },
          "execution_count": 177,
          "metadata": {},
          "output_type": "execute_result"
        }
      ],
      "source": [
        "bilstm_w2v.outputs[0]"
      ]
    },
    {
      "cell_type": "markdown",
      "metadata": {
        "id": "ENjvXkXUN0FN"
      },
      "source": [
        "- Convert tflite model"
      ]
    },
    {
      "cell_type": "code",
      "execution_count": null,
      "metadata": {
        "id": "QcdL8u1fvJPe"
      },
      "outputs": [],
      "source": [
        "run_model = tf.function(lambda x: bilstm_w2v(x))\n",
        "# This is important, let's fix the input size.\n",
        "BATCH_SIZE = 1\n",
        "STEPS =max_len\n",
        "\n",
        "concrete_func = run_model.get_concrete_function(\n",
        "    tf.TensorSpec([BATCH_SIZE,STEPS], bilstm_w2v.inputs[0].dtype))\n",
        "\n",
        "\n",
        "# model directory.\n",
        "MODEL_DIR = \"keras_bilstm\"\n",
        "bilstm_w2v.save(MODEL_DIR, save_format=\"tf\", signatures=concrete_func)\n",
        "\n",
        "converter = tf.lite.TFLiteConverter.from_saved_model(MODEL_DIR)\n",
        "tflite_model = converter.convert()\n",
        "# Save the TensorFlow Lite model to a file\n",
        "file = open('ta_bilstm_w2v.tflite', 'wb')\n",
        "file.write(tflite_model)\n",
        "file.close()\n",
        "\n"
      ]
    },
    {
      "cell_type": "code",
      "execution_count": null,
      "metadata": {
        "colab": {
          "base_uri": "https://localhost:8080/"
        },
        "id": "saTVmujGvlhU",
        "outputId": "ee4b7764-0f04-4dd6-f66c-77b0eb3b9ed0"
      },
      "outputs": [
        {
          "name": "stdout",
          "output_type": "stream",
          "text": [
            "Input details: [{'name': 'serving_default_x:0', 'index': 0, 'shape': array([ 1, 79], dtype=int32), 'shape_signature': array([ 1, 79], dtype=int32), 'dtype': <class 'numpy.float32'>, 'quantization': (0.0, 0), 'quantization_parameters': {'scales': array([], dtype=float32), 'zero_points': array([], dtype=int32), 'quantized_dimension': 0}, 'sparsity_parameters': {}}]\n",
            "Output details: [{'name': 'StatefulPartitionedCall:0', 'index': 81, 'shape': array([1, 1], dtype=int32), 'shape_signature': array([1, 1], dtype=int32), 'dtype': <class 'numpy.float32'>, 'quantization': (0.0, 0), 'quantization_parameters': {'scales': array([], dtype=float32), 'zero_points': array([], dtype=int32), 'quantized_dimension': 0}, 'sparsity_parameters': {}}]\n"
          ]
        }
      ],
      "source": [
        "# Load the TensorFlow Lite model\n",
        "interpreter = tf.lite.Interpreter(model_path='ta_bilstm_w2v.tflite')\n",
        "interpreter.allocate_tensors()\n",
        "\n",
        "# Get input and output details\n",
        "input_details = interpreter.get_input_details()\n",
        "output_details = interpreter.get_output_details()\n",
        "\n",
        "print(\"Input details:\", input_details)\n",
        "print(\"Output details:\", output_details)"
      ]
    },
    {
      "cell_type": "markdown",
      "metadata": {
        "id": "EpH3JV6Gv8pb"
      },
      "source": [
        "- Check the saved Tflite model to see if it works efficiently"
      ]
    },
    {
      "cell_type": "code",
      "execution_count": null,
      "metadata": {
        "colab": {
          "base_uri": "https://localhost:8080/"
        },
        "id": "Pj9SmOB1v741",
        "outputId": "bc2a2a0d-e460-4ce1-c66f-a462e88484a5"
      },
      "outputs": [
        {
          "name": "stdout",
          "output_type": "stream",
          "text": [
            "Accuracy : 0.4\n"
          ]
        }
      ],
      "source": [
        "# Load the TensorFlow Lite model\n",
        "interpreter = tf.lite.Interpreter(model_path='ta_bilstm_w2v.tflite')\n",
        "interpreter.allocate_tensors()\n",
        "\n",
        "# Get input and output tensors\n",
        "input_details = interpreter.get_input_details()\n",
        "output_details = interpreter.get_output_details()\n",
        "\n",
        "\n",
        "from sklearn.metrics import accuracy_score\n",
        "\n",
        "# Initialize an empty list to store the predictions\n",
        "predictions = []\n",
        "\n",
        "# Iterate over each sample in the test dataset\n",
        "for i in range(len(datatest)):\n",
        "    # Get the input sequence for the current sample and convert it to FLOAT32\n",
        "    input_sequence_float32 = datatest[i].reshape(1, -1).astype(np.float32)\n",
        "\n",
        "    # Perform inference\n",
        "    interpreter.set_tensor(input_details[0]['index'], input_sequence_float32)\n",
        "    interpreter.invoke()\n",
        "\n",
        "    # Get the output\n",
        "    output_data = interpreter.get_tensor(output_details[0]['index'])\n",
        "\n",
        "    # Convert output to binary prediction\n",
        "    binary_prediction = (output_data > 0.5).astype(int)\n",
        "\n",
        "    # Append the prediction to the list\n",
        "    predictions.append(binary_prediction[0])\n",
        "\n",
        "# accuracy for test data\n",
        "accuracy3 = accuracy_score(labeltest, predictions)\n",
        "\n",
        "# Print the accuracy for test data\n",
        "print(\"Accuracy :\", accuracy3)\n"
      ]
    },
    {
      "cell_type": "code",
      "execution_count": null,
      "metadata": {
        "colab": {
          "base_uri": "https://localhost:8080/"
        },
        "id": "hRTIthRFwIHD",
        "outputId": "c1feb0cf-09f9-41c2-d60f-e5af444ef931"
      },
      "outputs": [
        {
          "name": "stdout",
          "output_type": "stream",
          "text": [
            "Text: beachwav use brows cart abandon remind boost engag revenu memori day sale strateg updat messag highlight final day get number entir site simpl yet effect chang emphas limitedtim natur offer creat great sens urgenc custom shop immedi take advantag deal expir\n",
            "True Label: 0\n",
            "Predicted Label: [1]\n",
            "\n",
            "Text: sinc mani peopl eager await memori day sale shop summer cloth normal brand invit custom check late arriv ahead long holiday weekend messag come perfect time anyon consid buy new outfit annual barbecu outdoor gather come\n",
            "True Label: 0\n",
            "Predicted Label: [1]\n",
            "\n",
            "Text: puriti coffe give audienc special mother day treat number sitewid plus free ship brand first announc sale sm earli may ensur peopl plenti time order continu promot midnight mother day send mix email sms remind send throughout sale period keep engag convers high\n",
            "True Label: 0\n",
            "Predicted Label: [1]\n",
            "\n",
            "Text: make increas websit traffic around memori day dw home launch custom signup unit teas upcom offer captur new subscrib incentiv optin promis alert sm audienc first deal drop also creat special welcom journey new subscrib confirm earli access secur\n",
            "True Label: 0\n",
            "Predicted Label: [1]\n",
            "\n",
            "Text: thank valu custom token appreci offer discountoff visit store locat use code promo code onlin websit appreci loyalti\n",
            "True Label: 0\n",
            "Predicted Label: [1]\n",
            "\n",
            "Text: receiv number number bitcoin btc confirm transact visit link\n",
            "True Label: 1\n",
            "Predicted Label: [1]\n",
            "\n",
            "Text: hi cynd hr coupl question regard applic pleas call number schedul interview\n",
            "True Label: 1\n",
            "Predicted Label: [1]\n",
            "\n",
            "Text: detect suspici activ googl account follow link reset password link\n",
            "True Label: 1\n",
            "Predicted Label: [1]\n",
            "\n",
            "Text: niec arrest need moneysymbol number number\n",
            "True Label: 1\n",
            "Predicted Label: [0]\n",
            "\n",
            "Text: thank valu custom token appreci offer discountoff visit store locat use code promo code onlin websit appreci loyalti\n",
            "True Label: 1\n",
            "Predicted Label: [1]\n",
            "\n"
          ]
        }
      ],
      "source": [
        "# Display the predictions for each text\n",
        "for i in range(len(datatest)):\n",
        "    print(\"Text:\", data_test['nltk'][i])\n",
        "    print(\"True Label:\", labeltest[i])\n",
        "    print(\"Predicted Label:\", predictions[i])\n",
        "    print()\n"
      ]
    },
    {
      "cell_type": "markdown",
      "metadata": {
        "id": "M6PwO0wisg5W"
      },
      "source": [
        "# CNN"
      ]
    },
    {
      "cell_type": "markdown",
      "metadata": {
        "id": "FyT9bDbuPlDI"
      },
      "source": [
        "- Model Training"
      ]
    },
    {
      "cell_type": "code",
      "execution_count": null,
      "metadata": {
        "colab": {
          "base_uri": "https://localhost:8080/"
        },
        "id": "g3QPqVtVsgeU",
        "outputId": "48b61327-56d8-483c-e241-13525f503068"
      },
      "outputs": [
        {
          "name": "stdout",
          "output_type": "stream",
          "text": [
            "Model: \"sequential_3\"\n",
            "_________________________________________________________________\n",
            " Layer (type)                Output Shape              Param #   \n",
            "=================================================================\n",
            " embedding_3 (Embedding)     (None, 79, 79)            477476    \n",
            "                                                                 \n",
            " conv1d (Conv1D)             (None, 75, 32)            12672     \n",
            "                                                                 \n",
            " max_pooling1d (MaxPooling1  (None, 37, 32)            0         \n",
            " D)                                                              \n",
            "                                                                 \n",
            " dropout_9 (Dropout)         (None, 37, 32)            0         \n",
            "                                                                 \n",
            " conv1d_1 (Conv1D)           (None, 33, 64)            10304     \n",
            "                                                                 \n",
            " max_pooling1d_1 (MaxPoolin  (None, 16, 64)            0         \n",
            " g1D)                                                            \n",
            "                                                                 \n",
            " dropout_10 (Dropout)        (None, 16, 64)            0         \n",
            "                                                                 \n",
            " conv1d_2 (Conv1D)           (None, 12, 128)           41088     \n",
            "                                                                 \n",
            " global_max_pooling1d (Glob  (None, 128)               0         \n",
            " alMaxPooling1D)                                                 \n",
            "                                                                 \n",
            " dropout_11 (Dropout)        (None, 128)               0         \n",
            "                                                                 \n",
            " flatten (Flatten)           (None, 128)               0         \n",
            "                                                                 \n",
            " dense_6 (Dense)             (None, 64)                8256      \n",
            "                                                                 \n",
            " dropout_12 (Dropout)        (None, 64)                0         \n",
            "                                                                 \n",
            " dense_7 (Dense)             (None, 1)                 65        \n",
            "                                                                 \n",
            "=================================================================\n",
            "Total params: 549861 (2.10 MB)\n",
            "Trainable params: 72385 (282.75 KB)\n",
            "Non-trainable params: 477476 (1.82 MB)\n",
            "_________________________________________________________________\n"
          ]
        }
      ],
      "source": [
        "cnn_w2v = Sequential()\n",
        "cnn_w2v.add(Embedding(input_dim=vocab_size, output_dim=embedding_dim, input_length=max_len, weights=[embedding_matrix], trainable=False))\n",
        "cnn_w2v.add(Conv1D(32, 5, activation='relu'))\n",
        "cnn_w2v.add(MaxPooling1D(2))\n",
        "cnn_w2v.add(Dropout(0.5))\n",
        "cnn_w2v.add(Conv1D(64, 5, activation='relu'))\n",
        "cnn_w2v.add(MaxPooling1D(2))\n",
        "cnn_w2v.add(Dropout(0.2))\n",
        "cnn_w2v.add(Conv1D(128, 5, activation='relu'))\n",
        "cnn_w2v.add(GlobalMaxPooling1D())\n",
        "cnn_w2v.add(Dropout(0.2))\n",
        "cnn_w2v.add(Flatten())\n",
        "cnn_w2v.add(Dense(64, activation='relu'))\n",
        "cnn_w2v.add(Dropout(0.5))\n",
        "cnn_w2v.add(Dense(1, activation='sigmoid'))\n",
        "cnn_w2v.compile(optimizer='adam', loss='binary_crossentropy', metrics=['acc'])\n",
        "\n",
        "cnn_w2v.summary()"
      ]
    },
    {
      "cell_type": "code",
      "execution_count": null,
      "metadata": {
        "colab": {
          "base_uri": "https://localhost:8080/"
        },
        "id": "MXgZbFuUssHq",
        "outputId": "a39e5676-5881-4fe3-8cec-10e8069c0489"
      },
      "outputs": [
        {
          "name": "stdout",
          "output_type": "stream",
          "text": [
            "Epoch 1/20\n",
            "224/224 [==============================] - 7s 23ms/step - loss: 0.1517 - acc: 0.9531 - val_loss: 0.0656 - val_acc: 0.9787\n",
            "Epoch 2/20\n",
            "224/224 [==============================] - 5s 21ms/step - loss: 0.0745 - acc: 0.9783 - val_loss: 0.0570 - val_acc: 0.9827\n",
            "Epoch 3/20\n",
            "224/224 [==============================] - 6s 29ms/step - loss: 0.0661 - acc: 0.9810 - val_loss: 0.0547 - val_acc: 0.9832\n",
            "Epoch 4/20\n",
            "224/224 [==============================] - 5s 21ms/step - loss: 0.0630 - acc: 0.9797 - val_loss: 0.0591 - val_acc: 0.9810\n",
            "Epoch 5/20\n",
            "224/224 [==============================] - 5s 21ms/step - loss: 0.0576 - acc: 0.9822 - val_loss: 0.0525 - val_acc: 0.9843\n",
            "Epoch 6/20\n",
            "224/224 [==============================] - 7s 29ms/step - loss: 0.0588 - acc: 0.9803 - val_loss: 0.0592 - val_acc: 0.9827\n",
            "Epoch 7/20\n",
            "224/224 [==============================] - 4s 19ms/step - loss: 0.0553 - acc: 0.9815 - val_loss: 0.0631 - val_acc: 0.9776\n",
            "Epoch 8/20\n",
            "224/224 [==============================] - 4s 19ms/step - loss: 0.0527 - acc: 0.9835 - val_loss: 0.0504 - val_acc: 0.9843\n",
            "Epoch 9/20\n",
            "224/224 [==============================] - 6s 28ms/step - loss: 0.0486 - acc: 0.9839 - val_loss: 0.0502 - val_acc: 0.9832\n",
            "Epoch 10/20\n",
            "224/224 [==============================] - 5s 20ms/step - loss: 0.0417 - acc: 0.9853 - val_loss: 0.0555 - val_acc: 0.9838\n",
            "Epoch 11/20\n",
            "224/224 [==============================] - 4s 19ms/step - loss: 0.0464 - acc: 0.9862 - val_loss: 0.0527 - val_acc: 0.9838\n",
            "Epoch 12/20\n",
            "223/224 [============================>.] - ETA: 0s - loss: 0.0449 - acc: 0.9863Restoring model weights from the end of the best epoch: 9.\n",
            "224/224 [==============================] - 6s 28ms/step - loss: 0.0451 - acc: 0.9862 - val_loss: 0.0594 - val_acc: 0.9810\n",
            "Epoch 12: early stopping\n"
          ]
        }
      ],
      "source": [
        "history_cnn_w2v = cnn_w2v.fit(x_train, Y_train, epochs=20, batch_size=32, validation_data=(x_test, Y_test), callbacks=callbacks)"
      ]
    },
    {
      "cell_type": "markdown",
      "metadata": {
        "id": "aCV8mujFP6z1"
      },
      "source": [
        "- Model Evaluation"
      ]
    },
    {
      "cell_type": "code",
      "execution_count": null,
      "metadata": {
        "colab": {
          "base_uri": "https://localhost:8080/"
        },
        "id": "nbhWwa9ks2a0",
        "outputId": "a309ed8c-81fb-4846-951d-97e18a912b7e"
      },
      "outputs": [
        {
          "name": "stdout",
          "output_type": "stream",
          "text": [
            "56/56 [==============================] - 0s 7ms/step - loss: 0.0502 - acc: 0.9832\n",
            "Test accuracy: 98.32%\n",
            "Test loss: 5.02%\n"
          ]
        }
      ],
      "source": [
        "# Evaluate the model on the test set\n",
        "test_loss, test_acc = cnn_w2v.evaluate(x_test, Y_test)\n",
        "print(f'Test accuracy: {test_acc * 100:.2f}%')\n",
        "print(f'Test loss: {test_loss * 100:.2f}%')"
      ]
    },
    {
      "cell_type": "code",
      "execution_count": null,
      "metadata": {
        "colab": {
          "base_uri": "https://localhost:8080/"
        },
        "id": "dgUFJ0qKwPr7",
        "outputId": "cb2bc79f-3f12-4617-840e-c7b55aa465ba"
      },
      "outputs": [
        {
          "name": "stdout",
          "output_type": "stream",
          "text": [
            "56/56 [==============================] - 0s 6ms/step\n",
            "Confusion Matrix:\n",
            "[[903  17]\n",
            " [ 13 855]]\n",
            "Classification Report:\n",
            "              precision    recall  f1-score   support\n",
            "\n",
            "           0       0.99      0.98      0.98       920\n",
            "           1       0.98      0.99      0.98       868\n",
            "\n",
            "    accuracy                           0.98      1788\n",
            "   macro avg       0.98      0.98      0.98      1788\n",
            "weighted avg       0.98      0.98      0.98      1788\n",
            "\n"
          ]
        }
      ],
      "source": [
        "from sklearn.metrics import confusion_matrix, classification_report\n",
        "\n",
        "y_pred4 = cnn_w2v.predict(x_test)\n",
        "y_pred_binary4 = (y_pred4 > 0.5).astype(int)\n",
        "\n",
        "conf_matrix4 = confusion_matrix(Y_test, y_pred_binary4)\n",
        "print(\"Confusion Matrix:\")\n",
        "print(conf_matrix4)\n",
        "\n",
        "classification_rep4 = classification_report(Y_test, y_pred_binary4)\n",
        "print(\"Classification Report:\")\n",
        "print(classification_rep4)"
      ]
    },
    {
      "cell_type": "code",
      "execution_count": null,
      "metadata": {
        "colab": {
          "base_uri": "https://localhost:8080/",
          "height": 445
        },
        "id": "W0tI9ilitG7E",
        "outputId": "145cf442-edab-4182-a56c-eb5074d0dca5"
      },
      "outputs": [
        {
          "name": "stdout",
          "output_type": "stream",
          "text": [
            "Last train accuracy: 0.9861538410186768\n",
            "Last validation accuracy: 0.9809843301773071\n"
          ]
        },
        {
          "data": {
            "image/png": "[encoded data removed]",
            "text/plain": [
              "<Figure size 1500x400 with 2 Axes>"
            ]
          },
          "metadata": {},
          "output_type": "display_data"
        }
      ],
      "source": [
        "#show graph loss and accuracy\n",
        "fn.show_result(history_cnn_w2v)"
      ]
    },
    {
      "cell_type": "code",
      "execution_count": null,
      "metadata": {
        "colab": {
          "base_uri": "https://localhost:8080/"
        },
        "id": "RkT3tsstwkc-",
        "outputId": "63141e07-d440-4140-cb9a-20c9e3f42ec2"
      },
      "outputs": [
        {
          "data": {
            "text/plain": [
              "<KerasTensor: shape=(None, 79) dtype=float32 (created by layer 'embedding_3_input')>"
            ]
          },
          "execution_count": 187,
          "metadata": {},
          "output_type": "execute_result"
        }
      ],
      "source": [
        "cnn_w2v.inputs[0]"
      ]
    },
    {
      "cell_type": "code",
      "execution_count": null,
      "metadata": {
        "colab": {
          "base_uri": "https://localhost:8080/"
        },
        "id": "pBDQFJ9CwmFn",
        "outputId": "56adce42-b6c2-487f-ce69-fd272b408a51"
      },
      "outputs": [
        {
          "data": {
            "text/plain": [
              "<KerasTensor: shape=(None, 1) dtype=float32 (created by layer 'dense_7')>"
            ]
          },
          "execution_count": 188,
          "metadata": {},
          "output_type": "execute_result"
        }
      ],
      "source": [
        "cnn_w2v.outputs[0]"
      ]
    },
    {
      "cell_type": "markdown",
      "metadata": {
        "id": "7NT-ubR7QRAR"
      },
      "source": [
        "- Convert tflite model"
      ]
    },
    {
      "cell_type": "code",
      "execution_count": null,
      "metadata": {
        "id": "IA5BMRSXwq3n"
      },
      "outputs": [],
      "source": [
        "run_model = tf.function(lambda x: cnn_w2v(x))\n",
        "# This is important, let's fix the input size.\n",
        "BATCH_SIZE = 1\n",
        "STEPS =max_len\n",
        "\n",
        "concrete_func = run_model.get_concrete_function(\n",
        "    tf.TensorSpec([BATCH_SIZE,STEPS], cnn_w2v.inputs[0].dtype))\n",
        "\n",
        "\n",
        "# model directory.\n",
        "MODEL_DIR = \"keras_cnn\"\n",
        "cnn_w2v.save(MODEL_DIR, save_format=\"tf\", signatures=concrete_func)\n",
        "\n",
        "converter = tf.lite.TFLiteConverter.from_saved_model(MODEL_DIR)\n",
        "tflite_model = converter.convert()\n",
        "# Save the TensorFlow Lite model to a file\n",
        "file = open('ta_cnn_w2v.tflite', 'wb')\n",
        "file.write(tflite_model)\n",
        "file.close()\n",
        "\n"
      ]
    },
    {
      "cell_type": "code",
      "execution_count": null,
      "metadata": {
        "colab": {
          "base_uri": "https://localhost:8080/"
        },
        "id": "8vgtAuT_w3F2",
        "outputId": "eee95330-59a4-44b3-9fbc-d51c98c9c272"
      },
      "outputs": [
        {
          "name": "stdout",
          "output_type": "stream",
          "text": [
            "Input details: [{'name': 'serving_default_x:0', 'index': 0, 'shape': array([ 1, 79], dtype=int32), 'shape_signature': array([ 1, 79], dtype=int32), 'dtype': <class 'numpy.float32'>, 'quantization': (0.0, 0), 'quantization_parameters': {'scales': array([], dtype=float32), 'zero_points': array([], dtype=int32), 'quantized_dimension': 0}, 'sparsity_parameters': {}}]\n",
            "Output details: [{'name': 'StatefulPartitionedCall:0', 'index': 35, 'shape': array([1, 1], dtype=int32), 'shape_signature': array([1, 1], dtype=int32), 'dtype': <class 'numpy.float32'>, 'quantization': (0.0, 0), 'quantization_parameters': {'scales': array([], dtype=float32), 'zero_points': array([], dtype=int32), 'quantized_dimension': 0}, 'sparsity_parameters': {}}]\n"
          ]
        }
      ],
      "source": [
        "# Load the TensorFlow Lite model\n",
        "interpreter = tf.lite.Interpreter(model_path='ta_cnn_w2v.tflite')\n",
        "interpreter.allocate_tensors()\n",
        "\n",
        "# Get input and output details\n",
        "input_details = interpreter.get_input_details()\n",
        "output_details = interpreter.get_output_details()\n",
        "\n",
        "print(\"Input details:\", input_details)\n",
        "print(\"Output details:\", output_details)"
      ]
    },
    {
      "cell_type": "markdown",
      "metadata": {
        "id": "QS7pNIAjxDQe"
      },
      "source": [
        "- Check the saved Tflite model to see if it works efficiently"
      ]
    },
    {
      "cell_type": "code",
      "execution_count": null,
      "metadata": {
        "colab": {
          "base_uri": "https://localhost:8080/"
        },
        "id": "J5dmESuzxGwx",
        "outputId": "c7572470-2fcb-4162-b23e-a21d88268c7c"
      },
      "outputs": [
        {
          "name": "stdout",
          "output_type": "stream",
          "text": [
            "Accuracy : 0.3\n"
          ]
        }
      ],
      "source": [
        "# Load the TensorFlow Lite model\n",
        "interpreter = tf.lite.Interpreter(model_path='ta_cnn_w2v.tflite')\n",
        "interpreter.allocate_tensors()\n",
        "\n",
        "# Get input and output tensors\n",
        "input_details = interpreter.get_input_details()\n",
        "output_details = interpreter.get_output_details()\n",
        "\n",
        "\n",
        "from sklearn.metrics import accuracy_score\n",
        "\n",
        "# Initialize an empty list to store the predictions\n",
        "predictions = []\n",
        "\n",
        "# Iterate over each sample in the test dataset\n",
        "for i in range(len(datatest)):\n",
        "    # Get the input sequence for the current sample and convert it to FLOAT32\n",
        "    input_sequence_float32 = datatest[i].reshape(1, -1).astype(np.float32)\n",
        "\n",
        "    # Perform inference\n",
        "    interpreter.set_tensor(input_details[0]['index'], input_sequence_float32)\n",
        "    interpreter.invoke()\n",
        "\n",
        "    # Get the output\n",
        "    output_data = interpreter.get_tensor(output_details[0]['index'])\n",
        "\n",
        "    # Convert output to binary prediction\n",
        "    binary_prediction = (output_data > 0.5).astype(int)\n",
        "\n",
        "    # Append the prediction to the list\n",
        "    predictions.append(binary_prediction[0])\n",
        "\n",
        "# accuracy for test data\n",
        "accuracy4 = accuracy_score(labeltest, predictions)\n",
        "\n",
        "# Print the accuracy for test data\n",
        "print(\"Accuracy :\", accuracy4)\n"
      ]
    },
    {
      "cell_type": "code",
      "execution_count": null,
      "metadata": {
        "colab": {
          "base_uri": "https://localhost:8080/"
        },
        "id": "m2bONV6dxNDo",
        "outputId": "b239c32a-d186-4f5e-9dbf-50a9186f0585"
      },
      "outputs": [
        {
          "name": "stdout",
          "output_type": "stream",
          "text": [
            "Text: beachwav use brows cart abandon remind boost engag revenu memori day sale strateg updat messag highlight final day get number entir site simpl yet effect chang emphas limitedtim natur offer creat great sens urgenc custom shop immedi take advantag deal expir\n",
            "True Label: 0\n",
            "Predicted Label: [1]\n",
            "\n",
            "Text: sinc mani peopl eager await memori day sale shop summer cloth normal brand invit custom check late arriv ahead long holiday weekend messag come perfect time anyon consid buy new outfit annual barbecu outdoor gather come\n",
            "True Label: 0\n",
            "Predicted Label: [1]\n",
            "\n",
            "Text: puriti coffe give audienc special mother day treat number sitewid plus free ship brand first announc sale sm earli may ensur peopl plenti time order continu promot midnight mother day send mix email sms remind send throughout sale period keep engag convers high\n",
            "True Label: 0\n",
            "Predicted Label: [1]\n",
            "\n",
            "Text: make increas websit traffic around memori day dw home launch custom signup unit teas upcom offer captur new subscrib incentiv optin promis alert sm audienc first deal drop also creat special welcom journey new subscrib confirm earli access secur\n",
            "True Label: 0\n",
            "Predicted Label: [1]\n",
            "\n",
            "Text: thank valu custom token appreci offer discountoff visit store locat use code promo code onlin websit appreci loyalti\n",
            "True Label: 0\n",
            "Predicted Label: [1]\n",
            "\n",
            "Text: receiv number number bitcoin btc confirm transact visit link\n",
            "True Label: 1\n",
            "Predicted Label: [1]\n",
            "\n",
            "Text: hi cynd hr coupl question regard applic pleas call number schedul interview\n",
            "True Label: 1\n",
            "Predicted Label: [0]\n",
            "\n",
            "Text: detect suspici activ googl account follow link reset password link\n",
            "True Label: 1\n",
            "Predicted Label: [1]\n",
            "\n",
            "Text: niec arrest need moneysymbol number number\n",
            "True Label: 1\n",
            "Predicted Label: [0]\n",
            "\n",
            "Text: thank valu custom token appreci offer discountoff visit store locat use code promo code onlin websit appreci loyalti\n",
            "True Label: 1\n",
            "Predicted Label: [1]\n",
            "\n"
          ]
        }
      ],
      "source": [
        "# Display the predictions for each text\n",
        "for i in range(len(datatest)):\n",
        "    print(\"Text:\", data_test['nltk'][i])\n",
        "    print(\"True Label:\", labeltest[i])\n",
        "    print(\"Predicted Label:\", predictions[i])\n",
        "    print()\n"
      ]
    },
    {
      "cell_type": "markdown",
      "metadata": {
        "id": "4c4LCu7Do3uj"
      },
      "source": [
        "# GRU"
      ]
    },
    {
      "cell_type": "markdown",
      "metadata": {
        "id": "FVWEVLLuQXD2"
      },
      "source": [
        "- Model Training"
      ]
    },
    {
      "cell_type": "code",
      "execution_count": null,
      "metadata": {
        "colab": {
          "base_uri": "https://localhost:8080/"
        },
        "id": "Xm5i3FI8pBvJ",
        "outputId": "6ae04a70-6730-471b-be25-481cccb5f963"
      },
      "outputs": [
        {
          "name": "stdout",
          "output_type": "stream",
          "text": [
            "Model: \"sequential_4\"\n",
            "_________________________________________________________________\n",
            " Layer (type)                Output Shape              Param #   \n",
            "=================================================================\n",
            " embedding_4 (Embedding)     (None, 79, 79)            477476    \n",
            "                                                                 \n",
            " gru (GRU)                   (None, 79, 32)            10848     \n",
            "                                                                 \n",
            " dropout_13 (Dropout)        (None, 79, 32)            0         \n",
            "                                                                 \n",
            " gru_1 (GRU)                 (None, 32)                6336      \n",
            "                                                                 \n",
            " dropout_14 (Dropout)        (None, 32)                0         \n",
            "                                                                 \n",
            " dense_8 (Dense)             (None, 32)                1056      \n",
            "                                                                 \n",
            " dropout_15 (Dropout)        (None, 32)                0         \n",
            "                                                                 \n",
            " dense_9 (Dense)             (None, 1)                 33        \n",
            "                                                                 \n",
            "=================================================================\n",
            "Total params: 495749 (1.89 MB)\n",
            "Trainable params: 18273 (71.38 KB)\n",
            "Non-trainable params: 477476 (1.82 MB)\n",
            "_________________________________________________________________\n"
          ]
        }
      ],
      "source": [
        "gru_w2v = Sequential()\n",
        "gru_w2v.add(Embedding(input_dim=vocab_size, output_dim=embedding_dim, input_length=max_len, weights=[embedding_matrix], trainable=False))\n",
        "gru_w2v.add(GRU(32, return_sequences=True))\n",
        "gru_w2v.add(Dropout(0.5))\n",
        "gru_w2v.add(GRU(32))\n",
        "gru_w2v.add(Dropout(0.5))\n",
        "gru_w2v.add(Dense(32, activation='relu'))\n",
        "gru_w2v.add(Dropout(0.5))\n",
        "gru_w2v.add(Dense(1, activation='sigmoid'))\n",
        "\n",
        "gru_w2v.compile(optimizer='adam', loss='binary_crossentropy', metrics=['acc'])\n",
        "gru_w2v.summary()"
      ]
    },
    {
      "cell_type": "code",
      "execution_count": null,
      "metadata": {
        "colab": {
          "base_uri": "https://localhost:8080/"
        },
        "id": "JbvSDsgjr94B",
        "outputId": "75e3d366-c7d2-447b-f2f6-9736acae4193"
      },
      "outputs": [
        {
          "name": "stdout",
          "output_type": "stream",
          "text": [
            "Epoch 1/20\n",
            "224/224 [==============================] - 27s 100ms/step - loss: 0.1350 - acc: 0.9592 - val_loss: 0.0527 - val_acc: 0.9855\n",
            "Epoch 2/20\n",
            "224/224 [==============================] - 18s 82ms/step - loss: 0.0578 - acc: 0.9856 - val_loss: 0.0472 - val_acc: 0.9860\n",
            "Epoch 3/20\n",
            "224/224 [==============================] - 18s 81ms/step - loss: 0.0529 - acc: 0.9866 - val_loss: 0.0473 - val_acc: 0.9860\n",
            "Epoch 4/20\n",
            "224/224 [==============================] - 20s 89ms/step - loss: 0.0478 - acc: 0.9878 - val_loss: 0.0465 - val_acc: 0.9877\n",
            "Epoch 5/20\n",
            "224/224 [==============================] - 18s 81ms/step - loss: 0.0446 - acc: 0.9881 - val_loss: 0.0443 - val_acc: 0.9877\n",
            "Epoch 6/20\n",
            "224/224 [==============================] - 18s 82ms/step - loss: 0.0439 - acc: 0.9898 - val_loss: 0.0477 - val_acc: 0.9843\n",
            "Epoch 7/20\n",
            "224/224 [==============================] - 19s 84ms/step - loss: 0.0394 - acc: 0.9897 - val_loss: 0.0388 - val_acc: 0.9894\n",
            "Epoch 8/20\n",
            "224/224 [==============================] - 19s 86ms/step - loss: 0.0400 - acc: 0.9905 - val_loss: 0.0368 - val_acc: 0.9894\n",
            "Epoch 9/20\n",
            "224/224 [==============================] - 18s 82ms/step - loss: 0.0391 - acc: 0.9898 - val_loss: 0.0368 - val_acc: 0.9894\n",
            "Epoch 10/20\n",
            "224/224 [==============================] - 18s 82ms/step - loss: 0.0364 - acc: 0.9905 - val_loss: 0.0377 - val_acc: 0.9894\n",
            "Epoch 11/20\n",
            "224/224 [==============================] - ETA: 0s - loss: 0.0322 - acc: 0.9922Restoring model weights from the end of the best epoch: 8.\n",
            "224/224 [==============================] - 21s 93ms/step - loss: 0.0322 - acc: 0.9922 - val_loss: 0.0394 - val_acc: 0.9883\n",
            "Epoch 11: early stopping\n"
          ]
        }
      ],
      "source": [
        "history_gru_w2v = gru_w2v.fit(x_train, Y_train, epochs=20, batch_size=32, validation_data=(x_test, Y_test), callbacks=callbacks)"
      ]
    },
    {
      "cell_type": "markdown",
      "metadata": {
        "id": "YsJB5zJiQado"
      },
      "source": [
        "- Model Evaluation"
      ]
    },
    {
      "cell_type": "code",
      "execution_count": null,
      "metadata": {
        "colab": {
          "base_uri": "https://localhost:8080/"
        },
        "id": "QGnAPMA0sR1Y",
        "outputId": "0335a6fa-2faf-4630-f245-9da6e70028ee"
      },
      "outputs": [
        {
          "name": "stdout",
          "output_type": "stream",
          "text": [
            "56/56 [==============================] - 1s 19ms/step - loss: 0.0368 - acc: 0.9894\n",
            "Test accuracy: 98.94%\n",
            "Test loss: 3.68%\n"
          ]
        }
      ],
      "source": [
        "# Evaluate the model on the test set\n",
        "test_loss, test_acc = gru_w2v.evaluate(x_test, Y_test)\n",
        "print(f'Test accuracy: {test_acc * 100:.2f}%')\n",
        "print(f'Test loss: {test_loss * 100:.2f}%')"
      ]
    },
    {
      "cell_type": "code",
      "execution_count": null,
      "metadata": {
        "colab": {
          "base_uri": "https://localhost:8080/"
        },
        "id": "o7sWIqV1saZx",
        "outputId": "00574af2-fe76-45e5-c682-499c34e073cf"
      },
      "outputs": [
        {
          "name": "stdout",
          "output_type": "stream",
          "text": [
            "56/56 [==============================] - 2s 19ms/step\n",
            "Confusion Matrix:\n",
            "[[914   6]\n",
            " [ 13 855]]\n",
            "Classification Report:\n",
            "              precision    recall  f1-score   support\n",
            "\n",
            "           0       0.99      0.99      0.99       920\n",
            "           1       0.99      0.99      0.99       868\n",
            "\n",
            "    accuracy                           0.99      1788\n",
            "   macro avg       0.99      0.99      0.99      1788\n",
            "weighted avg       0.99      0.99      0.99      1788\n",
            "\n"
          ]
        }
      ],
      "source": [
        "from sklearn.metrics import confusion_matrix, classification_report\n",
        "\n",
        "y_pred5 = gru_w2v.predict(x_test)\n",
        "y_pred_binary5 = (y_pred5 > 0.5).astype(int)\n",
        "\n",
        "conf_matrix5 = confusion_matrix(Y_test, y_pred_binary5)\n",
        "print(\"Confusion Matrix:\")\n",
        "print(conf_matrix5)\n",
        "\n",
        "classification_rep5 = classification_report(Y_test, y_pred_binary5)\n",
        "print(\"Classification Report:\")\n",
        "print(classification_rep5)"
      ]
    },
    {
      "cell_type": "code",
      "execution_count": null,
      "metadata": {
        "colab": {
          "base_uri": "https://localhost:8080/",
          "height": 445
        },
        "id": "40gi1m6qsUmt",
        "outputId": "e5f0a636-64c2-41f4-fd3d-980fba1dbdbd"
      },
      "outputs": [
        {
          "name": "stdout",
          "output_type": "stream",
          "text": [
            "Last train accuracy: 0.9921678304672241\n",
            "Last validation accuracy: 0.9882550239562988\n"
          ]
        },
        {
          "data": {
            "image/png": "[encoded data removed]",
            "text/plain": [
              "<Figure size 1500x400 with 2 Axes>"
            ]
          },
          "metadata": {},
          "output_type": "display_data"
        }
      ],
      "source": [
        "#show graph loss and accuracy\n",
        "fn.show_result(history_gru_w2v)"
      ]
    },
    {
      "cell_type": "code",
      "execution_count": null,
      "metadata": {
        "colab": {
          "base_uri": "https://localhost:8080/"
        },
        "id": "bIMdeXNVxqFA",
        "outputId": "ab3f9f71-1294-458c-a636-7869f814b41a"
      },
      "outputs": [
        {
          "data": {
            "text/plain": [
              "<KerasTensor: shape=(None, 79) dtype=float32 (created by layer 'embedding_4_input')>"
            ]
          },
          "execution_count": 198,
          "metadata": {},
          "output_type": "execute_result"
        }
      ],
      "source": [
        "gru_w2v.inputs[0]"
      ]
    },
    {
      "cell_type": "code",
      "execution_count": null,
      "metadata": {
        "colab": {
          "base_uri": "https://localhost:8080/"
        },
        "id": "DRSIe8mux0rb",
        "outputId": "b5751633-139b-4e04-c27c-bf486f08b9aa"
      },
      "outputs": [
        {
          "data": {
            "text/plain": [
              "<KerasTensor: shape=(None, 1) dtype=float32 (created by layer 'dense_9')>"
            ]
          },
          "execution_count": 199,
          "metadata": {},
          "output_type": "execute_result"
        }
      ],
      "source": [
        "gru_w2v.outputs[0]"
      ]
    },
    {
      "cell_type": "markdown",
      "metadata": {
        "id": "XCe-QFjtQg8n"
      },
      "source": [
        "- Convert tflite model"
      ]
    },
    {
      "cell_type": "code",
      "execution_count": null,
      "metadata": {
        "id": "V3dywXJfztpH"
      },
      "outputs": [],
      "source": [
        "run_model = tf.function(lambda x: gru_w2v(x))\n",
        "# This is important, let's fix the input size.\n",
        "BATCH_SIZE = 1\n",
        "STEPS = max_len\n",
        "\n",
        "concrete_func = run_model.get_concrete_function(\n",
        "    tf.TensorSpec([BATCH_SIZE,STEPS], gru_w2v.inputs[0].dtype))\n",
        "\n",
        "\n",
        "# model directory.\n",
        "MODEL_DIR = \"keras_gru\"\n",
        "gru_w2v.save(MODEL_DIR, save_format=\"tf\", signatures=concrete_func)\n",
        "\n",
        "converter = tf.lite.TFLiteConverter.from_saved_model(MODEL_DIR)\n",
        "tflite_model = converter.convert()\n",
        "# Save the TensorFlow Lite model to a file\n",
        "file = open('ta_gru_w2v.tflite', 'wb')\n",
        "file.write(tflite_model)\n",
        "file.close()\n",
        "\n"
      ]
    },
    {
      "cell_type": "code",
      "execution_count": null,
      "metadata": {
        "colab": {
          "base_uri": "https://localhost:8080/"
        },
        "id": "4Uy4sR-uh_Pr",
        "outputId": "abe77675-a013-4ae4-82ee-3f5a751dab0e"
      },
      "outputs": [
        {
          "name": "stdout",
          "output_type": "stream",
          "text": [
            "Input details: [{'name': 'serving_default_x:0', 'index': 0, 'shape': array([ 1, 79], dtype=int32), 'shape_signature': array([ 1, 79], dtype=int32), 'dtype': <class 'numpy.float32'>, 'quantization': (0.0, 0), 'quantization_parameters': {'scales': array([], dtype=float32), 'zero_points': array([], dtype=int32), 'quantized_dimension': 0}, 'sparsity_parameters': {}}]\n",
            "Output details: [{'name': 'StatefulPartitionedCall:0', 'index': 35, 'shape': array([1, 1], dtype=int32), 'shape_signature': array([1, 1], dtype=int32), 'dtype': <class 'numpy.float32'>, 'quantization': (0.0, 0), 'quantization_parameters': {'scales': array([], dtype=float32), 'zero_points': array([], dtype=int32), 'quantized_dimension': 0}, 'sparsity_parameters': {}}]\n"
          ]
        }
      ],
      "source": [
        "# Load the TensorFlow Lite model\n",
        "interpreter = tf.lite.Interpreter(model_path='ta_gru_w2v.tflite')\n",
        "interpreter.allocate_tensors()\n",
        "\n",
        "# Get input and output details\n",
        "input_details = interpreter.get_input_details()\n",
        "output_details = interpreter.get_output_details()\n",
        "\n",
        "print(\"Input details:\", input_details)\n",
        "print(\"Output details:\", output_details)"
      ]
    },
    {
      "cell_type": "markdown",
      "metadata": {
        "id": "KiWIHvsTiPMT"
      },
      "source": [
        "- Check the saved Tflite model to see if it works efficiently"
      ]
    },
    {
      "cell_type": "code",
      "execution_count": null,
      "metadata": {
        "colab": {
          "base_uri": "https://localhost:8080/"
        },
        "id": "nNBi_JLBiP3k",
        "outputId": "f9f70cb4-e296-4322-be1a-e1f6ba24abfb"
      },
      "outputs": [
        {
          "name": "stdout",
          "output_type": "stream",
          "text": [
            "Accuracy : 0.6\n"
          ]
        }
      ],
      "source": [
        "# Load the TensorFlow Lite model\n",
        "interpreter = tf.lite.Interpreter(model_path='ta_gru_w2v.tflite')\n",
        "interpreter.allocate_tensors()\n",
        "\n",
        "# Get input and output tensors\n",
        "input_details = interpreter.get_input_details()\n",
        "output_details = interpreter.get_output_details()\n",
        "\n",
        "\n",
        "from sklearn.metrics import accuracy_score\n",
        "\n",
        "# Initialize an empty list to store the predictions\n",
        "predictions = []\n",
        "\n",
        "# Iterate over each sample in the test dataset\n",
        "for i in range(len(datatest)):\n",
        "    # Get the input sequence for the current sample and convert it to FLOAT32\n",
        "    input_sequence_float32 = datatest[i].reshape(1, -1).astype(np.float32)\n",
        "\n",
        "    # Perform inference\n",
        "    interpreter.set_tensor(input_details[0]['index'], input_sequence_float32)\n",
        "    interpreter.invoke()\n",
        "\n",
        "    # Get the output\n",
        "    output_data = interpreter.get_tensor(output_details[0]['index'])\n",
        "\n",
        "    # Convert output to binary prediction\n",
        "    binary_prediction = (output_data > 0.5).astype(int)\n",
        "\n",
        "    # Append the prediction to the list\n",
        "    predictions.append(binary_prediction[0])\n",
        "\n",
        "# accuracy for test data\n",
        "accuracy5 = accuracy_score(labeltest, predictions)\n",
        "\n",
        "# Print the accuracy for test data\n",
        "print(\"Accuracy :\", accuracy5)\n"
      ]
    },
    {
      "cell_type": "code",
      "execution_count": null,
      "metadata": {
        "colab": {
          "base_uri": "https://localhost:8080/"
        },
        "id": "RlZyCipr--Jo",
        "outputId": "f56b0b61-626d-4acd-fbbf-30e0f177bf1f"
      },
      "outputs": [
        {
          "name": "stdout",
          "output_type": "stream",
          "text": [
            "Text: beachwav use brows cart abandon remind boost engag revenu memori day sale strateg updat messag highlight final day get number entir site simpl yet effect chang emphas limitedtim natur offer creat great sens urgenc custom shop immedi take advantag deal expir\n",
            "True Label: 0\n",
            "Predicted Label: [1]\n",
            "\n",
            "Text: sinc mani peopl eager await memori day sale shop summer cloth normal brand invit custom check late arriv ahead long holiday weekend messag come perfect time anyon consid buy new outfit annual barbecu outdoor gather come\n",
            "True Label: 0\n",
            "Predicted Label: [0]\n",
            "\n",
            "Text: puriti coffe give audienc special mother day treat number sitewid plus free ship brand first announc sale sm earli may ensur peopl plenti time order continu promot midnight mother day send mix email sms remind send throughout sale period keep engag convers high\n",
            "True Label: 0\n",
            "Predicted Label: [0]\n",
            "\n",
            "Text: make increas websit traffic around memori day dw home launch custom signup unit teas upcom offer captur new subscrib incentiv optin promis alert sm audienc first deal drop also creat special welcom journey new subscrib confirm earli access secur\n",
            "True Label: 0\n",
            "Predicted Label: [0]\n",
            "\n",
            "Text: thank valu custom token appreci offer discountoff visit store locat use code promo code onlin websit appreci loyalti\n",
            "True Label: 0\n",
            "Predicted Label: [1]\n",
            "\n",
            "Text: receiv number number bitcoin btc confirm transact visit link\n",
            "True Label: 1\n",
            "Predicted Label: [0]\n",
            "\n",
            "Text: hi cynd hr coupl question regard applic pleas call number schedul interview\n",
            "True Label: 1\n",
            "Predicted Label: [1]\n",
            "\n",
            "Text: detect suspici activ googl account follow link reset password link\n",
            "True Label: 1\n",
            "Predicted Label: [1]\n",
            "\n",
            "Text: niec arrest need moneysymbol number number\n",
            "True Label: 1\n",
            "Predicted Label: [0]\n",
            "\n",
            "Text: thank valu custom token appreci offer discountoff visit store locat use code promo code onlin websit appreci loyalti\n",
            "True Label: 1\n",
            "Predicted Label: [1]\n",
            "\n"
          ]
        }
      ],
      "source": [
        "# Display the predictions for each text\n",
        "for i in range(len(datatest)):\n",
        "    print(\"Text:\", data_test['nltk'][i])\n",
        "    print(\"True Label:\", labeltest[i])\n",
        "    print(\"Predicted Label:\", predictions[i])\n",
        "    print()\n"
      ]
    }
  ],
  "metadata": {
    "accelerator": "GPU",
    "colab": {
      "gpuType": "T4",
      "provenance": []
    },
    "kernelspec": {
      "display_name": "Python 3",
      "name": "python3"
    },
    "language_info": {
      "name": "python"
    }
  },
  "nbformat": 4,
  "nbformat_minor": 0
}
